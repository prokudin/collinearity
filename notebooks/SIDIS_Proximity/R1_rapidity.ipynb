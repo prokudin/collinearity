{
 "cells": [
  {
   "cell_type": "code",
   "execution_count": 1,
   "metadata": {},
   "outputs": [],
   "source": [
    "from sympy import *"
   ]
  },
  {
   "cell_type": "code",
   "execution_count": 2,
   "metadata": {},
   "outputs": [],
   "source": [
    "numerator = '(sqrt(M_B^2+z_N^2*q_T^2)*e^y_Bb/sqrt(2))*(zhat_N*Q/sqrt(2))+' \\\n",
    "+'(sqrt(M_B^2+z_N^2*q_T^2)*e^-y_Bb/sqrt(2))*(delta*k_T^2-2*delta*k_T*cos(phi_f)*zhat_N*q_T+'\\\n",
    "+'zhat_N*q_T^2+k_f^2)/(sqrt(2)*zhat_N*Q)' \\\n",
    "+'-(-z_N*q_T)*(-zhat_N*q_T + delta*k_T*cos(phi_f))'\n",
    "\n",
    "denominator = '(sqrt(M_B^2+z_N^2*q_T^2)*e^y_Bb/sqrt(2))*(xhat_N*(k_i^2+k_iT^2)/(Q*sqrt(2)))' \\\n",
    "+'+(sqrt(M_B^2+z_N^2*q_T^2)*e^-y_Bb/sqrt(2))*(Q/(xhat_N*sqrt(2)))' \\\n",
    "+'-(-z_N*q_T)*(k_iT*cos(phi_i))'"
   ]
  },
  {
   "cell_type": "code",
   "execution_count": 3,
   "metadata": {},
   "outputs": [
    {
     "data": {
      "text/latex": [
       "$\\displaystyle \\frac{\\frac{Q e^{y_{Bb}} \\hat{z}_{N} \\sqrt{M_{B}^{2} + q_{T}^{2} z_{N}^{2}}}{2} + q_{T} z_{N} \\left(\\delta k_{T} \\cos{\\left(\\phi_{f} \\right)} - q_{T} \\hat{z}_{N}\\right) + \\frac{e^{- y_{Bb}} \\sqrt{M_{B}^{2} + q_{T}^{2} z_{N}^{2}} \\left(\\delta k_{T}^{2} - 2 \\delta k_{T} q_{T} \\hat{z}_{N} \\cos{\\left(\\phi_{f} \\right)} + k_{f}^{2} + q_{T}^{2} \\hat{z}_{N}\\right)}{2 Q \\hat{z}_{N}}}{\\frac{Q e^{- y_{Bb}} \\sqrt{M_{B}^{2} + q_{T}^{2} z_{N}^{2}}}{2 \\hat{x}_{N}} + k_{iT} q_{T} z_{N} \\cos{\\left(\\phi_{i} \\right)} + \\frac{e^{y_{Bb}} \\hat{x}_{N} \\sqrt{M_{B}^{2} + q_{T}^{2} z_{N}^{2}} \\left(k_{i}^{2} + k_{iT}^{2}\\right)}{2 Q}}$"
      ],
      "text/plain": [
       "(Q*e**y_Bb*zhat_N*sqrt(M_B**2 + q_T**2*z_N**2)/2 + q_T*z_N*(delta*k_T*cos(phi_f) - q_T*zhat_N) + e**(-y_Bb)*sqrt(M_B**2 + q_T**2*z_N**2)*(delta*k_T**2 - 2*delta*k_T*q_T*zhat_N*cos(phi_f) + k_f**2 + q_T**2*zhat_N)/(2*Q*zhat_N))/(Q*e**(-y_Bb)*sqrt(M_B**2 + q_T**2*z_N**2)/(2*xhat_N) + k_iT*q_T*z_N*cos(phi_i) + e**y_Bb*xhat_N*sqrt(M_B**2 + q_T**2*z_N**2)*(k_i**2 + k_iT**2)/(2*Q))"
      ]
     },
     "execution_count": 3,
     "metadata": {},
     "output_type": "execute_result"
    }
   ],
   "source": [
    "numerator = sympify(numerator)\n",
    "denominator = sympify(denominator)\n",
    "R1 = numerator/denominator\n",
    "R1"
   ]
  },
  {
   "cell_type": "code",
   "execution_count": 4,
   "metadata": {},
   "outputs": [
    {
     "data": {
      "text/latex": [
       "$\\displaystyle \\frac{\\frac{Q e^{y_{Bb}} z_{N} \\sqrt{M_{B}^{2} + p_{T}^{2}}}{2 \\zeta} - p_{T} \\left(\\delta k_{T} \\cos{\\left(\\phi_{f} \\right)} + \\frac{p_{T} z_{N} \\left(\\sqrt{\\frac{4 M^{2} x^{2}}{Q^{2}} + 1} + 1\\right)}{z \\zeta \\left(\\sqrt{- \\frac{4 M^{2} M_{BT}^{2} x^{2}}{Q^{4} z^{2}} + 1} + 1\\right)}\\right) + \\frac{e^{- y_{Bb}} \\zeta \\sqrt{M_{B}^{2} + p_{T}^{2}} \\left(\\delta k_{T}^{2} + \\frac{2 \\delta k_{T} p_{T} z_{N} \\left(\\sqrt{\\frac{4 M^{2} x^{2}}{Q^{2}} + 1} + 1\\right) \\cos{\\left(\\phi_{f} \\right)}}{z \\zeta \\left(\\sqrt{- \\frac{4 M^{2} M_{BT}^{2} x^{2}}{Q^{4} z^{2}} + 1} + 1\\right)} + k_{f}^{2} + \\frac{p_{T}^{2} z_{N} \\left(\\sqrt{\\frac{4 M^{2} x^{2}}{Q^{2}} + 1} + 1\\right)^{2}}{z^{2} \\zeta \\left(\\sqrt{- \\frac{4 M^{2} M_{BT}^{2} x^{2}}{Q^{4} z^{2}} + 1} + 1\\right)^{2}}\\right)}{2 Q z_{N}}}{\\frac{Q e^{- y_{Bb}} \\xi \\sqrt{M_{B}^{2} + p_{T}^{2}}}{2 x_{N}} - k_{iT} p_{T} \\cos{\\left(\\phi_{i} \\right)} + \\frac{e^{y_{Bb}} x_{N} \\sqrt{M_{B}^{2} + p_{T}^{2}} \\left(k_{i}^{2} + k_{iT}^{2}\\right)}{2 Q \\xi}}$"
      ],
      "text/plain": [
       "(Q*e**y_Bb*z_N*sqrt(M_B**2 + p_T**2)/(2*zeTa) - p_T*(delta*k_T*cos(phi_f) + p_T*z_N*(sqrt(4*M**2*x**2/Q**2 + 1) + 1)/(z*zeTa*(sqrt(-4*M**2*M_BT**2*x**2/(Q**4*z**2) + 1) + 1))) + e**(-y_Bb)*zeTa*sqrt(M_B**2 + p_T**2)*(delta*k_T**2 + 2*delta*k_T*p_T*z_N*(sqrt(4*M**2*x**2/Q**2 + 1) + 1)*cos(phi_f)/(z*zeTa*(sqrt(-4*M**2*M_BT**2*x**2/(Q**4*z**2) + 1) + 1)) + k_f**2 + p_T**2*z_N*(sqrt(4*M**2*x**2/Q**2 + 1) + 1)**2/(z**2*zeTa*(sqrt(-4*M**2*M_BT**2*x**2/(Q**4*z**2) + 1) + 1)**2))/(2*Q*z_N))/(Q*e**(-y_Bb)*xi*sqrt(M_B**2 + p_T**2)/(2*x_N) - k_iT*p_T*cos(phi_i) + e**y_Bb*x_N*sqrt(M_B**2 + p_T**2)*(k_i**2 + k_iT**2)/(2*Q*xi))"
      ]
     },
     "execution_count": 4,
     "metadata": {},
     "output_type": "execute_result"
    }
   ],
   "source": [
    "R1 = R1.subs('q_T','-p_T/z_N')\n",
    "R1 = R1.subs('z_N','x_N*z/(2*x)*(1+sqrt(1-(4*M**2*M_BT**2*x**2)/(Q**4*z**2)))')\n",
    "R1 = R1.subs('x_N','2*x/(1+sqrt(1+4*x**2*M**2/Q**2))')\n",
    "R1 = R1.subs('zhat_N','z_N/zeTa')\n",
    "R1 = R1.subs('xhat_N','x_N/xi')\n",
    "R1"
   ]
  },
  {
   "cell_type": "code",
   "execution_count": 5,
   "metadata": {},
   "outputs": [],
   "source": [
    "#simplify(R1)"
   ]
  },
  {
   "cell_type": "code",
   "execution_count": null,
   "metadata": {},
   "outputs": [],
   "source": []
  }
 ],
 "metadata": {
  "kernelspec": {
   "display_name": "Python 3",
   "language": "python",
   "name": "python3"
  },
  "language_info": {
   "codemirror_mode": {
    "name": "ipython",
    "version": 3
   },
   "file_extension": ".py",
   "mimetype": "text/x-python",
   "name": "python",
   "nbconvert_exporter": "python",
   "pygments_lexer": "ipython3",
   "version": "3.7.4"
  }
 },
 "nbformat": 4,
 "nbformat_minor": 2
}
