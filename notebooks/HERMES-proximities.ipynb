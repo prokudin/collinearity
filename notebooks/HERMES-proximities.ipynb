{
 "cells": [
  {
   "cell_type": "code",
   "execution_count": 1,
   "metadata": {},
   "outputs": [],
   "source": [
    "from functools import partial, reduce, lru_cache\n",
    "import numpy as np\n",
    "import pandas as pd\n",
    "import fitpack\n",
    "import interface\n",
    "import obslib.sidis.reader\n",
    "from qcdlib.auxiliary import AUX\n",
    "from qcdlib.collinearity import Collinearity\n",
    "from tools.config import conf\n",
    "%matplotlib notebook "
   ]
  },
  {
   "cell_type": "code",
   "execution_count": 2,
   "metadata": {},
   "outputs": [],
   "source": [
    "def get_data():\n",
    "    # Merge all of the data tables\n",
    "    return reduce(partial(pd.DataFrame.merge, how=\"outer\"), map(pd.DataFrame, conf[\"sidis tabs\"].values()))"
   ]
  },
  {
   "cell_type": "code",
   "execution_count": 3,
   "metadata": {},
   "outputs": [],
   "source": [
    "input_file = \"../inputs/upol_hermes_no_filters.py\""
   ]
  },
  {
   "cell_type": "code",
   "execution_count": 4,
   "metadata": {},
   "outputs": [
    {
     "name": "stdout",
     "output_type": "stream",
     "text": [
      "loading sidis data sets 1007"
     ]
    }
   ],
   "source": [
    "interface.gen_config(input_file)  # read file\n",
    "\n",
    "conf[\"aux\"] = AUX()\n",
    "conf[\"sidis tabs\"] = obslib.sidis.reader.READER().load_data_sets(\"sidis\")\n",
    "\n",
    "data = get_data()"
   ]
  },
  {
   "cell_type": "code",
   "execution_count": 5,
   "metadata": {},
   "outputs": [
    {
     "name": "stdout",
     "output_type": "stream",
     "text": [
      "Ebeam, F2, Q2, R, R0, R1, R2, W2, col, dy, hadron, i, lnR, obs, pT, qT, stat_u, systabs_u, systole, systrel, target, value, x, xn, y, yf, yh, yi, yp, z, zn\n"
     ]
    }
   ],
   "source": [
    "print(\", \".join(sorted(data.columns)))"
   ]
  },
  {
   "cell_type": "code",
   "execution_count": 6,
   "metadata": {},
   "outputs": [
    {
     "name": "stdout",
     "output_type": "stream",
     "text": [
      "len(data): 2660\n"
     ]
    }
   ],
   "source": [
    "print(\"len(data):\", len(data))"
   ]
  },
  {
   "cell_type": "code",
   "execution_count": 7,
   "metadata": {},
   "outputs": [],
   "source": [
    "ki_n = 8\n",
    "kf_n = 8\n",
    "kT_n = 8\n",
    "\n",
    "k_sets_n = ki_n * kf_n * kT_n\n",
    "\n",
    "kis = np.linspace(0, 2, ki_n)\n",
    "kfs = np.linspace(0, 2, kf_n)\n",
    "kTs = np.linspace(0, 2, kT_n)\n",
    "\n",
    "@lru_cache(maxsize=None)\n",
    "def Rs(x, z, Q2, pT, hadron, ki, kf, kT):\n",
    "    co = Collinearity(hadron=hadron, ki=ki, kf=kf, kT=kT)\n",
    "    R0 = co.get_R0(Q2)\n",
    "    R1 = co.get_R1(x, z, Q2, pT)\n",
    "    R2 = co.get_R1(x, z, Q2, pT)\n",
    "    return R0, R1, R2\n",
    "\n",
    "def R_mags(point):\n",
    "    for ki in kis:\n",
    "        for kf in kfs:\n",
    "            for kT in kTs:\n",
    "                R0, R1, R2 = Rs(point[\"x\"], point[\"z\"], point[\"Q2\"], point[\"pT\"],\n",
    "                                point[\"hadron\"], ki, kf, kT)\n",
    "                yield np.sqrt(R0 ** 2 + R1 ** 2 + R2 ** 2)\n",
    "\n",
    "def proximity(point):\n",
    "    return sum(mag <= 1 for mag in R_mags(point)) / k_sets_n"
   ]
  },
  {
   "cell_type": "code",
   "execution_count": 8,
   "metadata": {},
   "outputs": [
    {
     "data": {
      "text/plain": [
       "i                    0\n",
       "Ebeam             27.6\n",
       "x            0.0375884\n",
       "y             0.641938\n",
       "z             0.152202\n",
       "Q2             1.24973\n",
       "pT            0.110571\n",
       "obs                  M\n",
       "value          4.39848\n",
       "stat_u       0.0575923\n",
       "systrel              0\n",
       "systabs_u     0.350294\n",
       "target          proton\n",
       "hadron             pi+\n",
       "col             hermes\n",
       "F2                   0\n",
       "W2             32.8795\n",
       "yh           0.0273122\n",
       "yp             3.45654\n",
       "yi             0.80461\n",
       "yf            -0.80461\n",
       "dy             3.42923\n",
       "R              1.59268\n",
       "lnR           0.465419\n",
       "R0           0.0720157\n",
       "R1           0.0117231\n",
       "R2            0.847018\n",
       "zn            0.151891\n",
       "xn            0.151891\n",
       "qT            0.727962\n",
       "systole            NaN\n",
       "Name: 0, dtype: object"
      ]
     },
     "execution_count": 8,
     "metadata": {},
     "output_type": "execute_result"
    }
   ],
   "source": [
    "_, p = next(data.iterrows())\n",
    "\n",
    "p"
   ]
  },
  {
   "cell_type": "code",
   "execution_count": 9,
   "metadata": {},
   "outputs": [
    {
     "name": "stdout",
     "output_type": "stream",
     "text": [
      "proximity(p): 0.03125\n",
      "min |R|, p: 0.6759339884486435\n",
      "avg |R|, p 2.6005849301612125\n",
      "max |r|, p 3.7512320187581247\n"
     ]
    }
   ],
   "source": [
    "print(\"proximity(p):\", proximity(p))\n",
    "\n",
    "print(\"min |R|, p:\", min(R_mags(p)))\n",
    "\n",
    "print(\"avg |R|, p\", sum(R_mags(p)) / k_sets_n)\n",
    "\n",
    "print(\"max |r|, p\", max(R_mags(p)))"
   ]
  },
  {
   "cell_type": "code",
   "execution_count": 10,
   "metadata": {},
   "outputs": [
    {
     "data": {
      "text/plain": [
       "0       0.675934\n",
       "1       2.039722\n",
       "2       2.248814\n",
       "3       2.379128\n",
       "4       2.488861\n",
       "          ...   \n",
       "2655    0.042262\n",
       "2656    0.027409\n",
       "2657    0.012888\n",
       "2658    0.006310\n",
       "2659    0.048425\n",
       "Name: min |R|, Length: 2660, dtype: float64"
      ]
     },
     "execution_count": 10,
     "metadata": {},
     "output_type": "execute_result"
    }
   ],
   "source": [
    "data[\"min |R|\"] = [min(R_mags(p)) for _, p in data.iterrows()]\n",
    "\n",
    "data[\"min |R|\"]"
   ]
  },
  {
   "cell_type": "code",
   "execution_count": 11,
   "metadata": {},
   "outputs": [
    {
     "data": {
      "text/plain": [
       "1873"
      ]
     },
     "execution_count": 11,
     "metadata": {},
     "output_type": "execute_result"
    }
   ],
   "source": [
    "sum(data[\"min |R|\"] < 1.0)"
   ]
  },
  {
   "cell_type": "code",
   "execution_count": 12,
   "metadata": {},
   "outputs": [
    {
     "data": {
      "text/plain": [
       "0       2.600585\n",
       "1       4.057499\n",
       "2       3.554357\n",
       "3       3.485112\n",
       "4       3.498716\n",
       "          ...   \n",
       "2655    0.289342\n",
       "2656    0.291671\n",
       "2657    0.303748\n",
       "2658    0.331910\n",
       "2659    0.375875\n",
       "Name: avg |R|, Length: 2660, dtype: float64"
      ]
     },
     "execution_count": 12,
     "metadata": {},
     "output_type": "execute_result"
    }
   ],
   "source": [
    "data[\"avg |R|\"] = [sum(R_mags(p)) / k_sets_n for _, p in data.iterrows()]\n",
    "\n",
    "data[\"avg |R|\"]"
   ]
  },
  {
   "cell_type": "code",
   "execution_count": 13,
   "metadata": {},
   "outputs": [
    {
     "data": {
      "text/plain": [
       "<matplotlib.axes._subplots.AxesSubplot at 0x27a92949e88>"
      ]
     },
     "execution_count": 13,
     "metadata": {},
     "output_type": "execute_result"
    },
    {
     "data": {
      "image/png": "[encoded data removed]",
      "text/plain": [
       "<Figure size 432x288 with 1 Axes>"
      ]
     },
     "metadata": {
      "needs_background": "light"
     },
     "output_type": "display_data"
    }
   ],
   "source": [
    "data[\"avg |R|\"].hist(bins=100)"
   ]
  },
  {
   "cell_type": "code",
   "execution_count": 14,
   "metadata": {},
   "outputs": [
    {
     "data": {
      "text/plain": [
       "515.3581507778546"
      ]
     },
     "execution_count": 14,
     "metadata": {},
     "output_type": "execute_result"
    }
   ],
   "source": [
    "max(data[\"avg |R|\"])"
   ]
  },
  {
   "cell_type": "code",
   "execution_count": 15,
   "metadata": {},
   "outputs": [
    {
     "data": {
      "text/plain": [
       "0       0.03125\n",
       "1       0.00000\n",
       "2       0.00000\n",
       "3       0.00000\n",
       "4       0.00000\n",
       "         ...   \n",
       "2655    1.00000\n",
       "2656    1.00000\n",
       "2657    1.00000\n",
       "2658    1.00000\n",
       "2659    1.00000\n",
       "Name: proximity, Length: 2660, dtype: float64"
      ]
     },
     "execution_count": 15,
     "metadata": {},
     "output_type": "execute_result"
    }
   ],
   "source": [
    "data[\"proximity\"] = [proximity(p) for _, p in data.iterrows()]\n",
    "\n",
    "data[\"proximity\"]"
   ]
  },
  {
   "cell_type": "code",
   "execution_count": 16,
   "metadata": {},
   "outputs": [
    {
     "data": {
      "text/plain": [
       "1.0"
      ]
     },
     "execution_count": 16,
     "metadata": {},
     "output_type": "execute_result"
    }
   ],
   "source": [
    "max(data[\"proximity\"])"
   ]
  },
  {
   "cell_type": "code",
   "execution_count": 17,
   "metadata": {},
   "outputs": [
    {
     "data": {
      "text/plain": [
       "<matplotlib.axes._subplots.AxesSubplot at 0x27a9283da88>"
      ]
     },
     "execution_count": 17,
     "metadata": {},
     "output_type": "execute_result"
    },
    {
     "data": {
      "image/png": "[encoded data removed]",
      "text/plain": [
       "<Figure size 432x288 with 1 Axes>"
      ]
     },
     "metadata": {
      "needs_background": "light"
     },
     "output_type": "display_data"
    }
   ],
   "source": [
    "data[\"proximity\"].hist(bins=100)"
   ]
  },
  {
   "cell_type": "code",
   "execution_count": 18,
   "metadata": {},
   "outputs": [
    {
     "name": "stdout",
     "output_type": "stream",
     "text": [
      "Average proximity: 0.31680421757518795\n"
     ]
    }
   ],
   "source": [
    "print(\"Average proximity:\", data[\"proximity\"].mean())"
   ]
  }
 ],
 "metadata": {
  "kernelspec": {
   "display_name": "Python 3",
   "language": "python",
   "name": "python3"
  },
  "language_info": {
   "codemirror_mode": {
    "name": "ipython",
    "version": 3
   },
   "file_extension": ".py",
   "mimetype": "text/x-python",
   "name": "python",
   "nbconvert_exporter": "python",
   "pygments_lexer": "ipython3",
   "version": "3.7.4"
  }
 },
 "nbformat": 4,
 "nbformat_minor": 2
}
