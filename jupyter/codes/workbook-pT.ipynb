{
 "cells": [
  {
   "cell_type": "code",
   "execution_count": 1,
   "metadata": {},
   "outputs": [],
   "source": [
    "import sys,os\n",
    "import subprocess\n",
    "import numpy as np\n",
    "import pylab as py\n",
    "import matplotlib.cm as cm\n",
    "import sympy as sp\n",
    "from sympy.printing.mathml import print_mathml,mathml\n",
    "from sympy.parsing.sympy_parser import parse_expr\n",
    "from sympy.tensor.array import MutableDenseNDimArray as Array\n",
    "sp.init_printing() \n",
    "from IPython.display import display, Math, Latex\n",
    "lprint=lambda expression: display(Math(sp.latex(expression)))\n",
    "import copy\n",
    "from ipywidgets import interact, interactive, fixed, interact_manual\n",
    "import ipywidgets as widgets"
   ]
  },
  {
   "cell_type": "code",
   "execution_count": 24,
   "metadata": {},
   "outputs": [],
   "source": [
    "xb=sp.symbols('x_bj',positive = True, real = True)\n",
    "xN=sp.symbols('x_N',positive = True, real = True)\n",
    "zh=sp.symbols('z_h',positive = True, real = True)\n",
    "zN=sp.symbols('z_N',positive = True, real = True)\n",
    "xh=sp.symbols('x_h',positive = True, real = True)\n",
    "\n",
    "Q=sp.symbols('Q',positive = True, real = True)\n",
    "M=sp.symbols('M',positive = True, real = True)\n",
    "Mh=sp.symbols('M_h',positive = True, real = True)\n",
    "Mki=sp.symbols('M_ki',positive = True, real = True)\n",
    "Mkf=sp.symbols('M_kf',positive = True, real = True)\n",
    "Mx=sp.symbols('M_x',positive = True, real = True)\n",
    "\n",
    "MhT=sp.symbols('M_hT',positive = True, real = True)\n",
    "qt=sp.S('q_t')\n",
    "Ht=sp.symbols('H_t',positive = True)\n",
    "\n",
    "eps=sp.S('epsilon')\n",
    "xi=sp.symbols('xi',positive = True, real = True)\n",
    "zeta=sp.symbols('zeta',positive = True, real = True)\n",
    "hxN=sp.symbols('\\hat{x}_N',positive = True, real = True)\n",
    "hzN=sp.symbols('\\hat{z}_N',positive = True, real = True)\n",
    "\n",
    "eta=sp.S('eta')\n",
    "\n"
   ]
  },
  {
   "cell_type": "code",
   "execution_count": 25,
   "metadata": {},
   "outputs": [
    {
     "data": {
      "image/png": "[encoded data removed]",
      "text/latex": [
       "$$\\eta$$"
      ],
      "text/plain": [
       "η"
      ]
     },
     "execution_count": 25,
     "metadata": {},
     "output_type": "execute_result"
    }
   ],
   "source": [
    "eta"
   ]
  },
  {
   "cell_type": "code",
   "execution_count": 50,
   "metadata": {},
   "outputs": [],
   "source": [
    "PP=Q/xN/sp.sqrt(2)\n",
    "PM=xN*M**2/Q/sp.sqrt(2)\n",
    "P0=((PP+PM)/sp.sqrt(2)).simplify()\n",
    "P3=((PP-PM)/sp.sqrt(2)).simplify()\n",
    "\n",
    "W0=0+P0\n",
    "W3=-Q+P3"
   ]
  },
  {
   "cell_type": "code",
   "execution_count": 51,
   "metadata": {},
   "outputs": [
    {
     "data": {
      "image/png": "[encoded data removed]",
      "text/latex": [
       "$$\\frac{M^{2} x_{N}}{2 Q} + \\frac{Q}{2 x_{N}} - \\sqrt{H_{t}^{2} + M_{h}^{2}} \\cosh{\\left (\\eta \\right )} - \\sqrt{H_{t}^{2} + M^{2} + \\left(- \\frac{M^{2} x_{N}}{2 Q} - Q + \\frac{Q}{2 x_{N}} - \\sqrt{H_{t}^{2} + M_{h}^{2}} \\sinh{\\left (\\eta \\right )}\\right)^{2}}$$"
      ],
      "text/plain": [
       "                                                  ____________________________\n",
       "                                                 ╱                            \n",
       " 2                  _____________               ╱              ⎛   2          \n",
       "M ⋅x_N     Q       ╱    2      2               ╱      2    2   ⎜  M ⋅x_N      \n",
       "────── + ───── - ╲╱  H_t  + M_h  ⋅cosh(η) -   ╱    H_t  + M  + ⎜- ────── - Q +\n",
       " 2⋅Q     2⋅x_N                              ╲╱                 ⎝   2⋅Q        \n",
       "\n",
       "____________________________________\n",
       "                                  2 \n",
       "            _____________        ⎞  \n",
       "   Q       ╱    2      2         ⎟  \n",
       " ───── - ╲╱  H_t  + M_h  ⋅sinh(η)⎟  \n",
       " 2⋅x_N                           ⎠  "
      ]
     },
     "execution_count": 51,
     "metadata": {},
     "output_type": "execute_result"
    }
   ],
   "source": [
    "zero=W0-sp.sqrt(Mh**2+Ht**2)*sp.cosh(eta)\\\n",
    "       -sp.sqrt(M**2+Ht**2+(W3-sp.sqrt(Mh**2+Ht**2)*sp.sinh(eta))**2)\n",
    "zero"
   ]
  },
  {
   "cell_type": "code",
   "execution_count": 52,
   "metadata": {},
   "outputs": [],
   "source": [
    "sol=sp.solve(zero,Ht)"
   ]
  },
  {
   "cell_type": "code",
   "execution_count": 57,
   "metadata": {},
   "outputs": [
    {
     "data": {
      "image/png": "[encoded data removed]",
      "text/latex": [
       "$$\\frac{\\sqrt{- \\left(M^{2} M_{h} x_{N}^{2} e^{2 \\eta} - M^{2} Q x_{N}^{2} e^{\\eta} + M_{h}^{2} Q x_{N} e^{\\eta} + M_{h} Q^{2} x_{N} e^{2 \\eta} - M_{h} Q^{2} x_{N} + M_{h} Q^{2} - Q^{3} x_{N} e^{\\eta} + Q^{3} e^{\\eta}\\right) \\left(M^{2} M_{h} x_{N}^{2} e^{2 \\eta} + M^{2} Q x_{N}^{2} e^{\\eta} - M_{h}^{2} Q x_{N} e^{\\eta} + M_{h} Q^{2} x_{N} e^{2 \\eta} - M_{h} Q^{2} x_{N} + M_{h} Q^{2} + Q^{3} x_{N} e^{\\eta} - Q^{3} e^{\\eta}\\right)}}{M^{2} x_{N}^{2} e^{2 \\eta} + Q^{2} x_{N} e^{2 \\eta} - Q^{2} x_{N} + Q^{2}}$$"
      ],
      "text/plain": [
       "   ___________________________________________________________________________\n",
       "  ╱  ⎛ 2        2  2⋅η    2      2  η      2        η        2      2⋅η       \n",
       "╲╱  -⎝M ⋅M_h⋅x_N ⋅ℯ    - M ⋅Q⋅x_N ⋅ℯ  + M_h ⋅Q⋅x_N⋅ℯ  + M_h⋅Q ⋅x_N⋅ℯ    - M_h⋅\n",
       "──────────────────────────────────────────────────────────────────────────────\n",
       "                                                                              \n",
       "                                                                              \n",
       "\n",
       "______________________________________________________________________________\n",
       " 2            2    3      η    3  η⎞ ⎛ 2        2  2⋅η    2      2  η      2  \n",
       "Q ⋅x_N + M_h⋅Q  - Q ⋅x_N⋅ℯ  + Q ⋅ℯ ⎠⋅⎝M ⋅M_h⋅x_N ⋅ℯ    + M ⋅Q⋅x_N ⋅ℯ  - M_h ⋅Q\n",
       "──────────────────────────────────────────────────────────────────────────────\n",
       "                2    2  2⋅η    2      2⋅η    2        2                       \n",
       "               M ⋅x_N ⋅ℯ    + Q ⋅x_N⋅ℯ    - Q ⋅x_N + Q                        \n",
       "\n",
       "_____________________________________________________________________\n",
       "      η        2      2⋅η        2            2    3      η    3  η⎞ \n",
       "⋅x_N⋅ℯ  + M_h⋅Q ⋅x_N⋅ℯ    - M_h⋅Q ⋅x_N + M_h⋅Q  + Q ⋅x_N⋅ℯ  - Q ⋅ℯ ⎠ \n",
       "─────────────────────────────────────────────────────────────────────\n",
       "                                                                     \n",
       "                                                                     "
      ]
     },
     "execution_count": 57,
     "metadata": {},
     "output_type": "execute_result"
    }
   ],
   "source": [
    "sol[1].simplify()#.subs(M,0).subs(Mh,0)).simplify()"
   ]
  },
  {
   "cell_type": "code",
   "execution_count": 45,
   "metadata": {},
   "outputs": [
    {
     "data": {
      "image/png": "[encoded data removed]",
      "text/latex": [
       "$$- \\frac{M_{h} \\sqrt{- M^{4} x_{N}^{4} e^{4 \\eta} - 2 M^{2} Q^{2} x_{N}^{2} e^{2 \\eta} + M_{h}^{2} Q^{2} x_{N}^{2} e^{2 \\eta} - Q^{4}}}{M^{2} x_{N}^{2} e^{2 \\eta} + Q^{2}}$$"
      ],
      "text/plain": [
       "        _____________________________________________________________ \n",
       "       ╱    4    4  4⋅η      2  2    2  2⋅η      2  2    2  2⋅η    4  \n",
       "-M_h⋅╲╱  - M ⋅x_N ⋅ℯ    - 2⋅M ⋅Q ⋅x_N ⋅ℯ    + M_h ⋅Q ⋅x_N ⋅ℯ    - Q   \n",
       "──────────────────────────────────────────────────────────────────────\n",
       "                           2    2  2⋅η    2                           \n",
       "                          M ⋅x_N ⋅ℯ    + Q                            "
      ]
     },
     "execution_count": 45,
     "metadata": {},
     "output_type": "execute_result"
    }
   ],
   "source": [
    "sol[0]"
   ]
  },
  {
   "cell_type": "code",
   "execution_count": 58,
   "metadata": {},
   "outputs": [
    {
     "data": {
      "image/png": "[encoded data removed]",
      "text/latex": [
       "$$\\frac{M^{2} x_{N}}{2 Q} - M_{h} \\cosh{\\left (\\eta \\right )} + \\frac{Q}{2 x_{N}} - \\sqrt{M^{2} + \\left(- \\frac{M^{2} x_{N}}{2 Q} - M_{h} \\sinh{\\left (\\eta \\right )} - Q + \\frac{Q}{2 x_{N}}\\right)^{2}}$$"
      ],
      "text/plain": [
       "                                     _________________________________________\n",
       "                                    ╱                                         \n",
       " 2                                 ╱       ⎛   2                              \n",
       "M ⋅x_N                   Q        ╱    2   ⎜  M ⋅x_N                       Q  \n",
       "────── - M_h⋅cosh(η) + ───── -   ╱    M  + ⎜- ────── - M_h⋅sinh(η) - Q + ─────\n",
       " 2⋅Q                   2⋅x_N   ╲╱          ⎝   2⋅Q                       2⋅x_N\n",
       "\n",
       "___\n",
       " 2 \n",
       "⎞  \n",
       "⎟  \n",
       "⎟  \n",
       "⎠  "
      ]
     },
     "execution_count": 58,
     "metadata": {},
     "output_type": "execute_result"
    }
   ],
   "source": [
    "zero=W0-Mh*sp.cosh(eta)-sp.sqrt(M**2+(W3-Mh*sp.sinh(eta))**2)\n",
    "zero"
   ]
  },
  {
   "cell_type": "code",
   "execution_count": 61,
   "metadata": {},
   "outputs": [],
   "source": [
    "sol=sp.solve(zero,eta)"
   ]
  },
  {
   "cell_type": "code",
   "execution_count": 62,
   "metadata": {},
   "outputs": [
    {
     "data": {
      "image/png": "[encoded data removed]",
      "text/latex": [
       "$$\\left [ \\log{\\left (\\frac{Q \\left(- M^{2} x_{N}^{2} + M_{h}^{2} x_{N} - Q^{2} x_{N} + Q^{2} - \\sqrt{\\left(M^{2} x_{N}^{2} - 2 M M_{h} x_{N} + M_{h}^{2} x_{N} + Q^{2} x_{N} - Q^{2}\\right) \\left(M^{2} x_{N}^{2} + 2 M M_{h} x_{N} + M_{h}^{2} x_{N} + Q^{2} x_{N} - Q^{2}\\right)}\\right)}{2 M_{h} x_{N} \\left(M^{2} x_{N} + Q^{2}\\right)} \\right )}, \\quad \\log{\\left (\\frac{Q \\left(- M^{2} x_{N}^{2} + M_{h}^{2} x_{N} - Q^{2} x_{N} + Q^{2} + \\sqrt{\\left(M^{2} x_{N}^{2} - 2 M M_{h} x_{N} + M_{h}^{2} x_{N} + Q^{2} x_{N} - Q^{2}\\right) \\left(M^{2} x_{N}^{2} + 2 M M_{h} x_{N} + M_{h}^{2} x_{N} + Q^{2} x_{N} - Q^{2}\\right)}\\right)}{2 M_{h} x_{N} \\left(M^{2} x_{N} + Q^{2}\\right)} \\right )}\\right ]$$"
      ],
      "text/plain": [
       "⎡   ⎛  ⎛                                        ______________________________\n",
       "⎢   ⎜  ⎜   2    2      2        2        2     ╱ ⎛ 2    2                    2\n",
       "⎢   ⎜Q⋅⎝- M ⋅x_N  + M_h ⋅x_N - Q ⋅x_N + Q  - ╲╱  ⎝M ⋅x_N  - 2⋅M⋅M_h⋅x_N + M_h \n",
       "⎢log⎜─────────────────────────────────────────────────────────────────────────\n",
       "⎢   ⎜                                                                      ⎛ 2\n",
       "⎣   ⎝                                                            2⋅M_h⋅x_N⋅⎝M \n",
       "\n",
       "_____________________________________________________________________⎞⎞     ⎛ \n",
       "        2        2⎞ ⎛ 2    2                    2        2        2⎞ ⎟⎟     ⎜ \n",
       "⋅x_N + Q ⋅x_N - Q ⎠⋅⎝M ⋅x_N  + 2⋅M⋅M_h⋅x_N + M_h ⋅x_N + Q ⋅x_N - Q ⎠ ⎠⎟     ⎜Q\n",
       "──────────────────────────────────────────────────────────────────────⎟, log⎜─\n",
       "        2⎞                                                            ⎟     ⎜ \n",
       "⋅x_N + Q ⎠                                                            ⎠     ⎝ \n",
       "\n",
       " ⎛                                        ____________________________________\n",
       " ⎜   2    2      2        2        2     ╱ ⎛ 2    2                    2      \n",
       "⋅⎝- M ⋅x_N  + M_h ⋅x_N - Q ⋅x_N + Q  + ╲╱  ⎝M ⋅x_N  - 2⋅M⋅M_h⋅x_N + M_h ⋅x_N +\n",
       "──────────────────────────────────────────────────────────────────────────────\n",
       "                                                                     ⎛ 2      \n",
       "                                                           2⋅M_h⋅x_N⋅⎝M ⋅x_N +\n",
       "\n",
       "_______________________________________________________________⎞⎞⎤\n",
       "  2        2⎞ ⎛ 2    2                    2        2        2⎞ ⎟⎟⎥\n",
       " Q ⋅x_N - Q ⎠⋅⎝M ⋅x_N  + 2⋅M⋅M_h⋅x_N + M_h ⋅x_N + Q ⋅x_N - Q ⎠ ⎠⎟⎥\n",
       "────────────────────────────────────────────────────────────────⎟⎥\n",
       "  2⎞                                                            ⎟⎥\n",
       " Q ⎠                                                            ⎠⎦"
      ]
     },
     "execution_count": 62,
     "metadata": {},
     "output_type": "execute_result"
    }
   ],
   "source": [
    "sol"
   ]
  },
  {
   "cell_type": "code",
   "execution_count": 64,
   "metadata": {},
   "outputs": [
    {
     "data": {
      "image/png": "[encoded data removed]",
      "text/latex": [
       "$$\\log{\\left (\\frac{M_{h}^{2} x_{N} - Q^{2} x_{N} + Q^{2} - \\left|{M_{h}^{2} x_{N} + Q^{2} x_{N} - Q^{2}}\\right|}{2 M_{h} Q x_{N}} \\right )}$$"
      ],
      "text/plain": [
       "   ⎛   2        2        2   │   2        2        2│⎞\n",
       "   ⎜M_h ⋅x_N - Q ⋅x_N + Q  - │M_h ⋅x_N + Q ⋅x_N - Q │⎟\n",
       "log⎜─────────────────────────────────────────────────⎟\n",
       "   ⎝                   2⋅M_h⋅Q⋅x_N                   ⎠"
      ]
     },
     "execution_count": 64,
     "metadata": {},
     "output_type": "execute_result"
    }
   ],
   "source": [
    "sol[0].subs(M,0)"
   ]
  },
  {
   "cell_type": "code",
   "execution_count": 65,
   "metadata": {},
   "outputs": [
    {
     "data": {
      "image/png": "[encoded data removed]",
      "text/latex": [
       "$$\\log{\\left (\\frac{M_{h}^{2} x_{N} - Q^{2} x_{N} + Q^{2} + \\left|{M_{h}^{2} x_{N} + Q^{2} x_{N} - Q^{2}}\\right|}{2 M_{h} Q x_{N}} \\right )}$$"
      ],
      "text/plain": [
       "   ⎛   2        2        2   │   2        2        2│⎞\n",
       "   ⎜M_h ⋅x_N - Q ⋅x_N + Q  + │M_h ⋅x_N + Q ⋅x_N - Q │⎟\n",
       "log⎜─────────────────────────────────────────────────⎟\n",
       "   ⎝                   2⋅M_h⋅Q⋅x_N                   ⎠"
      ]
     },
     "execution_count": 65,
     "metadata": {},
     "output_type": "execute_result"
    }
   ],
   "source": [
    "sol[1].subs(M,0)"
   ]
  },
  {
   "cell_type": "code",
   "execution_count": null,
   "metadata": {},
   "outputs": [],
   "source": []
  },
  {
   "cell_type": "code",
   "execution_count": null,
   "metadata": {},
   "outputs": [],
   "source": []
  },
  {
   "cell_type": "code",
   "execution_count": null,
   "metadata": {},
   "outputs": [],
   "source": []
  },
  {
   "cell_type": "code",
   "execution_count": null,
   "metadata": {},
   "outputs": [],
   "source": []
  },
  {
   "cell_type": "code",
   "execution_count": 2,
   "metadata": {},
   "outputs": [],
   "source": [
    "class Vec(object): \n",
    "\n",
    "    def __init__(self,symbol,rep='LC',mod=[1,1,1,1],theta=None):\n",
    "        if rep=='LC': self.vec=self.LC(symbol,mod=mod,theta=theta)\n",
    "        if rep=='MC': self.vec=self.MC(symbol,mod=mod,theta=theta)\n",
    "        self.rep=rep\n",
    "\n",
    "    def __add__(self,other):\n",
    "        dum=Vec('dum',self.rep)\n",
    "        dum.vec=[self.vec[i]+other.vec[i] for i in range(len(other.vec))]\n",
    "        return dum\n",
    "\n",
    "    def __sub__(self,other):\n",
    "        #print self.vec\n",
    "        #print other.vec\n",
    "        dum=Vec('dum',self.rep)\n",
    "        dum.vec=[self.vec[i]-other.vec[i] for i in range(len(other.vec))]\n",
    "        return dum\n",
    "\n",
    "    def __eq__(self,other):\n",
    "        dum=Vec('dum',self.rep)\n",
    "        dum.vec=[self.vec[i] for i in range(len(other.vec))]\n",
    "        return dum\n",
    " \n",
    "    def __mul__(self,other):\n",
    "        if isinstance(other, Vec): \n",
    "            return self.dot(other.vec,self.vec)\n",
    "        else:\n",
    "            dum=Vec('dum',self.rep)\n",
    "            dum.vec=[other*self.vec[i] for i in range(len(self.vec))]\n",
    "            return dum\n",
    "        \n",
    "    def __rmul__(self,other):\n",
    "        if isinstance(other, Vec): \n",
    "            return self.dot(other.vec,self.vec)\n",
    "        else:\n",
    "            dum=Vec('dum',self.rep)\n",
    "            dum.vec=[other*self.vec[i] for i in range(len(self.vec))]\n",
    "            return dum\n",
    "        \n",
    "    def LC(self,symbol,mod=[1,1,1,1],theta=None):\n",
    "        p=sp.S('%s_p'%symbol)\n",
    "        m=sp.S('%s_m'%symbol)\n",
    "        t=sp.symbols('%s_t'%symbol,positive = True, real = True)\n",
    "        if theta==None: theta=sp.S('theta_%s'%symbol)\n",
    "        vec=[p,m,t*sp.cos(theta),t*sp.sin(theta)]\n",
    "        self.p=p\n",
    "        self.m=m\n",
    "        self.t=t\n",
    "        return [vec[i]*mod[i] for i in range(4)]\n",
    "    \n",
    "    def MC(self,symbol,mod=[1,1,1,1],theta=None):\n",
    "        E=sp.symbols('%s_E'%symbol,positive = True, real = True)\n",
    "        z=sp.symbols('%s_z'%symbol,real = True)\n",
    "        t=sp.symbols('%s_t'%symbol,positive = True, real = True)\n",
    "        if theta==None: theta=sp.S('theta_%s'%symbol)\n",
    "        vec=[E,t*sp.cos(theta),t*sp.sin(theta),z]\n",
    "        self.E=E\n",
    "        self.z=z\n",
    "        self.t=t\n",
    "        self.theta=theta\n",
    "        return [vec[i]*mod[i] for i in range(4)]\n",
    "\n",
    "    def dot(self,A,B):\n",
    "        if self.rep=='LC':\n",
    "            return A[0]*B[1]+A[1]*B[0]-A[2]*B[2]-A[3]*B[3]\n",
    "        elif self.rep=='MC':\n",
    "            return A[0]*B[0]-A[1]*B[1]-A[2]*B[2]-A[3]*B[3]\n",
    "        \n",
    "    def set_plus(self,plus):\n",
    "        self.vec[0]=plus\n",
    "        \n",
    "    def set_minus(self,minus):\n",
    "        self.vec[1]=minus\n",
    "        \n",
    "    def set_perp(self,perp):\n",
    "        self.vec[2:]=perp\n",
    "        \n",
    "    def set_E(self,E):\n",
    "        self.vec[0]=E\n",
    "        \n",
    "    def set_x(self,x):\n",
    "        self.vec[1]=x\n",
    "        \n",
    "    def set_y(self,y):\n",
    "        self.vec[2]=y\n",
    "        \n",
    "    def set_z(self,z):\n",
    "        self.vec[3]=z\n",
    "\n",
    "    def get_E(self):\n",
    "        return self.vec[0]\n",
    "        \n",
    "    def get_x(self):\n",
    "        return self.vec[1]\n",
    "        \n",
    "    def get_y(self):\n",
    "        return self.vec[2]\n",
    "        \n",
    "    def get_z(self):\n",
    "        return self.vec[3]\n",
    "\n",
    "    \n",
    "    def change_plus(self,M):\n",
    "        if  self.rep=='LC':\n",
    "            perp2=(self.vec[2]**2+self.vec[3]**2)#.simplify()\n",
    "            self.vec[0]=(perp2+M**2)/2/self.vec[1]\n",
    "        \n",
    "    def change_minus(self,M):\n",
    "        if  self.rep=='LC':\n",
    "            perp2=(self.vec[2]**2+self.vec[3]**2)#.simplify()\n",
    "            self.vec[1]=(perp2+M**2)/2/self.vec[0]\n",
    "\n",
    "    def LC2MC(self):\n",
    "        if  self.rep=='LC':\n",
    "            vec0=((self.vec[0]+self.vec[1])/sp.sqrt(2))#.simplify()\n",
    "            vec3=((self.vec[0]-self.vec[1])/sp.sqrt(2))#.simplify()\n",
    "            self.vec=[vec0,self.vec[2],self.vec[3],vec3]\n",
    "            self.rep='MC'\n",
    "\n",
    "    def MC2LC(self):\n",
    "        if  self.rep=='MC':\n",
    "            vec_p=((self.vec[0]+self.vec[3])/sp.sqrt(2))#.simplify()\n",
    "            vec_m=((self.vec[0]-self.vec[3])/sp.sqrt(2))#.simplify()\n",
    "            self.vec=[vec_p,vec_m,self.vec[1],self.vec[2]]\n",
    "            self.rep='LC'\n",
    "\n",
    "    def norm(self):\n",
    "        return sp.sqrt(sum([self.vec[i]**2 for i in range(1,4)]))#.simplify()\n",
    "        \n",
    "    def uvec(self):\n",
    "        dum=Vec('dum','MC')\n",
    "        dum.set_E(sp.S(0))\n",
    "        norm=self.norm()\n",
    "        dum.vec[1:]=[self.vec[i]/norm for i in range(1,len(self.vec))]\n",
    "        return dum\n",
    "    \n",
    "    def get_mass(self):\n",
    "        if self.rep=='MC':\n",
    "            return sp.sqrt(self.vec[0]**2-self.norm()**2)\n",
    "        elif self.rep=='LC':\n",
    "            return sp.sqrt(2*self.vec[0]*self.vec[1]-self.vec[2]**2-self.vec[3]**2)\n",
    "\n",
    "    def get_sqmass(self):\n",
    "        if self.rep=='MC':\n",
    "            return self.vec[0]**2-self.norm()**2\n",
    "        elif self.rep=='LC':\n",
    "            return 2*self.vec[0]*self.vec[1]-self.vec[2]**2-self.vec[3]**2\n",
    "\n",
    "    @staticmethod\n",
    "    def dot3(A,B):\n",
    "        return sum([A.vec[i]*B.vec[i] for i in range(1,4)])\n",
    "    \n",
    "    @staticmethod\n",
    "    def cross(A,B):\n",
    "        dum=Vec('dum','MC')\n",
    "        dum.set_E(sp.S(0))\n",
    "        x= A.vec[2]*B.vec[3]-A.vec[3]*B.vec[2]\n",
    "        y=-A.vec[1]*B.vec[3]+A.vec[3]*B.vec[1]\n",
    "        z= A.vec[1]*B.vec[2]-A.vec[2]*B.vec[1]\n",
    "        dum.vec[1:]=[x,y,z]\n",
    "        return dum\n",
    "    \n",
    "    def simplify_vec(self):\n",
    "        for i in range(4):\n",
    "            self.vec[i]=self.vec[i].simplify()\n",
    "\n",
    "    def subs_vec(self,A,B):\n",
    "        for i in range(4):\n",
    "            self.vec[i]=self.vec[i].subs(A,B)\n",
    "\n",
    "    \n",
    "    def rotate(self,K,cos,sin):\n",
    "        #--rootate around K \n",
    "        dum=Vec('dum','MC')\n",
    "        UK=K.uvec()\n",
    "        dum.vec[1:]=(self*cos+self.cross(UK,self)*sin+UK*(self.dot3(UK,self)*(1-cos))).vec[1:]\n",
    "        dum.vec[0]=self.vec[0]\n",
    "        return dum\n",
    "        \n",
    "    def get_cos(self,K):\n",
    "        #--get cos along K\n",
    "        UK=K.uvec()\n",
    "        UV=self.uvec()\n",
    "        return self.dot3(UV,UK)\n",
    "    \n",
    "    def get_sin(self,K):\n",
    "        #--get sin along K\n",
    "        UK=K.uvec()\n",
    "        UV=self.uvec()\n",
    "        return self.cross(UV,UK).norm()\n",
    "        \n",
    "    @staticmethod\n",
    "    def get_boost_CS(A,bA):\n",
    "        #--get cosh and sinsh for A -> boosted A (bA)\n",
    "        #--A and bA are 2D vectors 0: energy, 1: momentum along boost dir\n",
    "        cosh=(bA[1]*A[1]-bA[0]*A[0])/(A[1]**2-A[0]**2)\n",
    "        if A[1]==0: sinh=(bA[1]-cosh*A[1])/A[0]\n",
    "        else:       sinh=(bA[0]-cosh*A[0])/A[1]\n",
    "        return cosh,sinh\n",
    "        \n",
    "    def boost(self,V,C=None,S=None):\n",
    "        \n",
    "        if C==None and S==None:\n",
    "            #--boost to rest frame of V\n",
    "            E=V.vec[0]\n",
    "            P=V.norm()\n",
    "            M=V.get_mass()\n",
    "            C,S=self.get_boost_CS([E,P],[M,0])\n",
    "            \n",
    "        UV=V.uvec()\n",
    "        par=self.dot3(self,UV)*UV\n",
    "        per=self-par\n",
    "        E=self.vec[0]\n",
    "        npar=self.dot3(self,UV)#par.norm()\n",
    "        #npar=par.norm()\n",
    "        bE  =(C*E + S*npar)#.simplify()\n",
    "        bpar=(S*E + C*npar)#.simplify()\n",
    "        new=per+bpar*UV\n",
    "        new.vec[0]=bE\n",
    "        return new\n",
    "        "
   ]
  },
  {
   "cell_type": "code",
   "execution_count": 3,
   "metadata": {},
   "outputs": [],
   "source": [
    "\n",
    "def gen_params():\n",
    "    params={}\n",
    "\n",
    "    params['M']   = 0.938\n",
    "    params['M_h'] = 0.139\n",
    "\n",
    "    params['x_bj']= 0.1\n",
    "    params['z_h'] = 0.1\n",
    "    params['Q']   = 10.0\n",
    "    params['T_t'] = 0.1\n",
    "\n",
    "    params['xi']  = 0.3\n",
    "    params['zeta']= 0.3\n",
    "    params['delta_k_t']=0.1\n",
    "    params['k_i_t']=0.01\n",
    "    params['M_ki']=0.1\n",
    "    params['M_kf']=0.1\n",
    "    return params\n",
    "\n",
    "\n",
    "def evaluate(func,params=None,verb=False):\n",
    "    \n",
    "    if params==None: params=gen_params()\n",
    "        \n",
    "    msg=func.__doc__.replace(' ','').split('func(')[1].split('Expression')[0]\n",
    "    msg=msg.replace('\\n','').rstrip(')').split(',')\n",
    "    if verb: print msg\n",
    "    for _ in msg: \n",
    "        if _ not in params: \n",
    "            print '%s is missing in params'%_\n",
    "            return None\n",
    "    \n",
    "    args=[params[_] for _ in msg]\n",
    "    return func(*args)"
   ]
  },
  {
   "cell_type": "code",
   "execution_count": 4,
   "metadata": {},
   "outputs": [],
   "source": [
    "def get_massless(exp,replace=[],n=3):\n",
    "    if len(replace)>0:\n",
    "        for _ in replace:\n",
    "            A,B=_\n",
    "            exp=exp.subs(A,B)\n",
    "    exp=exp.subs(Q,1/eps)        \n",
    "    return sp.series(exp,eps,0,n=n).subs(eps,1/Q).removeO()"
   ]
  },
  {
   "cell_type": "code",
   "execution_count": 5,
   "metadata": {},
   "outputs": [],
   "source": [
    "xb=sp.symbols('x_bj',positive = True, real = True)\n",
    "xN=sp.symbols('x_N',positive = True, real = True)\n",
    "zh=sp.symbols('z_h',positive = True, real = True)\n",
    "zN=sp.symbols('z_N',positive = True, real = True)\n",
    "xh=sp.symbols('x_h',positive = True, real = True)\n",
    "\n",
    "Q=sp.symbols('Q',positive = True, real = True)\n",
    "M=sp.symbols('M',positive = True, real = True)\n",
    "Mh=sp.symbols('M_h',positive = True, real = True)\n",
    "Mki=sp.symbols('M_ki',positive = True, real = True)\n",
    "Mkf=sp.symbols('M_kf',positive = True, real = True)\n",
    "Mx=sp.symbols('M_x',positive = True, real = True)\n",
    "\n",
    "MhT=sp.symbols('M_hT',positive = True, real = True)\n",
    "qt=sp.S('q_t')\n",
    "eps=sp.S('epsilon')\n",
    "xi=sp.symbols('xi',positive = True, real = True)\n",
    "zeta=sp.symbols('zeta',positive = True, real = True)\n",
    "hxN=sp.symbols('\\hat{x}_N',positive = True, real = True)\n",
    "hzN=sp.symbols('\\hat{z}_N',positive = True, real = True)"
   ]
  },
  {
   "cell_type": "code",
   "execution_count": 6,
   "metadata": {},
   "outputs": [],
   "source": [
    "ki=Vec('k_i','LC',theta=0)\n",
    "kf=Vec('k_f','LC',theta=0)\n",
    "kx=Vec('k_x','LC',theta=0)\n",
    "\n",
    "q=Vec('q','LC',mod=[1,1,0,0],theta=0)\n",
    "P=Vec('P','LC',mod=[1,1,0,0],theta=0)\n",
    "H=Vec('H','LC',theta=0)\n",
    "T=Vec('T',theta=0,mod=[0,0,1,1])\n",
    "dk=Vec('delta_k',theta=0,mod=[0,0,1,1])\n",
    "\n",
    "q.set_plus(-Q/sp.sqrt(2))\n",
    "q.set_minus(Q/sp.sqrt(2))\n",
    "P.set_plus(Q/xN/sp.sqrt(2))\n",
    "P.set_minus(xN*M**2/sp.sqrt(2)/Q)\n",
    "H.set_minus(zN*q.vec[1])\n",
    "H.set_perp((-zN*T).vec[2:])\n",
    "H.change_plus(Mh)\n",
    "\n",
    "ki.set_plus((xN/hxN)*P.vec[0])\n",
    "kf.set_minus(H.vec[1]/(zN/hzN))\n",
    "kf.set_perp((-hzN*T+dk).vec[2:])\n",
    "\n",
    "ki.change_minus(Mki)\n",
    "kf.change_plus(Mkf)"
   ]
  },
  {
   "cell_type": "code",
   "execution_count": 7,
   "metadata": {},
   "outputs": [],
   "source": [
    "def build(exp):\n",
    "    exp=exp.subs(hzN,zN/zeta)\n",
    "    exp=exp.subs(hxN,xN/xi)\n",
    "    exp=exp.subs(zN,zN2zh)\n",
    "    exp=exp.subs(xN,xN2xb)\n",
    "    exp=exp.subs(Mki**2,-Mki**2)\n",
    "    args=(M,Mh,xb,zh,Q,T.t,xi,zeta,dk.t,ki.t,Mki,Mkf)\n",
    "    return sp.lambdify(args, exp)\n",
    "\n"
   ]
  },
  {
   "cell_type": "markdown",
   "metadata": {},
   "source": [
    "## build xN and zN variables"
   ]
  },
  {
   "cell_type": "code",
   "execution_count": 8,
   "metadata": {},
   "outputs": [
    {
     "data": {
      "image/png": "[encoded data removed]",
      "text/latex": [
       "$$\\frac{x_{N} \\left(Q^{4} z_{h} + \\sqrt{- 4 M^{4} M_{h}^{2} T_{t}^{2} x_{N}^{2} x_{bj}^{2} - 4 M^{2} M_{h}^{2} Q^{4} x_{bj}^{2} + Q^{8} z_{h}^{2}}\\right)}{2 x_{bj} \\left(M^{2} T_{t}^{2} x_{N}^{2} + Q^{4}\\right)}$$"
      ],
      "text/plain": [
       "    ⎛            ____________________________________________________________⎞\n",
       "    ⎜ 4         ╱      4    2    2    2     2      2    2  4     2    8    2 ⎟\n",
       "x_N⋅⎝Q ⋅z_h + ╲╱  - 4⋅M ⋅M_h ⋅T_t ⋅x_N ⋅x_bj  - 4⋅M ⋅M_h ⋅Q ⋅x_bj  + Q ⋅z_h  ⎠\n",
       "──────────────────────────────────────────────────────────────────────────────\n",
       "                                 ⎛ 2    2    2    4⎞                          \n",
       "                          2⋅x_bj⋅⎝M ⋅T_t ⋅x_N  + Q ⎠                          "
      ]
     },
     "execution_count": 8,
     "metadata": {},
     "output_type": "execute_result"
    }
   ],
   "source": [
    "zN2zh=sp.solve(zh-2*xb*(P*H)/Q**2,zN)[1]\n",
    "zN2zh=zN2zh.simplify()\n",
    "zN2zh"
   ]
  },
  {
   "cell_type": "code",
   "execution_count": 9,
   "metadata": {},
   "outputs": [
    {
     "data": {
      "image/png": "[encoded data removed]",
      "text/latex": [
       "$$\\frac{2 Q x_{bj}}{Q + \\sqrt{4 M^{2} x_{bj}^{2} + Q^{2}}}$$"
      ],
      "text/plain": [
       "        2⋅Q⋅x_bj        \n",
       "────────────────────────\n",
       "       _________________\n",
       "      ╱    2     2    2 \n",
       "Q + ╲╱  4⋅M ⋅x_bj  + Q  "
      ]
     },
     "execution_count": 9,
     "metadata": {},
     "output_type": "execute_result"
    }
   ],
   "source": [
    "xN2xb=sp.solve(xb-Q**2/(2*P*q),xN)[0]\n",
    "xN2xb=xN2xb*(Q+sp.sqrt(Q**2+4*M**2*xb**2))\n",
    "xN2xb=xN2xb.expand()\n",
    "xN2xb/=(Q+sp.sqrt(Q**2+4*M**2*xb**2))\n",
    "xN2xb"
   ]
  },
  {
   "cell_type": "code",
   "execution_count": 10,
   "metadata": {},
   "outputs": [
    {
     "name": "stdout",
     "output_type": "stream",
     "text": [
      "0.09999120310791045\n"
     ]
    }
   ],
   "source": [
    "get_xN=build(xN2xb)\n",
    "print evaluate(get_xN)"
   ]
  },
  {
   "cell_type": "code",
   "execution_count": 11,
   "metadata": {},
   "outputs": [
    {
     "name": "stdout",
     "output_type": "stream",
     "text": [
      "0.09999103224830468\n"
     ]
    }
   ],
   "source": [
    "get_zN=build(zN2zh)\n",
    "print evaluate(get_zN)"
   ]
  },
  {
   "cell_type": "markdown",
   "metadata": {},
   "source": [
    "## build R1..R4 variables"
   ]
  },
  {
   "cell_type": "code",
   "execution_count": 12,
   "metadata": {},
   "outputs": [
    {
     "data": {
      "image/png": "[encoded data removed]",
      "text/latex": [
       "$$\\left [ 0, \\quad 0, \\quad \\delta_{k t}, \\quad 0\\right ]$$"
      ],
      "text/plain": [
       "[0, 0, δ_k_t, 0]"
      ]
     },
     "execution_count": 12,
     "metadata": {},
     "output_type": "execute_result"
    }
   ],
   "source": [
    "dk.vec"
   ]
  },
  {
   "cell_type": "code",
   "execution_count": 13,
   "metadata": {},
   "outputs": [
    {
     "data": {
      "image/png": "[encoded data removed]",
      "text/latex": [
       "$$\\left [ \\frac{\\sqrt{2} Q}{2 \\hat{x}_N}, \\quad \\frac{\\sqrt{2} \\hat{x}_N \\left(\\frac{M_{ki}^{2}}{2} + \\frac{k_{i t}^{2}}{2}\\right)}{Q}, \\quad k_{i t}, \\quad 0\\right ]$$"
      ],
      "text/plain": [
       "⎡                          ⎛    2        2⎞          ⎤\n",
       "⎢                          ⎜M_ki    k_i_t ⎟          ⎥\n",
       "⎢             √2⋅\\hat{x}_N⋅⎜───── + ──────⎟          ⎥\n",
       "⎢    √2⋅Q                  ⎝  2       2   ⎠          ⎥\n",
       "⎢───────────, ─────────────────────────────, k_i_t, 0⎥\n",
       "⎣2⋅\\hat{x}_N                Q                        ⎦"
      ]
     },
     "execution_count": 13,
     "metadata": {},
     "output_type": "execute_result"
    }
   ],
   "source": [
    "ki.vec"
   ]
  },
  {
   "cell_type": "code",
   "execution_count": 14,
   "metadata": {},
   "outputs": [
    {
     "data": {
      "image/png": "[encoded data removed]",
      "text/latex": [
       "$$\\left [ \\frac{\\sqrt{2} \\left(\\frac{M_{kf}^{2}}{2} + \\frac{\\left(- T_{t} \\hat{z}_N + \\delta_{k t}\\right)^{2}}{2}\\right)}{Q \\hat{z}_N}, \\quad \\frac{\\sqrt{2} Q \\hat{z}_N}{2}, \\quad - T_{t} \\hat{z}_N + \\delta_{k t}, \\quad 0\\right ]$$"
      ],
      "text/plain": [
       "⎡   ⎛    2                           2⎞                                       \n",
       "⎢   ⎜M_kf    (-T_t⋅\\hat{z}_N + δ_k_t) ⎟                                       \n",
       "⎢√2⋅⎜───── + ─────────────────────────⎟                                       \n",
       "⎢   ⎝  2                 2            ⎠  √2⋅Q⋅\\hat{z}_N                       \n",
       "⎢──────────────────────────────────────, ──────────────, -T_t⋅\\hat{z}_N + δ_k_\n",
       "⎣             Q⋅\\hat{z}_N                      2                              \n",
       "\n",
       "    ⎤\n",
       "    ⎥\n",
       "    ⎥\n",
       "    ⎥\n",
       "t, 0⎥\n",
       "    ⎦"
      ]
     },
     "execution_count": 14,
     "metadata": {},
     "output_type": "execute_result"
    }
   ],
   "source": [
    "kf.vec\n"
   ]
  },
  {
   "cell_type": "code",
   "execution_count": 15,
   "metadata": {},
   "outputs": [
    {
     "data": {
      "image/png": "[encoded data removed]",
      "text/latex": [
       "$$\\left [ \\frac{\\sqrt{2} \\left(- Q^{2} \\hat{x}_N \\hat{z}_N + Q^{2} \\hat{z}_N - \\hat{x}_N \\left(T_{t} \\hat{z}_N - \\delta_{k t}\\right)^{2}\\right)}{2 Q \\hat{x}_N \\hat{z}_N}, \\quad \\frac{\\sqrt{2} Q \\left(- \\hat{z}_N + 1\\right)}{2}, \\quad T_{t} \\hat{z}_N - \\delta_{k t}, \\quad 0\\right ]$$"
      ],
      "text/plain": [
       "⎡   ⎛   2                        2                                            \n",
       "⎢√2⋅⎝- Q ⋅\\hat{x}_N⋅\\hat{z}_N + Q ⋅\\hat{z}_N - \\hat{x}_N⋅(T_t⋅\\hat{z}_N - δ_k_\n",
       "⎢─────────────────────────────────────────────────────────────────────────────\n",
       "⎣                             2⋅Q⋅\\hat{x}_N⋅\\hat{z}_N                         \n",
       "\n",
       "  2⎞                                                 ⎤\n",
       "t) ⎠  √2⋅Q⋅(-\\hat{z}_N + 1)                          ⎥\n",
       "────, ─────────────────────, T_t⋅\\hat{z}_N - δ_k_t, 0⎥\n",
       "                2                                    ⎦"
      ]
     },
     "execution_count": 15,
     "metadata": {},
     "output_type": "execute_result"
    }
   ],
   "source": [
    "kx=ki+q-kf\n",
    "kx.simplify_vec()\n",
    "kx.vec=[_.subs(Mkf,0).subs(Mki,0).subs(ki.t,0) for _ in kx.vec]\n",
    "Mx2_val=kx.get_sqmass()\n",
    "kx.vec"
   ]
  },
  {
   "cell_type": "code",
   "execution_count": 16,
   "metadata": {},
   "outputs": [
    {
     "data": {
      "image/png": "[encoded data removed]",
      "text/latex": [
       "$$\\left [ \\frac{\\sqrt{2} Q}{2} + \\frac{\\sqrt{2} \\left(\\frac{M_{kf}^{2}}{2} + \\frac{\\left(- T_{t} \\hat{z}_N + \\delta_{k t}\\right)^{2}}{2}\\right)}{Q \\hat{z}_N}, \\quad \\frac{\\sqrt{2} Q \\hat{z}_N}{2} - \\frac{\\sqrt{2} Q}{2}, \\quad - T_{t} \\hat{z}_N + \\delta_{k t}, \\quad 0\\right ]$$"
      ],
      "text/plain": [
       "⎡          ⎛    2                           2⎞                                \n",
       "⎢          ⎜M_kf    (-T_t⋅\\hat{z}_N + δ_k_t) ⎟                                \n",
       "⎢       √2⋅⎜───── + ─────────────────────────⎟                                \n",
       "⎢√2⋅Q      ⎝  2                 2            ⎠  √2⋅Q⋅\\hat{z}_N   √2⋅Q         \n",
       "⎢──── + ──────────────────────────────────────, ────────────── - ────, -T_t⋅\\h\n",
       "⎣ 2                  Q⋅\\hat{z}_N                      2           2           \n",
       "\n",
       "                  ⎤\n",
       "                  ⎥\n",
       "                  ⎥\n",
       "                  ⎥\n",
       "at{z}_N + δ_k_t, 0⎥\n",
       "                  ⎦"
      ]
     },
     "execution_count": 16,
     "metadata": {},
     "output_type": "execute_result"
    }
   ],
   "source": [
    "k=kf-q\n",
    "k.vec"
   ]
  },
  {
   "cell_type": "code",
   "execution_count": 17,
   "metadata": {},
   "outputs": [
    {
     "data": {
      "text/plain": [
       "{'M': 0.938,\n",
       " 'M_h': 0.139,\n",
       " 'M_kf': 0.1,\n",
       " 'M_ki': 0.1,\n",
       " 'Q': 10.0,\n",
       " 'T_t': 0.1,\n",
       " 'delta_k_t': 0.1,\n",
       " 'k_i_t': 0.01,\n",
       " 'x_bj': 0.1,\n",
       " 'xi': 0.3,\n",
       " 'z_h': 0.1,\n",
       " 'zeta': 0.3}"
      ]
     },
     "execution_count": 17,
     "metadata": {},
     "output_type": "execute_result"
    }
   ],
   "source": [
    "params=gen_params()\n",
    "params"
   ]
  },
  {
   "cell_type": "markdown",
   "metadata": {},
   "source": [
    "### build R1"
   ]
  },
  {
   "cell_type": "code",
   "execution_count": 18,
   "metadata": {},
   "outputs": [
    {
     "data": {
      "text/latex": [
       "$$\\frac{Q^{2} \\hat{x}_N \\left(- 2 T_{t} \\hat{z}_N z_{N}^{2} \\left(T_{t} \\hat{z}_N - \\delta_{k t}\\right) + \\hat{z}_N^{2} \\left(M_{h}^{2} + T_{t}^{2} z_{N}^{2}\\right) + z_{N}^{2} \\left(M_{kf}^{2} + \\left(T_{t} \\hat{z}_N - \\delta_{k t}\\right)^{2}\\right)\\right)}{\\hat{z}_N \\left(Q^{4} z_{N}^{2} + 2 Q^{2} T_{t} \\hat{x}_N k_{i t} z_{N}^{2} + \\hat{x}_N^{2} \\left(M_{h}^{2} + T_{t}^{2} z_{N}^{2}\\right) \\left(M_{ki}^{2} + k_{i t}^{2}\\right)\\right)}$$"
      ],
      "text/plain": [
       "<IPython.core.display.Math object>"
      ]
     },
     "metadata": {},
     "output_type": "display_data"
    },
    {
     "name": "stdout",
     "output_type": "stream",
     "text": [
      "0.0023467666454413194\n"
     ]
    }
   ],
   "source": [
    "R1=(H*kf)/(H*ki)\n",
    "R1=R1.simplify()\n",
    "lprint(R1)\n",
    "get_R1=build(R1)\n",
    "print evaluate(get_R1)"
   ]
  },
  {
   "cell_type": "markdown",
   "metadata": {},
   "source": [
    "### build R2"
   ]
  },
  {
   "cell_type": "code",
   "execution_count": 19,
   "metadata": {},
   "outputs": [
    {
     "data": {
      "text/latex": [
       "$$\\frac{M_{kf}^{2}}{Q^{2}} - \\frac{M_{kf}^{2}}{Q^{2} \\hat{z}_N} + \\hat{z}_N - 1 - \\frac{\\left(T_{t} \\hat{z}_N - \\delta_{k t}\\right)^{2}}{Q^{2} \\hat{z}_N}$$"
      ],
      "text/plain": [
       "<IPython.core.display.Math object>"
      ]
     },
     "metadata": {},
     "output_type": "display_data"
    },
    {
     "name": "stdout",
     "output_type": "stream",
     "text": [
      "-0.6670299433277364\n"
     ]
    }
   ],
   "source": [
    "R2=(k.get_sqmass()/Q**2)\n",
    "R2=R2.simplify()\n",
    "lprint(R2)\n",
    "get_R2=build(R2)\n",
    "print evaluate(get_R2)"
   ]
  },
  {
   "cell_type": "markdown",
   "metadata": {},
   "source": [
    "### build R3"
   ]
  },
  {
   "cell_type": "code",
   "execution_count": 20,
   "metadata": {},
   "outputs": [
    {
     "data": {
      "text/latex": [
       "$$\\hat{z}_N - 1 - \\frac{\\hat{z}_N}{\\hat{x}_N} + \\frac{1}{\\hat{x}_N} - \\frac{\\left(T_{t} \\hat{z}_N - \\delta_{k t}\\right)^{2}}{Q^{2} \\hat{z}_N}$$"
      ],
      "text/plain": [
       "<IPython.core.display.Math object>"
      ]
     },
     "metadata": {},
     "output_type": "display_data"
    },
    {
     "name": "stdout",
     "output_type": "stream",
     "text": [
      "1.3334357223046278\n"
     ]
    }
   ],
   "source": [
    "R3=(kx.get_sqmass()/Q**2)\n",
    "R3=R3.simplify()\n",
    "lprint(R3)\n",
    "get_R3=build(R3)\n",
    "print evaluate(get_R3)"
   ]
  },
  {
   "cell_type": "markdown",
   "metadata": {},
   "source": [
    "### build R4"
   ]
  },
  {
   "cell_type": "code",
   "execution_count": 21,
   "metadata": {},
   "outputs": [
    {
     "data": {
      "text/latex": [
       "$$\\frac{M^{2} x_{N}^{2} \\left(M_{h}^{2} + T_{t}^{2} z_{N}^{2}\\right) + Q^{4} z_{N}^{2}}{2 Q^{4} x_{N} z_{N}}$$"
      ],
      "text/plain": [
       "<IPython.core.display.Math object>"
      ]
     },
     "metadata": {},
     "output_type": "display_data"
    },
    {
     "name": "stdout",
     "output_type": "stream",
     "text": [
      "0.49999999999999994\n"
     ]
    }
   ],
   "source": [
    "R4=H*P/Q**2\n",
    "R4=R4.simplify()\n",
    "R4\n",
    "lprint(R4)\n",
    "get_R4=build(R4)\n",
    "print evaluate(get_R4)"
   ]
  },
  {
   "cell_type": "markdown",
   "metadata": {},
   "source": [
    "## build rapidities"
   ]
  },
  {
   "cell_type": "markdown",
   "metadata": {},
   "source": [
    "### proton "
   ]
  },
  {
   "cell_type": "code",
   "execution_count": 22,
   "metadata": {},
   "outputs": [
    {
     "data": {
      "text/latex": [
       "$$\\frac{\\log{\\left (\\frac{Q^{2}}{M^{2} x_{N}^{2}} \\right )}}{2}$$"
      ],
      "text/plain": [
       "<IPython.core.display.Math object>"
      ]
     },
     "metadata": {},
     "output_type": "display_data"
    },
    {
     "name": "stdout",
     "output_type": "stream",
     "text": [
      "4.669263488754392\n"
     ]
    }
   ],
   "source": [
    "yp=1/sp.S(2)*sp.log(P.vec[0]/P.vec[1]).simplify()\n",
    "lprint(yp)\n",
    "get_yp=build(yp)\n",
    "print evaluate(get_yp)"
   ]
  },
  {
   "cell_type": "markdown",
   "metadata": {},
   "source": [
    "### hadron"
   ]
  },
  {
   "cell_type": "code",
   "execution_count": 23,
   "metadata": {},
   "outputs": [
    {
     "data": {
      "text/latex": [
       "$$\\frac{\\log{\\left (\\frac{2 \\left(\\frac{M_{h}^{2}}{2} + \\frac{T_{t}^{2} z_{N}^{2}}{2}\\right)}{Q^{2} z_{N}^{2}} \\right )}}{2}$$"
      ],
      "text/plain": [
       "<IPython.core.display.Math object>"
      ]
     },
     "metadata": {},
     "output_type": "display_data"
    },
    {
     "name": "stdout",
     "output_type": "stream",
     "text": [
      "-1.9706109422661016\n"
     ]
    }
   ],
   "source": [
    "yh=1/sp.S(2)*sp.log(H.vec[0]/H.vec[1]).simplify()\n",
    "lprint(yh)\n",
    "get_yh=build(yh)\n",
    "print evaluate(get_yh)"
   ]
  },
  {
   "cell_type": "markdown",
   "metadata": {},
   "source": [
    "### incomming parton"
   ]
  },
  {
   "cell_type": "code",
   "execution_count": 24,
   "metadata": {},
   "outputs": [
    {
     "data": {
      "text/latex": [
       "$$\\log{\\left (\\frac{Q}{\\hat{x}_N \\sqrt{M_{ki}^{2} + k_{i t}^{2}}} \\right )}$$"
      ],
      "text/plain": [
       "<IPython.core.display.Math object>"
      ]
     },
     "metadata": {},
     "output_type": "display_data"
    },
    {
     "name": "stdout",
     "output_type": "stream",
     "text": [
      "(5.708895615373339-1.5707963267948966j)\n"
     ]
    }
   ],
   "source": [
    "yi=(1/sp.S(2)*sp.log(ki.vec[0]/ki.vec[1])).simplify()\n",
    "lprint(yi)\n",
    "get_yi=build(yi)\n",
    "print evaluate(get_yi)"
   ]
  },
  {
   "cell_type": "markdown",
   "metadata": {},
   "source": [
    "### outgoing parton"
   ]
  },
  {
   "cell_type": "code",
   "execution_count": 25,
   "metadata": {},
   "outputs": [
    {
     "data": {
      "text/latex": [
       "$$\\log{\\left (\\frac{\\sqrt{M_{kf}^{2} + \\left(T_{t} \\hat{z}_N - \\delta_{k t}\\right)^{2}}}{Q \\hat{z}_N} \\right )}$$"
      ],
      "text/plain": [
       "<IPython.core.display.Math object>"
      ]
     },
     "metadata": {},
     "output_type": "display_data"
    },
    {
     "name": "stdout",
     "output_type": "stream",
     "text": [
      "-3.322592029059071\n"
     ]
    }
   ],
   "source": [
    "yf=(1/sp.S(2)*sp.log(kf.vec[0]/kf.vec[1])).simplify()\n",
    "lprint(yf)\n",
    "get_yf=build(yf)\n",
    "print evaluate(get_yf)"
   ]
  },
  {
   "cell_type": "markdown",
   "metadata": {},
   "source": [
    "## Test 1"
   ]
  },
  {
   "cell_type": "code",
   "execution_count": 26,
   "metadata": {},
   "outputs": [
    {
     "data": {
      "application/vnd.jupyter.widget-view+json": {
       "model_id": "3244437a95a04e1b8697ebf9d14a26cd",
       "version_major": 2,
       "version_minor": 0
      },
      "text/plain": [
       "aW50ZXJhY3RpdmUoY2hpbGRyZW49KEZsb2F0U2xpZGVyKHZhbHVlPTAuMSwgZGVzY3JpcHRpb249dSd4YicsIG1heD0xLjApLCBGbG9hdFNsaWRlcih2YWx1ZT0xLjUsIGRlc2NyaXB0aW9uPXXigKY=\n"
      ]
     },
     "metadata": {},
     "output_type": "display_data"
    }
   ],
   "source": [
    "def update(xb=0.1,Q=1.5,qT=0,Mki=0.1,Mkf=0.1,dkT=0.1,kiT=0.1):\n",
    "    \n",
    "    params=gen_params()\n",
    "    params['M_ki']=Mki\n",
    "    params['M_kf']=Mkf\n",
    "    params['T_t']=qT\n",
    "    params['delta_k_t']=dkT\n",
    "    params['k_i_t']=kiT\n",
    "    params['xi']=xb\n",
    "    params['x_bj']=xb\n",
    "    params['Q']=Q\n",
    "    \n",
    "    zh=np.linspace(0.1,1,100)\n",
    "    params['z_h']=zh\n",
    "    params['zeta']=zh\n",
    "    \n",
    "\n",
    "    R={}\n",
    "    R[1]=evaluate(get_R1,params)\n",
    "    R[2]=evaluate(get_R2,params)\n",
    "    R[3]=evaluate(get_R3,params)\n",
    "    for _ in R: R[_]=np.abs(R[_])\n",
    "\n",
    "    nrows,ncols=1,3\n",
    "    fig = py.figure(figsize=(ncols*4,nrows*4))\n",
    "    AX={}\n",
    "    AX[1]=py.subplot(nrows,ncols,1)\n",
    "    AX[2]=py.subplot(nrows,ncols,2)\n",
    "    AX[3]=py.subplot(nrows,ncols,3)\n",
    "    \n",
    "    for i in [1,2,3]:\n",
    "        AX[i].plot(zh,R[i])\n",
    "        AX[i].set_ylim(0,1)\n",
    "        AX[i].set_xlim(0,1)\n",
    "        AX[i].set_xlabel(r'$z_h$',size=20)\n",
    "        AX[i].set_ylabel(r'$R_%d$'%i,size=20)\n",
    "        AX[i].tick_params(axis='both', which='major',labelsize=13)\n",
    "    \n",
    "    py.tight_layout()\n",
    "    fig.canvas.draw()\n",
    "        \n",
    "        \n",
    "interact(update,xb=(0.,1),Q=(0.,2),qT=(0.,2),\\\n",
    "         Mki=(0.,1),Mkf=(0.,1),kiT=(0.,1),dkT=(0.,1));"
   ]
  },
  {
   "cell_type": "markdown",
   "metadata": {},
   "source": [
    "## Test 2"
   ]
  },
  {
   "cell_type": "code",
   "execution_count": 27,
   "metadata": {},
   "outputs": [
    {
     "data": {
      "application/vnd.jupyter.widget-view+json": {
       "model_id": "6dff06326def492f90955acbd4526391",
       "version_major": 2,
       "version_minor": 0
      },
      "text/plain": [
       "aW50ZXJhY3RpdmUoY2hpbGRyZW49KEZsb2F0U2xpZGVyKHZhbHVlPTAuMjUsIGRlc2NyaXB0aW9uPXUnemgnLCBtYXg9MS4wLCBtaW49MC4xKSwgRmxvYXRTbGlkZXIodmFsdWU9MC4wLCBkZXPigKY=\n"
      ]
     },
     "metadata": {},
     "output_type": "display_data"
    }
   ],
   "source": [
    "def update(zh=0.25,qT=0,Mki=0.1,Mkf=0.1,dkT=0.1,xi=0.1,zeta=0.3):\n",
    "    \n",
    "    params=gen_params()\n",
    "    params['M_ki']=Mki\n",
    "    params['M_kf']=Mkf\n",
    "    params['T_t']=qT\n",
    "    params['delta_k_t']=dkT\n",
    "    params['xi']=xi\n",
    "    params['zeta']=zeta    \n",
    "    \n",
    "    xb=np.linspace(0.1,0.2,100)\n",
    "    Q=np.linspace(0.8,2,100)\n",
    "    xb,Q = np.meshgrid(xb, Q)\n",
    "\n",
    "    params['x_bj']=xb\n",
    "    params['Q']=Q\n",
    "    \n",
    "    R={}\n",
    "    R[1]=evaluate(get_R1,params)\n",
    "    R[2]=evaluate(get_R2,params)\n",
    "    R[3]=evaluate(get_R3,params)\n",
    "    for _ in R: R[_]=np.abs(R[_])\n",
    "    levels=[0.1,0.2,0.3,0.4,0.5,0.6,0.7]\n",
    "\n",
    "    nrows,ncols=1,3\n",
    "    fig = py.figure(figsize=(ncols*6,nrows*6))\n",
    "    AX={}\n",
    "    AX[1]=py.subplot(nrows,ncols,1)\n",
    "    AX[2]=py.subplot(nrows,ncols,2)\n",
    "    AX[3]=py.subplot(nrows,ncols,3)\n",
    "    \n",
    "    for i in [1,2,3]:\n",
    "        CS =AX[i].contour(xb,Q,R[i],levels=levels)\n",
    "        AX[i].clabel(CS, inline=1, fontsize=10)\n",
    "        AX[i].set_xlabel(r'$x_b$',size=20)\n",
    "        AX[i].set_ylabel(r'$Q$',size=20)\n",
    "        AX[i].set_title(r'$R_%d$ profile'%i,size=20)\n",
    "        AX[i].tick_params(axis='both', which='major',labelsize=13)\n",
    "    \n",
    "    py.tight_layout()\n",
    "    fig.canvas.draw()\n",
    "\n",
    "interact(update,zh=(0.1,1),qT=(0.,10),Mki=(0.,1),Mkf=(0.,1),dkT=(0.,1),xi=(0.1,1),zeta=(0.1,1));"
   ]
  },
  {
   "cell_type": "code",
   "execution_count": 27,
   "metadata": {},
   "outputs": [],
   "source": [
    "import plotly.plotly as py\n",
    "py.plotly.tools.set_credentials_file(username='nsato', api_key='BfoNfECD2G8RmMcLmJ7A')\n"
   ]
  },
  {
   "cell_type": "code",
   "execution_count": 29,
   "metadata": {},
   "outputs": [
    {
     "name": "stdout",
     "output_type": "stream",
     "text": [
      "High five! You successfully sent some data to your account on plotly. View your plot in your browser at https://plot.ly/~nsato/0 or inside your plot.ly account where it is named 'Sine Wave Slider'\n"
     ]
    },
    {
     "data": {
      "text/html": [
       "<iframe id=\"igraph\" scrolling=\"no\" style=\"border:none;\" seamless=\"seamless\" src=\"https://plot.ly/~nsato/0.embed\" height=\"525px\" width=\"100%\"></iframe>"
      ],
      "text/plain": [
       "<plotly.tools.PlotlyDisplay object>"
      ]
     },
     "execution_count": 29,
     "metadata": {},
     "output_type": "execute_result"
    }
   ],
   "source": [
    "data = [dict(\n",
    "        visible = False,\n",
    "        line=dict(color='#00CED1', width=6),\n",
    "        name = '𝜈 = '+str(step),\n",
    "        x = np.arange(0,10,0.01),\n",
    "        y = np.sin(step*np.arange(0,10,0.01))) for step in np.arange(0,5,0.1)]\n",
    "#data[10]['visible'] = True\n",
    "\n",
    "steps = []\n",
    "for i in range(len(data)):\n",
    "    step = dict(\n",
    "        method = 'restyle',\n",
    "        args = ['visible', [False] * len(data)],\n",
    "    )\n",
    "    step['args'][1][i] = True # Toggle i'th trace to \"visible\"\n",
    "    steps.append(step)\n",
    "\n",
    "sliders = [dict(\n",
    "    active = 10,\n",
    "    currentvalue = {\"prefix\": \"Frequency: \"},\n",
    "    pad = {\"t\": 50},\n",
    "    steps = steps\n",
    ")]\n",
    "\n",
    "layout = dict(sliders=sliders)\n",
    "fig = dict(data=data, layout=layout)\n",
    "py.iplot(fig, filename='Sine Wave Slider')\n"
   ]
  },
  {
   "cell_type": "code",
   "execution_count": 29,
   "metadata": {},
   "outputs": [
    {
     "data": {
      "text/html": [
       "<iframe id=\"igraph\" scrolling=\"no\" style=\"border:none;\" seamless=\"seamless\" src=\"https://plot.ly/~nsato/10.embed\" height=\"525px\" width=\"100%\"></iframe>"
      ],
      "text/plain": [
       "<plotly.tools.PlotlyDisplay object>"
      ]
     },
     "execution_count": 29,
     "metadata": {},
     "output_type": "execute_result"
    }
   ],
   "source": [
    "import plotly.plotly as py\n",
    "import plotly.graph_objs as go\n",
    "\n",
    "data = [\n",
    "    go.Contour(\n",
    "        z=[[10, 10.625, 12.5, 15.625],\n",
    "           [5.625, 6.25, 8.125, 11.25, 15.625],\n",
    "           [2.5, 3.125, 5., 8.125, 12.5],\n",
    "           [0.625, 1.25, 3.125, 6.25, 10.625],\n",
    "           [0, 0.625, 2.5, 5.625, 10]]\n",
    "    )\n",
    "]\n",
    "py.iplot(data)"
   ]
  },
  {
   "cell_type": "code",
   "execution_count": 30,
   "metadata": {},
   "outputs": [
    {
     "data": {
      "image/png": "[encoded data removed]",
      "text/latex": [
       "$$nan$$"
      ],
      "text/plain": [
       "nan"
      ]
     },
     "execution_count": 30,
     "metadata": {},
     "output_type": "execute_result"
    }
   ],
   "source": [
    "np.nan"
   ]
  },
  {
   "cell_type": "code",
   "execution_count": 30,
   "metadata": {},
   "outputs": [],
   "source": [
    "import plotly.plotly as py\n",
    "import plotly.graph_objs as go\n",
    "\n",
    "import numpy as np\n",
    "\n",
    "xx=np.linspace(-3.5, 3.5, 100)\n",
    "yy=np.linspace(-3.5, 3.5, 100)\n",
    "x,y=np.meshgrid(xx, yy)\n",
    "z=np.exp(-(x-1)**2-y**2)-10*(x**3+y**4-x/5)*np.exp(-(x**2+y**2))"
   ]
  },
  {
   "cell_type": "code",
   "execution_count": 31,
   "metadata": {},
   "outputs": [],
   "source": [
    "colorscale=[[0.0, 'rgb(20,29,67)'],\n",
    "           [0.1, 'rgb(28,76,96)'],\n",
    "           [0.2, 'rgb(16,125,121)'],\n",
    "           [0.3, 'rgb(92,166,133)'],\n",
    "           [0.4, 'rgb(182,202,175)'],\n",
    "           [0.5, 'rgb(253,245,243)'],\n",
    "           [0.6, 'rgb(230,183,162)'],\n",
    "           [0.7, 'rgb(211,118,105)'],\n",
    "           [0.8, 'rgb(174,63,95)'],\n",
    "           [0.9, 'rgb(116,25,93)'],\n",
    "           [1.0, 'rgb(51,13,53)']]"
   ]
  },
  {
   "cell_type": "code",
   "execution_count": 46,
   "metadata": {},
   "outputs": [],
   "source": [
    "textz = [['x: '+'{:0.5f}'.format(x[i][j])+'<br>y: '+'{:0.5f}'.format(y[i][j])+\n",
    "        '<br>z: '+'{:0.5f}'.format(z[i][j]) for j in range(z.shape[1])] for i in range(z.shape[0])]\n",
    "\n",
    "trace1= go.Surface(\n",
    "    x=tuple(x),\n",
    "    y=tuple(y),\n",
    "    z=tuple(z),\n",
    "    #colorscale=colorscale,\n",
    "    #text=textz,\n",
    "    hoverinfo='text',\n",
    ")"
   ]
  },
  {
   "cell_type": "code",
   "execution_count": 47,
   "metadata": {},
   "outputs": [],
   "source": [
    "axis = dict(\n",
    "showbackground=True, \n",
    "backgroundcolor=\"rgb(230, 230,230)\", \n",
    "showgrid=False,    \n",
    "zeroline=False,  \n",
    "showline=False)\n",
    "\n",
    "ztickvals=list(range(-6,4))\n",
    "layout = go.Layout(title=\"Projections of a surface onto coordinate planes\" , \n",
    "                autosize=False,\n",
    "                width=700,\n",
    "                height=600,\n",
    "#                 scene=dict(xaxis=dict(axis, range=[-3.5, 3.5]),\n",
    "#                             yaxis=dict(axis, range=[-3.5, 3.5]),\n",
    "#                             zaxis=dict(axis , tickvals=ztickvals),\n",
    "#                             aspectratio=dict(x=1,\n",
    "#                                              y=1,\n",
    "#                                              z=0.95)\n",
    "#                            )\n",
    "                )"
   ]
  },
  {
   "cell_type": "code",
   "execution_count": null,
   "metadata": {},
   "outputs": [],
   "source": []
  },
  {
   "cell_type": "code",
   "execution_count": 48,
   "metadata": {},
   "outputs": [
    {
     "data": {
      "text/html": [
       "<iframe id=\"igraph\" scrolling=\"no\" style=\"border:none;\" seamless=\"seamless\" src=\"https://plot.ly/~nsato/26.embed\" height=\"600px\" width=\"700px\"></iframe>"
      ],
      "text/plain": [
       "<plotly.tools.PlotlyDisplay object>"
      ]
     },
     "execution_count": 48,
     "metadata": {},
     "output_type": "execute_result"
    }
   ],
   "source": [
    "\n",
    "\n",
    "\n",
    "data=[trace1]#, tracex, tracey, tracez]\n",
    "fig = go.Figure(data=data, layout=layout)\n",
    "py.iplot(fig)"
   ]
  },
  {
   "cell_type": "code",
   "execution_count": null,
   "metadata": {},
   "outputs": [],
   "source": []
  },
  {
   "cell_type": "code",
   "execution_count": null,
   "metadata": {},
   "outputs": [],
   "source": []
  },
  {
   "cell_type": "code",
   "execution_count": null,
   "metadata": {},
   "outputs": [],
   "source": []
  },
  {
   "cell_type": "code",
   "execution_count": null,
   "metadata": {},
   "outputs": [],
   "source": []
  },
  {
   "cell_type": "code",
   "execution_count": null,
   "metadata": {},
   "outputs": [],
   "source": []
  },
  {
   "cell_type": "code",
   "execution_count": null,
   "metadata": {},
   "outputs": [],
   "source": []
  },
  {
   "cell_type": "code",
   "execution_count": null,
   "metadata": {},
   "outputs": [],
   "source": []
  },
  {
   "cell_type": "code",
   "execution_count": null,
   "metadata": {},
   "outputs": [],
   "source": []
  },
  {
   "cell_type": "code",
   "execution_count": null,
   "metadata": {},
   "outputs": [],
   "source": []
  },
  {
   "cell_type": "code",
   "execution_count": null,
   "metadata": {},
   "outputs": [],
   "source": []
  }
 ],
 "metadata": {
  "kernelspec": {
   "display_name": "Python 2",
   "language": "python",
   "name": "python2"
  },
  "language_info": {
   "codemirror_mode": {
    "name": "ipython",
    "version": 2
   },
   "file_extension": ".py",
   "mimetype": "text/x-python",
   "name": "python",
   "nbconvert_exporter": "python",
   "pygments_lexer": "ipython2",
   "version": "2.7.15"
  }
 },
 "nbformat": 4,
 "nbformat_minor": 2
}
