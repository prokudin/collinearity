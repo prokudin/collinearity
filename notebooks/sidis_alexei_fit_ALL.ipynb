{
 "cells": [
  {
   "cell_type": "markdown",
   "metadata": {},
   "source": [
    "# JAM FITTER"
   ]
  },
  {
   "cell_type": "code",
   "execution_count": 1,
   "metadata": {},
   "outputs": [],
   "source": [
    "import copy\n",
    "import sys, os\n",
    "import fitpack\n",
    "from fitlab.resman import RESMAN\n",
    "from tools.config import load_config, conf\n",
    "from tools.tools import load, save, checkdir\n",
    "import matplotlib.pyplot as plt\n",
    "import numpy as np\n",
    "import pandas as pd\n",
    "\n",
    "%matplotlib inline"
   ]
  },
  {
   "cell_type": "code",
   "execution_count": 2,
   "metadata": {},
   "outputs": [],
   "source": [
    "def lprint(msg):\n",
    "    sys.stdout.write('\\r')\n",
    "    sys.stdout.write('%s' % msg)\n",
    "    sys.stdout.flush()"
   ]
  },
  {
   "cell_type": "markdown",
   "metadata": {},
   "source": [
    "## setup"
   ]
  },
  {
   "cell_type": "code",
   "execution_count": 3,
   "metadata": {},
   "outputs": [],
   "source": [
    "run_settings = {\"dy\": None,\n",
    "                \"prefix\": None,\n",
    "                \"summary_dy\": None,\n",
    "                \"config_dy\": None,\n",
    "                \"sid_dy\": None,\n",
    "                \"dat_thy_dy\": None,\n",
    "                \"fig_seperation_dy\": None,\n",
    "                \"fig_hermes_dy\": None,\n",
    "                \"path2results\": None}\n",
    "\n",
    "\n",
    "def set_run_settings(dy, prefix, path2results=None):\n",
    "    run_settings[\"dy\"] = dy\n",
    "    run_settings[\"prefix\"] = prefix\n",
    "    \n",
    "    # inputs\n",
    "    run_settings[\"summary_dy\"] = '../samples/summary_alexei_dy'+prefix+'.mcp'\n",
    "    run_settings[\"config_dy\"] = '../inputs/upol_hermes_alexei'+prefix+'.py'\n",
    "\n",
    "    # outputs\n",
    "    run_settings[\"sid_dy\"] = 'sidis.dat'\n",
    "    run_settings[\"dat_thy_dy\"] = 'data_and_thy.dat'\n",
    "    run_settings[\"fig_seperation_dy\"] = 'separation_alexei'+prefix+'.pdf'\n",
    "    run_settings[\"fig_hermes_dy\"] = 'hermes_fit_alexei'+prefix+'.pdf'\n",
    "    \n",
    "    if path2results is not None:\n",
    "        checkdir(path2results)  # note: checkdir makes dir if needed\n",
    "        run_settings[\"path2results\"] = path2results"
   ]
  },
  {
   "cell_type": "code",
   "execution_count": 4,
   "metadata": {},
   "outputs": [],
   "source": [
    "# set settings\n",
    "set_run_settings(1.25, '125', path2results='sidis_torino')"
   ]
  },
  {
   "cell_type": "code",
   "execution_count": 5,
   "metadata": {},
   "outputs": [],
   "source": [
    "# get fit data\n",
    "runs = load(run_settings[\"summary_dy\"])  # load reads pickled data"
   ]
  },
  {
   "cell_type": "code",
   "execution_count": 6,
   "metadata": {},
   "outputs": [
    {
     "name": "stdout",
     "output_type": "stream",
     "text": [
      "loading sidis data sets 1007"
     ]
    }
   ],
   "source": [
    "# set up conf\n",
    "load_config(run_settings[\"config_dy\"])\n",
    "conf['resman'] = RESMAN(mode='solo', ip=None, nworkers=None)"
   ]
  },
  {
   "cell_type": "markdown",
   "metadata": {},
   "source": [
    "### distribution of parameters"
   ]
  },
  {
   "cell_type": "code",
   "execution_count": 7,
   "metadata": {},
   "outputs": [],
   "source": [
    "tab = {}\n",
    "tab['nll'] = runs['all']['nll']\n",
    "tab['weights'] = runs['all']['weights']\n",
    "samples = np.transpose(runs['all']['samples'])\n",
    "for i in range(len(conf['parman'].order)):\n",
    "    _, kind, par = conf['parman'].order[i]\n",
    "    tab['%s-%s' % (kind, par)] = samples[i]\n",
    "tab = pd.DataFrame(tab)"
   ]
  },
  {
   "cell_type": "code",
   "execution_count": 8,
   "metadata": {},
   "outputs": [
    {
     "name": "stdout",
     "output_type": "stream",
     "text": [
      "ffk-widths1_fav, ffk-widths1_ufav, ffpi-widths1_fav, ffpi-widths1_ufav, gk-gk0, nll, pdf-widths1_sea, pdf-widths1_uv, weights\n"
     ]
    }
   ],
   "source": [
    "print \", \".join(tab.columns)"
   ]
  },
  {
   "cell_type": "code",
   "execution_count": 9,
   "metadata": {},
   "outputs": [
    {
     "data": {
      "image/png": "[encoded data removed]",
      "text/plain": [
       "<Figure size 432x576 with 7 Axes>"
      ]
     },
     "metadata": {
      "needs_background": "light"
     },
     "output_type": "display_data"
    }
   ],
   "source": [
    "nrows, ncols = 4, 2\n",
    "fig = plt.figure(figsize=(ncols * 3, nrows * 2))\n",
    "\n",
    "\n",
    "def title(par, kind):\n",
    "    if par == 'widths1_uv':\n",
    "        return r\"$\\langle k_\\perp^2 \\rangle_{valence}$ (GeV$^2$)\"\n",
    "    if par == 'widths1_sea':\n",
    "        return r\"$\\langle k_\\perp^2 \\rangle_{sea}$ (GeV$^2$)\"\n",
    "    if par == 'widths1_fav' and kind == \"ffpi\":\n",
    "        return r\"$\\langle p_\\perp^2 \\rangle_{\\pi^+ fav}$ (GeV$^2$)\"\n",
    "    if par == 'widths1_ufav'and kind == \"ffpi\":\n",
    "        return r\"$\\langle p_\\perp^2 \\rangle_{\\pi^+ unfav}$ (GeV$^2$)\"\n",
    "    if par == 'widths1_fav' and kind == \"ffk\":\n",
    "        return r\"$\\langle p_\\perp^2 \\rangle_{K^+ fav}$ (GeV$^2$)\"\n",
    "    if par == 'widths1_ufav'and kind == \"ffk\":\n",
    "        return r\"$\\langle p_\\perp^2 \\rangle_{K^+ unfav}$ (GeV$^2$)\"\n",
    "    if par == 'gk0':\n",
    "        return r\"$g_{k0}$\"\n",
    "    if par == 'Q0' and kind == \"gk\":\n",
    "        return r\"$Q_0$ (GeV$^2$)\"\n",
    "\n",
    "\n",
    "cnt = 0\n",
    "\n",
    "\n",
    "def plot(tags):\n",
    "    # TODO: switch to using 2-D tags list\n",
    "    global cnt\n",
    "\n",
    "    for i in range(len(tags)):\n",
    "        cnt += 1\n",
    "\n",
    "        if tags[i] == None:\n",
    "            continue\n",
    "\n",
    "        ax = plt.subplot(nrows, ncols, cnt)\n",
    "\n",
    "        kind, par = tags[i].split('-')\n",
    "\n",
    "        if kind == 'pdf':\n",
    "            vmin = conf['params']['pdf'][par]['min']\n",
    "            vmax = conf['params']['pdf'][par]['max']\n",
    "            R = (vmin, vmax)\n",
    "        elif kind == 'ffpi':\n",
    "            vmin = conf['params']['ffpi'][par]['min']\n",
    "            vmax = conf['params']['ffpi'][par]['max']\n",
    "            R = (vmin, vmax)\n",
    "        elif kind == 'ffk':\n",
    "            vmin = conf['params']['ffk'][par]['min']\n",
    "            vmax = conf['params']['ffk'][par]['max']\n",
    "            R = (vmin, vmax)\n",
    "        elif kind == 'sidis':\n",
    "            vmin = conf['datasets']['sidis']['norm'][int(par)]['min']\n",
    "            vmax = conf['datasets']['sidis']['norm'][int(par)]['max']\n",
    "            R = (vmin, vmax)\n",
    "\n",
    "        R = None  # XXX: why is R here?\n",
    "\n",
    "        # for k in runs:\n",
    "        #     ax.hist(runs[k]['samples'].T[idx],weights=runs[k]['weights'],bins=50,normed=True,range=R)\n",
    "        # ax.hist(tab[tags[i]],normed=True)\n",
    "        # tabk=tab.query('nll<1300')\n",
    "\n",
    "        ax.hist(tab[tags[i]], range=R, bins=100, weights=tab['weights'])\n",
    "\n",
    "        # ax.set_title(par)\n",
    "\n",
    "        ax.set_title(title(par,kind))\n",
    "\n",
    "        # print samples.T[idx]\n",
    "        # print weights\n",
    "        # ax.hist(samples2.T[idx],weights=weights2,bins=50,color='r',histtype='step',normed=True,range=R)\n",
    "        # ax.set_title(tags[i])\n",
    "        # ax.set_xlim(vmin,vmax)\n",
    "\n",
    "    plt.tight_layout()\n",
    "\n",
    "\n",
    "plot(['pdf-widths1_uv', 'pdf-widths1_sea'])\n",
    "plot(['ffpi-widths1_fav', 'ffpi-widths1_ufav'])\n",
    "plot(['ffk-widths1_fav', 'ffk-widths1_ufav'])\n",
    "plot([None, 'gk-gk0'])"
   ]
  },
  {
   "cell_type": "markdown",
   "metadata": {},
   "source": [
    "## data vs theory"
   ]
  },
  {
   "cell_type": "code",
   "execution_count": 10,
   "metadata": {},
   "outputs": [
    {
     "name": "stdout",
     "output_type": "stream",
     "text": [
      "5009/5009"
     ]
    }
   ],
   "source": [
    "data = {'weights': runs['all']['weights']}\n",
    "\n",
    "count = 0\n",
    "count_max = len(runs['all']['samples'])\n",
    "\n",
    "_resman = conf['resman']\n",
    "\n",
    "for s in runs['all']['samples']:\n",
    "    count += 1\n",
    "    lprint('%d/%d' % (count, count_max))\n",
    "\n",
    "    _resman.get_residuals(s)\n",
    "\n",
    "    for k, _tab in _resman.sidisres.tabs.items():\n",
    "        if k  not in data:\n",
    "            data[k] = []\n",
    "\n",
    "        thy = _tab['thy']\n",
    "        norm = conf['datasets']['sidis']['norm'][k]['value']\n",
    "        shift = _tab['shift']\n",
    "\n",
    "        data[k].append(shift + thy / norm)\n",
    "\n",
    "save(data,'%s/%s' % (run_settings[\"path2results\"], run_settings[\"sid_dy\"]))"
   ]
  },
  {
   "cell_type": "markdown",
   "metadata": {
    "collapsed": true
   },
   "source": [
    "### compute averages and collect results"
   ]
  },
  {
   "cell_type": "code",
   "execution_count": 11,
   "metadata": {},
   "outputs": [],
   "source": [
    "data=load('%s/%s'%(run_settings[\"path2results\"], run_settings[\"sid_dy\"]))   \n",
    "for k in data: data[k]=np.array(data[k])\n",
    "thy,dthy={},{}\n",
    "for k in data:\n",
    "    if k=='weights': continue\n",
    "    thy[k]=np.einsum('i,ik->k',data['weights'],data[k])\n",
    "    dthy[k]=np.einsum('i,ik->k',data['weights'],(data[k]-thy[k])**2)**0.5\n",
    "for k in thy: \n",
    "    conf['resman'].sidisres.tabs[k]['thy']=copy.copy(thy[k])\n",
    "    conf['resman'].sidisres.tabs[k]['dthy']=copy.copy(dthy[k])"
   ]
  },
  {
   "cell_type": "code",
   "execution_count": 12,
   "metadata": {},
   "outputs": [
    {
     "name": "stdout",
     "output_type": "stream",
     "text": [
      "sidis\n"
     ]
    }
   ],
   "source": [
    "report=conf['resman'].gen_report(verb=0,level=1)\n",
    "delimiters=[]\n",
    "for i in range(len(report)): \n",
    "    if 'reaction:' in report[i]: delimiters.append(i) \n",
    "\n",
    "data={}\n",
    "nlines=len(report)\n",
    "for i in range(len(delimiters)):\n",
    "    ini=delimiters[i]\n",
    "    if i==len(delimiters)-1: fin=len(report)\n",
    "    else: fin=delimiters[i+1]\n",
    "    reaction=report[ini].replace('reaction:','').strip()\n",
    "    data[reaction]={'raw data':report[ini:fin]}\n",
    "    \n",
    "for k in data:\n",
    "    print k\n",
    "    block=data[k]['raw data']\n",
    "    isep=[i for i in range(len(block)) if '--------' in block[i]][0]\n",
    "    data[k]['summary']=[block[i] for i in range(isep)]\n",
    "    data[k]['tables']=[block[i] for i in range(isep+1,len(block))]\n",
    "\n",
    "    tabs={}\n",
    "    for l in data[k]['tables']:\n",
    "        info=l.split(',')\n",
    "        col=[s for s in info if 'col' in s][0].split('=')[1].strip()\n",
    "        if col not in tabs: tabs[col]={}\n",
    "        info=[[ss.strip() for ss in s.split('=')] for s in info if 'col' not in info  if s.strip()!='']\n",
    "        \n",
    "        for s in info:\n",
    "            if s[0] not in tabs[col]: tabs[col][s[0]]=[]\n",
    "        \n",
    "        for s in info:\n",
    "            try:\n",
    "                value=float(s[1])\n",
    "            except:\n",
    "                value=s[1]\n",
    "            tabs[col][s[0]].append(value)        \n",
    "\n",
    "    data[k]['tabs']=tabs\n",
    "save(data,'%s/%s'%(run_settings[\"path2results\"], run_settings[\"dat_thy_dy\"]))  "
   ]
  },
  {
   "cell_type": "code",
   "execution_count": 13,
   "metadata": {},
   "outputs": [
    {
     "name": "stdout",
     "output_type": "stream",
     "text": [
      "\n",
      "reaction: sidis\n",
      "    idx        tar        had        col        obs  npts       chi2  chi2/npts      rchi2      nchi2\n",
      "   1000     proton        pi+     hermes          M    45      87.59       1.95        0.00       0.00\n",
      "   1001     proton        pi-     hermes          M    45      81.67       1.81        0.00       0.00\n",
      "   1002     proton         k+     hermes          M    46      52.08       1.13        0.00       0.00\n",
      "   1003     proton         k-     hermes          M    46      21.77       0.47        0.00       0.00\n",
      "   1004   deuteron        pi+     hermes          M    45      59.33       1.32        0.00       0.00\n",
      "   1005   deuteron        pi-     hermes          M    45      49.45       1.10        0.00       0.00\n",
      "   1006   deuteron         k+     hermes          M    46      18.17       0.40        0.00       0.00\n",
      "   1007   deuteron         k-     hermes          M    45      64.92       1.44        0.00       0.00\n"
     ]
    }
   ],
   "source": [
    "def summary():\n",
    "    for k in data:\n",
    "        print \"\"\n",
    "        for l in data[k]['summary']: print l\n",
    "summary()"
   ]
  },
  {
   "cell_type": "code",
   "execution_count": 14,
   "metadata": {},
   "outputs": [
    {
     "name": "stdout",
     "output_type": "stream",
     "text": [
      "reaction: sidis\n",
      "    idx        tar        had        col        obs  npts       chi2  chi2/npts      rchi2      nchi2\n",
      "   1000     proton        pi+     hermes          M    45      87.59       1.95        0.00       0.00\n",
      "   1001     proton        pi-     hermes          M    45      81.67       1.81        0.00       0.00\n",
      "   1002     proton         k+     hermes          M    46      52.08       1.13        0.00       0.00\n",
      "   1003     proton         k-     hermes          M    46      21.77       0.47        0.00       0.00\n",
      "   1004   deuteron        pi+     hermes          M    45      59.33       1.32        0.00       0.00\n",
      "   1005   deuteron        pi-     hermes          M    45      49.45       1.10        0.00       0.00\n",
      "   1006   deuteron         k+     hermes          M    46      18.17       0.40        0.00       0.00\n",
      "   1007   deuteron         k-     hermes          M    45      64.92       1.44        0.00       0.00\n"
     ]
    }
   ],
   "source": [
    "for k in data:\n",
    "    for l in data[k]['summary']: print l"
   ]
  },
  {
   "cell_type": "markdown",
   "metadata": {},
   "source": [
    "### Collect chi2, n points and draw distribution of parameters"
   ]
  },
  {
   "cell_type": "code",
   "execution_count": 15,
   "metadata": {},
   "outputs": [
    {
     "name": "stdout",
     "output_type": "stream",
     "text": [
      "reaction: sidis\n",
      "    idx        tar        had        col        obs  npts       chi2  chi2/npts      rchi2      nchi2\n",
      "   1000     proton        pi+     hermes          M    45      87.59       1.95        0.00       0.00\n",
      "   1001     proton        pi-     hermes          M    45      81.67       1.81        0.00       0.00\n",
      "   1002     proton         k+     hermes          M    46      52.08       1.13        0.00       0.00\n",
      "   1003     proton         k-     hermes          M    46      21.77       0.47        0.00       0.00\n",
      "   1004   deuteron        pi+     hermes          M    45      59.33       1.32        0.00       0.00\n",
      "   1005   deuteron        pi-     hermes          M    45      49.45       1.10        0.00       0.00\n",
      "   1006   deuteron         k+     hermes          M    46      18.17       0.40        0.00       0.00\n",
      "   1007   deuteron         k-     hermes          M    45      64.92       1.44        0.00       0.00\n"
     ]
    }
   ],
   "source": [
    "for k in data:\n",
    "    for l in data[k]['summary']: print(l)"
   ]
  },
  {
   "cell_type": "code",
   "execution_count": 16,
   "metadata": {},
   "outputs": [],
   "source": [
    "def pointsall(data):\n",
    "    npoints = 0\n",
    "    for k in data:\n",
    "        for l in data[k]['summary']:\n",
    "            mydata = [token for token in l.split()]\n",
    "            if len(mydata) > 6 and mydata[0].isdigit():\n",
    "                npoints = npoints + float(mydata[5])\n",
    "    return npoints"
   ]
  },
  {
   "cell_type": "code",
   "execution_count": 17,
   "metadata": {},
   "outputs": [],
   "source": [
    "def chi2all(data):\n",
    "    chi2 = 0\n",
    "    for k in data:\n",
    "        for l in data[k]['summary']:\n",
    "            mydata = [token for token in l.split()]\n",
    "            if len(mydata) > 6 and mydata[0].isdigit():\n",
    "                chi2 = chi2 + float(mydata[6])\n",
    "    return chi2           "
   ]
  },
  {
   "cell_type": "code",
   "execution_count": 18,
   "metadata": {},
   "outputs": [
    {
     "data": {
      "text/plain": [
       "434.98"
      ]
     },
     "execution_count": 18,
     "metadata": {},
     "output_type": "execute_result"
    }
   ],
   "source": [
    "chi2all(data)"
   ]
  },
  {
   "cell_type": "code",
   "execution_count": 19,
   "metadata": {},
   "outputs": [
    {
     "data": {
      "text/plain": [
       "363.0"
      ]
     },
     "execution_count": 19,
     "metadata": {},
     "output_type": "execute_result"
    }
   ],
   "source": [
    "pointsall(data)"
   ]
  },
  {
   "cell_type": "code",
   "execution_count": 20,
   "metadata": {},
   "outputs": [
    {
     "data": {
      "text/plain": [
       "0.14638981989620803"
      ]
     },
     "execution_count": 20,
     "metadata": {},
     "output_type": "execute_result"
    }
   ],
   "source": [
    "np.mean(tab['pdf-widths1_uv'])\n",
    "np.std(tab['pdf-widths1_sea'])"
   ]
  },
  {
   "cell_type": "code",
   "execution_count": 21,
   "metadata": {},
   "outputs": [
    {
     "name": "stderr",
     "output_type": "stream",
     "text": [
      "C:\\Users\\mason\\Anaconda3\\envs\\python2\\lib\\site-packages\\ipykernel_launcher.py:16: MatplotlibDeprecationWarning: The griddata function was deprecated in version 2.2. Use scipy.interpolate.griddata instead.\n",
      "  app.launch_new_instance()\n"
     ]
    },
    {
     "name": "stdout",
     "output_type": "stream",
     "text": [
      "0.3324643922339456 0.026313437457178915\n"
     ]
    },
    {
     "data": {
      "image/png": "[encoded data removed]",
      "text/plain": [
       "<Figure size 720x252 with 2 Axes>"
      ]
     },
     "metadata": {
      "needs_background": "light"
     },
     "output_type": "display_data"
    }
   ],
   "source": [
    "from matplotlib.colors import LogNorm\n",
    "import matplotlib.cm as cm\n",
    "from matplotlib.mlab import griddata\n",
    "\n",
    "nrows,ncols=1,2\n",
    "plt.figure(figsize=(ncols*5,nrows*3.5))\n",
    "\n",
    "samples2=runs['all']['samples']\n",
    "weights2=runs['all']['weights']\n",
    "\n",
    "ax=plt.subplot(121)\n",
    "\n",
    "xgrid = np.linspace(np.amin(tab['pdf-widths1_uv']), np.amax(tab['pdf-widths1_uv']), 100)\n",
    "ygrid = np.linspace(np.amin(tab['pdf-widths1_sea']), np.amax(tab['pdf-widths1_sea']), 100)\n",
    "xgrid, ygrid = np.meshgrid(xgrid, ygrid)\n",
    "zgrid = griddata(tab['pdf-widths1_uv'],tab['pdf-widths1_sea'],weights2, xgrid, ygrid,interp='linear')\n",
    "zgrid/=np.amax(zgrid)\n",
    "ax.contourf(xgrid, ygrid, zgrid,cmap=cm.Blues,levels=[0.15,0.3,0.45,0.6,0.75,0.9,1.05])\n",
    "\n",
    "meanval=np.einsum('i,i',tab['pdf-widths1_uv'],weights2)\n",
    "stdval=np.einsum('i,i',(tab['pdf-widths1_uv']-meanval)**2,weights2)**0.5\n",
    "\n",
    "meansea=np.einsum('i,i',tab['pdf-widths1_sea'],weights2)\n",
    "stdsea=np.einsum('i,i',(tab['pdf-widths1_sea']-meansea)**2,weights2)**0.5\n",
    "\n",
    "\n",
    "ax.errorbar([meanval],[meansea],xerr=stdval,yerr=stdsea,fmt='r.',elinewidth=3,alpha=1.)\n",
    " \n",
    "#ax.tick_params(axis='both', which='major', labelsize=18, direction='in')\n",
    "\n",
    "ax.set_xlabel(r\"$\\langle k_\\perp^2 \\rangle_{valence}$ (GeV$^2$)\",size=14)\n",
    "ax.xaxis.set_label_coords(0.85, -0.07)\n",
    "\n",
    "#ax.set_xlim(0.0,0.55)\n",
    "#ax.set_xticks([0,0.1,0.2,0.3,0.4,0.5])\n",
    "#ax.set_xticklabels([r'$\\boldsymbol{0}$','',r'$\\boldsymbol{0.2}$','',r'$\\boldsymbol{0.4}$',''])\n",
    "\n",
    "ax.set_ylabel(r\"$\\langle k_\\perp^2 \\rangle_{sea}$ (GeV$^2$)\",size=14)\n",
    "\n",
    "##############################################\n",
    "ax=plt.subplot(122)\n",
    "\n",
    "R=(0.1,1.)\n",
    "bins=100\n",
    "\n",
    "ax.hist(tab['pdf-widths1_uv'],histtype='stepfilled',range=R,weights=weights2,bins=bins,facecolor='r'\\\n",
    "   ,edgecolor='k'\\\n",
    "   ,label=r\"$\\langle k_\\perp^2 \\rangle_{valence}$ (GeV$^2$)\",density=True,alpha=0.5,zorder=10);\n",
    "\n",
    "ax.hist(tab['pdf-widths1_sea'],histtype='stepfilled',range=R,weights=weights2,bins=bins,facecolor='b'\\\n",
    "   ,edgecolor='k'\\\n",
    "   ,label=r\"$\\langle k_\\perp^2 \\rangle_{sea}$ (GeV$^2$)\",density=True,alpha=0.5,zorder=10);\n",
    "\n",
    "ax.errorbar([meansea],10,xerr=stdsea,yerr=0,fmt='b.',elinewidth=3,alpha=1.)\n",
    "\n",
    "ax.errorbar([meanval],12,xerr=stdval,yerr=0,fmt='r.',elinewidth=3,alpha=1.)\n",
    "\n",
    "meanfffav=np.einsum('i,i',tab['ffpi-widths1_fav'],weights2)\n",
    "stdfffav=np.einsum('i,i',(tab['ffpi-widths1_fav']-meanfffav)**2,weights2)**0.5\n",
    "\n",
    "meanffunfav=np.einsum('i,i',tab['ffpi-widths1_ufav'],weights2)\n",
    "stdffunfav=np.einsum('i,i',(tab['ffpi-widths1_ufav']-meanffunfav)**2,weights2)**0.5\n",
    "\n",
    "meanffkfav=np.einsum('i,i',tab['ffk-widths1_fav'],weights2)\n",
    "stdffkfav=np.einsum('i,i',(tab['ffk-widths1_fav']-meanffkfav)**2,weights2)**0.5\n",
    "\n",
    "meanffkunfav=np.einsum('i,i',tab['ffk-widths1_ufav'],weights2)\n",
    "stdffkunfav=np.einsum('i,i',(tab['ffk-widths1_ufav']-meanffkunfav)**2,weights2)**0.5\n",
    "\n",
    "meangk0=np.einsum('i,i',tab['gk-gk0'],weights2)\n",
    "stdgk0=np.einsum('i,i',(tab['gk-gk0']-meangk0)**2,weights2)**0.5\n",
    "\n",
    "#meanQ0=np.einsum('i,i',tab['gk-Q0'],weights2)\n",
    "#stdQ0=np.einsum('i,i',(tab['gk-Q0']-meangk0)**2,weights2)**0.5\n",
    "\n",
    "dy = run_settings[\"dy\"]\n",
    "\n",
    "descriptive_stat = [[dy,float(meanval), stdval], [dy,float(meansea), stdsea], [dy,float(meanfffav),stdfffav],\n",
    "                    [dy,float(meanffunfav),stdffunfav], [dy,float(meanffkfav),stdffkfav],\n",
    "                    [dy,float(meanffkunfav),stdffkunfav],[dy,float(meangk0),stdgk0]]\n",
    "\n",
    "print meanval, stdval\n",
    "\n",
    "#ax.tick_params(axis='both', which='major', labelsize=18, direction='in')\n",
    "\n",
    "ax.set_xlabel(r\"$\\langle k_\\perp^2 \\rangle_{q}$ (GeV$^2$)\",size=14)\n",
    "\n",
    "#ax.set_xlim([0,1.5])\n",
    "#ax.set_xticks([0,0.25,0.5,0.75,1,1.25])\n",
    "#ax.set_xticklabels([r'$\\boldsymbol{0}$','',r'$\\boldsymbol{0.5}$','',r'$\\boldsymbol{1}$',''])\n",
    "ax.xaxis.set_label_coords(0.85, -0.07)\n",
    "\n",
    "ax.set_ylabel(r'normalized yield',size=14)\n",
    "\n",
    "#ax.set_ylim([0,7.5])\n",
    "#ax.set_yticks([0,2,4,6])\n",
    "#ax.set_yticklabels([r'$\\boldsymbol{0}$',r'$\\boldsymbol{2}$',r'$\\boldsymbol{4}$',r'$\\boldsymbol{6}$'])\n",
    "\n",
    "ax.legend(frameon=False,fontsize=12,loc=2)\n",
    "\n",
    "#ax.text(0.87,0.87,r'$\\boldsymbol{\\rm (b)}$',size=20,transform=ax.transAxes,color='k',alpha=1)\n",
    "\n",
    "#plt.tight_layout()\n",
    "\n",
    "plt.savefig(\"%s/%s\" % (run_settings[\"path2results\"], run_settings[\"fig_seperation_dy\"]))"
   ]
  },
  {
   "cell_type": "code",
   "execution_count": 22,
   "metadata": {},
   "outputs": [
    {
     "data": {
      "text/plain": [
       "[[1.25, 0.3324643922339456, 0.026313437457178915],\n",
       " [1.25, 0.35479603955582495, 0.08488309075496529],\n",
       " [1.25, 0.2068866832448013, 0.004574206441323303],\n",
       " [1.25, 0.19424252107234805, 0.005568823166015191],\n",
       " [1.25, 0.23072259081464505, 0.009321674078203357],\n",
       " [1.25, 0.12435174112874937, 0.010858310155991558],\n",
       " [1.25, -0.24157622952290572, 0.011688431152194256]]"
      ]
     },
     "execution_count": 22,
     "metadata": {},
     "output_type": "execute_result"
    }
   ],
   "source": [
    "descriptive_stat"
   ]
  },
  {
   "cell_type": "markdown",
   "metadata": {},
   "source": [
    "### plot data and theory"
   ]
  },
  {
   "cell_type": "code",
   "execution_count": 23,
   "metadata": {},
   "outputs": [
    {
     "name": "stderr",
     "output_type": "stream",
     "text": [
      "C:\\Users\\mason\\Anaconda3\\envs\\python2\\lib\\site-packages\\ipykernel_launcher.py:5: FutureWarning: Sorting because non-concatenation axis is not aligned. A future version\n",
      "of pandas will change to not sort by default.\n",
      "\n",
      "To accept the future behavior, pass 'sort=False'.\n",
      "\n",
      "To retain the current behavior and silence the warning, pass 'sort=True'.\n",
      "\n",
      "  \"\"\"\n"
     ]
    }
   ],
   "source": [
    "from matplotlib import rc\n",
    "rc(\"font\", **{\"family\": \"sans-serif\", \"sans-serif\": [\"Helvetica\"]})\n",
    "\n",
    "data = pd.concat(pd.DataFrame(d)\n",
    "                 for d in conf[\"resman\"].sidisres.tabs.values())\n",
    "\n",
    "data = data[(data[\"hadron\"] == \"pi+\") &\n",
    "            (data[\"target\"] == \"proton\")]"
   ]
  },
  {
   "cell_type": "code",
   "execution_count": 24,
   "metadata": {},
   "outputs": [],
   "source": [
    "#####################\n",
    "# reading the data ##\n",
    "#####################\n",
    "#dat=pd.read_excel('E:/Laptop/School/Interships/Dr_Prokudin/Juniper82/PHYS296/dat/expdat/1000.xlsx');\n",
    "#dat=pd.read_excel('C:/Users/Dolam/Documents/Scott/1000.xlsx');\n",
    "dat=pd.read_excel('../database/sidis/expdata/1000.xlsx');"
   ]
  },
  {
   "cell_type": "code",
   "execution_count": 25,
   "metadata": {},
   "outputs": [],
   "source": [
    "######################\n",
    "# Calculated values ##\n",
    "######################\n",
    "dat[\"delta\"] = np.sqrt(dat[\"stat_u\"]**2.0) # measurment error\n",
    "\n",
    "data[\"delta\"] = np.sqrt(data[\"stat_u\"]**2.0) # measurment error"
   ]
  },
  {
   "cell_type": "code",
   "execution_count": 26,
   "metadata": {},
   "outputs": [],
   "source": [
    "##################\n",
    "## Binning data ##\n",
    "##################\n",
    "# data bin edeges\n",
    "\n",
    "xBin=np.array([0.023,0.047,0.075,0.12,0.35,0.6]) # Bins for x used to plot Pt\n",
    "Q2Bin=np.array([1.0,10]) # **NOTE** includes all Q2 data, therefore all value data is plotted vs. Pt\n",
    "zBin= np.array([0.1, 0.2,0.25,0.3, 0.375, 0.475, 0.6, 0.8, 1.1]) # catagories for z to be ploted indiviualy in each subplot\n",
    "\n",
    "# binning data\n",
    "dat['xBin'] = pd.cut(dat['x'], xBin,labels = False, retbins=0)\n",
    "dat['Q2Bin'] = pd.cut(dat['Q2'], Q2Bin,labels = False, retbins=0)\n",
    "dat['zBin'] = pd.cut(dat['z'], zBin,labels = False, retbins=0)\n",
    "\n",
    "data['xBin'] = pd.cut(data['x'], xBin,labels = False, retbins=0)\n",
    "data['Q2Bin'] = pd.cut(data['Q2'], Q2Bin,labels = False, retbins=0)\n",
    "data['zBin'] = pd.cut(data['z'], zBin,labels = False, retbins=0)\n",
    "\n",
    "# bins for x and y that have non-empty intersection\n",
    "pTdatmod=[0,1,2,3,4] # xBins that overlap Q2Bins\n",
    "valuedatmod=[0] # Q2bins that overlap xBins"
   ]
  },
  {
   "cell_type": "code",
   "execution_count": 27,
   "metadata": {},
   "outputs": [
    {
     "name": "stderr",
     "output_type": "stream",
     "text": [
      "C:\\Users\\mason\\Anaconda3\\envs\\python2\\lib\\site-packages\\matplotlib\\font_manager.py:1331: UserWarning: findfont: Font family [u'sans-serif'] not found. Falling back to DejaVu Sans\n",
      "  (prop.get_family(), self.defaultFamily[fontext]))\n"
     ]
    },
    {
     "data": {
      "image/png": "[encoded data removed]",
      "text/plain": [
       "<Figure size 1296x288 with 6 Axes>"
      ]
     },
     "metadata": {},
     "output_type": "display_data"
    }
   ],
   "source": [
    "###############\n",
    "# HermesPlot ##\n",
    "###############  Reduced matix \n",
    "# initialize the figure\n",
    "import matplotlib.pyplot as plt\n",
    "import matplotlib.gridspec as gridspec\n",
    "import matplotlib.patches as mpatches\n",
    "from matplotlib.backends.backend_pdf import PdfPages\n",
    "\n",
    "fig1=plt.figure(figsize=(18, 4),facecolor=\"white\") # figsize; wxh in inche\n",
    "globalGrid=gridspec.GridSpec(1, 1,left=0.03,right=1,top=.91,bottom=.115, wspace=0.0, hspace=0.0) # plot for subplot matrix as 1x1 matrix\n",
    "innerGrid=gridspec.GridSpecFromSubplotSpec(1,5 , subplot_spec=globalGrid[0], wspace=0.0, hspace=0.0) # 5x6 subplot grid \n",
    "\n",
    "# figure properties:\n",
    "ax=fig1.add_axes([0,0,1,1]) # axas for subplot matrix as percent of hole\n",
    "#ax.yaxis.set_ticks([0,1.25,2.76,4.27,5.78,7.29,8.8,10])\n",
    "ax.xaxis.set_ticks([0,1.25,2.8,4.35,5.9,7.45,9,10 ])\n",
    "xticklabels = np.array([0,0.023,0.047,0.075,0.12,0.35,0.6]) \n",
    "\n",
    "ax.set_yticklabels(\"\")\n",
    "ax.set_xticklabels(xticklabels)\n",
    "ax.set_xlabel(r\"$x$ bins\") # xy-lables\n",
    "ax.set_ylabel(r\"$Q^2$\",rotation=\"horizontal\",labelpad = 15)\n",
    "#ax.grid() # grid currently off\n",
    "\n",
    "# subplot axis proerties (unused)\n",
    "Zcolor=['#F74902',\"green\",\"blue\",'orange',\"#7851a9\",\"brown\",'#093162','#4b5320']\n",
    "Zmark=[\"o\",\"o\",\"o\",\"o\"]\n",
    "\n",
    "# Set legend\n",
    "Zpatch1 = mpatches.Patch(color=Zcolor[0], label='0.1<z<0.2')\n",
    "Zpatch2 = mpatches.Patch(color=Zcolor[1], label='0.2<z<0.25')\n",
    "Zpatch3 = mpatches.Patch(color=Zcolor[2], label='0.25<z<0.3')\n",
    "Zpatch4 = mpatches.Patch(color=Zcolor[3], label='0.3<z<0.375')\n",
    "Zpatch5 = mpatches.Patch(color=Zcolor[4], label='0.375<z<0.475')\n",
    "Zpatch6 = mpatches.Patch(color=Zcolor[5], label='0.475<z<0.6')\n",
    "Zpatch7 = mpatches.Patch(color=Zcolor[6], label='0.6<z<0.8')\n",
    "Zpatch8 = mpatches.Patch(color=Zcolor[7], label='0.8<z<1')\n",
    "          \n",
    "ax.legend(handles=[Zpatch1,Zpatch2,Zpatch3,Zpatch4,Zpatch5,Zpatch6,Zpatch7,Zpatch8],\n",
    "          loc='upper center',\n",
    "          ncol=8,prop={'size': 9}\n",
    "          )\n",
    "          \n",
    "for f,F in zip(range(len(pTdatmod)),pTdatmod):       \n",
    "    for j,J in zip(range(len(valuedatmod)),valuedatmod):\n",
    "        \n",
    "        k = int(f) # kth possition for subplot on innerGrid matrix\n",
    "        maskX = dat['xBin'].isin([F]) # returns boolean for all Jth xBin in dat  \n",
    "        maskY = dat['Q2Bin'].isin([J]) # returns boolean for all Fth Q2Bin in dat\n",
    "        \n",
    "        maskX_thr = data['xBin'].isin([F]) # returns boolean for all Jth xBin in dat  \n",
    "        maskY_thr = data['Q2Bin'].isin([J]) # returns boolean for all Fth Q2Bin in dat\n",
    "       \n",
    "        ax = fig1.add_subplot(innerGrid[k]) # add subplot in innerGrid\n",
    "        xydat = dat[maskX & maskY] # subset of data for Jth xBin and Fth Q2Bin\n",
    "        \n",
    "        xydata = data[maskX_thr & maskY_thr] # subset of data for Jth xBin and Fth Q2Bin\n",
    "        \n",
    "        for z in range(len(zBin)-1): \n",
    "            maskZ = xydat[\"zBin\"].isin([z])\n",
    "            databin = xydat[maskZ]\n",
    "            \n",
    "            maskZ_thr = xydata[\"zBin\"].isin([z])\n",
    "            databin_thr = xydata[maskZ_thr]\n",
    "            \n",
    "            if f != 0:\n",
    "                ax.errorbar(databin['pT'],databin['value'],yerr=databin['delta'],capsize=5,linestyle=\"\",color = Zcolor[z],elinewidth=1.25)\n",
    "                ax.set_xlabel(r\"$p_T$ (GeV)\",labelpad=1)\n",
    "                ax.set_yscale('log')\n",
    "                ax.set_yticklabels('')\n",
    "                \n",
    "                ax.plot(databin_thr['pT'],databin_thr['thy'],linestyle=\"-\",color = Zcolor[z]) # theory\n",
    "                ax.fill_between(databin_thr['pT'],databin_thr['thy']-databin_thr['dthy'],databin_thr['thy']+databin_thr['dthy']) # theory error\n",
    "                ax.set_xlabel(r\"$P_{hT}$ (GeV)\",labelpad=1)\n",
    "                ax.set_yticklabels('')\n",
    "               \n",
    "            else:\n",
    "                ax.errorbar(databin['pT'],databin['value'],yerr=databin['delta'],capsize=5,linestyle=\"\", color = Zcolor[z],elinewidth=1.25)\n",
    "                \n",
    "                ax.plot(databin_thr['pT'],databin_thr['thy'],linestyle=\"-\",color = Zcolor[z]) #theory\n",
    "                ax.fill_between(databin_thr['pT'],databin_thr['thy']-databin_thr['dthy'],databin_thr['thy']+databin_thr['dthy']) # theory error\n",
    "\n",
    "                \n",
    "                ax.set_xlabel(r\"$P_{hT}$ (GeV)\",labelpad=1)\n",
    "                ax.set_yscale('log')\n",
    "plt.savefig(\"%s/%s\" % (run_settings[\"path2results\"], run_settings[\"fig_hermes_dy\"]))             "
   ]
  },
  {
   "cell_type": "markdown",
   "metadata": {
    "collapsed": true
   },
   "source": [
    "## writing descriptive stats"
   ]
  },
  {
   "cell_type": "code",
   "execution_count": 28,
   "metadata": {},
   "outputs": [],
   "source": [
    "import pickle\n",
    "path2stat='sidis_hermes_torino_alexei_dy'\n",
    "checkdir(path2stat)\n",
    "\n",
    "dictionary = {'val':descriptive_stat[0], 'sea':descriptive_stat[1],'fav': descriptive_stat[2], \n",
    "               'unfav': descriptive_stat[3],'kfav':descriptive_stat[4],'kunfav':descriptive_stat[5],\n",
    "              'gk0':descriptive_stat[6]}\n",
    "\n",
    "with open(path2stat + '/descriptive_alexei_dy' + run_settings[\"prefix\"] + '.pkl', \"wb\") as f:\n",
    "    pickle.dump(dictionary, f)"
   ]
  }
 ],
 "metadata": {
  "anaconda-cloud": {},
  "kernelspec": {
   "display_name": "Python 2",
   "language": "python",
   "name": "python2"
  },
  "language_info": {
   "codemirror_mode": {
    "name": "ipython",
    "version": 2
   },
   "file_extension": ".py",
   "mimetype": "text/x-python",
   "name": "python",
   "nbconvert_exporter": "python",
   "pygments_lexer": "ipython2",
   "version": "2.7.15"
  }
 },
 "nbformat": 4,
 "nbformat_minor": 2
}
