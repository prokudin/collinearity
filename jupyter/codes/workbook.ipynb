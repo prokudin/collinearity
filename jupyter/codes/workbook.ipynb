{
 "cells": [
  {
   "cell_type": "code",
   "execution_count": 1,
   "metadata": {},
   "outputs": [],
   "source": [
    "import sys,os\n",
    "import subprocess\n",
    "import numpy as np\n",
    "import pylab as py\n",
    "import sympy as sp\n",
    "from sympy.printing.mathml import print_mathml,mathml\n",
    "from sympy.parsing.sympy_parser import parse_expr\n",
    "from sympy.tensor.array import MutableDenseNDimArray as Array\n",
    "sp.init_printing() \n",
    "from IPython.display import display, Math, Latex\n",
    "lprint=lambda expression: display(Math(sp.latex(expression)))"
   ]
  },
  {
   "cell_type": "code",
   "execution_count": 2,
   "metadata": {},
   "outputs": [],
   "source": [
    "class Vec(object): \n",
    "\n",
    "    def __init__(self,symbol,rep='LC',mod=[1,1,1,1],theta=None):\n",
    "        if rep=='LC': self.vec=self.LC(symbol,mod=mod,theta=theta)\n",
    "        if rep=='MC': self.vec=self.MC(symbol,mod=mod,theta=theta)\n",
    "        self.rep=rep\n",
    "\n",
    "    def __add__(self,other):\n",
    "        dum=Vec('dum',self.rep)\n",
    "        dum.vec=[self.vec[i]+other.vec[i] for i in range(len(other.vec))]\n",
    "        return dum\n",
    "\n",
    "    def __sub__(self,other):\n",
    "        #print self.vec\n",
    "        #print other.vec\n",
    "        dum=Vec('dum',self.rep)\n",
    "        dum.vec=[self.vec[i]-other.vec[i] for i in range(len(other.vec))]\n",
    "        return dum\n",
    "\n",
    "    def __eq__(self,other):\n",
    "        dum=Vec('dum',self.rep)\n",
    "        dum.vec=[self.vec[i] for i in range(len(other.vec))]\n",
    "        return dum\n",
    " \n",
    "    def __mul__(self,other):\n",
    "        if isinstance(other, Vec): \n",
    "            return self.dot(other.vec,self.vec)\n",
    "        else:\n",
    "            dum=Vec('dum',self.rep)\n",
    "            dum.vec=[other*self.vec[i] for i in range(len(self.vec))]\n",
    "            return dum\n",
    "        \n",
    "    def __rmul__(self,other):\n",
    "        if isinstance(other, Vec): \n",
    "            return self.dot(other.vec,self.vec)\n",
    "        else:\n",
    "            dum=Vec('dum',self.rep)\n",
    "            dum.vec=[other*self.vec[i] for i in range(len(self.vec))]\n",
    "            return dum\n",
    "        \n",
    "    def LC(self,symbol,mod=[1,1,1,1],theta=None):\n",
    "        p=sp.S('%s_p'%symbol)\n",
    "        m=sp.S('%s_m'%symbol)\n",
    "        t=sp.symbols('%s_t'%symbol,positive = True, real = True)\n",
    "        if theta==None: theta=sp.S('theta_%s'%symbol)\n",
    "        vec=[p,m,t*sp.cos(theta),t*sp.sin(theta)]\n",
    "        self.p=p\n",
    "        self.m=m\n",
    "        self.t=t\n",
    "        return [vec[i]*mod[i] for i in range(4)]\n",
    "    \n",
    "    def MC(self,symbol,mod=[1,1,1,1],theta=None):\n",
    "        E=sp.symbols('%s_E'%symbol,positive = True, real = True)\n",
    "        z=sp.symbols('%s_z'%symbol,real = True)\n",
    "        t=sp.symbols('%s_t'%symbol,positive = True, real = True)\n",
    "        if theta==None: theta=sp.S('theta_%s'%symbol)\n",
    "        vec=[E,t*sp.cos(theta),t*sp.sin(theta),z]\n",
    "        self.E=E\n",
    "        self.z=z\n",
    "        self.t=t\n",
    "        self.theta=theta\n",
    "        return [vec[i]*mod[i] for i in range(4)]\n",
    "\n",
    "    def dot(self,A,B):\n",
    "        if self.rep=='LC':\n",
    "            return A[0]*B[1]+A[1]*B[0]-A[2]*B[2]-A[3]*B[3]\n",
    "        elif self.rep=='MC':\n",
    "            return A[0]*B[0]-A[1]*B[1]-A[2]*B[2]-A[3]*B[3]\n",
    "        \n",
    "    def set_plus(self,plus):\n",
    "        self.vec[0]=plus\n",
    "        \n",
    "    def set_minus(self,minus):\n",
    "        self.vec[1]=minus\n",
    "        \n",
    "    def set_perp(self,perp):\n",
    "        self.vec[2:]=perp\n",
    "        \n",
    "    def set_E(self,E):\n",
    "        self.vec[0]=E\n",
    "        \n",
    "    def set_x(self,x):\n",
    "        self.vec[1]=x\n",
    "        \n",
    "    def set_y(self,y):\n",
    "        self.vec[2]=y\n",
    "        \n",
    "    def set_z(self,z):\n",
    "        self.vec[3]=z\n",
    "\n",
    "    def get_E(self):\n",
    "        return self.vec[0]\n",
    "        \n",
    "    def get_x(self):\n",
    "        return self.vec[1]\n",
    "        \n",
    "    def get_y(self):\n",
    "        return self.vec[2]\n",
    "        \n",
    "    def get_z(self):\n",
    "        return self.vec[3]\n",
    "\n",
    "    \n",
    "    def change_plus(self,M):\n",
    "        if  self.rep=='LC':\n",
    "            perp2=(self.vec[2]**2+self.vec[3]**2)#.simplify()\n",
    "            self.vec[0]=(perp2+M**2)/2/self.vec[1]\n",
    "        \n",
    "    def change_minus(self,M):\n",
    "        if  self.rep=='LC':\n",
    "            perp2=(self.vec[2]**2+self.vec[3]**2)#.simplify()\n",
    "            self.vec[1]=(perp2+M**2)/2/self.vec[0]\n",
    "\n",
    "    def LC2MC(self):\n",
    "        if  self.rep=='LC':\n",
    "            vec0=((self.vec[0]+self.vec[1])/sp.sqrt(2))#.simplify()\n",
    "            vec3=((self.vec[0]-self.vec[1])/sp.sqrt(2))#.simplify()\n",
    "            self.vec=[vec0,self.vec[2],self.vec[3],vec3]\n",
    "            self.rep='MC'\n",
    "\n",
    "    def MC2LC(self):\n",
    "        if  self.rep=='MC':\n",
    "            vec_p=((self.vec[0]+self.vec[3])/sp.sqrt(2))#.simplify()\n",
    "            vec_m=((self.vec[0]-self.vec[3])/sp.sqrt(2))#.simplify()\n",
    "            self.vec=[vec_p,vec_m,self.vec[1],self.vec[2]]\n",
    "            self.rep='LC'\n",
    "\n",
    "    def norm(self):\n",
    "        return sp.sqrt(sum([self.vec[i]**2 for i in range(1,4)]))#.simplify()\n",
    "        \n",
    "    def uvec(self):\n",
    "        dum=Vec('dum','MC')\n",
    "        dum.set_E(sp.S(0))\n",
    "        norm=self.norm()\n",
    "        dum.vec[1:]=[self.vec[i]/norm for i in range(1,len(self.vec))]\n",
    "        return dum\n",
    "    \n",
    "    def get_mass(self):\n",
    "        if self.rep=='MC':\n",
    "            return sp.sqrt(self.vec[0]**2-self.norm()**2)\n",
    "        elif self.rep=='LC':\n",
    "            return sp.sqrt(2*self.vec[0]*self.vec[1]-self.vec[2]**2-self.vec[3]**2)\n",
    "\n",
    "    def get_sqmass(self):\n",
    "        if self.rep=='MC':\n",
    "            return self.vec[0]**2-self.norm()**2\n",
    "        elif self.rep=='LC':\n",
    "            return 2*self.vec[0]*self.vec[1]-self.vec[2]**2-self.vec[3]**2\n",
    "\n",
    "    @staticmethod\n",
    "    def dot3(A,B):\n",
    "        return sum([A.vec[i]*B.vec[i] for i in range(1,4)])\n",
    "    \n",
    "    @staticmethod\n",
    "    def cross(A,B):\n",
    "        dum=Vec('dum','MC')\n",
    "        dum.set_E(sp.S(0))\n",
    "        x= A.vec[2]*B.vec[3]-A.vec[3]*B.vec[2]\n",
    "        y=-A.vec[1]*B.vec[3]+A.vec[3]*B.vec[1]\n",
    "        z= A.vec[1]*B.vec[2]-A.vec[2]*B.vec[1]\n",
    "        dum.vec[1:]=[x,y,z]\n",
    "        return dum\n",
    "    \n",
    "    def simplify_vec(self):\n",
    "        for i in range(4):\n",
    "            self.vec[i]=self.vec[i].simplify()\n",
    "\n",
    "    def subs_vec(self,A,B):\n",
    "        for i in range(4):\n",
    "            self.vec[i]=self.vec[i].subs(A,B)\n",
    "\n",
    "    \n",
    "    def rotate(self,K,cos,sin):\n",
    "        #--rootate around K \n",
    "        dum=Vec('dum','MC')\n",
    "        UK=K.uvec()\n",
    "        dum.vec[1:]=(self*cos+self.cross(UK,self)*sin+UK*(self.dot3(UK,self)*(1-cos))).vec[1:]\n",
    "        dum.vec[0]=self.vec[0]\n",
    "        return dum\n",
    "        \n",
    "    def get_cos(self,K):\n",
    "        #--get cos along K\n",
    "        UK=K.uvec()\n",
    "        UV=self.uvec()\n",
    "        return self.dot3(UV,UK)\n",
    "    \n",
    "    def get_sin(self,K):\n",
    "        #--get sin along K\n",
    "        UK=K.uvec()\n",
    "        UV=self.uvec()\n",
    "        return self.cross(UV,UK).norm()\n",
    "        \n",
    "    @staticmethod\n",
    "    def get_boost_CS(A,bA):\n",
    "        #--get cosh and sinsh for A -> boosted A (bA)\n",
    "        #--A and bA are 2D vectors 0: energy, 1: momentum along boost dir\n",
    "        cosh=(bA[1]*A[1]-bA[0]*A[0])/(A[1]**2-A[0]**2)\n",
    "        if A[1]==0: sinh=(bA[1]-cosh*A[1])/A[0]\n",
    "        else:       sinh=(bA[0]-cosh*A[0])/A[1]\n",
    "        return cosh,sinh\n",
    "        \n",
    "    def boost(self,V,C=None,S=None):\n",
    "        \n",
    "        if C==None and S==None:\n",
    "            #--boost to rest frame of V\n",
    "            E=V.vec[0]\n",
    "            P=V.norm()\n",
    "            M=V.get_mass()\n",
    "            C,S=self.get_boost_CS([E,P],[M,0])\n",
    "            \n",
    "        UV=V.uvec()\n",
    "        par=self.dot3(self,UV)*UV\n",
    "        per=self-par\n",
    "        E=self.vec[0]\n",
    "        npar=self.dot3(self,UV)#par.norm()\n",
    "        #npar=par.norm()\n",
    "        bE  =(C*E + S*npar)#.simplify()\n",
    "        bpar=(S*E + C*npar)#.simplify()\n",
    "        new=per+bpar*UV\n",
    "        new.vec[0]=bE\n",
    "        return new\n",
    "        "
   ]
  },
  {
   "cell_type": "code",
   "execution_count": 3,
   "metadata": {},
   "outputs": [],
   "source": [
    "def get_massless(exp,replace=[],n=3):\n",
    "    if len(replace)>0:\n",
    "        for _ in replace:\n",
    "            A,B=_\n",
    "            exp=exp.subs(A,B)\n",
    "    exp=exp.subs(Q,1/eps)        \n",
    "    return sp.series(exp,eps,0,n=n).subs(eps,1/Q).removeO()"
   ]
  },
  {
   "cell_type": "code",
   "execution_count": 4,
   "metadata": {},
   "outputs": [],
   "source": [
    "xb=sp.symbols('x_bj',positive = True, real = True)\n",
    "xN=sp.symbols('x_N',positive = True, real = True)\n",
    "zh=sp.symbols('z_h',positive = True, real = True)\n",
    "zN=sp.symbols('z_N',positive = True, real = True)\n",
    "Q=sp.symbols('Q',positive = True, real = True)\n",
    "M=sp.symbols('M',positive = True, real = True)\n",
    "Mh=sp.symbols('M_h',positive = True, real = True)\n",
    "MhT=sp.symbols('M_hT',positive = True, real = True)\n",
    "qt=sp.S('q_t')\n",
    "eps=sp.S('epsilon')"
   ]
  },
  {
   "cell_type": "markdown",
   "metadata": {},
   "source": [
    "# SECTION III"
   ]
  },
  {
   "cell_type": "markdown",
   "metadata": {},
   "source": [
    "## Eq.18"
   ]
  },
  {
   "cell_type": "code",
   "execution_count": 5,
   "metadata": {},
   "outputs": [],
   "source": [
    "H=Vec('H','LC',theta=0)\n",
    "q=Vec('q','LC',mod=[1,1,0,0],theta=0)\n",
    "P=Vec('P','LC',mod=[1,1,0,0],theta=0)\n",
    "T=Vec('T',theta=0,mod=[0,0,1,1])\n",
    "q.set_plus(-Q/sp.sqrt(2))\n",
    "q.set_minus(Q/sp.sqrt(2))\n",
    "P.set_plus(Q/xN/sp.sqrt(2))\n",
    "P.set_minus(xN*M**2/sp.sqrt(2)/Q)\n",
    "#H.set_minus(zN*q.vec[1])\n",
    "#H.set_perp((-zN*T).vec[2:])\n",
    "H.change_plus(Mh)"
   ]
  },
  {
   "cell_type": "code",
   "execution_count": 6,
   "metadata": {},
   "outputs": [
    {
     "data": {
      "image/png": "[encoded data removed]",
      "text/latex": [
       "$$\\left [ \\frac{\\frac{H_{t}^{2}}{2} + \\frac{M_{h}^{2}}{2}}{H_{m}}, \\quad H_{m}, \\quad H_{t}, \\quad 0\\right ]$$"
      ],
      "text/plain": [
       "⎡   2      2             ⎤\n",
       "⎢H_t    M_h              ⎥\n",
       "⎢──── + ────             ⎥\n",
       "⎢ 2      2               ⎥\n",
       "⎢───────────, H_m, H_t, 0⎥\n",
       "⎣    H_m                 ⎦"
      ]
     },
     "execution_count": 6,
     "metadata": {},
     "output_type": "execute_result"
    }
   ],
   "source": [
    "H.vec"
   ]
  },
  {
   "cell_type": "code",
   "execution_count": 7,
   "metadata": {},
   "outputs": [
    {
     "data": {
      "image/png": "[encoded data removed]",
      "text/latex": [
       "$$\\left [ - \\frac{\\sqrt{2} Q}{2}, \\quad \\frac{\\sqrt{2} Q}{2}, \\quad 0, \\quad 0\\right ]$$"
      ],
      "text/plain": [
       "⎡-√2⋅Q   √2⋅Q      ⎤\n",
       "⎢──────, ────, 0, 0⎥\n",
       "⎣  2      2        ⎦"
      ]
     },
     "execution_count": 7,
     "metadata": {},
     "output_type": "execute_result"
    }
   ],
   "source": [
    "q.vec"
   ]
  },
  {
   "cell_type": "code",
   "execution_count": 8,
   "metadata": {},
   "outputs": [
    {
     "data": {
      "image/png": "[encoded data removed]",
      "text/latex": [
       "$$\\left [ \\frac{\\sqrt{2} Q}{2 x_{N}}, \\quad \\frac{\\sqrt{2} M^{2} x_{N}}{2 Q}, \\quad 0, \\quad 0\\right ]$$"
      ],
      "text/plain": [
       "⎡           2          ⎤\n",
       "⎢ √2⋅Q  √2⋅M ⋅x_N      ⎥\n",
       "⎢─────, ─────────, 0, 0⎥\n",
       "⎣2⋅x_N     2⋅Q         ⎦"
      ]
     },
     "execution_count": 8,
     "metadata": {},
     "output_type": "execute_result"
    }
   ],
   "source": [
    "P.vec"
   ]
  },
  {
   "cell_type": "code",
   "execution_count": 9,
   "metadata": {},
   "outputs": [],
   "source": [
    "sol=sp.solve(zh-2*xb*(P*H)/Q**2,H.m)"
   ]
  },
  {
   "cell_type": "code",
   "execution_count": 10,
   "metadata": {},
   "outputs": [
    {
     "data": {
      "image/png": "[encoded data removed]",
      "text/latex": [
       "$$\\left [ \\frac{\\sqrt{2} x_{N} \\left(Q^{2} z_{h} - \\sqrt{- 4 H_{t}^{2} M^{2} x_{bj}^{2} - 4 M^{2} M_{h}^{2} x_{bj}^{2} + Q^{4} z_{h}^{2}}\\right)}{4 Q x_{bj}}, \\quad \\frac{\\sqrt{2} x_{N} \\left(Q^{2} z_{h} + \\sqrt{- 4 H_{t}^{2} M^{2} x_{bj}^{2} - 4 M^{2} M_{h}^{2} x_{bj}^{2} + Q^{4} z_{h}^{2}}\\right)}{4 Q x_{bj}}\\right ]$$"
      ],
      "text/plain": [
       "⎡       ⎛            _______________________________________________⎞         \n",
       "⎢       ⎜ 2         ╱        2  2     2      2    2     2    4    2 ⎟         \n",
       "⎢√2⋅x_N⋅⎝Q ⋅z_h - ╲╱  - 4⋅H_t ⋅M ⋅x_bj  - 4⋅M ⋅M_h ⋅x_bj  + Q ⋅z_h  ⎠  √2⋅x_N⋅\n",
       "⎢────────────────────────────────────────────────────────────────────, ───────\n",
       "⎣                              4⋅Q⋅x_bj                                       \n",
       "\n",
       "⎛            _______________________________________________⎞⎤\n",
       "⎜ 2         ╱        2  2     2      2    2     2    4    2 ⎟⎥\n",
       "⎝Q ⋅z_h + ╲╱  - 4⋅H_t ⋅M ⋅x_bj  - 4⋅M ⋅M_h ⋅x_bj  + Q ⋅z_h  ⎠⎥\n",
       "─────────────────────────────────────────────────────────────⎥\n",
       "                       4⋅Q⋅x_bj                              ⎦"
      ]
     },
     "execution_count": 10,
     "metadata": {},
     "output_type": "execute_result"
    }
   ],
   "source": [
    "[_.simplify() for _ in sol]"
   ]
  },
  {
   "cell_type": "code",
   "execution_count": 11,
   "metadata": {},
   "outputs": [
    {
     "data": {
      "image/png": "[encoded data removed]",
      "text/latex": [
       "$$\\left [ 0, \\quad \\frac{Q^{2} z_{h}}{2 P_{p} x_{bj}}\\right ]$$"
      ],
      "text/plain": [
       "⎡      2      ⎤\n",
       "⎢     Q ⋅z_h  ⎥\n",
       "⎢0, ──────────⎥\n",
       "⎣   2⋅P_p⋅x_bj⎦"
      ]
     },
     "execution_count": 11,
     "metadata": {},
     "output_type": "execute_result"
    }
   ],
   "source": [
    "[get_massless(_).simplify()*P.vec[0]/P.p for _ in sol]"
   ]
  },
  {
   "cell_type": "markdown",
   "metadata": {},
   "source": [
    "# SECTION V"
   ]
  },
  {
   "cell_type": "markdown",
   "metadata": {},
   "source": [
    "## Eq.30"
   ]
  },
  {
   "cell_type": "code",
   "execution_count": 12,
   "metadata": {},
   "outputs": [],
   "source": [
    "H=Vec('H','LC',theta=0)\n",
    "q=Vec('q','LC',mod=[1,1,0,0],theta=0)\n",
    "P=Vec('P','LC',mod=[1,1,0,0],theta=0)\n",
    "T=Vec('T',theta=0,mod=[0,0,1,1])\n",
    "q.set_plus(-Q/sp.sqrt(2))\n",
    "q.set_minus(Q/sp.sqrt(2))\n",
    "P.set_plus(Q/xN/sp.sqrt(2))\n",
    "P.set_minus(xN*M**2/sp.sqrt(2)/Q)\n",
    "H.set_minus(zN*q.vec[1])\n",
    "H.set_perp((-zN*T).vec[2:])\n",
    "H.change_plus(Mh)"
   ]
  },
  {
   "cell_type": "code",
   "execution_count": 13,
   "metadata": {},
   "outputs": [],
   "source": [
    "sol=sp.solve(zh-2*xb*(P*H)/Q**2,zN)"
   ]
  },
  {
   "cell_type": "code",
   "execution_count": 14,
   "metadata": {},
   "outputs": [
    {
     "data": {
      "image/png": "[encoded data removed]",
      "text/latex": [
       "$$\\left [ \\frac{x_{N} \\left(Q^{4} z_{h} - \\sqrt{- 4 M^{4} M_{h}^{2} T_{t}^{2} x_{N}^{2} x_{bj}^{2} - 4 M^{2} M_{h}^{2} Q^{4} x_{bj}^{2} + Q^{8} z_{h}^{2}}\\right)}{2 x_{bj} \\left(M^{2} T_{t}^{2} x_{N}^{2} + Q^{4}\\right)}, \\quad \\frac{x_{N} \\left(Q^{4} z_{h} + \\sqrt{- 4 M^{4} M_{h}^{2} T_{t}^{2} x_{N}^{2} x_{bj}^{2} - 4 M^{2} M_{h}^{2} Q^{4} x_{bj}^{2} + Q^{8} z_{h}^{2}}\\right)}{2 x_{bj} \\left(M^{2} T_{t}^{2} x_{N}^{2} + Q^{4}\\right)}\\right ]$$"
      ],
      "text/plain": [
       "⎡    ⎛            ____________________________________________________________\n",
       "⎢    ⎜ 4         ╱      4    2    2    2     2      2    2  4     2    8    2 \n",
       "⎢x_N⋅⎝Q ⋅z_h - ╲╱  - 4⋅M ⋅M_h ⋅T_t ⋅x_N ⋅x_bj  - 4⋅M ⋅M_h ⋅Q ⋅x_bj  + Q ⋅z_h  \n",
       "⎢─────────────────────────────────────────────────────────────────────────────\n",
       "⎢                                 ⎛ 2    2    2    4⎞                         \n",
       "⎣                          2⋅x_bj⋅⎝M ⋅T_t ⋅x_N  + Q ⎠                         \n",
       "\n",
       "⎞      ⎛            __________________________________________________________\n",
       "⎟      ⎜ 4         ╱      4    2    2    2     2      2    2  4     2    8    \n",
       "⎠  x_N⋅⎝Q ⋅z_h + ╲╱  - 4⋅M ⋅M_h ⋅T_t ⋅x_N ⋅x_bj  - 4⋅M ⋅M_h ⋅Q ⋅x_bj  + Q ⋅z_h\n",
       "─, ───────────────────────────────────────────────────────────────────────────\n",
       "                                    ⎛ 2    2    2    4⎞                       \n",
       "                             2⋅x_bj⋅⎝M ⋅T_t ⋅x_N  + Q ⎠                       \n",
       "\n",
       "__⎞⎤\n",
       "2 ⎟⎥\n",
       "  ⎠⎥\n",
       "───⎥\n",
       "   ⎥\n",
       "   ⎦"
      ]
     },
     "execution_count": 14,
     "metadata": {},
     "output_type": "execute_result"
    }
   ],
   "source": [
    "[_.simplify() for _ in sol]"
   ]
  },
  {
   "cell_type": "code",
   "execution_count": 15,
   "metadata": {},
   "outputs": [
    {
     "data": {
      "image/png": "[encoded data removed]",
      "text/latex": [
       "$$\\left [ \\frac{M^{2} M_{h}^{2} x_{N} x_{bj}}{Q^{4} z_{h}}, \\quad - \\frac{M^{2} M_{h}^{2} x_{N} x_{bj}}{Q^{4} z_{h}} + \\frac{x_{N} z_{h}}{x_{bj}}\\right ]$$"
      ],
      "text/plain": [
       "⎡ 2    2              2    2                   ⎤\n",
       "⎢M ⋅M_h ⋅x_N⋅x_bj    M ⋅M_h ⋅x_N⋅x_bj   x_N⋅z_h⎥\n",
       "⎢────────────────, - ──────────────── + ───────⎥\n",
       "⎢      4                   4              x_bj ⎥\n",
       "⎣     Q ⋅z_h              Q ⋅z_h               ⎦"
      ]
     },
     "execution_count": 15,
     "metadata": {},
     "output_type": "execute_result"
    }
   ],
   "source": [
    "[get_massless(_,n=5) for _ in sol]"
   ]
  },
  {
   "cell_type": "markdown",
   "metadata": {},
   "source": [
    "## Eq. 32-34"
   ]
  },
  {
   "cell_type": "markdown",
   "metadata": {},
   "source": [
    "## from breit frame to hadron frame via   B->R->B"
   ]
  },
  {
   "cell_type": "code",
   "execution_count": 16,
   "metadata": {},
   "outputs": [],
   "source": [
    "H=Vec('H',theta=0)\n",
    "q=Vec('q',mod=[0,0,0,1],theta=0)\n",
    "P=Vec('P',mod=[1,0,0,1],theta=0)\n",
    "V=Vec('V',theta=0)\n",
    "T=Vec('T',theta=0,mod=[0,0,1,1])\n",
    "\n",
    "q.set_plus(-Q/sp.sqrt(2))\n",
    "q.set_minus(Q/sp.sqrt(2))\n",
    "P.set_plus(Q/xN/sp.sqrt(2))\n",
    "P.set_minus(xN*M**2/sp.sqrt(2)/Q)\n",
    "H.set_minus(zN*q.vec[1])\n",
    "H.set_perp((-zN*T).vec[2:])\n",
    "H.change_plus(Mh)"
   ]
  },
  {
   "cell_type": "code",
   "execution_count": 17,
   "metadata": {},
   "outputs": [],
   "source": [
    "T.LC2MC()\n",
    "H.LC2MC()\n",
    "q.LC2MC()\n",
    "P.LC2MC()\n",
    "V.LC2MC()\n",
    "\n",
    "T.simplify_vec()\n",
    "H.simplify_vec()\n",
    "q.simplify_vec()\n",
    "P.simplify_vec()\n",
    "V.simplify_vec()"
   ]
  },
  {
   "cell_type": "code",
   "execution_count": 18,
   "metadata": {},
   "outputs": [
    {
     "data": {
      "image/png": "[encoded data removed]",
      "text/latex": [
       "$$\\left [ \\frac{M_{h}^{2} + Q^{2} z_{N}^{2} + T_{t}^{2} z_{N}^{2}}{2 Q z_{N}}, \\quad - T_{t} z_{N}, \\quad 0, \\quad \\frac{M_{h}^{2} - Q^{2} z_{N}^{2} + T_{t}^{2} z_{N}^{2}}{2 Q z_{N}}\\right ]$$"
      ],
      "text/plain": [
       "⎡   2    2    2      2    2                  2    2    2      2    2⎤\n",
       "⎢M_h  + Q ⋅z_N  + T_t ⋅z_N                M_h  - Q ⋅z_N  + T_t ⋅z_N ⎥\n",
       "⎢──────────────────────────, -T_t⋅z_N, 0, ──────────────────────────⎥\n",
       "⎣         2⋅Q⋅z_N                                  2⋅Q⋅z_N          ⎦"
      ]
     },
     "execution_count": 18,
     "metadata": {},
     "output_type": "execute_result"
    }
   ],
   "source": [
    "H.vec"
   ]
  },
  {
   "cell_type": "code",
   "execution_count": 19,
   "metadata": {},
   "outputs": [
    {
     "data": {
      "image/png": "[encoded data removed]",
      "text/latex": [
       "$$\\left [ 0, \\quad 0, \\quad 0, \\quad - Q\\right ]$$"
      ],
      "text/plain": [
       "[0, 0, 0, -Q]"
      ]
     },
     "execution_count": 19,
     "metadata": {},
     "output_type": "execute_result"
    }
   ],
   "source": [
    "q.vec"
   ]
  },
  {
   "cell_type": "code",
   "execution_count": 20,
   "metadata": {},
   "outputs": [
    {
     "data": {
      "image/png": "[encoded data removed]",
      "text/latex": [
       "$$\\left [ \\frac{M^{2} x_{N}}{2 Q} + \\frac{Q}{2 x_{N}}, \\quad 0, \\quad 0, \\quad - \\frac{M^{2} x_{N}}{2 Q} + \\frac{Q}{2 x_{N}}\\right ]$$"
      ],
      "text/plain": [
       "⎡ 2                       2            ⎤\n",
       "⎢M ⋅x_N     Q            M ⋅x_N     Q  ⎥\n",
       "⎢────── + ─────, 0, 0, - ────── + ─────⎥\n",
       "⎣ 2⋅Q     2⋅x_N           2⋅Q     2⋅x_N⎦"
      ]
     },
     "execution_count": 20,
     "metadata": {},
     "output_type": "execute_result"
    }
   ],
   "source": [
    "P.vec"
   ]
  },
  {
   "cell_type": "code",
   "execution_count": 21,
   "metadata": {},
   "outputs": [
    {
     "data": {
      "image/png": "[encoded data removed]",
      "text/latex": [
       "$$\\left [ \\frac{\\sqrt{2} \\left(V_{m} + V_{p}\\right)}{2}, \\quad V_{t}, \\quad 0, \\quad \\frac{\\sqrt{2} \\left(- V_{m} + V_{p}\\right)}{2}\\right ]$$"
      ],
      "text/plain": [
       "⎡√2⋅(V_m + V_p)          √2⋅(-V_m + V_p)⎤\n",
       "⎢──────────────, V_t, 0, ───────────────⎥\n",
       "⎣      2                        2       ⎦"
      ]
     },
     "execution_count": 21,
     "metadata": {},
     "output_type": "execute_result"
    }
   ],
   "source": [
    "V.vec"
   ]
  },
  {
   "cell_type": "code",
   "execution_count": 22,
   "metadata": {},
   "outputs": [
    {
     "data": {
      "image/png": "[encoded data removed]",
      "text/latex": [
       "$$\\sqrt{2 V_{m} V_{p} - V_{t}^{2}}$$"
      ],
      "text/plain": [
       "   __________________\n",
       "  ╱                2 \n",
       "╲╱  2⋅V_m⋅V_p - V_t  "
      ]
     },
     "execution_count": 22,
     "metadata": {},
     "output_type": "execute_result"
    }
   ],
   "source": [
    "V.get_mass().simplify()"
   ]
  },
  {
   "cell_type": "markdown",
   "metadata": {},
   "source": [
    "## boost"
   ]
  },
  {
   "cell_type": "code",
   "execution_count": 23,
   "metadata": {},
   "outputs": [],
   "source": [
    "bP=P.boost(P)\n",
    "bH=H.boost(P)\n",
    "bq=q.boost(P)\n",
    "bV=V.boost(P)\n",
    "\n",
    "\n",
    "bP.simplify_vec()\n",
    "bH.simplify_vec()\n",
    "bq.simplify_vec()\n",
    "bV.simplify_vec()"
   ]
  },
  {
   "cell_type": "code",
   "execution_count": 24,
   "metadata": {},
   "outputs": [
    {
     "data": {
      "image/png": "[encoded data removed]",
      "text/latex": [
       "$$\\left [ M, \\quad 0, \\quad 0, \\quad 0\\right ]$$"
      ],
      "text/plain": [
       "[M, 0, 0, 0]"
      ]
     },
     "execution_count": 24,
     "metadata": {},
     "output_type": "execute_result"
    }
   ],
   "source": [
    "bP.vec"
   ]
  },
  {
   "cell_type": "code",
   "execution_count": 25,
   "metadata": {},
   "outputs": [
    {
     "data": {
      "image/png": "[encoded data removed]",
      "text/latex": [
       "$$\\left [ \\frac{M M_{h}^{2} x_{N}}{2 Q^{2} z_{N}} + \\frac{M T_{t}^{2} x_{N} z_{N}}{2 Q^{2}} + \\frac{Q^{2} z_{N}}{2 M x_{N}}, \\quad - T_{t} z_{N}, \\quad 0, \\quad \\frac{M M_{h}^{2} x_{N}}{2 Q^{2} z_{N}} + \\frac{M T_{t}^{2} x_{N} z_{N}}{2 Q^{2}} - \\frac{Q^{2} z_{N}}{2 M x_{N}}\\right ]$$"
      ],
      "text/plain": [
       "⎡     2            2             2                        2            2      \n",
       "⎢M⋅M_h ⋅x_N   M⋅T_t ⋅x_N⋅z_N    Q ⋅z_N               M⋅M_h ⋅x_N   M⋅T_t ⋅x_N⋅z\n",
       "⎢────────── + ────────────── + ───────, -T_t⋅z_N, 0, ────────── + ────────────\n",
       "⎢    2                2        2⋅M⋅x_N                   2                2   \n",
       "⎣ 2⋅Q ⋅z_N         2⋅Q                                2⋅Q ⋅z_N         2⋅Q    \n",
       "\n",
       "       2    ⎤\n",
       "_N    Q ⋅z_N⎥\n",
       "── - ───────⎥\n",
       "     2⋅M⋅x_N⎥\n",
       "            ⎦"
      ]
     },
     "execution_count": 25,
     "metadata": {},
     "output_type": "execute_result"
    }
   ],
   "source": [
    "bH.vec"
   ]
  },
  {
   "cell_type": "code",
   "execution_count": 26,
   "metadata": {},
   "outputs": [
    {
     "data": {
      "image/png": "[encoded data removed]",
      "text/latex": [
       "$$M_{h}^{2}$$"
      ],
      "text/plain": [
       "   2\n",
       "M_h "
      ]
     },
     "execution_count": 26,
     "metadata": {},
     "output_type": "execute_result"
    }
   ],
   "source": [
    "(bH.get_mass()**2).simplify()"
   ]
  },
  {
   "cell_type": "code",
   "execution_count": 27,
   "metadata": {},
   "outputs": [
    {
     "data": {
      "image/png": "[encoded data removed]",
      "text/latex": [
       "$$\\left [ \\frac{\\sqrt{2} \\left(M^{2} V_{p} x_{N}^{2} + Q^{2} V_{m}\\right)}{2 M Q x_{N}}, \\quad V_{t}, \\quad 0, \\quad \\frac{\\sqrt{2} \\left(M^{2} V_{p} x_{N}^{2} - Q^{2} V_{m}\\right)}{2 M Q x_{N}}\\right ]$$"
      ],
      "text/plain": [
       "⎡   ⎛ 2        2    2    ⎞             ⎛ 2        2    2    ⎞⎤\n",
       "⎢√2⋅⎝M ⋅V_p⋅x_N  + Q ⋅V_m⎠          √2⋅⎝M ⋅V_p⋅x_N  - Q ⋅V_m⎠⎥\n",
       "⎢─────────────────────────, V_t, 0, ─────────────────────────⎥\n",
       "⎣        2⋅M⋅Q⋅x_N                          2⋅M⋅Q⋅x_N        ⎦"
      ]
     },
     "execution_count": 27,
     "metadata": {},
     "output_type": "execute_result"
    }
   ],
   "source": [
    "bV.vec"
   ]
  },
  {
   "cell_type": "code",
   "execution_count": 28,
   "metadata": {},
   "outputs": [
    {
     "data": {
      "image/png": "[encoded data removed]",
      "text/latex": [
       "$$2 V_{m} V_{p} - V_{t}^{2}$$"
      ],
      "text/plain": [
       "               2\n",
       "2⋅V_m⋅V_p - V_t "
      ]
     },
     "execution_count": 28,
     "metadata": {},
     "output_type": "execute_result"
    }
   ],
   "source": [
    "(bV.get_mass()**2).simplify()"
   ]
  },
  {
   "cell_type": "code",
   "execution_count": 29,
   "metadata": {},
   "outputs": [
    {
     "data": {
      "image/png": "[encoded data removed]",
      "text/latex": [
       "$$\\left [ - \\frac{M x_{N}}{2} + \\frac{Q^{2}}{2 M x_{N}}, \\quad 0, \\quad 0, \\quad - \\frac{M x_{N}}{2} - \\frac{Q^{2}}{2 M x_{N}}\\right ]$$"
      ],
      "text/plain": [
       "⎡              2                        2  ⎤\n",
       "⎢  M⋅x_N      Q             M⋅x_N      Q   ⎥\n",
       "⎢- ───── + ───────, 0, 0, - ───── - ───────⎥\n",
       "⎣    2     2⋅M⋅x_N            2     2⋅M⋅x_N⎦"
      ]
     },
     "execution_count": 29,
     "metadata": {},
     "output_type": "execute_result"
    }
   ],
   "source": [
    "bq.vec"
   ]
  },
  {
   "cell_type": "code",
   "execution_count": 30,
   "metadata": {},
   "outputs": [
    {
     "data": {
      "image/png": "[encoded data removed]",
      "text/latex": [
       "$$- Q^{2}$$"
      ],
      "text/plain": [
       "  2\n",
       "-Q "
      ]
     },
     "execution_count": 30,
     "metadata": {},
     "output_type": "execute_result"
    }
   ],
   "source": [
    "(bq.get_mass()**2).simplify()"
   ]
  },
  {
   "cell_type": "markdown",
   "metadata": {},
   "source": [
    "## rotation"
   ]
  },
  {
   "cell_type": "code",
   "execution_count": 31,
   "metadata": {},
   "outputs": [
    {
     "data": {
      "image/png": "[encoded data removed]",
      "text/latex": [
       "$$\\left [ 0, \\quad 0, \\quad - T_{t} z_{N}, \\quad 0\\right ]$$"
      ],
      "text/plain": [
       "[0, 0, -T_t⋅z_N, 0]"
      ]
     },
     "execution_count": 31,
     "metadata": {},
     "output_type": "execute_result"
    }
   ],
   "source": [
    "Z=Vec('Z','MC',[0,0,0,1])\n",
    "Z.set_z(-1)\n",
    "cos=bH.get_cos(Z).simplify()\n",
    "sin=bH.get_sin(Z).simplify()\n",
    "N=Vec.cross(bH,Z)\n",
    "N.vec"
   ]
  },
  {
   "cell_type": "code",
   "execution_count": 32,
   "metadata": {},
   "outputs": [
    {
     "data": {
      "image/png": "[encoded data removed]",
      "text/latex": [
       "$$\\frac{- M^{2} M_{h}^{2} x_{N}^{2} - M^{2} T_{t}^{2} x_{N}^{2} z_{N}^{2} + Q^{4} z_{N}^{2}}{\\sqrt{4 M^{2} Q^{4} T_{t}^{2} x_{N}^{2} z_{N}^{4} + \\left(M^{2} M_{h}^{2} x_{N}^{2} + M^{2} T_{t}^{2} x_{N}^{2} z_{N}^{2} - Q^{4} z_{N}^{2}\\right)^{2}}}$$"
      ],
      "text/plain": [
       "                   2    2    2    2    2    2    2    4    2                \n",
       "                - M ⋅M_h ⋅x_N  - M ⋅T_t ⋅x_N ⋅z_N  + Q ⋅z_N                 \n",
       "────────────────────────────────────────────────────────────────────────────\n",
       "    ________________________________________________________________________\n",
       "   ╱                                                                      2 \n",
       "  ╱     2  4    2    2    4   ⎛ 2    2    2    2    2    2    2    4    2⎞  \n",
       "╲╱   4⋅M ⋅Q ⋅T_t ⋅x_N ⋅z_N  + ⎝M ⋅M_h ⋅x_N  + M ⋅T_t ⋅x_N ⋅z_N  - Q ⋅z_N ⎠  "
      ]
     },
     "execution_count": 32,
     "metadata": {},
     "output_type": "execute_result"
    }
   ],
   "source": [
    "cos"
   ]
  },
  {
   "cell_type": "code",
   "execution_count": 33,
   "metadata": {},
   "outputs": [
    {
     "data": {
      "image/png": "[encoded data removed]",
      "text/latex": [
       "$$\\frac{2 M Q^{2} T_{t} x_{N} z_{N}^{2}}{\\sqrt{4 M^{2} Q^{4} T_{t}^{2} x_{N}^{2} z_{N}^{4} + \\left(M^{2} M_{h}^{2} x_{N}^{2} + M^{2} T_{t}^{2} x_{N}^{2} z_{N}^{2} - Q^{4} z_{N}^{2}\\right)^{2}}}$$"
      ],
      "text/plain": [
       "                                 2            2                             \n",
       "                            2⋅M⋅Q ⋅T_t⋅x_N⋅z_N                              \n",
       "────────────────────────────────────────────────────────────────────────────\n",
       "    ________________________________________________________________________\n",
       "   ╱                                                                      2 \n",
       "  ╱     2  4    2    2    4   ⎛ 2    2    2    2    2    2    2    4    2⎞  \n",
       "╲╱   4⋅M ⋅Q ⋅T_t ⋅x_N ⋅z_N  + ⎝M ⋅M_h ⋅x_N  + M ⋅T_t ⋅x_N ⋅z_N  - Q ⋅z_N ⎠  "
      ]
     },
     "execution_count": 33,
     "metadata": {},
     "output_type": "execute_result"
    }
   ],
   "source": [
    "sin"
   ]
  },
  {
   "cell_type": "code",
   "execution_count": 34,
   "metadata": {},
   "outputs": [
    {
     "data": {
      "image/png": "[encoded data removed]",
      "text/latex": [
       "$$\\sqrt{4 M^{2} Q^{4} T_{t}^{2} x_{N}^{2} z_{N}^{4} + \\left(M^{2} M_{h}^{2} x_{N}^{2} + M^{2} T_{t}^{2} x_{N}^{2} z_{N}^{2} - Q^{4} z_{N}^{2}\\right)^{2}}$$"
      ],
      "text/plain": [
       "    ________________________________________________________________________\n",
       "   ╱                                                                      2 \n",
       "  ╱     2  4    2    2    4   ⎛ 2    2    2    2    2    2    2    4    2⎞  \n",
       "╲╱   4⋅M ⋅Q ⋅T_t ⋅x_N ⋅z_N  + ⎝M ⋅M_h ⋅x_N  + M ⋅T_t ⋅x_N ⋅z_N  - Q ⋅z_N ⎠  "
      ]
     },
     "execution_count": 34,
     "metadata": {},
     "output_type": "execute_result"
    }
   ],
   "source": [
    "kappa1=sp.symbols('kappa1',positive = True, real = True)\n",
    "kappa1_val=sp.denom(cos)\n",
    "kappa1_val"
   ]
  },
  {
   "cell_type": "code",
   "execution_count": 35,
   "metadata": {},
   "outputs": [],
   "source": [
    "rbP=bP.rotate(N,cos,sin)\n",
    "rbH=bH.rotate(N,cos,sin)\n",
    "rbq=bq.rotate(N,cos,sin)\n",
    "rbV=bV.rotate(N,cos,sin)\n",
    "\n",
    "rbP.simplify_vec()\n",
    "rbH.simplify_vec()\n",
    "rbq.simplify_vec()\n",
    "rbV.simplify_vec()"
   ]
  },
  {
   "cell_type": "code",
   "execution_count": 36,
   "metadata": {},
   "outputs": [
    {
     "data": {
      "image/png": "[encoded data removed]",
      "text/latex": [
       "$$\\left [ M, \\quad 0, \\quad 0, \\quad 0\\right ]$$"
      ],
      "text/plain": [
       "[M, 0, 0, 0]"
      ]
     },
     "execution_count": 36,
     "metadata": {},
     "output_type": "execute_result"
    }
   ],
   "source": [
    "rbP.vec"
   ]
  },
  {
   "cell_type": "code",
   "execution_count": 37,
   "metadata": {},
   "outputs": [
    {
     "data": {
      "image/png": "[encoded data removed]",
      "text/latex": [
       "$$\\left [ \\frac{M M_{h}^{2} x_{N}}{2 Q^{2} z_{N}} + \\frac{M T_{t}^{2} x_{N} z_{N}}{2 Q^{2}} + \\frac{Q^{2} z_{N}}{2 M x_{N}}, \\quad 0, \\quad 0, \\quad - \\frac{\\sqrt{M^{4} M_{h}^{4} x_{N}^{4} + 2 M^{4} M_{h}^{2} T_{t}^{2} x_{N}^{4} z_{N}^{2} + M^{4} T_{t}^{4} x_{N}^{4} z_{N}^{4} - 2 M^{2} M_{h}^{2} Q^{4} x_{N}^{2} z_{N}^{2} + 2 M^{2} Q^{4} T_{t}^{2} x_{N}^{2} z_{N}^{4} + Q^{8} z_{N}^{4}}}{2 M Q^{2} x_{N} z_{N}}\\right ]$$"
      ],
      "text/plain": [
       "⎡                                                 ____________________________\n",
       "⎢     2            2             2               ╱  4    4    4      4    2   \n",
       "⎢M⋅M_h ⋅x_N   M⋅T_t ⋅x_N⋅z_N    Q ⋅z_N        -╲╱  M ⋅M_h ⋅x_N  + 2⋅M ⋅M_h ⋅T_\n",
       "⎢────────── + ────────────── + ───────, 0, 0, ────────────────────────────────\n",
       "⎢    2                2        2⋅M⋅x_N                                        \n",
       "⎣ 2⋅Q ⋅z_N         2⋅Q                                                        \n",
       "\n",
       "______________________________________________________________________________\n",
       " 2    4    2    4    4    4    4      2    2  4    2    2      2  4    2    2 \n",
       "t ⋅x_N ⋅z_N  + M ⋅T_t ⋅x_N ⋅z_N  - 2⋅M ⋅M_h ⋅Q ⋅x_N ⋅z_N  + 2⋅M ⋅Q ⋅T_t ⋅x_N ⋅\n",
       "──────────────────────────────────────────────────────────────────────────────\n",
       "                             2                                                \n",
       "                        2⋅M⋅Q ⋅x_N⋅z_N                                        \n",
       "\n",
       "_______________ ⎤\n",
       "   4    8    4  ⎥\n",
       "z_N  + Q ⋅z_N   ⎥\n",
       "────────────────⎥\n",
       "                ⎥\n",
       "                ⎦"
      ]
     },
     "execution_count": 37,
     "metadata": {},
     "output_type": "execute_result"
    }
   ],
   "source": [
    "rbH.vec"
   ]
  },
  {
   "cell_type": "code",
   "execution_count": 38,
   "metadata": {},
   "outputs": [
    {
     "data": {
      "image/png": "[encoded data removed]",
      "text/latex": [
       "$$\\left [ - \\frac{M x_{N}}{2} + \\frac{Q^{2}}{2 M x_{N}}, \\quad \\frac{Q^{2} T_{t} z_{N}^{2} \\left(M^{2} x_{N}^{2} + Q^{2}\\right)}{\\sqrt{4 M^{2} Q^{4} T_{t}^{2} x_{N}^{2} z_{N}^{4} + \\left(M^{2} M_{h}^{2} x_{N}^{2} + M^{2} T_{t}^{2} x_{N}^{2} z_{N}^{2} - Q^{4} z_{N}^{2}\\right)^{2}}}, \\quad 0, \\quad \\frac{\\left(M^{2} x_{N}^{2} + Q^{2}\\right) \\left(M^{2} M_{h}^{2} x_{N}^{2} + M^{2} T_{t}^{2} x_{N}^{2} z_{N}^{2} - Q^{4} z_{N}^{2}\\right)}{2 M x_{N} \\sqrt{4 M^{2} Q^{4} T_{t}^{2} x_{N}^{2} z_{N}^{4} + \\left(M^{2} M_{h}^{2} x_{N}^{2} + M^{2} T_{t}^{2} x_{N}^{2} z_{N}^{2} - Q^{4} z_{N}^{2}\\right)^{2}}}\\right ]$$"
      ],
      "text/plain": [
       "⎡              2                              2        2 ⎛ 2    2    2⎞       \n",
       "⎢  M⋅x_N      Q                              Q ⋅T_t⋅z_N ⋅⎝M ⋅x_N  + Q ⎠       \n",
       "⎢- ───── + ───────, ──────────────────────────────────────────────────────────\n",
       "⎢    2     2⋅M⋅x_N      ______________________________________________________\n",
       "⎢                      ╱                                                      \n",
       "⎢                     ╱     2  4    2    2    4   ⎛ 2    2    2    2    2    2\n",
       "⎣                   ╲╱   4⋅M ⋅Q ⋅T_t ⋅x_N ⋅z_N  + ⎝M ⋅M_h ⋅x_N  + M ⋅T_t ⋅x_N \n",
       "\n",
       "                                   ⎛ 2    2    2⎞ ⎛ 2    2    2    2    2    2\n",
       "                                   ⎝M ⋅x_N  + Q ⎠⋅⎝M ⋅M_h ⋅x_N  + M ⋅T_t ⋅x_N \n",
       "──────────────────, 0, ───────────────────────────────────────────────────────\n",
       "__________________                 ___________________________________________\n",
       "                2                 ╱                                           \n",
       "    2    4    2⎞                 ╱     2  4    2    2    4   ⎛ 2    2    2    \n",
       "⋅z_N  - Q ⋅z_N ⎠       2⋅M⋅x_N⋅╲╱   4⋅M ⋅Q ⋅T_t ⋅x_N ⋅z_N  + ⎝M ⋅M_h ⋅x_N  + M\n",
       "\n",
       "    2    4    2⎞             ⎤\n",
       "⋅z_N  - Q ⋅z_N ⎠             ⎥\n",
       "─────────────────────────────⎥\n",
       "_____________________________⎥\n",
       "                           2 ⎥\n",
       "2    2    2    2    4    2⎞  ⎥\n",
       " ⋅T_t ⋅x_N ⋅z_N  - Q ⋅z_N ⎠  ⎦"
      ]
     },
     "execution_count": 38,
     "metadata": {},
     "output_type": "execute_result"
    }
   ],
   "source": [
    "rbq.vec"
   ]
  },
  {
   "cell_type": "code",
   "execution_count": 39,
   "metadata": {},
   "outputs": [
    {
     "data": {
      "image/png": "[encoded data removed]",
      "text/latex": [
       "$$\\left [ \\frac{\\sqrt{2} \\left(M^{2} V_{p} x_{N}^{2} + Q^{2} V_{m}\\right)}{2 M Q x_{N}}, \\quad - \\frac{\\sqrt{2} Q T_{t} z_{N}^{2} \\left(M^{2} V_{p} x_{N}^{2} - Q^{2} V_{m}\\right) + V_{t} \\left(M^{2} M_{h}^{2} x_{N}^{2} + M^{2} T_{t}^{2} x_{N}^{2} z_{N}^{2} - Q^{4} z_{N}^{2}\\right)}{\\sqrt{4 M^{2} Q^{4} T_{t}^{2} x_{N}^{2} z_{N}^{4} + \\left(M^{2} M_{h}^{2} x_{N}^{2} + M^{2} T_{t}^{2} x_{N}^{2} z_{N}^{2} - Q^{4} z_{N}^{2}\\right)^{2}}}, \\quad 0, \\quad \\frac{4 M^{2} Q^{3} T_{t} V_{t} x_{N}^{2} z_{N}^{2} - \\sqrt{2} \\left(M^{2} V_{p} x_{N}^{2} - Q^{2} V_{m}\\right) \\left(M^{2} M_{h}^{2} x_{N}^{2} + M^{2} T_{t}^{2} x_{N}^{2} z_{N}^{2} - Q^{4} z_{N}^{2}\\right)}{2 M Q x_{N} \\sqrt{4 M^{2} Q^{4} T_{t}^{2} x_{N}^{2} z_{N}^{4} + \\left(M^{2} M_{h}^{2} x_{N}^{2} + M^{2} T_{t}^{2} x_{N}^{2} z_{N}^{2} - Q^{4} z_{N}^{2}\\right)^{2}}}\\right ]$$"
      ],
      "text/plain": [
       "⎡   ⎛ 2        2    2    ⎞   ⎛            2 ⎛ 2        2    2    ⎞       ⎛ 2  \n",
       "⎢√2⋅⎝M ⋅V_p⋅x_N  + Q ⋅V_m⎠  -⎝√2⋅Q⋅T_t⋅z_N ⋅⎝M ⋅V_p⋅x_N  - Q ⋅V_m⎠ + V_t⋅⎝M ⋅M\n",
       "⎢─────────────────────────, ──────────────────────────────────────────────────\n",
       "⎢        2⋅M⋅Q⋅x_N                      ______________________________________\n",
       "⎢                                      ╱                                      \n",
       "⎢                                     ╱     2  4    2    2    4   ⎛ 2    2    \n",
       "⎣                                   ╲╱   4⋅M ⋅Q ⋅T_t ⋅x_N ⋅z_N  + ⎝M ⋅M_h ⋅x_N\n",
       "\n",
       "  2    2    2    2    2    2    4    2⎞⎞         2  3            2    2      ⎛\n",
       "_h ⋅x_N  + M ⋅T_t ⋅x_N ⋅z_N  - Q ⋅z_N ⎠⎠      4⋅M ⋅Q ⋅T_t⋅V_t⋅x_N ⋅z_N  - √2⋅⎝\n",
       "─────────────────────────────────────────, 0, ────────────────────────────────\n",
       "__________________________________                                ____________\n",
       "                                2                                ╱            \n",
       "2    2    2    2    2    4    2⎞                                ╱     2  4    \n",
       "  + M ⋅T_t ⋅x_N ⋅z_N  - Q ⋅z_N ⎠                    2⋅M⋅Q⋅x_N⋅╲╱   4⋅M ⋅Q ⋅T_t\n",
       "\n",
       " 2        2    2    ⎞ ⎛ 2    2    2    2    2    2    2    4    2⎞⎤\n",
       "M ⋅V_p⋅x_N  - Q ⋅V_m⎠⋅⎝M ⋅M_h ⋅x_N  + M ⋅T_t ⋅x_N ⋅z_N  - Q ⋅z_N ⎠⎥\n",
       "──────────────────────────────────────────────────────────────────⎥\n",
       "____________________________________________________________      ⎥\n",
       "                                                          2       ⎥\n",
       "2    2    4   ⎛ 2    2    2    2    2    2    2    4    2⎞        ⎥\n",
       " ⋅x_N ⋅z_N  + ⎝M ⋅M_h ⋅x_N  + M ⋅T_t ⋅x_N ⋅z_N  - Q ⋅z_N ⎠        ⎦"
      ]
     },
     "execution_count": 39,
     "metadata": {},
     "output_type": "execute_result"
    }
   ],
   "source": [
    "rbV.vec"
   ]
  },
  {
   "cell_type": "code",
   "execution_count": 40,
   "metadata": {},
   "outputs": [
    {
     "data": {
      "image/png": "[encoded data removed]",
      "text/latex": [
       "$$- Q^{2}$$"
      ],
      "text/plain": [
       "  2\n",
       "-Q "
      ]
     },
     "execution_count": 40,
     "metadata": {},
     "output_type": "execute_result"
    }
   ],
   "source": [
    "(rbq.get_mass()**2).simplify()"
   ]
  },
  {
   "cell_type": "code",
   "execution_count": 41,
   "metadata": {},
   "outputs": [
    {
     "data": {
      "image/png": "[encoded data removed]",
      "text/latex": [
       "$$M_{h}^{2}$$"
      ],
      "text/plain": [
       "   2\n",
       "M_h "
      ]
     },
     "execution_count": 41,
     "metadata": {},
     "output_type": "execute_result"
    }
   ],
   "source": [
    "(rbH.get_mass()**2).simplify()"
   ]
  },
  {
   "cell_type": "code",
   "execution_count": 42,
   "metadata": {},
   "outputs": [
    {
     "data": {
      "image/png": "[encoded data removed]",
      "text/latex": [
       "$$M^{2}$$"
      ],
      "text/plain": [
       " 2\n",
       "M "
      ]
     },
     "execution_count": 42,
     "metadata": {},
     "output_type": "execute_result"
    }
   ],
   "source": [
    "(rbP.get_mass()**2).simplify()"
   ]
  },
  {
   "cell_type": "code",
   "execution_count": 43,
   "metadata": {},
   "outputs": [
    {
     "data": {
      "image/png": "[encoded data removed]",
      "text/latex": [
       "$$2 V_{m} V_{p} - V_{t}^{2}$$"
      ],
      "text/plain": [
       "               2\n",
       "2⋅V_m⋅V_p - V_t "
      ]
     },
     "execution_count": 43,
     "metadata": {},
     "output_type": "execute_result"
    }
   ],
   "source": [
    "(rbV.get_mass()**2).simplify()"
   ]
  },
  {
   "cell_type": "code",
   "execution_count": 44,
   "metadata": {},
   "outputs": [],
   "source": [
    "rbP.subs_vec(kappa1_val,kappa1)\n",
    "rbH.subs_vec(kappa1_val,kappa1)\n",
    "rbq.subs_vec(kappa1_val,kappa1)\n",
    "rbV.subs_vec(kappa1_val,kappa1)"
   ]
  },
  {
   "cell_type": "code",
   "execution_count": 45,
   "metadata": {},
   "outputs": [
    {
     "data": {
      "image/png": "[encoded data removed]",
      "text/latex": [
       "$$\\left [ M, \\quad 0, \\quad 0, \\quad 0\\right ]$$"
      ],
      "text/plain": [
       "[M, 0, 0, 0]"
      ]
     },
     "execution_count": 45,
     "metadata": {},
     "output_type": "execute_result"
    }
   ],
   "source": [
    "rbP.vec"
   ]
  },
  {
   "cell_type": "code",
   "execution_count": 46,
   "metadata": {},
   "outputs": [
    {
     "data": {
      "image/png": "[encoded data removed]",
      "text/latex": [
       "$$\\left [ \\frac{M M_{h}^{2} x_{N}}{2 Q^{2} z_{N}} + \\frac{M T_{t}^{2} x_{N} z_{N}}{2 Q^{2}} + \\frac{Q^{2} z_{N}}{2 M x_{N}}, \\quad 0, \\quad 0, \\quad - \\frac{\\sqrt{M^{4} M_{h}^{4} x_{N}^{4} + 2 M^{4} M_{h}^{2} T_{t}^{2} x_{N}^{4} z_{N}^{2} + M^{4} T_{t}^{4} x_{N}^{4} z_{N}^{4} - 2 M^{2} M_{h}^{2} Q^{4} x_{N}^{2} z_{N}^{2} + 2 M^{2} Q^{4} T_{t}^{2} x_{N}^{2} z_{N}^{4} + Q^{8} z_{N}^{4}}}{2 M Q^{2} x_{N} z_{N}}\\right ]$$"
      ],
      "text/plain": [
       "⎡                                                 ____________________________\n",
       "⎢     2            2             2               ╱  4    4    4      4    2   \n",
       "⎢M⋅M_h ⋅x_N   M⋅T_t ⋅x_N⋅z_N    Q ⋅z_N        -╲╱  M ⋅M_h ⋅x_N  + 2⋅M ⋅M_h ⋅T_\n",
       "⎢────────── + ────────────── + ───────, 0, 0, ────────────────────────────────\n",
       "⎢    2                2        2⋅M⋅x_N                                        \n",
       "⎣ 2⋅Q ⋅z_N         2⋅Q                                                        \n",
       "\n",
       "______________________________________________________________________________\n",
       " 2    4    2    4    4    4    4      2    2  4    2    2      2  4    2    2 \n",
       "t ⋅x_N ⋅z_N  + M ⋅T_t ⋅x_N ⋅z_N  - 2⋅M ⋅M_h ⋅Q ⋅x_N ⋅z_N  + 2⋅M ⋅Q ⋅T_t ⋅x_N ⋅\n",
       "──────────────────────────────────────────────────────────────────────────────\n",
       "                             2                                                \n",
       "                        2⋅M⋅Q ⋅x_N⋅z_N                                        \n",
       "\n",
       "_______________ ⎤\n",
       "   4    8    4  ⎥\n",
       "z_N  + Q ⋅z_N   ⎥\n",
       "────────────────⎥\n",
       "                ⎥\n",
       "                ⎦"
      ]
     },
     "execution_count": 46,
     "metadata": {},
     "output_type": "execute_result"
    }
   ],
   "source": [
    "rbH.vec"
   ]
  },
  {
   "cell_type": "code",
   "execution_count": 47,
   "metadata": {},
   "outputs": [
    {
     "data": {
      "image/png": "[encoded data removed]",
      "text/latex": [
       "$$\\left [ - \\frac{M x_{N}}{2} + \\frac{Q^{2}}{2 M x_{N}}, \\quad \\frac{Q^{2} T_{t} z_{N}^{2} \\left(M^{2} x_{N}^{2} + Q^{2}\\right)}{\\kappa_{1}}, \\quad 0, \\quad \\frac{\\left(M^{2} x_{N}^{2} + Q^{2}\\right) \\left(M^{2} M_{h}^{2} x_{N}^{2} + M^{2} T_{t}^{2} x_{N}^{2} z_{N}^{2} - Q^{4} z_{N}^{2}\\right)}{2 M \\kappa_{1} x_{N}}\\right ]$$"
      ],
      "text/plain": [
       "⎡              2     2        2 ⎛ 2    2    2⎞     ⎛ 2    2    2⎞ ⎛ 2    2    \n",
       "⎢  M⋅x_N      Q     Q ⋅T_t⋅z_N ⋅⎝M ⋅x_N  + Q ⎠     ⎝M ⋅x_N  + Q ⎠⋅⎝M ⋅M_h ⋅x_N\n",
       "⎢- ───── + ───────, ──────────────────────────, 0, ───────────────────────────\n",
       "⎣    2     2⋅M⋅x_N              κ₁                                          2⋅\n",
       "\n",
       "2    2    2    2    2    4    2⎞⎤\n",
       "  + M ⋅T_t ⋅x_N ⋅z_N  - Q ⋅z_N ⎠⎥\n",
       "────────────────────────────────⎥\n",
       "M⋅κ₁⋅x_N                        ⎦"
      ]
     },
     "execution_count": 47,
     "metadata": {},
     "output_type": "execute_result"
    }
   ],
   "source": [
    "rbq.vec"
   ]
  },
  {
   "cell_type": "code",
   "execution_count": 48,
   "metadata": {},
   "outputs": [
    {
     "data": {
      "image/png": "[encoded data removed]",
      "text/latex": [
       "$$\\left [ \\frac{\\sqrt{2} \\left(M^{2} V_{p} x_{N}^{2} + Q^{2} V_{m}\\right)}{2 M Q x_{N}}, \\quad - \\frac{\\sqrt{2} Q T_{t} z_{N}^{2} \\left(M^{2} V_{p} x_{N}^{2} - Q^{2} V_{m}\\right) + V_{t} \\left(M^{2} M_{h}^{2} x_{N}^{2} + M^{2} T_{t}^{2} x_{N}^{2} z_{N}^{2} - Q^{4} z_{N}^{2}\\right)}{\\kappa_{1}}, \\quad 0, \\quad \\frac{4 M^{2} Q^{3} T_{t} V_{t} x_{N}^{2} z_{N}^{2} - \\sqrt{2} \\left(M^{2} V_{p} x_{N}^{2} - Q^{2} V_{m}\\right) \\left(M^{2} M_{h}^{2} x_{N}^{2} + M^{2} T_{t}^{2} x_{N}^{2} z_{N}^{2} - Q^{4} z_{N}^{2}\\right)}{2 M Q \\kappa_{1} x_{N}}\\right ]$$"
      ],
      "text/plain": [
       "⎡   ⎛ 2        2    2    ⎞   ⎛            2 ⎛ 2        2    2    ⎞       ⎛ 2  \n",
       "⎢√2⋅⎝M ⋅V_p⋅x_N  + Q ⋅V_m⎠  -⎝√2⋅Q⋅T_t⋅z_N ⋅⎝M ⋅V_p⋅x_N  - Q ⋅V_m⎠ + V_t⋅⎝M ⋅M\n",
       "⎢─────────────────────────, ──────────────────────────────────────────────────\n",
       "⎣        2⋅M⋅Q⋅x_N                                                       κ₁   \n",
       "\n",
       "  2    2    2    2    2    2    4    2⎞⎞         2  3            2    2      ⎛\n",
       "_h ⋅x_N  + M ⋅T_t ⋅x_N ⋅z_N  - Q ⋅z_N ⎠⎠      4⋅M ⋅Q ⋅T_t⋅V_t⋅x_N ⋅z_N  - √2⋅⎝\n",
       "─────────────────────────────────────────, 0, ────────────────────────────────\n",
       "                                                                              \n",
       "\n",
       " 2        2    2    ⎞ ⎛ 2    2    2    2    2    2    2    4    2⎞⎤\n",
       "M ⋅V_p⋅x_N  - Q ⋅V_m⎠⋅⎝M ⋅M_h ⋅x_N  + M ⋅T_t ⋅x_N ⋅z_N  - Q ⋅z_N ⎠⎥\n",
       "──────────────────────────────────────────────────────────────────⎥\n",
       "           2⋅M⋅Q⋅κ₁⋅x_N                                           ⎦"
      ]
     },
     "execution_count": 48,
     "metadata": {},
     "output_type": "execute_result"
    }
   ],
   "source": [
    "rbV.vec"
   ]
  },
  {
   "cell_type": "code",
   "execution_count": 49,
   "metadata": {},
   "outputs": [
    {
     "data": {
      "image/png": "[encoded data removed]",
      "text/latex": [
       "$$2 V_{m} V_{p} - V_{t}^{2}$$"
      ],
      "text/plain": [
       "               2\n",
       "2⋅V_m⋅V_p - V_t "
      ]
     },
     "execution_count": 49,
     "metadata": {},
     "output_type": "execute_result"
    }
   ],
   "source": [
    "((rbV.get_mass().subs(kappa1,kappa1_val)**2)).simplify()"
   ]
  },
  {
   "cell_type": "markdown",
   "metadata": {},
   "source": [
    "## boost"
   ]
  },
  {
   "cell_type": "code",
   "execution_count": 50,
   "metadata": {},
   "outputs": [],
   "source": [
    "cosh,sinh=Vec.get_boost_CS([rbP.get_E(),rbP.get_z()],[P.get_E(),P.get_z()])"
   ]
  },
  {
   "cell_type": "code",
   "execution_count": 51,
   "metadata": {},
   "outputs": [
    {
     "data": {
      "image/png": "[encoded data removed]",
      "text/latex": [
       "$$\\left [ 0, \\quad 0, \\quad 0, \\quad 1\\right ]$$"
      ],
      "text/plain": [
       "[0, 0, 0, 1]"
      ]
     },
     "execution_count": 51,
     "metadata": {},
     "output_type": "execute_result"
    }
   ],
   "source": [
    "Z=Vec('Z','MC',[0,0,0,1])\n",
    "Z.set_z(1)\n",
    "Z.vec"
   ]
  },
  {
   "cell_type": "code",
   "execution_count": 52,
   "metadata": {},
   "outputs": [],
   "source": [
    "brbP=rbP.boost(Z,cosh,sinh)\n",
    "brbq=rbq.boost(Z,cosh,sinh)\n",
    "brbH=rbH.boost(Z,cosh,sinh)\n",
    "brbV=rbV.boost(Z,cosh,sinh)\n",
    "\n",
    "brbP.simplify_vec()\n",
    "brbH.simplify_vec()\n",
    "brbq.simplify_vec()\n",
    "brbV.simplify_vec()"
   ]
  },
  {
   "cell_type": "code",
   "execution_count": 53,
   "metadata": {},
   "outputs": [
    {
     "data": {
      "image/png": "[encoded data removed]",
      "text/latex": [
       "$$\\left [ \\frac{M^{2} x_{N}}{2 Q} + \\frac{Q}{2 x_{N}}, \\quad 0, \\quad 0, \\quad - \\frac{M^{2} x_{N}}{2 Q} + \\frac{Q}{2 x_{N}}\\right ]$$"
      ],
      "text/plain": [
       "⎡ 2                       2            ⎤\n",
       "⎢M ⋅x_N     Q            M ⋅x_N     Q  ⎥\n",
       "⎢────── + ─────, 0, 0, - ────── + ─────⎥\n",
       "⎣ 2⋅Q     2⋅x_N           2⋅Q     2⋅x_N⎦"
      ]
     },
     "execution_count": 53,
     "metadata": {},
     "output_type": "execute_result"
    }
   ],
   "source": [
    "brbP.vec"
   ]
  },
  {
   "cell_type": "code",
   "execution_count": 54,
   "metadata": {},
   "outputs": [
    {
     "data": {
      "image/png": "[encoded data removed]",
      "text/latex": [
       "$$\\left [ \\frac{M^{2} x_{N}}{2 Q} + \\frac{Q}{2 x_{N}}, \\quad 0, \\quad 0, \\quad - \\frac{M^{2} x_{N}}{2 Q} + \\frac{Q}{2 x_{N}}\\right ]$$"
      ],
      "text/plain": [
       "⎡ 2                       2            ⎤\n",
       "⎢M ⋅x_N     Q            M ⋅x_N     Q  ⎥\n",
       "⎢────── + ─────, 0, 0, - ────── + ─────⎥\n",
       "⎣ 2⋅Q     2⋅x_N           2⋅Q     2⋅x_N⎦"
      ]
     },
     "execution_count": 54,
     "metadata": {},
     "output_type": "execute_result"
    }
   ],
   "source": [
    "P.vec"
   ]
  },
  {
   "cell_type": "code",
   "execution_count": 55,
   "metadata": {},
   "outputs": [
    {
     "data": {
      "image/png": "[encoded data removed]",
      "text/latex": [
       "$$\\left [ \\frac{\\left(M^{2} x_{N}^{2} - Q^{2}\\right) \\sqrt{M^{4} M_{h}^{4} x_{N}^{4} + 2 M^{4} M_{h}^{2} T_{t}^{2} x_{N}^{4} z_{N}^{2} + M^{4} T_{t}^{4} x_{N}^{4} z_{N}^{4} - 2 M^{2} M_{h}^{2} Q^{4} x_{N}^{2} z_{N}^{2} + 2 M^{2} Q^{4} T_{t}^{2} x_{N}^{2} z_{N}^{4} + Q^{8} z_{N}^{4}} + \\left(M^{2} x_{N}^{2} + Q^{2}\\right) \\left(M^{2} M_{h}^{2} x_{N}^{2} + M^{2} T_{t}^{2} x_{N}^{2} z_{N}^{2} + Q^{4} z_{N}^{2}\\right)}{4 M^{2} Q^{3} x_{N}^{2} z_{N}}, \\quad 0, \\quad 0, \\quad - \\frac{\\left(M^{2} x_{N}^{2} - Q^{2}\\right) \\left(M^{2} M_{h}^{2} x_{N}^{2} + M^{2} T_{t}^{2} x_{N}^{2} z_{N}^{2} + Q^{4} z_{N}^{2}\\right) + \\left(M^{2} x_{N}^{2} + Q^{2}\\right) \\sqrt{M^{4} M_{h}^{4} x_{N}^{4} + 2 M^{4} M_{h}^{2} T_{t}^{2} x_{N}^{4} z_{N}^{2} + M^{4} T_{t}^{4} x_{N}^{4} z_{N}^{4} - 2 M^{2} M_{h}^{2} Q^{4} x_{N}^{2} z_{N}^{2} + 2 M^{2} Q^{4} T_{t}^{2} x_{N}^{2} z_{N}^{4} + Q^{8} z_{N}^{4}}}{4 M^{2} Q^{3} x_{N}^{2} z_{N}}\\right ]$$"
      ],
      "text/plain": [
       "⎡                  ___________________________________________________________\n",
       "⎢⎛ 2    2    2⎞   ╱  4    4    4      4    2    2    4    2    4    4    4    \n",
       "⎢⎝M ⋅x_N  - Q ⎠⋅╲╱  M ⋅M_h ⋅x_N  + 2⋅M ⋅M_h ⋅T_t ⋅x_N ⋅z_N  + M ⋅T_t ⋅x_N ⋅z_N\n",
       "⎢─────────────────────────────────────────────────────────────────────────────\n",
       "⎢                                                                             \n",
       "⎣                                                                             \n",
       "\n",
       "______________________________________________________________                \n",
       "4      2    2  4    2    2      2  4    2    2    4    8    4    ⎛ 2    2    2\n",
       "  - 2⋅M ⋅M_h ⋅Q ⋅x_N ⋅z_N  + 2⋅M ⋅Q ⋅T_t ⋅x_N ⋅z_N  + Q ⋅z_N   + ⎝M ⋅x_N  + Q \n",
       "──────────────────────────────────────────────────────────────────────────────\n",
       "                   2  3    2                                                  \n",
       "                4⋅M ⋅Q ⋅x_N ⋅z_N                                              \n",
       "\n",
       "                                                       ⎛                      \n",
       "⎞ ⎛ 2    2    2    2    2    2    2    4    2⎞         ⎜⎛ 2    2    2⎞ ⎛ 2    \n",
       "⎠⋅⎝M ⋅M_h ⋅x_N  + M ⋅T_t ⋅x_N ⋅z_N  + Q ⋅z_N ⎠        -⎝⎝M ⋅x_N  - Q ⎠⋅⎝M ⋅M_h\n",
       "──────────────────────────────────────────────, 0, 0, ────────────────────────\n",
       "                                                                              \n",
       "                                                                              \n",
       "\n",
       "                                                          ____________________\n",
       "2    2    2    2    2    2    4    2⎞   ⎛ 2    2    2⎞   ╱  4    4    4      4\n",
       " ⋅x_N  + M ⋅T_t ⋅x_N ⋅z_N  + Q ⋅z_N ⎠ + ⎝M ⋅x_N  + Q ⎠⋅╲╱  M ⋅M_h ⋅x_N  + 2⋅M \n",
       "──────────────────────────────────────────────────────────────────────────────\n",
       "                                                                          2  3\n",
       "                                                                       4⋅M ⋅Q \n",
       "\n",
       "______________________________________________________________________________\n",
       "    2    2    4    2    4    4    4    4      2    2  4    2    2      2  4   \n",
       "⋅M_h ⋅T_t ⋅x_N ⋅z_N  + M ⋅T_t ⋅x_N ⋅z_N  - 2⋅M ⋅M_h ⋅Q ⋅x_N ⋅z_N  + 2⋅M ⋅Q ⋅T_\n",
       "──────────────────────────────────────────────────────────────────────────────\n",
       "    2                                                                         \n",
       "⋅x_N ⋅z_N                                                                     \n",
       "\n",
       "_______________________⎞ ⎤\n",
       " 2    2    4    8    4 ⎟ ⎥\n",
       "t ⋅x_N ⋅z_N  + Q ⋅z_N  ⎠ ⎥\n",
       "─────────────────────────⎥\n",
       "                         ⎥\n",
       "                         ⎦"
      ]
     },
     "execution_count": 55,
     "metadata": {},
     "output_type": "execute_result"
    }
   ],
   "source": [
    "brbH.vec"
   ]
  },
  {
   "cell_type": "code",
   "execution_count": 56,
   "metadata": {},
   "outputs": [
    {
     "data": {
      "image/png": "[encoded data removed]",
      "text/latex": [
       "$$\\left [ \\frac{\\left(M^{2} x_{N}^{2} - Q^{2}\\right) \\left(M^{2} x_{N}^{2} + Q^{2}\\right) \\left(- M^{2} M_{h}^{2} x_{N}^{2} - M^{2} T_{t}^{2} x_{N}^{2} z_{N}^{2} + Q^{4} z_{N}^{2} - \\kappa_{1}\\right)}{4 M^{2} Q \\kappa_{1} x_{N}^{2}}, \\quad \\frac{Q^{2} T_{t} z_{N}^{2} \\left(M^{2} x_{N}^{2} + Q^{2}\\right)}{\\kappa_{1}}, \\quad 0, \\quad \\frac{\\kappa_{1} \\left(M^{2} x_{N}^{2} - Q^{2}\\right)^{2} + \\left(M^{2} x_{N}^{2} + Q^{2}\\right)^{2} \\left(M^{2} M_{h}^{2} x_{N}^{2} + M^{2} T_{t}^{2} x_{N}^{2} z_{N}^{2} - Q^{4} z_{N}^{2}\\right)}{4 M^{2} Q \\kappa_{1} x_{N}^{2}}\\right ]$$"
      ],
      "text/plain": [
       "⎡                                                                             \n",
       "⎢⎛ 2    2    2⎞ ⎛ 2    2    2⎞ ⎛   2    2    2    2    2    2    2    4    2  \n",
       "⎢⎝M ⋅x_N  - Q ⎠⋅⎝M ⋅x_N  + Q ⎠⋅⎝- M ⋅M_h ⋅x_N  - M ⋅T_t ⋅x_N ⋅z_N  + Q ⋅z_N  -\n",
       "⎢─────────────────────────────────────────────────────────────────────────────\n",
       "⎢                                     2         2                             \n",
       "⎣                                  4⋅M ⋅Q⋅κ₁⋅x_N                              \n",
       "\n",
       "                                                      2                 2     \n",
       "   ⎞   2        2 ⎛ 2    2    2⎞        ⎛ 2    2    2⎞    ⎛ 2    2    2⎞  ⎛ 2 \n",
       " κ₁⎠  Q ⋅T_t⋅z_N ⋅⎝M ⋅x_N  + Q ⎠     κ₁⋅⎝M ⋅x_N  - Q ⎠  + ⎝M ⋅x_N  + Q ⎠ ⋅⎝M ⋅\n",
       "────, ──────────────────────────, 0, ─────────────────────────────────────────\n",
       "                  κ₁                                                      2   \n",
       "                                                                       4⋅M ⋅Q⋅\n",
       "\n",
       "                                        ⎤\n",
       "   2    2    2    2    2    2    4    2⎞⎥\n",
       "M_h ⋅x_N  + M ⋅T_t ⋅x_N ⋅z_N  - Q ⋅z_N ⎠⎥\n",
       "────────────────────────────────────────⎥\n",
       "      2                                 ⎥\n",
       "κ₁⋅x_N                                  ⎦"
      ]
     },
     "execution_count": 56,
     "metadata": {},
     "output_type": "execute_result"
    }
   ],
   "source": [
    "brbq.vec"
   ]
  },
  {
   "cell_type": "code",
   "execution_count": 57,
   "metadata": {},
   "outputs": [
    {
     "data": {
      "image/png": "[encoded data removed]",
      "text/latex": [
       "$$\\left [ \\frac{\\sqrt{2} \\kappa_{1} \\left(M^{2} x_{N}^{2} + Q^{2}\\right) \\left(M^{2} V_{p} x_{N}^{2} + Q^{2} V_{m}\\right) - \\left(M^{2} x_{N}^{2} - Q^{2}\\right) \\left(4 M^{2} Q^{3} T_{t} V_{t} x_{N}^{2} z_{N}^{2} - \\sqrt{2} \\left(M^{2} V_{p} x_{N}^{2} - Q^{2} V_{m}\\right) \\left(M^{2} M_{h}^{2} x_{N}^{2} + M^{2} T_{t}^{2} x_{N}^{2} z_{N}^{2} - Q^{4} z_{N}^{2}\\right)\\right)}{4 M^{2} Q^{2} \\kappa_{1} x_{N}^{2}}, \\quad - \\frac{\\sqrt{2} Q T_{t} z_{N}^{2} \\left(M^{2} V_{p} x_{N}^{2} - Q^{2} V_{m}\\right) + V_{t} \\left(M^{2} M_{h}^{2} x_{N}^{2} + M^{2} T_{t}^{2} x_{N}^{2} z_{N}^{2} - Q^{4} z_{N}^{2}\\right)}{\\kappa_{1}}, \\quad 0, \\quad \\frac{- \\sqrt{2} \\kappa_{1} \\left(M^{2} x_{N}^{2} - Q^{2}\\right) \\left(M^{2} V_{p} x_{N}^{2} + Q^{2} V_{m}\\right) + \\left(M^{2} x_{N}^{2} + Q^{2}\\right) \\left(4 M^{2} Q^{3} T_{t} V_{t} x_{N}^{2} z_{N}^{2} - \\sqrt{2} \\left(M^{2} V_{p} x_{N}^{2} - Q^{2} V_{m}\\right) \\left(M^{2} M_{h}^{2} x_{N}^{2} + M^{2} T_{t}^{2} x_{N}^{2} z_{N}^{2} - Q^{4} z_{N}^{2}\\right)\\right)}{4 M^{2} Q^{2} \\kappa_{1} x_{N}^{2}}\\right ]$$"
      ],
      "text/plain": [
       "⎡      ⎛ 2    2    2⎞ ⎛ 2        2    2    ⎞   ⎛ 2    2    2⎞ ⎛   2  3        \n",
       "⎢√2⋅κ₁⋅⎝M ⋅x_N  + Q ⎠⋅⎝M ⋅V_p⋅x_N  + Q ⋅V_m⎠ - ⎝M ⋅x_N  - Q ⎠⋅⎝4⋅M ⋅Q ⋅T_t⋅V_t\n",
       "⎢─────────────────────────────────────────────────────────────────────────────\n",
       "⎢                                                                            2\n",
       "⎣                                                                         4⋅M \n",
       "\n",
       "    2    2      ⎛ 2        2    2    ⎞ ⎛ 2    2    2    2    2    2    2    4 \n",
       "⋅x_N ⋅z_N  - √2⋅⎝M ⋅V_p⋅x_N  - Q ⋅V_m⎠⋅⎝M ⋅M_h ⋅x_N  + M ⋅T_t ⋅x_N ⋅z_N  - Q ⋅\n",
       "──────────────────────────────────────────────────────────────────────────────\n",
       "  2       2                                                                   \n",
       "⋅Q ⋅κ₁⋅x_N                                                                    \n",
       "\n",
       "   2⎞⎞   ⎛            2 ⎛ 2        2    2    ⎞       ⎛ 2    2    2    2    2  \n",
       "z_N ⎠⎠  -⎝√2⋅Q⋅T_t⋅z_N ⋅⎝M ⋅V_p⋅x_N  - Q ⋅V_m⎠ + V_t⋅⎝M ⋅M_h ⋅x_N  + M ⋅T_t ⋅x\n",
       "──────, ──────────────────────────────────────────────────────────────────────\n",
       "                                                     κ₁                       \n",
       "                                                                              \n",
       "\n",
       "  2    2    4    2⎞⎞              ⎛ 2    2    2⎞ ⎛ 2        2    2    ⎞   ⎛ 2 \n",
       "_N ⋅z_N  - Q ⋅z_N ⎠⎠      - √2⋅κ₁⋅⎝M ⋅x_N  - Q ⎠⋅⎝M ⋅V_p⋅x_N  + Q ⋅V_m⎠ + ⎝M ⋅\n",
       "─────────────────────, 0, ────────────────────────────────────────────────────\n",
       "                                                                              \n",
       "                                                                              \n",
       "\n",
       "   2    2⎞ ⎛   2  3            2    2      ⎛ 2        2    2    ⎞ ⎛ 2    2    \n",
       "x_N  + Q ⎠⋅⎝4⋅M ⋅Q ⋅T_t⋅V_t⋅x_N ⋅z_N  - √2⋅⎝M ⋅V_p⋅x_N  - Q ⋅V_m⎠⋅⎝M ⋅M_h ⋅x_N\n",
       "──────────────────────────────────────────────────────────────────────────────\n",
       "                         2  2       2                                         \n",
       "                      4⋅M ⋅Q ⋅κ₁⋅x_N                                          \n",
       "\n",
       "2    2    2    2    2    4    2⎞⎞⎤\n",
       "  + M ⋅T_t ⋅x_N ⋅z_N  - Q ⋅z_N ⎠⎠⎥\n",
       "─────────────────────────────────⎥\n",
       "                                 ⎥\n",
       "                                 ⎦"
      ]
     },
     "execution_count": 57,
     "metadata": {},
     "output_type": "execute_result"
    }
   ],
   "source": [
    "brbV.vec"
   ]
  },
  {
   "cell_type": "code",
   "execution_count": 58,
   "metadata": {},
   "outputs": [],
   "source": [
    "brbV.MC2LC()"
   ]
  },
  {
   "cell_type": "code",
   "execution_count": 59,
   "metadata": {},
   "outputs": [],
   "source": [
    "#((brbV.get_mass()**2).subs(kappa1,kappa1_val)).simplify()"
   ]
  },
  {
   "cell_type": "code",
   "execution_count": 60,
   "metadata": {},
   "outputs": [
    {
     "data": {
      "image/png": "[encoded data removed]",
      "text/latex": [
       "$$M^{2}$$"
      ],
      "text/plain": [
       " 2\n",
       "M "
      ]
     },
     "execution_count": 60,
     "metadata": {},
     "output_type": "execute_result"
    }
   ],
   "source": [
    "((brbP.get_mass()**2).subs(kappa1,kappa1_val)).simplify()"
   ]
  },
  {
   "cell_type": "code",
   "execution_count": 61,
   "metadata": {},
   "outputs": [
    {
     "data": {
      "image/png": "[encoded data removed]",
      "text/latex": [
       "$$M_{h}^{2}$$"
      ],
      "text/plain": [
       "   2\n",
       "M_h "
      ]
     },
     "execution_count": 61,
     "metadata": {},
     "output_type": "execute_result"
    }
   ],
   "source": [
    "((brbH.get_mass()**2).subs(kappa1,kappa1_val)).simplify()"
   ]
  },
  {
   "cell_type": "code",
   "execution_count": 62,
   "metadata": {},
   "outputs": [
    {
     "data": {
      "image/png": "[encoded data removed]",
      "text/latex": [
       "$$- Q^{2}$$"
      ],
      "text/plain": [
       "  2\n",
       "-Q "
      ]
     },
     "execution_count": 62,
     "metadata": {},
     "output_type": "execute_result"
    }
   ],
   "source": [
    "((brbq.get_mass()**2).subs(kappa1,kappa1_val)).simplify()"
   ]
  },
  {
   "cell_type": "code",
   "execution_count": null,
   "metadata": {},
   "outputs": [],
   "source": []
  },
  {
   "cell_type": "code",
   "execution_count": 63,
   "metadata": {},
   "outputs": [
    {
     "data": {
      "image/png": "[encoded data removed]",
      "text/latex": [
       "$$\\sqrt{T_{t}^{2} z_{N}^{2} + \\frac{\\left(M^{2} M_{h}^{2} x_{N}^{2} + M^{2} T_{t}^{2} x_{N}^{2} z_{N}^{2} - Q^{4} z_{N}^{2}\\right)^{2}}{4 M^{2} Q^{4} x_{N}^{2} z_{N}^{2}}}$$"
      ],
      "text/plain": [
       "       ___________________________________________________________\n",
       "      ╱                                                         2 \n",
       "     ╱              ⎛ 2    2    2    2    2    2    2    4    2⎞  \n",
       "    ╱      2    2   ⎝M ⋅M_h ⋅x_N  + M ⋅T_t ⋅x_N ⋅z_N  - Q ⋅z_N ⎠  \n",
       "   ╱    T_t ⋅z_N  + ───────────────────────────────────────────── \n",
       "  ╱                                  2  4    2    2               \n",
       "╲╱                                4⋅M ⋅Q ⋅x_N ⋅z_N                "
      ]
     },
     "execution_count": 63,
     "metadata": {},
     "output_type": "execute_result"
    }
   ],
   "source": [
    "kappa2_val=sp.sqrt((kappa1_val**2/(4*M**2*Q**4*xN**2*zN**2)).simplify())\n",
    "kappa2_val"
   ]
  },
  {
   "cell_type": "code",
   "execution_count": 64,
   "metadata": {},
   "outputs": [
    {
     "data": {
      "image/png": "[encoded data removed]",
      "text/latex": [
       "$$2 M Q^{2} x_{N} z_{N}$$"
      ],
      "text/plain": [
       "     2        \n",
       "2⋅M⋅Q ⋅x_N⋅z_N"
      ]
     },
     "execution_count": 64,
     "metadata": {},
     "output_type": "execute_result"
    }
   ],
   "source": [
    "kappa2=sp.symbols('kappa',positive = True, real = True)\n",
    "R=(kappa1_val/kappa2_val).simplify()\n",
    "R"
   ]
  },
  {
   "cell_type": "code",
   "execution_count": null,
   "metadata": {},
   "outputs": [],
   "source": []
  },
  {
   "cell_type": "markdown",
   "metadata": {},
   "source": [
    "## Eq. 32"
   ]
  },
  {
   "cell_type": "code",
   "execution_count": 65,
   "metadata": {},
   "outputs": [
    {
     "data": {
      "image/png": "[encoded data removed]",
      "text/latex": [
       "$$- \\frac{M M_{h}^{2} x_{N}}{4 Q^{2} \\kappa z_{N}} - \\frac{M T_{t}^{2} x_{N} z_{N}}{4 Q^{2} \\kappa} + \\frac{1}{2} + \\frac{Q^{2} z_{N}}{4 M \\kappa x_{N}}$$"
      ],
      "text/plain": [
       "       2            2                  2     \n",
       "  M⋅M_h ⋅x_N   M⋅T_t ⋅x_N⋅z_N   1     Q ⋅z_N \n",
       "- ────────── - ────────────── + ─ + ─────────\n",
       "     2                2         2   4⋅M⋅κ⋅x_N\n",
       "  4⋅Q ⋅κ⋅z_N       4⋅Q ⋅κ                    "
      ]
     },
     "execution_count": 65,
     "metadata": {},
     "output_type": "execute_result"
    }
   ],
   "source": [
    "pp=brbV.vec[0].subs(kappa1,R*kappa2)\n",
    "pp=sp.collect(pp.subs(V.m,0).subs(V.t,0).simplify(),V.p)/V.p\n",
    "pp"
   ]
  },
  {
   "cell_type": "code",
   "execution_count": 66,
   "metadata": {},
   "outputs": [
    {
     "data": {
      "image/png": "[encoded data removed]",
      "text/latex": [
       "$$\\frac{M^{2} M_{h}^{2} x_{N}^{2} + M^{2} T_{t}^{2} x_{N}^{2} z_{N}^{2} + 2 M Q^{2} \\kappa x_{N} z_{N} - Q^{4} z_{N}^{2}}{4 M^{3} \\kappa x_{N}^{3} z_{N}}$$"
      ],
      "text/plain": [
       " 2    2    2    2    2    2    2        2              4    2\n",
       "M ⋅M_h ⋅x_N  + M ⋅T_t ⋅x_N ⋅z_N  + 2⋅M⋅Q ⋅κ⋅x_N⋅z_N - Q ⋅z_N \n",
       "─────────────────────────────────────────────────────────────\n",
       "                          3      3                           \n",
       "                       4⋅M ⋅κ⋅x_N ⋅z_N                       "
      ]
     },
     "execution_count": 66,
     "metadata": {},
     "output_type": "execute_result"
    }
   ],
   "source": [
    "pm=brbV.vec[0].subs(kappa1,R*kappa2)\n",
    "pm=sp.collect(pm.subs(V.p,0).subs(V.t,0).simplify(),V.m)/V.m\n",
    "pm"
   ]
  },
  {
   "cell_type": "code",
   "execution_count": 67,
   "metadata": {},
   "outputs": [
    {
     "data": {
      "image/png": "[encoded data removed]",
      "text/latex": [
       "$$\\frac{\\sqrt{2} Q T_{t} z_{N}}{2 M \\kappa x_{N}}$$"
      ],
      "text/plain": [
       "√2⋅Q⋅T_t⋅z_N\n",
       "────────────\n",
       " 2⋅M⋅κ⋅x_N  "
      ]
     },
     "execution_count": 67,
     "metadata": {},
     "output_type": "execute_result"
    }
   ],
   "source": [
    "pt=brbV.vec[0].subs(kappa1,R*kappa2)\n",
    "pt=sp.collect(pt.subs(V.p,0).subs(V.m,0).simplify(),V.t)/V.t\n",
    "pt"
   ]
  },
  {
   "cell_type": "markdown",
   "metadata": {},
   "source": [
    "## Eq. 33"
   ]
  },
  {
   "cell_type": "code",
   "execution_count": 68,
   "metadata": {},
   "outputs": [
    {
     "data": {
      "image/png": "[encoded data removed]",
      "text/latex": [
       "$$\\frac{M x_{N} \\left(M^{2} M_{h}^{2} x_{N}^{2} + M^{2} T_{t}^{2} x_{N}^{2} z_{N}^{2} + 2 M Q^{2} \\kappa x_{N} z_{N} - Q^{4} z_{N}^{2}\\right)}{4 Q^{4} \\kappa z_{N}}$$"
      ],
      "text/plain": [
       "      ⎛ 2    2    2    2    2    2    2        2              4    2⎞\n",
       "M⋅x_N⋅⎝M ⋅M_h ⋅x_N  + M ⋅T_t ⋅x_N ⋅z_N  + 2⋅M⋅Q ⋅κ⋅x_N⋅z_N - Q ⋅z_N ⎠\n",
       "─────────────────────────────────────────────────────────────────────\n",
       "                                 4                                   \n",
       "                              4⋅Q ⋅κ⋅z_N                             "
      ]
     },
     "execution_count": 68,
     "metadata": {},
     "output_type": "execute_result"
    }
   ],
   "source": [
    "mp=brbV.vec[1].subs(kappa1,R*kappa2)\n",
    "mp=sp.collect(mp.subs(V.m,0).subs(V.t,0).simplify(),V.p)/V.p\n",
    "mp"
   ]
  },
  {
   "cell_type": "code",
   "execution_count": 69,
   "metadata": {},
   "outputs": [
    {
     "data": {
      "image/png": "[encoded data removed]",
      "text/latex": [
       "$$- \\frac{M M_{h}^{2} x_{N}}{4 Q^{2} \\kappa z_{N}} - \\frac{M T_{t}^{2} x_{N} z_{N}}{4 Q^{2} \\kappa} + \\frac{1}{2} + \\frac{Q^{2} z_{N}}{4 M \\kappa x_{N}}$$"
      ],
      "text/plain": [
       "       2            2                  2     \n",
       "  M⋅M_h ⋅x_N   M⋅T_t ⋅x_N⋅z_N   1     Q ⋅z_N \n",
       "- ────────── - ────────────── + ─ + ─────────\n",
       "     2                2         2   4⋅M⋅κ⋅x_N\n",
       "  4⋅Q ⋅κ⋅z_N       4⋅Q ⋅κ                    "
      ]
     },
     "execution_count": 69,
     "metadata": {},
     "output_type": "execute_result"
    }
   ],
   "source": [
    "mm=brbV.vec[1].subs(kappa1,R*kappa2)\n",
    "mm=sp.collect(mm.subs(V.p,0).subs(V.t,0).simplify(),V.m)/V.m\n",
    "mm"
   ]
  },
  {
   "cell_type": "code",
   "execution_count": 70,
   "metadata": {},
   "outputs": [
    {
     "data": {
      "image/png": "[encoded data removed]",
      "text/latex": [
       "$$- \\frac{\\sqrt{2} M T_{t} x_{N} z_{N}}{2 Q \\kappa}$$"
      ],
      "text/plain": [
       "-√2⋅M⋅T_t⋅x_N⋅z_N \n",
       "──────────────────\n",
       "      2⋅Q⋅κ       "
      ]
     },
     "execution_count": 70,
     "metadata": {},
     "output_type": "execute_result"
    }
   ],
   "source": [
    "mt=brbV.vec[1].subs(kappa1,R*kappa2)\n",
    "mt=sp.collect(mt.subs(V.p,0).subs(V.m,0).simplify(),V.t)/V.t\n",
    "mt"
   ]
  },
  {
   "cell_type": "markdown",
   "metadata": {},
   "source": [
    "## Eq. 34"
   ]
  },
  {
   "cell_type": "code",
   "execution_count": 71,
   "metadata": {},
   "outputs": [
    {
     "data": {
      "image/png": "[encoded data removed]",
      "text/latex": [
       "$$- \\frac{\\sqrt{2} M T_{t} x_{N} z_{N}}{2 Q \\kappa}$$"
      ],
      "text/plain": [
       "-√2⋅M⋅T_t⋅x_N⋅z_N \n",
       "──────────────────\n",
       "      2⋅Q⋅κ       "
      ]
     },
     "execution_count": 71,
     "metadata": {},
     "output_type": "execute_result"
    }
   ],
   "source": [
    "tp=brbV.vec[2].subs(kappa1,R*kappa2)\n",
    "tp=sp.collect(tp.subs(V.m,0).subs(V.t,0).simplify(),V.p)/V.p\n",
    "tp"
   ]
  },
  {
   "cell_type": "code",
   "execution_count": 72,
   "metadata": {
    "scrolled": true
   },
   "outputs": [
    {
     "data": {
      "image/png": "[encoded data removed]",
      "text/latex": [
       "$$\\frac{\\sqrt{2} Q T_{t} z_{N}}{2 M \\kappa x_{N}}$$"
      ],
      "text/plain": [
       "√2⋅Q⋅T_t⋅z_N\n",
       "────────────\n",
       " 2⋅M⋅κ⋅x_N  "
      ]
     },
     "execution_count": 72,
     "metadata": {},
     "output_type": "execute_result"
    }
   ],
   "source": [
    "tm=brbV.vec[2].subs(kappa1,R*kappa2)\n",
    "tm=sp.collect(tm.subs(V.p,0).subs(V.t,0).simplify(),V.m)/V.m\n",
    "tm"
   ]
  },
  {
   "cell_type": "code",
   "execution_count": 73,
   "metadata": {},
   "outputs": [
    {
     "data": {
      "image/png": "[encoded data removed]",
      "text/latex": [
       "$$- \\frac{M^{2} M_{h}^{2} x_{N}^{2} + M^{2} T_{t}^{2} x_{N}^{2} z_{N}^{2} - Q^{4} z_{N}^{2}}{2 M Q^{2} \\kappa x_{N} z_{N}}$$"
      ],
      "text/plain": [
       " ⎛ 2    2    2    2    2    2    2    4    2⎞ \n",
       "-⎝M ⋅M_h ⋅x_N  + M ⋅T_t ⋅x_N ⋅z_N  - Q ⋅z_N ⎠ \n",
       "──────────────────────────────────────────────\n",
       "                    2                         \n",
       "               2⋅M⋅Q ⋅κ⋅x_N⋅z_N               "
      ]
     },
     "execution_count": 73,
     "metadata": {},
     "output_type": "execute_result"
    }
   ],
   "source": [
    "tt=brbV.vec[2].subs(kappa1,R*kappa2)\n",
    "tt=sp.collect(tt.subs(V.p,0).subs(V.m,0).simplify(),V.t)/V.t\n",
    "tt"
   ]
  },
  {
   "cell_type": "code",
   "execution_count": null,
   "metadata": {},
   "outputs": [],
   "source": []
  },
  {
   "cell_type": "code",
   "execution_count": 74,
   "metadata": {},
   "outputs": [],
   "source": [
    "#tp=brbV.vec[3].subs(kappa1,R*kappa2)\n",
    "#tp=sp.collect(tp.subs(V.m,0).subs(V.t,0).simplify(),V.p)/V.p\n",
    "#tp"
   ]
  },
  {
   "cell_type": "code",
   "execution_count": 75,
   "metadata": {},
   "outputs": [],
   "source": [
    "#tm=brbV.vec[3].subs(kappa1,R*kappa2)\n",
    "#tm=sp.collect(tm.subs(V.p,0).subs(V.t,0).simplify(),V.m)/V.m\n",
    "#tm"
   ]
  },
  {
   "cell_type": "code",
   "execution_count": 76,
   "metadata": {},
   "outputs": [],
   "source": [
    "#tt=brbV.vec[3].subs(kappa1,R*kappa2)\n",
    "#tt=sp.collect(tm.subs(V.p,0).subs(V.m,0).simplify(),V.t)/V.t\n",
    "#tt"
   ]
  },
  {
   "cell_type": "markdown",
   "metadata": {},
   "source": [
    "## Eq. 32 from paper"
   ]
  },
  {
   "cell_type": "code",
   "execution_count": 77,
   "metadata": {},
   "outputs": [
    {
     "data": {
      "image/png": "[encoded data removed]",
      "text/latex": [
       "$$\\frac{M^{2} M_{h}^{2} x_{N}^{2} + M^{2} T_{t}^{2} x_{N}^{2} z_{N}^{2} - Q^{4} z_{N}^{2} + \\left|{M^{2} M_{h}^{2} x_{N}^{2} + M^{2} T_{t}^{2} x_{N}^{2} z_{N}^{2} - Q^{4} z_{N}^{2}}\\right|}{2 \\sqrt{4 M^{2} Q^{4} T_{t}^{2} x_{N}^{2} z_{N}^{4} + \\left(M^{2} M_{h}^{2} x_{N}^{2} + M^{2} T_{t}^{2} x_{N}^{2} z_{N}^{2} - Q^{4} z_{N}^{2}\\right)^{2}}}$$"
      ],
      "text/plain": [
       " 2    2    2    2    2    2    2    4    2   │ 2    2    2    2    2    2    2\n",
       "M ⋅M_h ⋅x_N  + M ⋅T_t ⋅x_N ⋅z_N  - Q ⋅z_N  + │M ⋅M_h ⋅x_N  + M ⋅T_t ⋅x_N ⋅z_N \n",
       "──────────────────────────────────────────────────────────────────────────────\n",
       "            __________________________________________________________________\n",
       "           ╱                                                                  \n",
       "          ╱     2  4    2    2    4   ⎛ 2    2    2    2    2    2    2    4  \n",
       "      2⋅╲╱   4⋅M ⋅Q ⋅T_t ⋅x_N ⋅z_N  + ⎝M ⋅M_h ⋅x_N  + M ⋅T_t ⋅x_N ⋅z_N  - Q ⋅z\n",
       "\n",
       "    4    2│\n",
       " - Q ⋅z_N │\n",
       "───────────\n",
       "______     \n",
       "    2      \n",
       "  2⎞       \n",
       "_N ⎠       "
      ]
     },
     "execution_count": 77,
     "metadata": {},
     "output_type": "execute_result"
    }
   ],
   "source": [
    "ppr=1/sp.S(2)*(1+sp.sqrt(1-zN**2*T.t**2/kappa2**2))\n",
    "diff=ppr-pp\n",
    "diff.simplify()\n",
    "diff.subs(kappa2,kappa2_val).simplify()"
   ]
  },
  {
   "cell_type": "code",
   "execution_count": 78,
   "metadata": {},
   "outputs": [
    {
     "data": {
      "image/png": "[encoded data removed]",
      "text/latex": [
       "$$\\frac{Q^{2} \\left(- M^{2} M_{h}^{2} x_{N}^{2} - M^{2} T_{t}^{2} x_{N}^{2} z_{N}^{2} + Q^{4} z_{N}^{2} - \\left|{M^{2} M_{h}^{2} x_{N}^{2} + M^{2} T_{t}^{2} x_{N}^{2} z_{N}^{2} - Q^{4} z_{N}^{2}}\\right|\\right)}{2 M^{2} x_{N}^{2} \\sqrt{4 M^{2} Q^{4} T_{t}^{2} x_{N}^{2} z_{N}^{4} + \\left(M^{2} M_{h}^{2} x_{N}^{2} + M^{2} T_{t}^{2} x_{N}^{2} z_{N}^{2} - Q^{4} z_{N}^{2}\\right)^{2}}}$$"
      ],
      "text/plain": [
       " 2 ⎛   2    2    2    2    2    2    2    4    2   │ 2    2    2    2    2    \n",
       "Q ⋅⎝- M ⋅M_h ⋅x_N  - M ⋅T_t ⋅x_N ⋅z_N  + Q ⋅z_N  - │M ⋅M_h ⋅x_N  + M ⋅T_t ⋅x_N\n",
       "──────────────────────────────────────────────────────────────────────────────\n",
       "                   ___________________________________________________________\n",
       "                  ╱                                                           \n",
       "        2    2   ╱     2  4    2    2    4   ⎛ 2    2    2    2    2    2    2\n",
       "     2⋅M ⋅x_N ⋅╲╱   4⋅M ⋅Q ⋅T_t ⋅x_N ⋅z_N  + ⎝M ⋅M_h ⋅x_N  + M ⋅T_t ⋅x_N ⋅z_N \n",
       "\n",
       "2    2    4    2│⎞\n",
       " ⋅z_N  - Q ⋅z_N │⎠\n",
       "──────────────────\n",
       "_____________     \n",
       "           2      \n",
       "    4    2⎞       \n",
       " - Q ⋅z_N ⎠       "
      ]
     },
     "execution_count": 78,
     "metadata": {},
     "output_type": "execute_result"
    }
   ],
   "source": [
    "pmr=-Q**2/(sp.S(2)*M**2*xN**2)*(-1+sp.sqrt(1-zN**2*T.t**2/kappa2**2))\n",
    "diff=pmr-pm\n",
    "diff.simplify()\n",
    "diff.subs(kappa2,kappa2_val).simplify()"
   ]
  },
  {
   "cell_type": "code",
   "execution_count": 79,
   "metadata": {},
   "outputs": [
    {
     "data": {
      "image/png": "[encoded data removed]",
      "text/latex": [
       "$$0$$"
      ],
      "text/plain": [
       "0"
      ]
     },
     "execution_count": 79,
     "metadata": {},
     "output_type": "execute_result"
    }
   ],
   "source": [
    "ptr=Q*zN*T.t/(sp.sqrt(2)*M*xN*kappa2)\n",
    "diff=ptr-pt\n",
    "diff.simplify()\n",
    "diff.subs(kappa2,kappa2_val).simplify()"
   ]
  },
  {
   "cell_type": "markdown",
   "metadata": {},
   "source": [
    "## Eq. 33 from paper"
   ]
  },
  {
   "cell_type": "code",
   "execution_count": 80,
   "metadata": {},
   "outputs": [
    {
     "data": {
      "image/png": "[encoded data removed]",
      "text/latex": [
       "$$\\frac{M^{2} x_{N}^{2} \\left(- M^{2} M_{h}^{2} x_{N}^{2} - M^{2} T_{t}^{2} x_{N}^{2} z_{N}^{2} + Q^{4} z_{N}^{2} - \\left|{M^{2} M_{h}^{2} x_{N}^{2} + M^{2} T_{t}^{2} x_{N}^{2} z_{N}^{2} - Q^{4} z_{N}^{2}}\\right|\\right)}{2 Q^{2} \\sqrt{4 M^{2} Q^{4} T_{t}^{2} x_{N}^{2} z_{N}^{4} + \\left(M^{2} M_{h}^{2} x_{N}^{2} + M^{2} T_{t}^{2} x_{N}^{2} z_{N}^{2} - Q^{4} z_{N}^{2}\\right)^{2}}}$$"
      ],
      "text/plain": [
       " 2    2 ⎛   2    2    2    2    2    2    2    4    2   │ 2    2    2    2    \n",
       "M ⋅x_N ⋅⎝- M ⋅M_h ⋅x_N  - M ⋅T_t ⋅x_N ⋅z_N  + Q ⋅z_N  - │M ⋅M_h ⋅x_N  + M ⋅T_t\n",
       "──────────────────────────────────────────────────────────────────────────────\n",
       "                   ___________________________________________________________\n",
       "                  ╱                                                           \n",
       "             2   ╱     2  4    2    2    4   ⎛ 2    2    2    2    2    2    2\n",
       "          2⋅Q ⋅╲╱   4⋅M ⋅Q ⋅T_t ⋅x_N ⋅z_N  + ⎝M ⋅M_h ⋅x_N  + M ⋅T_t ⋅x_N ⋅z_N \n",
       "\n",
       "2    2    2    4    2│⎞\n",
       " ⋅x_N ⋅z_N  - Q ⋅z_N │⎠\n",
       "───────────────────────\n",
       "_____________          \n",
       "           2           \n",
       "    4    2⎞            \n",
       " - Q ⋅z_N ⎠            "
      ]
     },
     "execution_count": 80,
     "metadata": {},
     "output_type": "execute_result"
    }
   ],
   "source": [
    "mpr=-M**2*xN**2/(sp.S(2)*Q**2)*(-1+sp.sqrt(1-zN**2*T.t**2/kappa2**2))\n",
    "diff=mpr-mp\n",
    "diff.simplify()\n",
    "diff.subs(kappa2,kappa2_val).simplify()"
   ]
  },
  {
   "cell_type": "code",
   "execution_count": 81,
   "metadata": {},
   "outputs": [
    {
     "data": {
      "image/png": "[encoded data removed]",
      "text/latex": [
       "$$\\frac{M^{2} M_{h}^{2} x_{N}^{2} + M^{2} T_{t}^{2} x_{N}^{2} z_{N}^{2} - Q^{4} z_{N}^{2} + \\left|{M^{2} M_{h}^{2} x_{N}^{2} + M^{2} T_{t}^{2} x_{N}^{2} z_{N}^{2} - Q^{4} z_{N}^{2}}\\right|}{2 \\sqrt{4 M^{2} Q^{4} T_{t}^{2} x_{N}^{2} z_{N}^{4} + \\left(M^{2} M_{h}^{2} x_{N}^{2} + M^{2} T_{t}^{2} x_{N}^{2} z_{N}^{2} - Q^{4} z_{N}^{2}\\right)^{2}}}$$"
      ],
      "text/plain": [
       " 2    2    2    2    2    2    2    4    2   │ 2    2    2    2    2    2    2\n",
       "M ⋅M_h ⋅x_N  + M ⋅T_t ⋅x_N ⋅z_N  - Q ⋅z_N  + │M ⋅M_h ⋅x_N  + M ⋅T_t ⋅x_N ⋅z_N \n",
       "──────────────────────────────────────────────────────────────────────────────\n",
       "            __________________________________________________________________\n",
       "           ╱                                                                  \n",
       "          ╱     2  4    2    2    4   ⎛ 2    2    2    2    2    2    2    4  \n",
       "      2⋅╲╱   4⋅M ⋅Q ⋅T_t ⋅x_N ⋅z_N  + ⎝M ⋅M_h ⋅x_N  + M ⋅T_t ⋅x_N ⋅z_N  - Q ⋅z\n",
       "\n",
       "    4    2│\n",
       " - Q ⋅z_N │\n",
       "───────────\n",
       "______     \n",
       "    2      \n",
       "  2⎞       \n",
       "_N ⎠       "
      ]
     },
     "execution_count": 81,
     "metadata": {},
     "output_type": "execute_result"
    }
   ],
   "source": [
    "mmr=Q**2/(sp.S(2)*Q**2)*(1+sp.sqrt(1-zN**2*T.t**2/kappa2**2))\n",
    "diff=mmr-mm\n",
    "diff.simplify()\n",
    "diff.subs(kappa2,kappa2_val).simplify()"
   ]
  },
  {
   "cell_type": "code",
   "execution_count": 82,
   "metadata": {},
   "outputs": [
    {
     "data": {
      "image/png": "[encoded data removed]",
      "text/latex": [
       "$$0$$"
      ],
      "text/plain": [
       "0"
      ]
     },
     "execution_count": 82,
     "metadata": {},
     "output_type": "execute_result"
    }
   ],
   "source": [
    "mtr=-M*xN*zN*T.t/(sp.sqrt(2)*Q*kappa2)\n",
    "diff=mtr-mt\n",
    "diff.simplify()\n",
    "diff.subs(kappa2,kappa2_val).simplify()"
   ]
  },
  {
   "cell_type": "markdown",
   "metadata": {},
   "source": [
    "##  Eq. 34 from paper"
   ]
  },
  {
   "cell_type": "code",
   "execution_count": 83,
   "metadata": {},
   "outputs": [
    {
     "data": {
      "image/png": "[encoded data removed]",
      "text/latex": [
       "$$0$$"
      ],
      "text/plain": [
       "0"
      ]
     },
     "execution_count": 83,
     "metadata": {},
     "output_type": "execute_result"
    }
   ],
   "source": [
    "tpr=-T.t*zN*M**2*xN**2/(sp.sqrt(2)*M*Q*xN*kappa2)\n",
    "diff=tpr-tp\n",
    "diff.simplify()"
   ]
  },
  {
   "cell_type": "code",
   "execution_count": 84,
   "metadata": {},
   "outputs": [
    {
     "data": {
      "image/png": "[encoded data removed]",
      "text/latex": [
       "$$0$$"
      ],
      "text/plain": [
       "0"
      ]
     },
     "execution_count": 84,
     "metadata": {},
     "output_type": "execute_result"
    }
   ],
   "source": [
    "tmr=T.t*zN*Q**2/(sp.sqrt(2)*M*Q*xN*kappa2)\n",
    "diff=tmr-tm\n",
    "diff.simplify()"
   ]
  },
  {
   "cell_type": "code",
   "execution_count": 85,
   "metadata": {},
   "outputs": [
    {
     "data": {
      "image/png": "[encoded data removed]",
      "text/latex": [
       "$$0$$"
      ],
      "text/plain": [
       "0"
      ]
     },
     "execution_count": 85,
     "metadata": {},
     "output_type": "execute_result"
    }
   ],
   "source": [
    "tpr=-T.t*zN*M**2*xN**2/(sp.sqrt(2)*M*Q*xN*kappa2)\n",
    "diff=tmr-tm\n",
    "diff.simplify()"
   ]
  },
  {
   "cell_type": "markdown",
   "metadata": {},
   "source": [
    "## massless limit : Eq. 35,36,37"
   ]
  },
  {
   "cell_type": "code",
   "execution_count": 86,
   "metadata": {},
   "outputs": [
    {
     "data": {
      "image/png": "[encoded data removed]",
      "text/latex": [
       "$$\\frac{- \\frac{M M_{h}^{2} x_{N}}{2 z_{N}} + \\frac{M T_{t}^{2} x_{N} z_{N}}{2}}{Q^{2}} + \\frac{Q^{2} z_{N}}{2 M x_{N}}$$"
      ],
      "text/plain": [
       "       2            2                  \n",
       "  M⋅M_h ⋅x_N   M⋅T_t ⋅x_N⋅z_N          \n",
       "- ────────── + ──────────────     2    \n",
       "    2⋅z_N            2           Q ⋅z_N\n",
       "───────────────────────────── + ───────\n",
       "               2                2⋅M⋅x_N\n",
       "              Q                        "
      ]
     },
     "execution_count": 86,
     "metadata": {},
     "output_type": "execute_result"
    }
   ],
   "source": [
    "get_massless(kappa2_val,replace=[[kappa2,kappa2_val]])"
   ]
  },
  {
   "cell_type": "code",
   "execution_count": 87,
   "metadata": {},
   "outputs": [
    {
     "data": {
      "image/png": "[encoded data removed]",
      "text/latex": [
       "$$1$$"
      ],
      "text/plain": [
       "1"
      ]
     },
     "execution_count": 87,
     "metadata": {},
     "output_type": "execute_result"
    }
   ],
   "source": [
    "get_massless(pp,replace=[[kappa2,kappa2_val]])"
   ]
  },
  {
   "cell_type": "code",
   "execution_count": 88,
   "metadata": {},
   "outputs": [
    {
     "data": {
      "image/png": "[encoded data removed]",
      "text/latex": [
       "$$\\frac{T_{t}^{2}}{Q^{2}}$$"
      ],
      "text/plain": [
       "   2\n",
       "T_t \n",
       "────\n",
       "  2 \n",
       " Q  "
      ]
     },
     "execution_count": 88,
     "metadata": {},
     "output_type": "execute_result"
    }
   ],
   "source": [
    "get_massless(pm,replace=[[kappa2,kappa2_val]])"
   ]
  },
  {
   "cell_type": "code",
   "execution_count": 89,
   "metadata": {},
   "outputs": [
    {
     "data": {
      "image/png": "[encoded data removed]",
      "text/latex": [
       "$$\\frac{\\sqrt{2} T_{t}}{Q}$$"
      ],
      "text/plain": [
       "√2⋅T_t\n",
       "──────\n",
       "  Q   "
      ]
     },
     "execution_count": 89,
     "metadata": {},
     "output_type": "execute_result"
    }
   ],
   "source": [
    "get_massless(pt,replace=[[kappa2,kappa2_val]])"
   ]
  },
  {
   "cell_type": "code",
   "execution_count": 90,
   "metadata": {},
   "outputs": [
    {
     "data": {
      "image/png": "[encoded data removed]",
      "text/latex": [
       "$$0$$"
      ],
      "text/plain": [
       "0"
      ]
     },
     "execution_count": 90,
     "metadata": {},
     "output_type": "execute_result"
    }
   ],
   "source": [
    "get_massless(mp,replace=[[kappa2,kappa2_val]])"
   ]
  },
  {
   "cell_type": "code",
   "execution_count": 91,
   "metadata": {},
   "outputs": [
    {
     "data": {
      "image/png": "[encoded data removed]",
      "text/latex": [
       "$$1$$"
      ],
      "text/plain": [
       "1"
      ]
     },
     "execution_count": 91,
     "metadata": {},
     "output_type": "execute_result"
    }
   ],
   "source": [
    "get_massless(mm,replace=[[kappa2,kappa2_val]])"
   ]
  },
  {
   "cell_type": "code",
   "execution_count": 92,
   "metadata": {},
   "outputs": [
    {
     "data": {
      "image/png": "[encoded data removed]",
      "text/latex": [
       "$$0$$"
      ],
      "text/plain": [
       "0"
      ]
     },
     "execution_count": 92,
     "metadata": {},
     "output_type": "execute_result"
    }
   ],
   "source": [
    "get_massless(mt,replace=[[kappa2,kappa2_val]])"
   ]
  },
  {
   "cell_type": "code",
   "execution_count": 93,
   "metadata": {},
   "outputs": [
    {
     "data": {
      "image/png": "[encoded data removed]",
      "text/latex": [
       "$$0$$"
      ],
      "text/plain": [
       "0"
      ]
     },
     "execution_count": 93,
     "metadata": {},
     "output_type": "execute_result"
    }
   ],
   "source": [
    "get_massless(tp,replace=[[kappa2,kappa2_val]])"
   ]
  },
  {
   "cell_type": "code",
   "execution_count": 94,
   "metadata": {},
   "outputs": [
    {
     "data": {
      "image/png": "[encoded data removed]",
      "text/latex": [
       "$$\\frac{\\sqrt{2} T_{t}}{Q}$$"
      ],
      "text/plain": [
       "√2⋅T_t\n",
       "──────\n",
       "  Q   "
      ]
     },
     "execution_count": 94,
     "metadata": {},
     "output_type": "execute_result"
    }
   ],
   "source": [
    "get_massless(tm,replace=[[kappa2,kappa2_val]])"
   ]
  },
  {
   "cell_type": "code",
   "execution_count": 95,
   "metadata": {},
   "outputs": [
    {
     "data": {
      "image/png": "[encoded data removed]",
      "text/latex": [
       "$$1$$"
      ],
      "text/plain": [
       "1"
      ]
     },
     "execution_count": 95,
     "metadata": {},
     "output_type": "execute_result"
    }
   ],
   "source": [
    "get_massless(tt,replace=[[kappa2,kappa2_val]])"
   ]
  },
  {
   "cell_type": "markdown",
   "metadata": {},
   "source": [
    "## Eq. 38"
   ]
  },
  {
   "cell_type": "code",
   "execution_count": 96,
   "metadata": {},
   "outputs": [],
   "source": [
    "brbq.LC2MC()"
   ]
  },
  {
   "cell_type": "code",
   "execution_count": 97,
   "metadata": {},
   "outputs": [
    {
     "data": {
      "image/png": "[encoded data removed]",
      "text/latex": [
       "$$\\frac{M^{2} T_{t} x_{N}^{2}}{Q^{2}} + T_{t}$$"
      ],
      "text/plain": [
       " 2        2      \n",
       "M ⋅T_t⋅x_N       \n",
       "─────────── + T_t\n",
       "      2          \n",
       "     Q           "
      ]
     },
     "execution_count": 97,
     "metadata": {},
     "output_type": "execute_result"
    }
   ],
   "source": [
    "qT=brbq.vec[1].subs(kappa1,R*kappa2)\n",
    "\n",
    "get_massless(qT,replace=[[kappa2,kappa2_val]])"
   ]
  },
  {
   "cell_type": "markdown",
   "metadata": {},
   "source": [
    "## Eq. 41"
   ]
  },
  {
   "cell_type": "code",
   "execution_count": 98,
   "metadata": {},
   "outputs": [
    {
     "data": {
      "image/png": "[encoded data removed]",
      "text/latex": [
       "$$\\frac{x_{bj} z_{N} \\left(\\frac{M^{2} M_{h}^{2} x_{N}^{2}}{Q^{4} z_{N}^{2}} + \\frac{M^{2} T_{t}^{2} x_{N}^{2}}{Q^{4}} + 1\\right)}{x_{N}}$$"
      ],
      "text/plain": [
       "         ⎛ 2    2    2    2    2    2    ⎞\n",
       "         ⎜M ⋅M_h ⋅x_N    M ⋅T_t ⋅x_N     ⎟\n",
       "x_bj⋅z_N⋅⎜──────────── + ──────────── + 1⎟\n",
       "         ⎜   4    2            4         ⎟\n",
       "         ⎝  Q ⋅z_N            Q          ⎠\n",
       "──────────────────────────────────────────\n",
       "                   x_N                    "
      ]
     },
     "execution_count": 98,
     "metadata": {},
     "output_type": "execute_result"
    }
   ],
   "source": [
    "exp=2*xb*(P*H)/Q**2\n",
    "exp=exp.simplify()\n",
    "exp=(exp*xN/(xb*zN)).simplify()\n",
    "exp=(xb*zN/xN)*exp\n",
    "exp"
   ]
  },
  {
   "cell_type": "markdown",
   "metadata": {},
   "source": [
    "## Eq. 42"
   ]
  },
  {
   "cell_type": "code",
   "execution_count": null,
   "metadata": {},
   "outputs": [],
   "source": [
    "H=Vec('H','LC',theta=0)\n",
    "q=Vec('q','LC',mod=[1,1,0,0],theta=0)\n",
    "P=Vec('P','LC',mod=[1,1,0,0],theta=0)\n",
    "T=Vec('T',theta=0,mod=[0,0,1,1])\n",
    "q.set_plus(-Q/sp.sqrt(2))\n",
    "q.set_minus(Q/sp.sqrt(2))\n",
    "P.set_plus(Q/xN/sp.sqrt(2))\n",
    "P.set_minus(xN*M**2/sp.sqrt(2)/Q)\n",
    "H.set_minus(zN*q.vec[1])\n",
    "H.set_perp((-zN*T).vec[2:])\n",
    "H.change_plus(Mh)\n",
    "H.vec[0]=H.vec[0].subs(zN**2*T.t**2,MhT**2-Mh**2)"
   ]
  },
  {
   "cell_type": "code",
   "execution_count": null,
   "metadata": {},
   "outputs": [],
   "source": [
    "H.vec"
   ]
  },
  {
   "cell_type": "code",
   "execution_count": null,
   "metadata": {},
   "outputs": [],
   "source": [
    "zN2zh=sp.solve(zh-2*xb*(P*H)/Q**2,zN)[1]\n",
    "zN2zh"
   ]
  },
  {
   "cell_type": "markdown",
   "metadata": {},
   "source": [
    "# SECTION VI"
   ]
  },
  {
   "cell_type": "markdown",
   "metadata": {},
   "source": [
    "## For next Eqs we need form in the path"
   ]
  },
  {
   "cell_type": "code",
   "execution_count": null,
   "metadata": {},
   "outputs": [],
   "source": [
    "def process(code):\n",
    "    \n",
    "    code=[l+'\\n' for l in code]\n",
    "    F=open('code.frm','w')\n",
    "    F.writelines(code)\n",
    "    F.close()\n",
    "    cmd=['form','code.frm']\n",
    "    p = subprocess.Popen(cmd, stdout=subprocess.PIPE)\n",
    "    out=p.communicate()\n",
    "    out=[l for l in out[0].split('\\n') if l!='' if 'sec out of' not in l if ';' not in l if 'FORM' not in l]\n",
    "\n",
    "    \n",
    "    IDX=[i for i in range(len(out)) if '[' and ']' in out[i]]\n",
    "    IDX.append(len(out))\n",
    "    data={}\n",
    "    for i in range(len(IDX)-1):\n",
    "        current=IDX[i]\n",
    "        next=IDX[i+1]\n",
    "        label=out[current].replace('=','').strip().replace('[','').replace(']','')\n",
    "        data[label]=''\n",
    "        for j in range(current+1,next): data[label]+=out[j].strip().replace('&','').replace(' ','')\n",
    "        #data[label]=data[label].replace('sqrt_','sqrt')\n",
    "        #data[label]=data[label].replace('xn','(x_n)')    \n",
    "\n",
    "    \n",
    "    return data"
   ]
  },
  {
   "cell_type": "code",
   "execution_count": null,
   "metadata": {},
   "outputs": [],
   "source": [
    "aem=sp.symbols('alpha_em',positive = True, real = True)\n",
    "y=sp.symbols('y',positive = True, real = True)\n",
    "s=sp.symbols('s',positive = True, real = True)\n",
    "F1=sp.symbols('F_1', real = True)\n",
    "F2=sp.symbols('F_2', real = True)\n",
    "FT=sp.symbols('F_T', real = True)\n",
    "FL=sp.symbols('F_L', real = True)\n",
    "xb=sp.symbols('x_bj',positive = True, real = True)\n",
    "xN=sp.symbols('x_N',positive = True, real = True)\n",
    "zh=sp.symbols('z_h',positive = True, real = True)\n",
    "zN=sp.symbols('z_N',positive = True, real = True)\n",
    "Q=sp.symbols('Q',positive = True, real = True)\n",
    "M=sp.symbols('M',positive = True, real = True)\n",
    "Mh=sp.symbols('M_h',positive = True, real = True)\n",
    "qt=sp.S('q_t')\n",
    "eps=sp.symbols('epsilon', real = True)\n",
    "gam=sp.symbols('gamma', real = True)"
   ]
  },
  {
   "cell_type": "markdown",
   "metadata": {},
   "source": [
    "## Eq. 53"
   ]
  },
  {
   "cell_type": "code",
   "execution_count": null,
   "metadata": {},
   "outputs": [],
   "source": [
    "code=[]\n",
    "\n",
    "#--headers\n",
    "code.append(r'Off Statistics;')\n",
    "code.append(r'.sort;')\n",
    "code.append(r'Index mu,nu;')\n",
    "code.append(r'Vector P,q,l,lp;')\n",
    "#code.append(r'Symbols A,B;')\n",
    "code.append(r'Symbols M,Q,x,y;')\n",
    "code.append(r'CFunction F1,F2;')\n",
    "code.append(r'Symbols n;')\n",
    "\n",
    "code.append(r'Local [L]   = 2*(l(mu)*lp(nu)+l(nu)*lp(mu)-d_(mu,nu)*l.lp);')\n",
    "code.append(r'Local [P1]  = -d_(mu,nu)+q(mu)*q(nu)/q.q;')\n",
    "code.append(r'Local [P2]  = (P(mu)-q(mu)*P.q/q.q)*(P(nu)-q(nu)*P.q/q.q)/P.q;')\n",
    "code.append(r'Local [W]   = [P1]*F1 + [P2]*F2;')\n",
    "code.append(r'Local [LW]  = [L]*[W];')\n",
    "\n",
    "#code.append(r'repeat;')\n",
    "#code.append(r'endrepeat;')\n",
    "code.append(r'id q=l-lp;')\n",
    "code.append(r'id P.P=M^2;')\n",
    "code.append(r'id l.l=0;')\n",
    "code.append(r'id lp.lp=0;')\n",
    "code.append(r'id q.q^n?=(-Q^2)^n;')\n",
    "code.append(r'id P.q^n?=(Q^2/(2*x))^n;')\n",
    "code.append(r'id l.lp=Q^2/2;')\n",
    "code.append(r'id lp=l-q;')\n",
    "code.append(r'id P.l=P.q/y;')\n",
    "code.append(r'id P.q^n?=(Q^2/(2*x))^n;')\n",
    "code.append(r'.sort;')\n",
    "\n",
    "#--prints\n",
    "code.append(r'format fortran;')\n",
    "code.append(r'Print [LW];')\n",
    "code.append(r'.end;')"
   ]
  },
  {
   "cell_type": "code",
   "execution_count": null,
   "metadata": {},
   "outputs": [],
   "source": [
    "out=process(code)\n",
    "print(out)"
   ]
  },
  {
   "cell_type": "code",
   "execution_count": null,
   "metadata": {},
   "outputs": [],
   "source": [
    "LW=parse_expr(out['LW'])\n",
    "LW=LW.subs('x',xb).subs('y',y).subs('Q',Q).subs('F1',F1).subs('F2',F2).subs('M',M)\n",
    "LW"
   ]
  },
  {
   "cell_type": "code",
   "execution_count": null,
   "metadata": {},
   "outputs": [],
   "source": [
    "sigma12= aem**2*y/(4*Q**4*zN) * LW\n",
    "sigma12"
   ]
  },
  {
   "cell_type": "markdown",
   "metadata": {},
   "source": [
    "### second line"
   ]
  },
  {
   "cell_type": "code",
   "execution_count": null,
   "metadata": {},
   "outputs": [],
   "source": [
    "NC2=sigma12.subs(F1,0).subs(F2,1).simplify()\n",
    "NC1=sigma12.subs(F1,1).subs(F2,0).simplify()\n",
    "C2=(1-y-xb**2*y**2*M**2/Q**2)\n",
    "N=(NC2/C2).simplify()\n",
    "C1=(NC1/N).simplify()"
   ]
  },
  {
   "cell_type": "code",
   "execution_count": null,
   "metadata": {},
   "outputs": [],
   "source": [
    "N"
   ]
  },
  {
   "cell_type": "code",
   "execution_count": null,
   "metadata": {},
   "outputs": [],
   "source": [
    "C1"
   ]
  },
  {
   "cell_type": "markdown",
   "metadata": {},
   "source": [
    "### third line"
   ]
  },
  {
   "cell_type": "code",
   "execution_count": null,
   "metadata": {},
   "outputs": [],
   "source": [
    "sigma2L=sigma12.subs(F1,(1+4*M**2*xb**2/Q**2)*F2/(2*xb)-FL/(2*xb))\n",
    "sigma2L"
   ]
  },
  {
   "cell_type": "code",
   "execution_count": null,
   "metadata": {},
   "outputs": [],
   "source": [
    "NC2=sigma2L.subs(FL,0).subs(F2,1).simplify()\n",
    "NCL=sigma2L.subs(FL,1).subs(F2,0).simplify()\n",
    "C2=(1+(1-y)**2+2*xb**2*y**2*M**2/Q**2)\n",
    "N=(NC2/C2).simplify()\n",
    "CL=(NCL/N).simplify()"
   ]
  },
  {
   "cell_type": "code",
   "execution_count": null,
   "metadata": {},
   "outputs": [],
   "source": [
    "N"
   ]
  },
  {
   "cell_type": "code",
   "execution_count": null,
   "metadata": {},
   "outputs": [],
   "source": [
    "CL"
   ]
  },
  {
   "cell_type": "markdown",
   "metadata": {},
   "source": [
    "### forth line"
   ]
  },
  {
   "cell_type": "code",
   "execution_count": null,
   "metadata": {},
   "outputs": [],
   "source": [
    "sigmaLT=sigma12.subs(F2,(FL+FT)/(1+4*M**2*xb**2/Q**2)).subs(F1,FT/(2*xb))\n",
    "sigmaLT.simplify()"
   ]
  },
  {
   "cell_type": "code",
   "execution_count": null,
   "metadata": {},
   "outputs": [],
   "source": [
    "NCT=sigmaLT.subs(FL,0).subs(FT,1).simplify()\n",
    "NCL=sigmaLT.subs(FL,1).subs(FT,0).simplify()\n",
    "CT=1\n",
    "N=(NCT/CT).simplify()\n",
    "CL=(NCL/N).simplify()"
   ]
  },
  {
   "cell_type": "code",
   "execution_count": null,
   "metadata": {},
   "outputs": [],
   "source": [
    "CL"
   ]
  },
  {
   "cell_type": "code",
   "execution_count": null,
   "metadata": {},
   "outputs": [],
   "source": [
    "eps_val=CL.subs(M,gam*Q/(2*xb)).simplify()\n",
    "eps_val"
   ]
  },
  {
   "cell_type": "code",
   "execution_count": null,
   "metadata": {},
   "outputs": [],
   "source": [
    "N_val=N.subs(M,gam*Q/(2*xb)).simplify()"
   ]
  },
  {
   "cell_type": "code",
   "execution_count": null,
   "metadata": {},
   "outputs": [],
   "source": [
    "N_val*=(1-eps_val)/(1-eps)\n",
    "N_val.simplify()"
   ]
  },
  {
   "cell_type": "markdown",
   "metadata": {},
   "source": [
    "## Jac in Eq. 58 "
   ]
  },
  {
   "cell_type": "code",
   "execution_count": null,
   "metadata": {},
   "outputs": [],
   "source": [
    "H=Vec('H','LC',theta=0)\n",
    "q=Vec('q','LC',mod=[1,1,0,0],theta=0)\n",
    "P=Vec('P','LC',mod=[1,1,0,0],theta=0)\n",
    "T=Vec('T',theta=0,mod=[0,0,1,1])\n",
    "q.set_plus(-Q/sp.sqrt(2))\n",
    "q.set_minus(Q/sp.sqrt(2))\n",
    "P.set_plus(Q/xN/sp.sqrt(2))\n",
    "P.set_minus(xN*M**2/sp.sqrt(2)/Q)\n",
    "H.set_minus(zN*q.vec[1])\n",
    "H.set_perp((-zN*T).vec[2:])\n",
    "H.change_plus(Mh)\n",
    "H.vec[0]=H.vec[0].subs(zN**2*T.t**2,MhT**2-Mh**2)\n",
    "zN2zh=sp.solve(zh-2*xb*(P*H)/Q**2,zN)[1]\n",
    "zN2zh"
   ]
  },
  {
   "cell_type": "code",
   "execution_count": null,
   "metadata": {},
   "outputs": [],
   "source": [
    "jac=sp.diff(zN2zh,zh)\n",
    "jac.simplify()"
   ]
  },
  {
   "cell_type": "code",
   "execution_count": null,
   "metadata": {},
   "outputs": [],
   "source": [
    "exp=xN*(sp.sqrt(1-(4*M**2*xb**2*MhT**2)/Q**4/zh**2)+1)\n",
    "exp/=2*xb*sp.sqrt(1-(4*M**2*xb**2*MhT**2)/Q**4/zh**2)\n",
    "exp.simplify()"
   ]
  },
  {
   "cell_type": "code",
   "execution_count": null,
   "metadata": {},
   "outputs": [],
   "source": []
  },
  {
   "cell_type": "code",
   "execution_count": null,
   "metadata": {},
   "outputs": [],
   "source": []
  },
  {
   "cell_type": "code",
   "execution_count": null,
   "metadata": {},
   "outputs": [],
   "source": []
  },
  {
   "cell_type": "markdown",
   "metadata": {},
   "source": [
    "## Eq. 61, 62"
   ]
  },
  {
   "cell_type": "code",
   "execution_count": null,
   "metadata": {},
   "outputs": [],
   "source": [
    "code=[]\n",
    "\n",
    "code.append(r'Off Statistics;')\n",
    "code.append(r'.sort;')\n",
    "code.append(r'Index mu,nu;')\n",
    "code.append(r'Vector P,q,Pplus,Pt;')\n",
    "code.append(r'Symbols A,B;')\n",
    "code.append(r'Symbols M,Q,xN;')\n",
    "code.append(r'CFunction F1,F2;')\n",
    "code.append(r'Symbols n;')\n",
    "\n",
    "#--setup invariants\n",
    "code.append(r'Local [P.P]  = P(1)*P(2)+P(2)*P(1);')\n",
    "code.append(r'Local [P.q]  = P(1)*q(2)+P(2)*q(1);')\n",
    "code.append(r'id P(1)=Pplus;')\n",
    "code.append(r'id P(2)=M^2/2/Pplus;')\n",
    "code.append(r'id q(1)=-xN*Pplus;')\n",
    "code.append(r'id q(2)=Q^2/2/xN/Pplus;')\n",
    "code.append(r'id Pplus=(Q/sqrt_(2)/xN);')\n",
    "code.append(r'id 1/Pplus=1/(Q/sqrt_(2)/xN);')\n",
    "code.append(r'.sort;')\n",
    "\n",
    "\n",
    "#--compute projections\n",
    "code.append(r'Local [W1]  = -d_(mu,nu)+q(mu)*q(nu)/q.q;')\n",
    "code.append(r'Local [W2]  = (P(mu)-q(mu)*P.q/q.q)*(P(nu)-q(nu)*P.q/q.q)/P.q;')\n",
    "code.append(r'Local [Pg]  = d_(mu,nu);')\n",
    "code.append(r'Local [Ppp] = P(mu)*P(nu);')\n",
    "code.append(r'Local [P]   = A*[Pg] + B*[Ppp];')\n",
    "code.append(r'Local [PW1] = [P]*[W1];')\n",
    "code.append(r'Local [PW2] = [P]*[W2];')\n",
    "code.append(r'id P.P=[P.P];')\n",
    "code.append(r'id q.q^n?=(-Q^2)^n;')\n",
    "code.append(r'id P.q^n?=([P.q])^n;')\n",
    "code.append(r'.sort;')\n",
    "\n",
    "\n",
    "#--compute projections\n",
    "code.append(r'id P.P=[P.P];')\n",
    "code.append(r'id P.q^n?=([P.q])^n;')\n",
    "code.append(r'id q.q^n?=(-Q^2)^n;')\n",
    "code.append(r'.sort;')\n",
    "\n",
    "\n",
    "#--prints\n",
    "code.append(r'format fortran;')\n",
    "code.append(r'Print [PW1];')\n",
    "code.append(r'Print [PW2];')\n",
    "\n",
    "code.append(r'.end;')"
   ]
  },
  {
   "cell_type": "code",
   "execution_count": null,
   "metadata": {},
   "outputs": [],
   "source": [
    "out=process(code)"
   ]
  },
  {
   "cell_type": "code",
   "execution_count": null,
   "metadata": {},
   "outputs": [],
   "source": [
    "out['PW1']"
   ]
  },
  {
   "cell_type": "code",
   "execution_count": null,
   "metadata": {},
   "outputs": [],
   "source": [
    "A,B=sp.symbols('A,B')\n",
    "PW1=sp.nsimplify(parse_expr(out['PW1'])).simplify()\n",
    "PW1=PW1.subs('xN',xN).subs('A',A).subs('B',B)\n",
    "PW1=PW1.subs('Q',Q).subs('M',M)\n",
    "\n",
    "PW2=sp.nsimplify(parse_expr(out['PW2'])).simplify()\n",
    "PW2=PW2.subs('xN',xN).subs('A',A).subs('B',B)\n",
    "PW2=PW2.subs('Q',Q).subs('M',M)"
   ]
  },
  {
   "cell_type": "code",
   "execution_count": null,
   "metadata": {},
   "outputs": [],
   "source": [
    "PW1"
   ]
  },
  {
   "cell_type": "code",
   "execution_count": null,
   "metadata": {},
   "outputs": [],
   "source": [
    "PW2"
   ]
  },
  {
   "cell_type": "code",
   "execution_count": null,
   "metadata": {},
   "outputs": [],
   "source": [
    "P1=sp.solve([PW1-1,PW2-0],A,B)\n",
    "P1[A]=sp.factor(P1[A])\n",
    "P1[B]=sp.factor(P1[B])\n",
    "P1"
   ]
  },
  {
   "cell_type": "code",
   "execution_count": null,
   "metadata": {},
   "outputs": [],
   "source": [
    "P1[A]=get_massless(P1[A])\n",
    "P1[B]=get_massless(P1[B])\n",
    "P1"
   ]
  },
  {
   "cell_type": "code",
   "execution_count": null,
   "metadata": {},
   "outputs": [],
   "source": [
    "P2=sp.solve([PW1-0,PW2-1],A,B)\n",
    "P2[A]=sp.factor(P2[A])\n",
    "P2[B]=sp.factor(P2[B])\n",
    "P2"
   ]
  },
  {
   "cell_type": "code",
   "execution_count": null,
   "metadata": {},
   "outputs": [],
   "source": [
    "P2[A]=get_massless(P2[A])\n",
    "P2[B]=get_massless(P2[B])\n",
    "P2"
   ]
  },
  {
   "cell_type": "markdown",
   "metadata": {},
   "source": [
    "## Eq. 64"
   ]
  },
  {
   "cell_type": "code",
   "execution_count": null,
   "metadata": {},
   "outputs": [],
   "source": [
    "jac=sp.diff(zN2zh,zh)\n",
    "exp=aem**2*y/(4*zN*xb*Q**2*(1-eps)) * jac * (FT+eps*FL)\n",
    "exp=exp.subs(FL,FL/(jac/(4*zN)/(1+gam**2/(2*xb))))\n",
    "exp=exp.subs(FT,FT/(jac/(4*zN)/(1+gam**2/(2*xb))))\n",
    "exp.simplify()"
   ]
  },
  {
   "cell_type": "code",
   "execution_count": null,
   "metadata": {},
   "outputs": [],
   "source": [
    "sp.diff(zN2zh,zh)"
   ]
  },
  {
   "cell_type": "markdown",
   "metadata": {},
   "source": [
    "## Eq. 68-69"
   ]
  },
  {
   "cell_type": "code",
   "execution_count": null,
   "metadata": {},
   "outputs": [],
   "source": [
    "H=Vec('H','LC',theta=0)\n",
    "q=Vec('q','LC',mod=[1,1,0,0],theta=0)\n",
    "P=Vec('P','LC',mod=[1,1,0,0],theta=0)\n",
    "T=Vec('T',theta=0,mod=[0,0,1,1])\n",
    "q.set_plus(-Q/sp.sqrt(2))\n",
    "q.set_minus(Q/sp.sqrt(2))\n",
    "P.set_plus(Q/xN/sp.sqrt(2))\n",
    "P.set_minus(xN*M**2/sp.sqrt(2)/Q)\n",
    "H.set_minus(zN*q.vec[1])\n",
    "H.set_perp((-zN*T).vec[2:])\n",
    "H.change_plus(Mh)\n",
    "#H.vec[0]=H.vec[0].subs((zN*T.t)**2,MhT**2-Mh**2)"
   ]
  },
  {
   "cell_type": "code",
   "execution_count": null,
   "metadata": {},
   "outputs": [],
   "source": [
    "H.vec"
   ]
  },
  {
   "cell_type": "code",
   "execution_count": null,
   "metadata": {},
   "outputs": [],
   "source": [
    "W=P+q-H\n",
    "W.get_sqmass().simplify()"
   ]
  },
  {
   "cell_type": "code",
   "execution_count": null,
   "metadata": {},
   "outputs": [],
   "source": []
  },
  {
   "cell_type": "code",
   "execution_count": null,
   "metadata": {},
   "outputs": [],
   "source": [
    "xN2xb=sp.solve(xb-Q**2/(2*P*q),xN)[0]\n",
    "xN2xb=xN2xb*(Q+sp.sqrt(Q**2+4*M**2*xb**2))\n",
    "xN2xb=xN2xb.expand()\n",
    "xN2xb/=(Q+sp.sqrt(Q**2+4*M**2*xb**2))\n",
    "xN2xb"
   ]
  },
  {
   "cell_type": "code",
   "execution_count": null,
   "metadata": {},
   "outputs": [],
   "source": [
    "W=P+q\n",
    "W2=W.get_sqmass()\n",
    "W2=W2.expand()\n",
    "W2=W2.subs(xN,xN2xb).expand().simplify().expand()\n",
    "W2"
   ]
  },
  {
   "cell_type": "code",
   "execution_count": null,
   "metadata": {},
   "outputs": [],
   "source": [
    "Pq=P+q\n",
    "exp=-2*(Pq*H)\n",
    "exp=exp.subs(zN,zN2zh)\n",
    "exp=exp.subs(xN,xN2xb)\n",
    "\n",
    "exp=exp.simplify()\n",
    "den=sp.denom(exp)\n",
    "num=sp.numer(exp)\n",
    "\n",
    "dum=(Q-sp.sqrt(4*M**2*xb**2+Q**2))*(Q**2*zh-sp.sqrt(-4*M**2*MhT**2*xb**2+Q**4*zh**2))\n",
    "den=(den*dum).expand()\n",
    "num=(num*dum).expand()\n",
    "exp=num/den\n",
    "exp=exp.simplify().expand()\n",
    "exp"
   ]
  },
  {
   "cell_type": "code",
   "execution_count": null,
   "metadata": {},
   "outputs": [],
   "source": [
    "sp.series(exp,M,0,1)"
   ]
  },
  {
   "cell_type": "markdown",
   "metadata": {},
   "source": [
    "##  Eq. 70"
   ]
  },
  {
   "cell_type": "code",
   "execution_count": null,
   "metadata": {},
   "outputs": [],
   "source": [
    "get_massless(xN2xb,n=6)"
   ]
  },
  {
   "cell_type": "markdown",
   "metadata": {},
   "source": [
    "## Eq. 71"
   ]
  },
  {
   "cell_type": "code",
   "execution_count": null,
   "metadata": {},
   "outputs": [],
   "source": [
    "H=Vec('H','LC',theta=0)\n",
    "q=Vec('q','LC',mod=[1,1,0,0],theta=0)\n",
    "P=Vec('P','LC',mod=[1,1,0,0],theta=0)\n",
    "T=Vec('T',theta=0,mod=[0,0,1,1])\n",
    "q.set_plus(-Q/sp.sqrt(2))\n",
    "q.set_minus(Q/sp.sqrt(2))\n",
    "P.set_plus(Q/xN/sp.sqrt(2))\n",
    "P.set_minus(xN*M**2/sp.sqrt(2)/Q)\n",
    "H.set_minus(zN*q.vec[1])\n",
    "H.set_perp((-zN*T).vec[2:])\n",
    "H.change_plus(Mh)\n",
    "H.vec[0]=H.vec[0].subs(zN**2*T.t**2,MhT**2-Mh**2)"
   ]
  },
  {
   "cell_type": "code",
   "execution_count": null,
   "metadata": {},
   "outputs": [],
   "source": [
    "zN2zh=sp.solve(zh-2*xb*(P*H)/Q**2,zN)[1]\n",
    "zN2zh"
   ]
  },
  {
   "cell_type": "code",
   "execution_count": null,
   "metadata": {},
   "outputs": [],
   "source": [
    "exp=zN2zh.subs(MhT**2,Mh**2+H.t**2)\n",
    "exp=exp.subs(xN,xN2xb)\n",
    "exp=get_massless(exp,n=10)/zh\n",
    "exp=exp.expand()\n",
    "exp"
   ]
  },
  {
   "cell_type": "code",
   "execution_count": null,
   "metadata": {},
   "outputs": [],
   "source": [
    "paper=1-xb**2*M**2/Q**2*(1+H.t**2/zh**2/Q**2)\\\n",
    "      +(xb**2*M**2/Q**2)**2*(H.t**2/zh**2/Q**2-H.t**4/zh**4/Q**4+2-Mh**2/zh**2/M**2/xb**2)\n",
    "\n",
    "paper=paper.expand()\n",
    "paper"
   ]
  },
  {
   "cell_type": "code",
   "execution_count": null,
   "metadata": {},
   "outputs": [],
   "source": [
    "diff=(exp-paper).expand().subs(1/Q**8,0)\n",
    "diff"
   ]
  },
  {
   "cell_type": "markdown",
   "metadata": {},
   "source": [
    "# SECTION VIII"
   ]
  },
  {
   "cell_type": "code",
   "execution_count": null,
   "metadata": {},
   "outputs": [],
   "source": [
    "xb=sp.symbols('x_bj',positive = True, real = True)\n",
    "xN=sp.symbols('x_N',positive = True, real = True)\n",
    "zh=sp.symbols('z_h',positive = True, real = True)\n",
    "zN=sp.symbols('z_N',positive = True, real = True)\n",
    "Q=sp.symbols('Q',positive = True, real = True)\n",
    "M=sp.symbols('M',positive = True, real = True)\n",
    "Mh=sp.symbols('M_h',positive = True, real = True)\n",
    "Mki=sp.symbols('M_ki',positive = True, real = True)\n",
    "Mkf=sp.symbols('M_kf',positive = True, real = True)\n",
    "Mx=sp.symbols('M_x',positive = True, real = True)\n",
    "\n",
    "MhT=sp.symbols('M_hT',positive = True, real = True)\n",
    "qt=sp.S('q_t')\n",
    "eps=sp.S('epsilon')\n",
    "xi=sp.symbols('xi',positive = True, real = True)\n",
    "zeta=sp.symbols('zeta',positive = True, real = True)\n",
    "hxN=sp.symbols('\\hat{x}_N',positive = True, real = True)\n",
    "hzN=sp.symbols('\\hat{z}_h',positive = True, real = True)"
   ]
  },
  {
   "cell_type": "code",
   "execution_count": null,
   "metadata": {},
   "outputs": [],
   "source": []
  },
  {
   "cell_type": "code",
   "execution_count": null,
   "metadata": {},
   "outputs": [],
   "source": [
    "ki=Vec('k_i','LC',theta=0)\n",
    "kf=Vec('k_f','LC',theta=0)\n",
    "kx=Vec('k_x','LC',theta=0)\n",
    "\n",
    "q=Vec('q','LC',mod=[1,1,0,0],theta=0)\n",
    "P=Vec('P','LC',mod=[1,1,0,0],theta=0)\n",
    "H=Vec('H','LC',theta=0)\n",
    "T=Vec('T',theta=0,mod=[0,0,1,1])\n",
    "dk=Vec('delta_k',theta=0,mod=[0,0,1,1])\n",
    "\n",
    "q.set_plus(-Q/sp.sqrt(2))\n",
    "q.set_minus(Q/sp.sqrt(2))\n",
    "P.set_plus(Q/xN/sp.sqrt(2))\n",
    "P.set_minus(xN*M**2/sp.sqrt(2)/Q)\n",
    "H.set_minus(zN*q.vec[1])\n",
    "H.set_perp((-zN*T).vec[2:])\n",
    "H.change_plus(Mh)\n",
    "\n",
    "ki.set_plus((xN/hxN)*P.vec[0])\n",
    "kf.set_minus(H.vec[1]/(zN/hzN))\n",
    "kf.set_perp((-hzN*T+dk).vec[2:])\n",
    "\n",
    "ki.change_minus(Mki)\n",
    "kf.change_plus(Mkf)"
   ]
  },
  {
   "cell_type": "code",
   "execution_count": null,
   "metadata": {},
   "outputs": [],
   "source": [
    "dk.vec"
   ]
  },
  {
   "cell_type": "code",
   "execution_count": null,
   "metadata": {},
   "outputs": [],
   "source": [
    "ki.vec"
   ]
  },
  {
   "cell_type": "code",
   "execution_count": null,
   "metadata": {},
   "outputs": [],
   "source": [
    "kf.vec"
   ]
  },
  {
   "cell_type": "code",
   "execution_count": null,
   "metadata": {},
   "outputs": [],
   "source": [
    "kx=ki+q-kf\n",
    "kx.simplify_vec()\n",
    "kx.vec=[_.subs(Mkf,0).subs(Mki,0).subs(ki.t,0) for _ in kx.vec]\n",
    "Mx2_val=kx.get_sqmass()\n",
    "kx.vec"
   ]
  },
  {
   "cell_type": "code",
   "execution_count": null,
   "metadata": {},
   "outputs": [],
   "source": [
    "Mx2_val"
   ]
  },
  {
   "cell_type": "code",
   "execution_count": null,
   "metadata": {},
   "outputs": [],
   "source": [
    "sol=sp.solve(Mx**2-Mx2_val.subs(dk.t,0),hzN)\n",
    "len(sol)"
   ]
  },
  {
   "cell_type": "code",
   "execution_count": null,
   "metadata": {},
   "outputs": [],
   "source": [
    "sol[0].subs(Mx,0).subs(kf.t,0).subs(dk.t,0).simplify()"
   ]
  },
  {
   "cell_type": "code",
   "execution_count": null,
   "metadata": {},
   "outputs": [],
   "source": [
    "hzN_val=sol[0]\n",
    "hzN_val.simplify()"
   ]
  },
  {
   "cell_type": "markdown",
   "metadata": {},
   "source": [
    "## Eqs.86-88"
   ]
  },
  {
   "cell_type": "code",
   "execution_count": null,
   "metadata": {},
   "outputs": [],
   "source": [
    "k=kf-q\n",
    "k.vec"
   ]
  },
  {
   "cell_type": "markdown",
   "metadata": {},
   "source": [
    "### Eq. 86"
   ]
  },
  {
   "cell_type": "code",
   "execution_count": null,
   "metadata": {},
   "outputs": [],
   "source": [
    "exp=k.vec[0].subs(hzN,hzN_val)\n",
    "exp=exp.subs(Mkf,0).subs(dk.t,0)\n",
    "exp=exp.simplify()\n",
    "exp.expand().simplify()"
   ]
  },
  {
   "cell_type": "code",
   "execution_count": null,
   "metadata": {},
   "outputs": [],
   "source": [
    "paper=Q/sp.sqrt(2)*(1+(T.t/Q)**2*(1-hxN*(1+(Mx/Q)**2))/(1-hxN*(1-(T.t/Q)**2)))\n",
    "paper"
   ]
  },
  {
   "cell_type": "code",
   "execution_count": null,
   "metadata": {},
   "outputs": [],
   "source": [
    "(exp-paper).simplify()"
   ]
  },
  {
   "cell_type": "code",
   "execution_count": null,
   "metadata": {},
   "outputs": [],
   "source": [
    "get_massless(exp/Q*sp.sqrt(2)).simplify()"
   ]
  },
  {
   "cell_type": "markdown",
   "metadata": {},
   "source": [
    "### Eq. 87"
   ]
  },
  {
   "cell_type": "code",
   "execution_count": null,
   "metadata": {},
   "outputs": [],
   "source": [
    "exp=k.vec[1].subs(hzN,hzN_val)\n",
    "exp=exp.subs(Mkf,0)\n",
    "exp=exp.simplify()\n",
    "exp.expand().simplify()"
   ]
  },
  {
   "cell_type": "code",
   "execution_count": null,
   "metadata": {},
   "outputs": [],
   "source": [
    "paper=-Q/sp.sqrt(2)*(1-(1-hxN*(1+(Mx/Q)**2))/(1-hxN*(1-(T.t/Q)**2)))\n",
    "paper"
   ]
  },
  {
   "cell_type": "code",
   "execution_count": null,
   "metadata": {},
   "outputs": [],
   "source": [
    "(exp-paper).simplify()"
   ]
  },
  {
   "cell_type": "code",
   "execution_count": null,
   "metadata": {},
   "outputs": [],
   "source": [
    "get_massless(-exp/Q*sp.sqrt(2)/hxN*(1-hxN)).simplify()"
   ]
  },
  {
   "cell_type": "markdown",
   "metadata": {},
   "source": [
    "### Eq. 88"
   ]
  },
  {
   "cell_type": "code",
   "execution_count": null,
   "metadata": {},
   "outputs": [],
   "source": [
    "exp=k.vec[2].subs(hzN,hzN_val).subs(dk.t,0)\n",
    "exp=exp.subs(Mkf,0)\n",
    "exp=exp.simplify()\n",
    "exp.expand().simplify()"
   ]
  },
  {
   "cell_type": "code",
   "execution_count": null,
   "metadata": {},
   "outputs": [],
   "source": [
    "paper=-Q*(T.t/Q)*(1-hxN*(1+(Mx/Q)**2))/(1-hxN*(1-(T.t/Q)**2))\n",
    "paper"
   ]
  },
  {
   "cell_type": "code",
   "execution_count": null,
   "metadata": {},
   "outputs": [],
   "source": [
    "(exp-paper).simplify()"
   ]
  },
  {
   "cell_type": "code",
   "execution_count": null,
   "metadata": {},
   "outputs": [],
   "source": [
    "get_massless(exp).simplify().expand().simplify()"
   ]
  },
  {
   "cell_type": "markdown",
   "metadata": {},
   "source": [
    "## eq. 92-95"
   ]
  },
  {
   "cell_type": "code",
   "execution_count": null,
   "metadata": {},
   "outputs": [],
   "source": [
    "R1=(H*kf)/(H*ki)\n",
    "R1.simplify()"
   ]
  },
  {
   "cell_type": "code",
   "execution_count": null,
   "metadata": {},
   "outputs": [],
   "source": [
    "R2=(k.get_sqmass()/Q**2).expand()\n",
    "R2"
   ]
  },
  {
   "cell_type": "code",
   "execution_count": null,
   "metadata": {},
   "outputs": [],
   "source": [
    "R3=(kx.get_sqmass()/Q**2).expand()\n",
    "R3"
   ]
  },
  {
   "cell_type": "code",
   "execution_count": null,
   "metadata": {},
   "outputs": [],
   "source": [
    "k*q"
   ]
  },
  {
   "cell_type": "markdown",
   "metadata": {},
   "source": [
    "# SECTION IX"
   ]
  },
  {
   "cell_type": "code",
   "execution_count": null,
   "metadata": {},
   "outputs": [],
   "source": [
    "ki=Vec('k_i','LC',theta=0)\n",
    "kf=Vec('k_f','LC',theta=0)\n",
    "kx=Vec('k_x','LC',theta=0)\n",
    "\n",
    "q=Vec('q','LC',mod=[1,1,0,0],theta=0)\n",
    "P=Vec('P','LC',mod=[1,1,0,0],theta=0)\n",
    "H=Vec('H','LC',theta=0)\n",
    "T=Vec('T',theta=0,mod=[0,0,1,1])\n",
    "dk=Vec('delta_k',theta=0,mod=[0,0,1,1])\n",
    "\n",
    "q.set_plus(-Q/sp.sqrt(2))\n",
    "q.set_minus(Q/sp.sqrt(2))\n",
    "P.set_plus(Q/xN/sp.sqrt(2))\n",
    "P.set_minus(xN*M**2/sp.sqrt(2)/Q)\n",
    "H.set_minus(zN*q.vec[1])\n",
    "H.set_perp((-zN*T).vec[2:])\n",
    "H.change_plus(Mh)\n",
    "H.vec[0]=H.vec[0].subs(Mh**2,MhT**2-zN**2*T.t**2)\n",
    "\n",
    "ki.set_plus((xN/hxN)*P.vec[0])\n",
    "kf.set_minus(H.vec[1]/(zN/hzN))\n",
    "kf.set_perp((-hzN*T+dk).vec[2:])\n",
    "\n",
    "ki.change_minus(Mki)\n",
    "kf.change_plus(Mkf)\n",
    "\n",
    "dy=sp.symbols('Delta_y')"
   ]
  },
  {
   "cell_type": "code",
   "execution_count": null,
   "metadata": {},
   "outputs": [],
   "source": [
    "dy"
   ]
  },
  {
   "cell_type": "code",
   "execution_count": null,
   "metadata": {},
   "outputs": [],
   "source": [
    "H.vec"
   ]
  },
  {
   "cell_type": "markdown",
   "metadata": {},
   "source": [
    "## Eq. 98"
   ]
  },
  {
   "cell_type": "code",
   "execution_count": null,
   "metadata": {},
   "outputs": [],
   "source": [
    "yp=1/sp.S(2)*sp.log(P.vec[0]/P.vec[1]).simplify()\n",
    "yp"
   ]
  },
  {
   "cell_type": "code",
   "execution_count": null,
   "metadata": {},
   "outputs": [],
   "source": [
    "yh=1/sp.S(2)*sp.log(H.vec[0]/H.vec[1]).simplify()\n",
    "yh"
   ]
  },
  {
   "cell_type": "markdown",
   "metadata": {},
   "source": [
    "## Eq. 101"
   ]
  },
  {
   "cell_type": "code",
   "execution_count": null,
   "metadata": {},
   "outputs": [],
   "source": [
    "dy_val=(yp-yh).simplify()\n",
    "dy_val"
   ]
  },
  {
   "cell_type": "code",
   "execution_count": null,
   "metadata": {},
   "outputs": [],
   "source": [
    "sp.solve(dy-dy_val,zN)"
   ]
  },
  {
   "cell_type": "markdown",
   "metadata": {},
   "source": [
    "## Eq. 102"
   ]
  },
  {
   "cell_type": "code",
   "execution_count": null,
   "metadata": {},
   "outputs": [],
   "source": [
    "sol=sp.solve(zh-2*xb*(P*H)/Q**2,zN)\n",
    "sol"
   ]
  },
  {
   "cell_type": "code",
   "execution_count": null,
   "metadata": {},
   "outputs": [],
   "source": [
    "Lyh=sp.exp(yh)\n",
    "Lyh=Lyh.subs(zN,sol[0])\n",
    "Lyh=Lyh.subs(xN,xN2xb)\n",
    "#get_massless(Lyh).simplify()\n",
    "num=sp.numer(Lyh)\n",
    "den=sp.denom(Lyh)\n",
    "A=Q**2*zh\n",
    "B=den-A\n",
    "den=den*(A-B)\n",
    "den=den.expand()\n",
    "Lyh=num*(A-B)/den\n",
    "lprint(Lyh)\n",
    "lprint(get_massless(Lyh).simplify())"
   ]
  },
  {
   "cell_type": "code",
   "execution_count": null,
   "metadata": {},
   "outputs": [],
   "source": [
    "Lyh=sp.exp(yh)\n",
    "Lyh=Lyh.subs(zN,sol[1])\n",
    "Lyh=Lyh.subs(xN,xN2xb)\n",
    "#get_massless(Lyh).simplify()\n",
    "num=sp.numer(Lyh)\n",
    "den=sp.denom(Lyh)\n",
    "A=Q**2*zh\n",
    "B=den-A\n",
    "den=den*(A-B)\n",
    "den=den.expand()\n",
    "Lyh=num*(A-B)/den\n",
    "lprint(Lyh)\n",
    "lprint(get_massless(Lyh).simplify())"
   ]
  },
  {
   "cell_type": "markdown",
   "metadata": {},
   "source": [
    "## Eq. 103"
   ]
  },
  {
   "cell_type": "code",
   "execution_count": null,
   "metadata": {},
   "outputs": [],
   "source": [
    "yi=1/sp.S(2)*sp.log(ki.vec[0]/ki.vec[1])\n",
    "lprint(yi)\n",
    "get_massless(yi).simplify()"
   ]
  },
  {
   "cell_type": "code",
   "execution_count": null,
   "metadata": {},
   "outputs": [],
   "source": [
    "yf=1/sp.S(2)*sp.log(kf.vec[0]/kf.vec[1]).simplify()\n",
    "lprint(yf)\n",
    "lprint(yf.subs(Mkf,0).subs(dk.t,0))\n",
    "lprint(yf.subs(T.t,0))"
   ]
  },
  {
   "cell_type": "markdown",
   "metadata": {},
   "source": [
    "## Eq. 104"
   ]
  },
  {
   "cell_type": "code",
   "execution_count": null,
   "metadata": {},
   "outputs": [],
   "source": [
    "ki.vec"
   ]
  },
  {
   "cell_type": "code",
   "execution_count": null,
   "metadata": {},
   "outputs": [],
   "source": [
    "kf.vec"
   ]
  },
  {
   "cell_type": "code",
   "execution_count": null,
   "metadata": {},
   "outputs": [],
   "source": [
    "q.vec"
   ]
  },
  {
   "cell_type": "markdown",
   "metadata": {},
   "source": [
    "# SECTION X"
   ]
  },
  {
   "cell_type": "code",
   "execution_count": null,
   "metadata": {},
   "outputs": [],
   "source": [
    "xh=sp.symbols('x_h',positive = True, real = True)\n",
    "dy=sp.symbols('Delta_y',positive = True, real = True)\n",
    "H=Vec('H','LC',theta=0)\n",
    "q=Vec('q','LC',mod=[1,1,0,0],theta=0)\n",
    "P=Vec('P','LC',mod=[1,1,0,0],theta=0)\n",
    "T=Vec('T',theta=0,mod=[0,0,1,1])\n",
    "q.set_plus(-Q/sp.sqrt(2))\n",
    "q.set_minus(Q/sp.sqrt(2))\n",
    "P.set_plus(Q/xN/sp.sqrt(2))\n",
    "P.set_minus(xN*M**2/sp.sqrt(2)/Q)\n",
    "H.set_minus(zN*q.vec[1])\n",
    "H.set_perp((-zN*T).vec[2:])\n",
    "H.change_plus(Mh)"
   ]
  },
  {
   "cell_type": "code",
   "execution_count": null,
   "metadata": {},
   "outputs": [],
   "source": [
    "sol=sp.solve(xh-(q*H)/(P*q),zN)\n",
    "sol=[_.simplify() for _ in sol]\n",
    "sol"
   ]
  },
  {
   "cell_type": "code",
   "execution_count": null,
   "metadata": {},
   "outputs": [],
   "source": [
    "get_massless(sol[0])"
   ]
  },
  {
   "cell_type": "code",
   "execution_count": null,
   "metadata": {},
   "outputs": [],
   "source": [
    "get_massless(sol[1])"
   ]
  },
  {
   "cell_type": "markdown",
   "metadata": {},
   "source": [
    "## Eq. 106"
   ]
  },
  {
   "cell_type": "code",
   "execution_count": null,
   "metadata": {},
   "outputs": [],
   "source": [
    "exp=sol[1]\n",
    "exp=exp.subs(xN,xN2xb)\n",
    "exp=exp.subs(M,0)\n",
    "exp=exp.simplify()\n",
    "exp"
   ]
  },
  {
   "cell_type": "code",
   "execution_count": null,
   "metadata": {},
   "outputs": [],
   "source": [
    "get_massless(exp,n=10)"
   ]
  },
  {
   "cell_type": "markdown",
   "metadata": {},
   "source": [
    "## Eq. 107"
   ]
  },
  {
   "cell_type": "code",
   "execution_count": null,
   "metadata": {},
   "outputs": [],
   "source": [
    "dy_val=yp-yh\n",
    "dy_val=dy_val.simplify()\n",
    "dy_val"
   ]
  },
  {
   "cell_type": "code",
   "execution_count": null,
   "metadata": {},
   "outputs": [],
   "source": [
    "zN_val=sp.solve(dy-dy_val,zN)[0]\n",
    "zN_val"
   ]
  },
  {
   "cell_type": "code",
   "execution_count": null,
   "metadata": {},
   "outputs": [],
   "source": [
    "exp=H*P\n",
    "exp=exp.subs(Mh**2,MhT**2-zN**2*T.t**2)\n",
    "exp=exp.subs(zN,zN_val)\n",
    "exp.simplify()"
   ]
  },
  {
   "cell_type": "code",
   "execution_count": null,
   "metadata": {},
   "outputs": [],
   "source": [
    "exp=H*P\n",
    "#exp=exp.subs(Mh**2,MhT**2-zN**2*T.t**2)\n",
    "exp=exp.subs(xN,xN2xb)\n",
    "exp.simplify()"
   ]
  },
  {
   "cell_type": "code",
   "execution_count": null,
   "metadata": {},
   "outputs": [],
   "source": []
  },
  {
   "cell_type": "code",
   "execution_count": null,
   "metadata": {},
   "outputs": [],
   "source": []
  },
  {
   "cell_type": "code",
   "execution_count": null,
   "metadata": {},
   "outputs": [],
   "source": []
  },
  {
   "cell_type": "code",
   "execution_count": null,
   "metadata": {},
   "outputs": [],
   "source": []
  },
  {
   "cell_type": "code",
   "execution_count": null,
   "metadata": {},
   "outputs": [],
   "source": []
  },
  {
   "cell_type": "code",
   "execution_count": null,
   "metadata": {},
   "outputs": [],
   "source": []
  },
  {
   "cell_type": "code",
   "execution_count": null,
   "metadata": {},
   "outputs": [],
   "source": []
  },
  {
   "cell_type": "code",
   "execution_count": null,
   "metadata": {},
   "outputs": [],
   "source": []
  },
  {
   "cell_type": "code",
   "execution_count": null,
   "metadata": {},
   "outputs": [],
   "source": []
  },
  {
   "cell_type": "code",
   "execution_count": null,
   "metadata": {},
   "outputs": [],
   "source": []
  },
  {
   "cell_type": "code",
   "execution_count": null,
   "metadata": {},
   "outputs": [],
   "source": []
  },
  {
   "cell_type": "code",
   "execution_count": null,
   "metadata": {},
   "outputs": [],
   "source": []
  }
 ],
 "metadata": {
  "kernelspec": {
   "display_name": "Python 2",
   "language": "python",
   "name": "python2"
  },
  "language_info": {
   "codemirror_mode": {
    "name": "ipython",
    "version": 2
   },
   "file_extension": ".py",
   "mimetype": "text/x-python",
   "name": "python",
   "nbconvert_exporter": "python",
   "pygments_lexer": "ipython2",
   "version": "2.7.15"
  }
 },
 "nbformat": 4,
 "nbformat_minor": 2
}
