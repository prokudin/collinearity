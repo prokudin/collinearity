{
 "cells": [
  {
   "cell_type": "code",
   "execution_count": 1,
   "metadata": {
    "collapsed": false
   },
   "outputs": [
    {
     "name": "stdout",
     "output_type": "stream",
     "text": [
      "/Users/avp5627/GIT/collinearity\n"
     ]
    }
   ],
   "source": [
    "from __future__ import division, print_function\n",
    "from functools import partial, reduce\n",
    "from itertools import combinations\n",
    "import matplotlib.pyplot as plt\n",
    "import numpy as np\n",
    "import pandas as pd\n",
    "from scipy.stats import percentileofscore\n",
    "import fitpack\n",
    "import interface\n",
    "import obslib.sidis.reader\n",
    "from qcdlib.aux import AUX\n",
    "from tools.config import conf\n",
    "from qcdlib.core import CORE\n",
    "from qcdlib.interpolator import INTERPOLATOR\n",
    "from tools.config import conf\n",
    "from qcdlib.gk0 import GK\n",
    "from qcdlib.aux import AUX\n",
    "%matplotlib inline"
   ]
  },
  {
   "cell_type": "code",
   "execution_count": 3,
   "metadata": {
    "collapsed": false
   },
   "outputs": [
    {
     "ename": "SyntaxError",
     "evalue": "invalid syntax (<ipython-input-3-f3f47bb184cc>, line 8)",
     "output_type": "error",
     "traceback": [
      "\u001b[0;36m  File \u001b[0;32m\"<ipython-input-3-f3f47bb184cc>\"\u001b[0;36m, line \u001b[0;32m8\u001b[0m\n\u001b[0;31m    print conf['gk'].get_gk(Q2)\u001b[0m\n\u001b[0m             ^\u001b[0m\n\u001b[0;31mSyntaxError\u001b[0m\u001b[0;31m:\u001b[0m invalid syntax\n"
     ]
    }
   ],
   "source": [
    "\n",
    "\n",
    "conf['aux']  = AUX()\n",
    "conf['gk']  = GK()\n",
    "\n",
    " \n",
    "Q2 = 2.4\n",
    "print conf['gk'].get_gk(Q2)"
   ]
  },
  {
   "cell_type": "code",
   "execution_count": 3,
   "metadata": {
    "collapsed": false
   },
   "outputs": [
    {
     "data": {
      "text/plain": [
       "(0.1, 1.0)"
      ]
     },
     "execution_count": 3,
     "metadata": {},
     "output_type": "execute_result"
    }
   ],
   "source": [
    "conf['aux']  = AUX()\n",
    "GK().get_gk(10.)\n",
    "\n",
    "GK().get_state()"
   ]
  },
  {
   "cell_type": "code",
   "execution_count": 4,
   "metadata": {
    "collapsed": false
   },
   "outputs": [
    {
     "data": {
      "text/plain": [
       "-0.15081830534125643"
      ]
     },
     "execution_count": 4,
     "metadata": {},
     "output_type": "execute_result"
    }
   ],
   "source": [
    "GK().setup()\n",
    "GK().get_pertsud(2.)"
   ]
  },
  {
   "cell_type": "code",
   "execution_count": null,
   "metadata": {
    "collapsed": false
   },
   "outputs": [],
   "source": [
    "bt = np.arange(0,15,0.01)\n",
    "tmd = bt * np.exp(-bt * bt * 0.25 /4)\n",
    "fig, ax = plt.subplots()\n",
    "ax.plot(bt,tmd,\"-\")\n",
    "ax.set_xlabel(r\"$b_T \\;  GeV^{-1}$\")\n",
    "ax.set_ylabel(r\"$ \\~{f}\\; (b_T)$\")\n"
   ]
  },
  {
   "cell_type": "code",
   "execution_count": null,
   "metadata": {
    "collapsed": false
   },
   "outputs": [],
   "source": [
    "from scipy.special import j0 as j0\n",
    "bt = np.arange(0,15,0.01)\n",
    "tmd = bt * j0(bt * 2) * np.exp(-bt * bt * 0.25 /4)\n",
    "plt.plot(bt,tmd,\"-\")"
   ]
  },
  {
   "cell_type": "code",
   "execution_count": null,
   "metadata": {
    "collapsed": true
   },
   "outputs": [],
   "source": []
  }
 ],
 "metadata": {
  "anaconda-cloud": {},
  "kernelspec": {
   "display_name": "Python [default]",
   "language": "python",
   "name": "python2"
  },
  "language_info": {
   "codemirror_mode": {
    "name": "ipython",
    "version": 2
   },
   "file_extension": ".py",
   "mimetype": "text/x-python",
   "name": "python",
   "nbconvert_exporter": "python",
   "pygments_lexer": "ipython2",
   "version": "2.7.12"
  }
 },
 "nbformat": 4,
 "nbformat_minor": 1
}
