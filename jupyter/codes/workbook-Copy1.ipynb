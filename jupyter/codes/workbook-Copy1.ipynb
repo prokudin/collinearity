{
 "cells": [
  {
   "cell_type": "code",
   "execution_count": 1,
   "metadata": {},
   "outputs": [],
   "source": [
    "import sys,os\n",
    "import subprocess\n",
    "import numpy as np\n",
    "import pylab as py\n",
    "import sympy as sp\n",
    "from sympy.printing.mathml import print_mathml,mathml\n",
    "from sympy.parsing.sympy_parser import parse_expr\n",
    "from sympy.tensor.array import MutableDenseNDimArray as Array\n",
    "sp.init_printing() \n",
    "from IPython.display import display, Math, Latex\n",
    "lprint=lambda expression: display(Math(sp.latex(expression)))"
   ]
  },
  {
   "cell_type": "code",
   "execution_count": 55,
   "metadata": {},
   "outputs": [],
   "source": [
    "x,y,yp,ypp,yppp=sp.symbols(\"x,y,y',y'',yppp\")"
   ]
  },
  {
   "cell_type": "code",
   "execution_count": 56,
   "metadata": {},
   "outputs": [
    {
     "data": {
      "image/png": "[encoded data removed]",
      "text/latex": [
       "$$yppp$$"
      ],
      "text/plain": [
       "yppp"
      ]
     },
     "execution_count": 56,
     "metadata": {},
     "output_type": "execute_result"
    }
   ],
   "source": [
    "yppp"
   ]
  },
  {
   "cell_type": "code",
   "execution_count": 90,
   "metadata": {},
   "outputs": [
    {
     "data": {
      "image/png": "[encoded data removed]",
      "text/latex": [
       "$$1$$"
      ],
      "text/plain": [
       "1"
      ]
     },
     "execution_count": 90,
     "metadata": {},
     "output_type": "execute_result"
    }
   ],
   "source": [
    "eps=sp.S(1)\n",
    "#eps=x\n",
    "eps"
   ]
  },
  {
   "cell_type": "code",
   "execution_count": 91,
   "metadata": {},
   "outputs": [
    {
     "data": {
      "text/latex": [
       "$$- x + 1$$"
      ],
      "text/plain": [
       "<IPython.core.display.Math object>"
      ]
     },
     "metadata": {},
     "output_type": "display_data"
    },
    {
     "name": "stdout",
     "output_type": "stream",
     "text": [
      "1 0 0.500000000000000\n"
     ]
    }
   ],
   "source": [
    "eps1 = sp.integrate(eps.subs(x,x/y),(y,x,1))\n",
    "lprint(eps1)\n",
    "print sp.limit(eps1,x,0),sp.limit(eps1,x,1),eps1.subs(x,0.5) "
   ]
  },
  {
   "cell_type": "code",
   "execution_count": 92,
   "metadata": {},
   "outputs": [
    {
     "data": {
      "text/latex": [
       "$$- x \\left(- x + 1\\right) - x + 1$$"
      ],
      "text/plain": [
       "<IPython.core.display.Math object>"
      ]
     },
     "metadata": {},
     "output_type": "display_data"
    },
    {
     "name": "stdout",
     "output_type": "stream",
     "text": [
      "1 0 0.250000000000000\n"
     ]
    }
   ],
   "source": [
    "eps1 = sp.integrate(eps.subs(x,x/y/yp),(yp,x,1))\n",
    "eps2 = sp.integrate(eps1,(y,x,1))\n",
    "lprint(eps2)\n",
    "print sp.limit(eps2,x,0), sp.limit(eps2,x,1),eps2.subs(x,0.5)"
   ]
  },
  {
   "cell_type": "code",
   "execution_count": 93,
   "metadata": {},
   "outputs": [
    {
     "data": {
      "text/latex": [
       "$$- x \\left(- x + 1\\right) - x \\left(x - 1\\right) \\log{\\left (x \\right )} - x + 1$$"
      ],
      "text/plain": [
       "<IPython.core.display.Math object>"
      ]
     },
     "metadata": {},
     "output_type": "display_data"
    },
    {
     "name": "stdout",
     "output_type": "stream",
     "text": [
      "1 0 0.0767132048600137\n"
     ]
    }
   ],
   "source": [
    "eps1 = sp.integrate(eps.subs(x,x/y/yp/ypp),(ypp,x,1))\n",
    "eps2 = sp.integrate(eps1,(yp,x/y,1))\n",
    "eps3 = sp.integrate(eps2,(y,x,1))\n",
    "lprint(eps3)\n",
    "print sp.limit(eps3,x,0), sp.limit(eps3,x,1),eps3.subs(x,0.5)"
   ]
  },
  {
   "cell_type": "code",
   "execution_count": 94,
   "metadata": {},
   "outputs": [
    {
     "data": {
      "text/latex": [
       "$$- x^{2} - x \\left(x - 1\\right) \\log{\\left (x \\right )} - x \\left(- x^{2} + 1\\right) + \\left(- x^{2} + x\\right) \\log{\\left (x \\right )} + 1$$"
      ],
      "text/plain": [
       "<IPython.core.display.Math object>"
      ]
     },
     "metadata": {},
     "output_type": "display_data"
    },
    {
     "name": "stdout",
     "output_type": "stream",
     "text": [
      "1 0 0.0284264097200273\n"
     ]
    }
   ],
   "source": [
    "eps1 = sp.integrate(eps.subs(x,x/y/yp/ypp/yppp),(yppp,x,1))\n",
    "eps2 = sp.integrate(eps1,(ypp,x/yp,1))\n",
    "eps3 = sp.integrate(eps2,(yp,x/y,1))\n",
    "eps4 = sp.integrate(eps3,(y,x,1))\n",
    "lprint(eps4)\n",
    "print sp.limit(eps4,x,0), sp.limit(eps4,x,1),eps4.subs(x,0.5)"
   ]
  },
  {
   "cell_type": "code",
   "execution_count": null,
   "metadata": {},
   "outputs": [],
   "source": []
  },
  {
   "cell_type": "code",
   "execution_count": null,
   "metadata": {},
   "outputs": [],
   "source": []
  },
  {
   "cell_type": "code",
   "execution_count": null,
   "metadata": {},
   "outputs": [],
   "source": []
  }
 ],
 "metadata": {
  "kernelspec": {
   "display_name": "Python 2",
   "language": "python",
   "name": "python2"
  },
  "language_info": {
   "codemirror_mode": {
    "name": "ipython",
    "version": 2
   },
   "file_extension": ".py",
   "mimetype": "text/x-python",
   "name": "python",
   "nbconvert_exporter": "python",
   "pygments_lexer": "ipython2",
   "version": "2.7.15"
  }
 },
 "nbformat": 4,
 "nbformat_minor": 2
}
