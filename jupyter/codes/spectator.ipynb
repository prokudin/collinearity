{
 "cells": [
  {
   "cell_type": "markdown",
   "metadata": {},
   "source": [
    "# W+Y in spectator di-quark model \n",
    "----"
   ]
  },
  {
   "cell_type": "code",
   "execution_count": 1,
   "metadata": {
    "collapsed": true
   },
   "outputs": [],
   "source": [
    "import sys,os\n",
    "import numpy as np\n",
    "import sympy as sp\n",
    "from tools import save,load\n",
    "from vector import VEC\n",
    "from sympy.assumptions.assume import global_assumptions\n",
    "from scipy.integrate import quad\n",
    "import form\n",
    "#from __future__ import print_function\n",
    "from ipywidgets import interact, interactive, fixed, interact_manual\n",
    "import ipywidgets as widgets\n",
    "from sympy.utilities.lambdify import lambdify\n",
    "import pylab as py\n",
    "%matplotlib inline\n",
    "sp.init_printing()\n",
    "import warnings\n",
    "warnings.filterwarnings('ignore')"
   ]
  },
  {
   "cell_type": "markdown",
   "metadata": {},
   "source": [
    "## initialize vectors"
   ]
  },
  {
   "cell_type": "code",
   "execution_count": 2,
   "metadata": {
    "collapsed": true
   },
   "outputs": [],
   "source": [
    "xbj=sp.Symbol('x_{bj}')\n",
    "xn=sp.Symbol('x_n')\n",
    "Q=sp.Symbol('Q')\n",
    "M=sp.Symbol('M')\n",
    "mq=sp.Symbol('m_q')\n",
    "ms=sp.Symbol('m_s')\n",
    "nuk=sp.Symbol(r'\\nu_k')\n",
    "nukh=sp.Symbol(r'\\nu_{\\hat{k}}')\n",
    "nukt=sp.Symbol(r'\\nu_{\\tilde{k}}')"
   ]
  },
  {
   "cell_type": "code",
   "execution_count": 3,
   "metadata": {
    "collapsed": true
   },
   "outputs": [],
   "source": [
    "P=VEC('P',[Q/xn/sp.sqrt(2),xn*M**2/Q/sp.sqrt(2),0,0])\n",
    "q=VEC('q',[-Q/sp.sqrt(2),Q/sp.sqrt(2),0,0])\n",
    "k=VEC('k')\n",
    "kh=VEC(r'\\hat{k}',[xbj*P.plus(),0,0,0])\n",
    "kt=VEC(r'\\tilde{k}',[xbj*P.plus(),None,None,None])"
   ]
  },
  {
   "cell_type": "code",
   "execution_count": 4,
   "metadata": {
    "collapsed": true
   },
   "outputs": [],
   "source": [
    "def to_massless(expr):\n",
    "    return expr.subs(M,0).subs(mq,0).subs(ms,0).subs(xn,xbj)"
   ]
  },
  {
   "cell_type": "code",
   "execution_count": 5,
   "metadata": {
    "collapsed": true
   },
   "outputs": [],
   "source": [
    "data=form.run('sqamps.frm')"
   ]
  },
  {
   "cell_type": "markdown",
   "metadata": {},
   "source": [
    "## run form to get sqamps"
   ]
  },
  {
   "cell_type": "code",
   "execution_count": 6,
   "metadata": {
    "collapsed": true
   },
   "outputs": [],
   "source": [
    "data=form.run('sqamps.frm')\n",
    "def replace(exp):\n",
    "    \"\"\"\n",
    "      this function replaces the sympy variables defined at form.py\n",
    "      by the equivalent local expressions defined above \n",
    "      \"\"\"\n",
    "    exp=exp.subs('Pplus',P.plus())\n",
    "    exp=exp.subs('Pminus',P.minus())\n",
    "    exp=exp.subs('qplus',q.plus())\n",
    "    exp=exp.subs('qminus',q.minus())\n",
    "    exp=exp.subs('kplus',k.plus())\n",
    "    exp=exp.subs('kminus',k.minus())\n",
    "    exp=exp.subs('khplus',kh.plus())\n",
    "    exp=exp.subs('khminus',kh.minus())\n",
    "    exp=exp.subs('ktplus',kt.plus())\n",
    "    exp=exp.subs('ktminus',kt.minus())\n",
    "    exp=exp.subs('Q2',Q**2)\n",
    "    exp=exp.subs('mq',mq)\n",
    "    exp=exp.subs('ms',ms)\n",
    "    exp=exp.subs('nuk',nuk)\n",
    "    exp=exp.subs('nukh',nukh)\n",
    "    exp=exp.subs('nukt',nukt)\n",
    "    exp=exp.subs('sqrt2',sp.sqrt(2))\n",
    "    exp=exp.subs('pi',sp.S.Pi)\n",
    "    return exp\n",
    "for r in data:\n",
    "    data[r]=replace(data[r])"
   ]
  },
  {
   "cell_type": "markdown",
   "metadata": {},
   "source": [
    "## Exact calculation\n",
    "---"
   ]
  },
  {
   "cell_type": "markdown",
   "metadata": {},
   "source": [
    "### construct delta functions"
   ]
  },
  {
   "cell_type": "code",
   "execution_count": 7,
   "metadata": {
    "collapsed": true
   },
   "outputs": [],
   "source": [
    "del1=(q+k)*(q+k)-mq**2\n",
    "del1=del1.subs(k.perp2()**2,k.perp()**2-k.perp3()**2).simplify()\n",
    "del2=(P-k)*(P-k)-ms**2\n",
    "del2=del2.subs(k.perp2()**2,k.perp()**2-k.perp3()**2).simplify()"
   ]
  },
  {
   "cell_type": "markdown",
   "metadata": {},
   "source": [
    "### jacobian"
   ]
  },
  {
   "cell_type": "code",
   "execution_count": 8,
   "metadata": {
    "collapsed": true
   },
   "outputs": [],
   "source": [
    "kplus=sp.solve(del1,k.plus())[0]\n",
    "jac1=1/sp.diff(del1,k.plus())\n",
    "jac2=1/sp.diff(del2.subs(k.plus(),kplus),k.minus()).simplify()\n",
    "jac=sp.Abs(jac1*jac2)"
   ]
  },
  {
   "cell_type": "markdown",
   "metadata": {},
   "source": [
    "### get solutions for $k_-$ and $k_+$"
   ]
  },
  {
   "cell_type": "code",
   "execution_count": 9,
   "metadata": {
    "collapsed": true
   },
   "outputs": [],
   "source": [
    "equation=del2.subs(k.plus(),kplus).factor()\n",
    "equation*=(2*k.minus()+sp.sqrt(2)*Q)*Q*xn\n",
    "equation=equation.factor()\n",
    "poly=sp.poly(equation.simplify(),k.minus())\n",
    "a=poly.coeffs()[0].simplify()\n",
    "b=poly.coeffs()[1].simplify()\n",
    "c=poly.coeffs()[2].simplify()\n",
    "disc=b**2-4*a*c\n",
    "# b_lim=to_massless(b).expand().simplify()\n",
    "# disc_lim=to_massless(disc).expand().simplify().factor()\n",
    "kminus1=(-b-sp.sqrt(disc))/(2*a)\n",
    "kminus2=(-b+sp.sqrt(disc))/(2*a)"
   ]
  },
  {
   "cell_type": "markdown",
   "metadata": {},
   "source": [
    "### get $k_T^{(\\rm max)}$"
   ]
  },
  {
   "cell_type": "code",
   "execution_count": 10,
   "metadata": {
    "collapsed": true
   },
   "outputs": [],
   "source": [
    "W2=M**2+Q**2/xbj -Q**2\n",
    "kTmax=sp.solve(sp.sqrt(W2)-sp.sqrt(mq**2+k.perp()**2)-sp.sqrt(ms**2+k.perp()**2),k.perp())[1]\n",
    "lkTmax=sp.lambdify((xbj,Q,mq,ms,M),kTmax)"
   ]
  },
  {
   "cell_type": "markdown",
   "metadata": {},
   "source": [
    "### build $\\cal{F}_i$ "
   ]
  },
  {
   "cell_type": "code",
   "execution_count": 11,
   "metadata": {
    "collapsed": true
   },
   "outputs": [],
   "source": [
    "T1=lambda part: -1/sp.S(2)*data['Pg*T%s'%part]+ 2*Q**2*xn**2/(M**2*xn**2+Q**2)**2*data['Ppp*T%s'%part]\n",
    "T2=lambda part: 12*Q**4*xn**3*(Q**2-M**2*xn**2)/(Q**2+M**2*xn**2)**4*\\\n",
    "                (data['Ppp*T%s'%part] -(M**2*xn**2+Q**2)**2/(12*Q**2*xn**2)*data['Pg*T%s'%part])\n",
    "prop=lambda part: data['prop%s'%part]\n",
    "F1=lambda part:sp.Abs(jac)*T1(part)*prop(part)\n",
    "F2=lambda part:sp.Abs(jac)*T2(part)*prop(part)\n",
    "ljac=sp.lambdify((xn,Q,mq,ms,M,k.minus(),k.perp()),sp.Abs(jac))\n",
    "lkplus=sp.lambdify((xn,Q,mq,ms,M,k.minus(),k.perp()),kplus)\n",
    "lkminus1=sp.lambdify((xn,Q,mq,ms,M,k.perp()),kminus1)\n",
    "lkminus2=sp.lambdify((xn,Q,mq,ms,M,k.perp()),kminus2)\n",
    "lPminus=sp.lambdify((xn,Q,M),P.minus())\n",
    "lPplus=sp.lambdify((xn,Q,M),P.plus())\n",
    "lqminus=sp.lambdify((xn,Q,M),q.minus())\n",
    "lqplus=sp.lambdify((xn,Q,M),q.plus())\n",
    "\n",
    "\n",
    "lxn=sp.lambdify((xbj,M,Q),2*xbj/(1+sp.sqrt(1+4*xbj**2*M**2/Q**2)))\n",
    "\n",
    "lnumAg=sp.lambdify((xn,Q,mq,ms,M,k.plus(),k.minus(),k.perp(),nuk),data['Pg*TA'])\n",
    "lnumBg=sp.lambdify((xn,Q,mq,ms,M,k.plus(),k.minus(),k.perp(),nuk),data['Pg*TB'])\n",
    "lnumCg=sp.lambdify((xn,Q,mq,ms,M,k.plus(),k.minus(),k.perp(),nuk),data['Pg*TC'])\n",
    "lnumApp=sp.lambdify((xn,Q,mq,ms,M,k.plus(),k.minus(),k.perp(),nuk),data['Ppp*TA'])\n",
    "lnumBpp=sp.lambdify((xn,Q,mq,ms,M,k.plus(),k.minus(),k.perp(),nuk),data['Ppp*TB'])\n",
    "lnumCpp=sp.lambdify((xn,Q,mq,ms,M,k.plus(),k.minus(),k.perp(),nuk),data['Ppp*TC'])\n",
    "\n",
    "lT1A=sp.lambdify((xn,Q,mq,ms,M,k.plus(),k.minus(),k.perp(),nuk),T1('A'))\n",
    "lT1B=sp.lambdify((xn,Q,mq,ms,M,k.plus(),k.minus(),k.perp(),nuk),T1('B'))\n",
    "lT1C=sp.lambdify((xn,Q,mq,ms,M,k.plus(),k.minus(),k.perp(),nuk),T1('C'))\n",
    "lpropA=sp.lambdify((xn,Q,mq,ms,M,k.plus(),k.minus(),k.perp(),nuk),prop('A'))\n",
    "lpropB=sp.lambdify((xn,Q,mq,ms,M,k.plus(),k.minus(),k.perp(),nuk),prop('B'))\n",
    "lpropC=sp.lambdify((xn,Q,mq,ms,M,k.plus(),k.minus(),k.perp(),nuk),prop('C'))\n",
    "\n",
    "\n",
    "lF1A=sp.lambdify((xn,Q,mq,ms,M,k.plus(),k.minus(),k.perp(),nuk),F1('A'))\n",
    "lF1B=sp.lambdify((xn,Q,mq,ms,M,k.plus(),k.minus(),k.perp(),nuk),F1('B'))\n",
    "lF1C=sp.lambdify((xn,Q,mq,ms,M,k.plus(),k.minus(),k.perp(),nuk),F1('C'))\n",
    "\n",
    "lF2A=sp.lambdify((xn,Q,mq,ms,M,k.plus(),k.minus(),k.perp(),nuk),F2('A'))\n",
    "lF2B=sp.lambdify((xn,Q,mq,ms,M,k.plus(),k.minus(),k.perp(),nuk),F2('B'))\n",
    "lF2C=sp.lambdify((xn,Q,mq,ms,M,k.plus(),k.minus(),k.perp(),nuk),F2('C'))\n",
    "\n",
    "\n",
    "def lnuk(xn,Q,mq,ms,M,kperp,sol):\n",
    "    if sol==1: kminus=lkminus1(xn,Q,mq,ms,M,kperp)\n",
    "    if sol==2: kminus=lkminus2(xn,Q,mq,ms,M,kperp)\n",
    "    kplus=lkplus(xn,Q,mq,ms,M,kminus,kperp)\n",
    "    k2=2*kplus*kminus-kperp**2\n",
    "    return (-k2)**0.5\n",
    "\n",
    "def lkfrap(xn,Q,mq,ms,M,kperp,sol):\n",
    "    if sol==1:kminus=lkminus1(xn,Q,mq,ms,M,kperp)\n",
    "    if sol==2:kminus=lkminus2(xn,Q,mq,ms,M,kperp)\n",
    "    kplus=lkplus(xn,Q,mq,ms,M,kminus,kperp)\n",
    "    qminus=lqminus(xn,Q,M)\n",
    "    qplus=lqplus(xn,Q,M)\n",
    "    return 1/sp.S(2)*sp.log(np.abs((kplus+qplus)/(kminus+qminus)))\n",
    "\n",
    "def lPrap(xn,Q,M):\n",
    "    return 1/sp.S(2)*sp.log(np.abs(lPplus(xn,Q,M)/lPminus(xn,Q,M)))\n",
    "\n",
    "_lz=sp.lambdify((xn,Q,mq,ms,M,k.plus(),k.minus(),k.perp()),1+(P.plus()*k.minus()+P.minus()*k.plus())/(P.plus()*q.minus()+P.minus()*q.plus()))\n",
    "def lz(xn,Q,mq,ms,M,kperp,sol):\n",
    "    if sol==1:kminus=lkminus1(xn,Q,mq,ms,M,kperp)\n",
    "    if sol==2:kminus=lkminus2(xn,Q,mq,ms,M,kperp)\n",
    "    kplus=lkplus(xn,Q,mq,ms,M,kminus,kperp)\n",
    "    return _lz(xn,Q,mq,ms,M,kplus,kminus,kperp)\n",
    "\n",
    "def _lF1(xn,Q,mq,ms,M,kperp,graph,sol):\n",
    "    if sol==1: kminus=lkminus1(xn,Q,mq,ms,M,kperp)\n",
    "    if sol==2: kminus=lkminus2(xn,Q,mq,ms,M,kperp)\n",
    "    kplus=lkplus(xn,Q,mq,ms,M,kminus,kperp)\n",
    "    nuk=2*kplus*kminus-kperp**2\n",
    "    if graph=='A':return lF1A(xn,Q,mq,ms,M,kplus,kminus,kperp,nuk)\n",
    "    if graph=='B':return lF1B(xn,Q,mq,ms,M,kplus,kminus,kperp,nuk)\n",
    "    if graph=='C':return lF1C(xn,Q,mq,ms,M,kplus,kminus,kperp,nuk)\n",
    "\n",
    "def lF1_by_graph(xn,Q,mq,ms,M,kperp,graph):\n",
    "    return _lF1(xn,Q,mq,ms,M,kperp,graph,1)\\\n",
    "          +_lF1(xn,Q,mq,ms,M,kperp,graph,2)\n",
    "\n",
    "def lF1_by_sol(xn,Q,mq,ms,M,kperp,sol):\n",
    "    return _lF1(xn,Q,mq,ms,M,kperp,'A',sol)\\\n",
    "          +_lF1(xn,Q,mq,ms,M,kperp,'B',sol)\\\n",
    "          +_lF1(xn,Q,mq,ms,M,kperp,'C',sol)\n",
    "\n",
    "def lF1(xn,Q,mq,ms,M,kperp):\n",
    "    return lF1_by_graph(xn,Q,mq,ms,M,kperp,'A')\\\n",
    "          +lF1_by_graph(xn,Q,mq,ms,M,kperp,'B')\\\n",
    "          +lF1_by_graph(xn,Q,mq,ms,M,kperp,'C')\n",
    "        \n",
    "def _lF2(xn,Q,mq,ms,M,kperp,graph,sol):\n",
    "    if sol==1: kminus=lkminus1(xn,Q,mq,ms,M,kperp)\n",
    "    if sol==2: kminus=lkminus2(xn,Q,mq,ms,M,kperp)\n",
    "    kplus=lkplus(xn,Q,mq,ms,M,kminus,kperp)\n",
    "    nuk=2*kplus*kminus-kperp**2\n",
    "    if graph=='A':return lF2A(xn,Q,mq,ms,M,kplus,kminus,kperp,nuk)\n",
    "    if graph=='B':return lF2B(xn,Q,mq,ms,M,kplus,kminus,kperp,nuk)\n",
    "    if graph=='C':return lF2C(xn,Q,mq,ms,M,kplus,kminus,kperp,nuk)\n",
    "\n",
    "def lF2_by_graph(xn,Q,mq,ms,M,kperp,graph):\n",
    "    return _lF2(xn,Q,mq,ms,M,kperp,graph,1)\\\n",
    "          +_lF2(xn,Q,mq,ms,M,kperp,graph,2)\n",
    "\n",
    "def lF2_by_sol(xn,Q,mq,ms,M,kperp,sol):\n",
    "    return _lF2(xn,Q,mq,ms,M,kperp,'A',sol)\\\n",
    "          +_lF2(xn,Q,mq,ms,M,kperp,'B',sol)\\\n",
    "          +_lF2(xn,Q,mq,ms,M,kperp,'C',sol)\n",
    "\n",
    "def lF2(xn,Q,mq,ms,M,kperp):\n",
    "    return lF2_by_graph(xn,Q,mq,ms,M,kperp,'A')\\\n",
    "          +lF2_by_graph(xn,Q,mq,ms,M,kperp,'B')\\\n",
    "          +lF2_by_graph(xn,Q,mq,ms,M,kperp,'C')"
   ]
  },
  {
   "cell_type": "markdown",
   "metadata": {},
   "source": [
    "## W approximation\n",
    "---"
   ]
  },
  {
   "cell_type": "markdown",
   "metadata": {},
   "source": [
    "### hard part"
   ]
  },
  {
   "cell_type": "code",
   "execution_count": 12,
   "metadata": {
    "collapsed": true
   },
   "outputs": [],
   "source": [
    "H1= -1/sp.S(2)*data['Pg*hard'] + 2*Q**2*xn**2/(M**2*xn**2+Q**2)**2*data['Ppp*hard']\n",
    "H2= 12*Q**4*xn**3*(Q**2-M**2*xn**2)/(Q**2+M**2*xn**2)**4*(data['Ppp*hard'] -(M**2*xn**2+Q**2)**2/(12*Q**2*xn**2)*data['Pg*hard'])\n",
    "H1=H1.replace(M,0).replace(nukh,0).replace(xn,xbj)\n",
    "H2=H2.replace(M,0).replace(nukh,0).replace(xn,xbj)"
   ]
  },
  {
   "cell_type": "markdown",
   "metadata": {},
   "source": [
    "### soft part $f^{(1)}$"
   ]
  },
  {
   "cell_type": "code",
   "execution_count": 13,
   "metadata": {
    "collapsed": true
   },
   "outputs": [],
   "source": [
    "Wdel2=(P-kt)*(P-kt)-ms**2\n",
    "Wdel2=Wdel2.replace(kt.perp2()**2,k.perp()**2-kt.perp3()**2).simplify()\n",
    "Wjac=-1/sp.diff(Wdel2,kt.minus())\n",
    "ktminus=sp.solve(Wdel2,kt.minus())[0].subs(kt.perp(),k.perp()).subs(xn,xbj)\n",
    "Wnukt=(2*kt.plus()*ktminus-kt.perp()**2).subs(kt.perp(),k.perp()).factor().simplify()\n",
    "num=sp.numer(data['f'].factor()).subs(nukt,Wnukt).subs(kt.minus(),ktminus).simplify()\n",
    "den=sp.denom(data['f'].factor()).subs(nukt,Wnukt).subs(kt.minus(),ktminus).simplify()\n",
    "f=(num/den*Wjac/(2*sp.pi)).subs(xn,xbj)"
   ]
  },
  {
   "cell_type": "markdown",
   "metadata": {},
   "source": [
    "### build $W_i = T_{\\rm TMD} {\\cal F}_i$"
   ]
  },
  {
   "cell_type": "code",
   "execution_count": 14,
   "metadata": {
    "collapsed": true
   },
   "outputs": [],
   "source": [
    "W1=H1*f\n",
    "W2=H2*f\n",
    "lW1=sp.lambdify((xbj,Q,mq,ms,M,k.perp()),W1)\n",
    "lW2=sp.lambdify((xbj,Q,mq,ms,M,k.perp()),W2)"
   ]
  },
  {
   "cell_type": "markdown",
   "metadata": {},
   "source": [
    "## Large $k_T$ approximation  (FO)\n",
    "---"
   ]
  },
  {
   "cell_type": "code",
   "execution_count": 15,
   "metadata": {
    "collapsed": true
   },
   "outputs": [],
   "source": [
    "lCjac=sp.lambdify((xbj,Q,k.minus(),k.perp()),to_massless(sp.Abs(jac)))\n",
    "lCkplus=sp.lambdify((xbj,Q,k.minus(),k.perp()),to_massless(kplus))\n",
    "lCkminus1=sp.lambdify((xbj,Q,k.perp()),to_massless(kminus1))\n",
    "lCkminus2=sp.lambdify((xbj,Q,k.perp()),to_massless(kminus2))\n",
    "lCF1A=sp.lambdify((xbj,Q,k.plus(),k.minus(),k.perp(),nuk),to_massless(F1('A')))\n",
    "lCF1B=sp.lambdify((xbj,Q,k.plus(),k.minus(),k.perp(),nuk),to_massless(F1('B')))\n",
    "lCF1C=sp.lambdify((xbj,Q,k.plus(),k.minus(),k.perp(),nuk),to_massless(F1('C')))\n",
    "lCF2A=sp.lambdify((xbj,Q,k.plus(),k.minus(),k.perp(),nuk),to_massless(F2('A')))\n",
    "lCF2B=sp.lambdify((xbj,Q,k.plus(),k.minus(),k.perp(),nuk),to_massless(F2('B')))\n",
    "lCF2C=sp.lambdify((xbj,Q,k.plus(),k.minus(),k.perp(),nuk),to_massless(F2('C')))\n",
    "\n",
    "\n",
    "def _lCF1(xbj,Q,kperp,graph,sol):\n",
    "    if sol==1: kminus=lCkminus1(xbj,Q,kperp)\n",
    "    if sol==2: kminus=lCkminus2(xbj,Q,kperp)\n",
    "    kplus=lCkplus(xbj,Q,kminus,kperp)\n",
    "    nuk=2*kplus*kminus-kperp**2\n",
    "    if graph=='A':return lCF1A(xbj,Q,kplus,kminus,kperp,nuk)\n",
    "    if graph=='B':return lCF1B(xbj,Q,kplus,kminus,kperp,nuk)\n",
    "    if graph=='C':return lCF1C(xbj,Q,kplus,kminus,kperp,nuk)\n",
    "\n",
    "def lCF1_by_graph(xbj,Q,kperp,graph):\n",
    "    return _lCF1(xbj,Q,kperp,graph,1)\\\n",
    "          +_lCF1(xbj,Q,kperp,graph,2)\n",
    "\n",
    "def lCF1_by_sol(xbj,Q,kperp,sol):\n",
    "    return _lCF1(xbj,Q,kperp,'A',sol)\\\n",
    "          +_lCF1(xbj,Q,kperp,'B',sol)\\\n",
    "          +_lCF1(xbj,Q,kperp,'C',sol)\n",
    "\n",
    "def lCF1(xbj,Q,kperp):\n",
    "    return lCF1_by_graph(xbj,Q,kperp,'A')\\\n",
    "          +lCF1_by_graph(xbj,Q,kperp,'B')\\\n",
    "          +lCF1_by_graph(xbj,Q,kperp,'C')\n",
    "        \n",
    "def _lCF2(xbj,Q,kperp,graph,sol):\n",
    "    if sol==1: kminus=lCkminus1(xbj,Q,kperp)\n",
    "    if sol==2: kminus=lCkminus2(xbj,Q,kperp)\n",
    "    kplus=lCkplus(xbj,Q,kminus,kperp)\n",
    "    nuk=2*kplus*kminus-kperp**2\n",
    "    if graph=='A':return lCF2A(xbj,Q,kplus,kminus,kperp,nuk)\n",
    "    if graph=='B':return lCF2B(xbj,Q,kplus,kminus,kperp,nuk)\n",
    "    if graph=='C':return lCF2C(xbj,Q,kplus,kminus,kperp,nuk)\n",
    "\n",
    "def lCF2_by_graph(xbj,Q,kperp,graph):\n",
    "    return _lCF2(xbj,Q,kperp,graph,1)\\\n",
    "          +_lCF2(xbj,Q,kperp,graph,2)\n",
    "\n",
    "def lCF2_by_sol(xbj,Q,kperp,sol):\n",
    "    return _lCF2(xbj,Q,kperp,'A',sol)\\\n",
    "          +_lCF2(xbj,Q,kperp,'B',sol)\\\n",
    "          +_lCF2(xbj,Q,kperp,'C',sol)\n",
    "\n",
    "def lCF2(xbj,Q,kperp):\n",
    "    return lCF2_by_graph(xbj,Q,kperp,'A')\\\n",
    "          +lCF2_by_graph(xbj,Q,kperp,'B')\\\n",
    "          +lCF2_by_graph(xbj,Q,kperp,'C')"
   ]
  },
  {
   "cell_type": "markdown",
   "metadata": {},
   "source": [
    "## Asymptotic (ASY)\n",
    "---"
   ]
  },
  {
   "cell_type": "code",
   "execution_count": 16,
   "metadata": {
    "collapsed": true
   },
   "outputs": [],
   "source": [
    "AW1=to_massless(W1)\n",
    "AW2=to_massless(W2)\n",
    "lAW1=sp.lambdify((xbj,Q,k.perp()),AW1)\n",
    "lAW2=sp.lambdify((xbj,Q,k.perp()),AW2)"
   ]
  },
  {
   "cell_type": "markdown",
   "metadata": {},
   "source": [
    "## Check against Teds library"
   ]
  },
  {
   "cell_type": "code",
   "execution_count": 17,
   "metadata": {},
   "outputs": [
    {
     "data": {
      "application/vnd.jupyter.widget-view+json": {
       "model_id": "0c4edbaba2064d7d9cc32b27759d5444"
      }
     },
     "metadata": {},
     "output_type": "display_data"
    }
   ],
   "source": [
    "def update(xbj=0.5,Q=2.,mq=0.5,ms=0.8,M=0.938,kT=0):\n",
    "    xn=lxn(xbj,M,Q)\n",
    "\n",
    "    c1g=-0.5\n",
    "    c1pp=2*Q**2*xn**2/(M**2*xn**2+Q**2)**2\n",
    "   \n",
    "    c2pp=12*Q**4*xn**3*(Q**2-M**2*xn**2)/(Q**2+M**2*xn**2)**4\n",
    "    c2g=-12*Q**4*xn**3*(Q**2-M**2*xn**2)/(Q**2+M**2*xn**2)**4*(M**2*xn**2+Q**2)**2/(12*Q**2*xn**2)\n",
    "\n",
    "\n",
    "\n",
    "    kminus1=lkminus1(xn,Q,mq,ms,M,kT)\n",
    "    kplus1=lkplus(xn,Q,mq,ms,M,kminus1,kT)\n",
    "    kminus2=lkminus2(xn,Q,mq,ms,M,kT)\n",
    "    kplus2=lkplus(xn,Q,mq,ms,M,kminus2,kT)\n",
    "    jac1=ljac(xn,Q,mq,ms,M,kminus1,kT)\n",
    "    jac2=ljac(xn,Q,mq,ms,M,kminus2,kT)\n",
    "\n",
    "    nuk1=2*kplus1*kminus1-kT**2\n",
    "    nuk2=2*kplus2*kminus2-kT**2\n",
    "    \n",
    "    numAg1=lnumAg(xn,Q,mq,ms,M,kplus1,kminus1,kT,nuk1)\n",
    "    numBg1=lnumBg(xn,Q,mq,ms,M,kplus1,kminus1,kT,nuk1)\n",
    "    numCg1=lnumCg(xn,Q,mq,ms,M,kplus1,kminus1,kT,nuk1)\n",
    "\n",
    "    numAg2=lnumAg(xn,Q,mq,ms,M,kplus2,kminus2,kT,nuk2)\n",
    "    numBg2=lnumBg(xn,Q,mq,ms,M,kplus2,kminus2,kT,nuk2)\n",
    "    numCg2=lnumCg(xn,Q,mq,ms,M,kplus2,kminus2,kT,nuk2)\n",
    "\n",
    "    numApp1=lnumApp(xn,Q,mq,ms,M,kplus1,kminus1,kT,nuk1)\n",
    "    numBpp1=lnumBpp(xn,Q,mq,ms,M,kplus1,kminus1,kT,nuk1)\n",
    "    numCpp1=lnumCpp(xn,Q,mq,ms,M,kplus1,kminus1,kT,nuk1)\n",
    "\n",
    "    numApp2=lnumApp(xn,Q,mq,ms,M,kplus2,kminus2,kT,nuk2)\n",
    "    numBpp2=lnumBpp(xn,Q,mq,ms,M,kplus2,kminus2,kT,nuk2)\n",
    "    numCpp2=lnumCpp(xn,Q,mq,ms,M,kplus2,kminus2,kT,nuk2)\n",
    "    \n",
    "    propA1=lpropA(xn,Q,mq,ms,M,kplus1,kminus1,kT,nuk1)\n",
    "    propB1=lpropB(xn,Q,mq,ms,M,kplus1,kminus1,kT,nuk1)    \n",
    "    propC1=lpropC(xn,Q,mq,ms,M,kplus1,kminus1,kT,nuk1)\n",
    "\n",
    "    propA2=lpropA(xn,Q,mq,ms,M,kplus2,kminus2,kT,nuk2)\n",
    "    propB2=lpropB(xn,Q,mq,ms,M,kplus2,kminus2,kT,nuk2)    \n",
    "    propC2=lpropC(xn,Q,mq,ms,M,kplus2,kminus2,kT,nuk2)\n",
    "    \n",
    "    F1g1=jac1*c1g*(propA1*numAg1+propB1*numBg1+propC1*numCg1)\n",
    "    F1g2=jac2*c1g*(propA2*numAg2+propB2*numBg2+propC2*numCg2)\n",
    "    F1pp1=jac1*c1pp*(propA1*numApp1+propB1*numBpp1+propC1*numCpp1)\n",
    "    F1pp2=jac2*c1pp*(propA2*numApp2+propB2*numBpp2+propC2*numCpp2)\n",
    "\n",
    "    F2g1=jac1*c2g*(propA1*numAg1+propB1*numBg1+propC1*numCg1)\n",
    "    F2g2=jac2*c2g*(propA2*numAg2+propB2*numBg2+propC2*numCg2)\n",
    "    F2pp1=jac1*c2pp*(propA1*numApp1+propB1*numBpp1+propC1*numCpp1)\n",
    "    F2pp2=jac2*c2pp*(propA2*numApp2+propB2*numBpp2+propC2*numCpp2)\n",
    "\n",
    "    F1g  =F1g1  + F1g2\n",
    "    F1pp =F1pp1 + F1pp2\n",
    "    F2g  =F2g1  + F2g2\n",
    "    F2pp =F2pp1 + F2pp2\n",
    "    FLg  =F2g - 2*xn*F1g \n",
    "    FLpp =F2pp - 2*xn*F1pp \n",
    "\n",
    "    F1   = F1g + F1pp\n",
    "    F2   = F2g + F2pp\n",
    "    FL   = FLg + FLpp\n",
    "    \n",
    "    print('FL=',FL)\n",
    "    print('FLg=',FLg)\n",
    "    print('FLpp=',FLpp)\n",
    "    print('F2g=',F2g)\n",
    "    print('2xnF1g=',2*xn*F1g)\n",
    "    \n",
    "#     exactppA1=jac1*(propA1*numApp1)\n",
    "#     exactppB1=jac1*(propB1*numBpp1)\n",
    "#     exactppC1=jac1*(propC1*numCpp1)\n",
    "\n",
    "#     exactppA2=jac2*(propA2*numApp2)\n",
    "#     exactppB2=jac2*(propB2*numBpp2)\n",
    "#     exactppC2=jac2*(propC2*numCpp2)\n",
    "    \n",
    "    \n",
    "#     F1A1=lF1A(xn,Q,mq,ms,M,kplus1,kminus1,kT,nuk1)\n",
    "#     F1B1=lF1B(xn,Q,mq,ms,M,kplus1,kminus1,kT,nuk1)\n",
    "#     F1C1=lF1C(xn,Q,mq,ms,M,kplus1,kminus1,kT,nuk1)\n",
    "\n",
    "#     F1A2=lF1A(xn,Q,mq,ms,M,kplus2,kminus2,kT,nuk2)\n",
    "#     F1B2=lF1B(xn,Q,mq,ms,M,kplus2,kminus2,kT,nuk2)\n",
    "#     F1C2=lF1C(xn,Q,mq,ms,M,kplus2,kminus2,kT,nuk2)\n",
    "\n",
    "\n",
    "#     print 'ksol1=',kplus1,kminus1,kT\n",
    "#     print 'ksol2=',kplus2,kminus2,kT\n",
    "#     print 'jac1=',jac1\n",
    "#     print 'jac2=',jac2\n",
    "#     print 'propA1',propA1\n",
    "#     print 'propB1',propB1\n",
    "#     print 'propC1',propC1\n",
    "#     print 'propA2',propA2\n",
    "#     print 'propB2',propB2\n",
    "#     print 'propC2',propC2\n",
    "#     print 'numAg1',numAg1\n",
    "#     print 'numBg1',numBg1\n",
    "#     print 'numCg1',numCg1\n",
    "#     print 'numAg2',numAg2\n",
    "#     print 'numBg2',numBg2\n",
    "#     print 'numCg2',numCg2\n",
    "\n",
    "#     print 'numApp1',numApp1\n",
    "#     print 'numBpp1',numBpp1\n",
    "#     print 'numCpp1',numCpp1\n",
    "#     print 'numApp2',numApp2\n",
    "#     print 'numBpp2',numBpp2\n",
    "#     print 'numCpp2',numCpp2\n",
    "\n",
    "    \n",
    "#     print 'F1A1=',F1A1,jac1*propA1*(cg*numAg1+cpp*numApp1)\n",
    "#     print 'F1B1=',F1B1,jac1*propB1*(cg*numBg1+cpp*numBpp1)\n",
    "#     print 'F1C1=',F1C1,jac1*propC1*(cg*numCg1+cpp*numCpp1)\n",
    "#     print 'F1A2=',F1A2,jac2*propA2*(cg*numAg2+cpp*numApp2)\n",
    "#     print 'F1B2=',F1B2,jac2*propB2*(cg*numBg2+cpp*numBpp2)\n",
    "#     print 'F1C2=',F1C2,jac2*propC2*(cg*numCg2+cpp*numCpp2)\n",
    "\n",
    "#     print 'F1sol1=',lF1_by_sol(xn,Q,mq,ms,M,kT,1),F1A1+F1B1+F1C1\n",
    "#     print 'F1sol2=',lF1_by_sol(xn,Q,mq,ms,M,kT,2),F1A2+F1B2+F1C2\n",
    "    \n",
    "#     print 'exactg1=',exactg1\n",
    "#     print 'exactg2=',exactg2\n",
    "\n",
    "#     print 'exactppA1=',exactppA1\n",
    "#     print 'exactppB1=',exactppB1\n",
    "#     print 'exactppC1=',exactppC1\n",
    "\n",
    "#     print 'exactppA2=',exactppA2\n",
    "#     print 'exactppB2=',exactppB2\n",
    "#     print 'exactppC2=',exactppC2\n",
    "\n",
    "#     print 'exactpp1=',exactpp1\n",
    "#     print 'exactpp2=',exactpp2\n",
    "\n",
    "    \n",
    "interact(update,xbj=(0,1,0.01),Q=(1,1000,0.1),mq=(0,1,0.01),ms=(0,10,0.1),M=(0,10,0.1),kT=(0,100,0.1));"
   ]
  },
  {
   "cell_type": "code",
   "execution_count": 18,
   "metadata": {},
   "outputs": [
    {
     "data": {
      "application/vnd.jupyter.widget-view+json": {
       "model_id": "ab7b17338d4c40f4afc77a47c6f2bc1f"
      }
     },
     "metadata": {},
     "output_type": "display_data"
    }
   ],
   "source": [
    "def update(xbj=0.5,Q=30.0,mq=0.3,ms=0.8,M=0.938,kT=3):\n",
    "    xn=lxn(xbj,M,Q)\n",
    "    exact=lF1(xn,Q,mq,ms,M,kT)\n",
    "    FO=lCF1(xbj,Q,kT)\n",
    "    W=lW1(xbj,Q,mq,ms,M,kT)\n",
    "    ASY=lAW1(xbj,Q,kT)\n",
    "    Y=FO-ASY\n",
    "    approx=W+Y\n",
    "    ratio=approx/exact\n",
    "    print('exact        =',exact)\n",
    "    print('W            =',W)\n",
    "    print('ASY          =',ASY)\n",
    "    print('FO           =',FO)\n",
    "    print('approx       =',approx)\n",
    "    print('approx/exact =',ratio)\n",
    "interact(update,xbj=(0,1,0.01),Q=(1,1000,0.1),mq=(0,1,0.01),ms=(0,10,0.1),M=(0,10,0.1),kT=(0,100,0.1));"
   ]
  },
  {
   "cell_type": "markdown",
   "metadata": {},
   "source": [
    "# Numerical studies \n",
    "---"
   ]
  },
  {
   "cell_type": "markdown",
   "metadata": {},
   "source": [
    "## average kT and ms values"
   ]
  },
  {
   "cell_type": "code",
   "execution_count": 19,
   "metadata": {},
   "outputs": [
    {
     "data": {
      "application/vnd.jupyter.widget-view+json": {
       "model_id": "fd49bf031ec440e78edf35756d4c9a52"
      }
     },
     "metadata": {},
     "output_type": "display_data"
    }
   ],
   "source": [
    "def update(xbj=0.2,Q=2.0,mq=0.3,ms=0.8,M=0.938,kT=0):\n",
    "    \n",
    "    xn=lxn(xbj,M,Q)\n",
    "    kminus1=lkminus1(xn,Q,mq,ms,M,kT)\n",
    "    kplus1=lkplus(xn,Q,mq,ms,M,kminus1,kT)\n",
    "    k2=2*kminus1*kplus1-kT**2\n",
    "\n",
    "    kTmax=lkTmax(xbj,Q,mq,ms,M)\n",
    "    integrand=lambda kT: kT*lF1(lxn(xbj,M,Q),Q,mq,ms,M,kT)\n",
    "    norm=quad(integrand,0,kTmax)[0]\n",
    "    prob=lambda kT: kT*lF1(lxn(xbj,M,Q),Q,mq,ms,M,kT)/norm\n",
    "    average_kT=quad(lambda kT: kT*prob(kT),0,kTmax)[0]  \n",
    "\n",
    "    \n",
    "    print('<kT>=',average_kT)\n",
    "    print('k2=',k2)\n",
    "interact(update,xbj=(0,1,0.01),Q=(1,100,0.1),mq=(0,1,0.01),ms=(0,10,0.1),M=(0,10,0.1),kT=(0,100,0.1));"
   ]
  },
  {
   "cell_type": "code",
   "execution_count": 20,
   "metadata": {
    "collapsed": true
   },
   "outputs": [],
   "source": [
    "def gen_kTarray(xbj,Q,mq,ms,M):\n",
    "    _kTmax=lkTmax(xbj,Q,mq,ms,M)\n",
    "    kT1=np.linspace(0,_kTmax*0.99999,300)\n",
    "    kT2=np.linspace(_kTmax*0.99999,_kTmax-1e-10,200)\n",
    "    return np.append(kT1,kT2)"
   ]
  },
  {
   "cell_type": "markdown",
   "metadata": {},
   "source": [
    "### Study different contributions to exact ${\\cal F}_1$"
   ]
  },
  {
   "cell_type": "code",
   "execution_count": 21,
   "metadata": {},
   "outputs": [
    {
     "data": {
      "application/vnd.jupyter.widget-view+json": {
       "model_id": "71faaaef11a0454986e64195a6d3c2ee"
      }
     },
     "metadata": {},
     "output_type": "display_data"
    },
    {
     "data": {
      "image/png": "[encoded data removed]",
      "text/plain": [
       "<matplotlib.figure.Figure at 0x7fc4c938dc10>"
      ]
     },
     "metadata": {},
     "output_type": "display_data"
    }
   ],
   "source": [
    "def update(xbj=0.6,Q=2.0,mq=0.5,ms=0.65,M=0.938,kTmax=1,ymin=-3,ymax=10):\n",
    "    xn=lxn(xbj,M,Q)\n",
    "    ncols,nrows=3,1\n",
    "    fig = py.figure(figsize=(ncols*4,nrows*4.5))\n",
    "    kT=gen_kTarray(xbj,Q,mq,ms,M)\n",
    "\n",
    "    ax = fig.add_subplot(131)\n",
    "    ax.plot(kT,[_kT*_lF1(xn,Q,mq,ms,M,_kT,'A',1) for _kT in kT],label='graph=A, sol=1')\n",
    "    ax.plot(kT,[_kT*_lF1(xn,Q,mq,ms,M,_kT,'B',1) for _kT in kT],label='graph=B, sol=1')\n",
    "    ax.plot(kT,[_kT*_lF1(xn,Q,mq,ms,M,_kT,'C',1) for _kT in kT],label='graph=C, sol=1')\n",
    "    ax.plot(kT,[_kT*lF1_by_sol(xn,Q,mq,ms,M,_kT,1) for _kT in kT],label='sol 1')\n",
    "    ax.legend()\n",
    "    ax.set_ylim(ymin,ymax)\n",
    "    ax.set_xlim(0,kTmax)\n",
    "    ax.set_ylabel('$k_T {\\cal F}_1$',size=20)\n",
    "    ax.set_xlabel('$k_T$',size=20)\n",
    "\n",
    "    ax = fig.add_subplot(132)\n",
    "    ax.plot(kT,[_kT*_lF1(xn,Q,mq,ms,M,_kT,'A',2) for _kT in kT],label='graph=A, sol=2')\n",
    "    ax.plot(kT,[_kT*_lF1(xn,Q,mq,ms,M,_kT,'B',2) for _kT in kT],label='graph=B, sol=2')\n",
    "    ax.plot(kT,[_kT*_lF1(xn,Q,mq,ms,M,_kT,'C',2) for _kT in kT],label='graph=C, sol=2')\n",
    "    ax.plot(kT,[_kT*lF1_by_sol(xn,Q,mq,ms,M,_kT,2) for _kT in kT],label='sol 2')\n",
    "    ax.legend()\n",
    "    ax.set_ylim(ymin,ymax)\n",
    "    ax.set_xlim(0,kTmax)\n",
    "    ax.set_xlabel('$k_T$',size=20)\n",
    "\n",
    "    ax = fig.add_subplot(133)\n",
    "    ax.plot(kT,[_kT*lF1_by_graph(xn,Q,mq,ms,M,_kT,'A') for _kT in kT],label='graph=A')\n",
    "    ax.plot(kT,[_kT*lF1_by_graph(xn,Q,mq,ms,M,_kT,'B') for _kT in kT],label='graph=B')\n",
    "    ax.plot(kT,[_kT*lF1_by_graph(xn,Q,mq,ms,M,_kT,'C') for _kT in kT],label='graph=C')\n",
    "    ax.plot(kT,[_kT*lF1(xn,Q,mq,ms,M,_kT) for _kT in kT],label='TOT')\n",
    "    ax.legend()\n",
    "    ax.set_ylim(ymin,ymax)\n",
    "    ax.set_xlim(0,kTmax)\n",
    "    ax.set_xlabel('$k_T$',size=20)\n",
    "\n",
    "    py.tight_layout()\n",
    "    fig.canvas.draw()\n",
    "\n",
    "interact(update,xbj=(0,1,0.01),Q=(1,10,0.1),mq=(0,1,0.01),ms=(0,10,0.1),M=(0,10,0.1),kTmax=(0,10,0.1),ymin=(-10,0,0.01),ymax=(0,100,0.01));"
   ]
  },
  {
   "cell_type": "markdown",
   "metadata": {},
   "source": [
    "### Study exact vs W + Y"
   ]
  },
  {
   "cell_type": "code",
   "execution_count": 42,
   "metadata": {},
   "outputs": [
    {
     "data": {
      "application/vnd.jupyter.widget-view+json": {
       "model_id": "9ad7f91a70c148348097b34f27489044"
      }
     },
     "metadata": {},
     "output_type": "display_data"
    }
   ],
   "source": [
    "def update(xbj=0.5,Q=10.0,mq=0.3,ms=0.8,M=0.938):\n",
    "    xn=lxn(xbj,M,Q)\n",
    "    fig = py.figure()\n",
    "    kT1=gen_kTarray(xbj,Q,mq,ms,M)\n",
    "    kT2=gen_kTarray(xbj,Q,0,0,0)\n",
    "    kTmax=lkTmax(xbj,Q,mq,ms,M)*1.2\n",
    "    kT3=np.linspace(kT2[-1],kTmax,300)\n",
    "    kT23=np.append(kT2,kT3)\n",
    "    \n",
    "    exact1=np.array([_kT*lF1(xn,Q,mq,ms,M,_kT) for _kT in kT1])\n",
    "    FO2=np.array([_kT*lCF1(xbj,Q,_kT) for _kT in kT2])\n",
    "    \n",
    "    W23=np.array([_kT*lW1(xbj,Q,mq,ms,M,_kT) for _kT in kT23])\n",
    "    ASY23=np.array([_kT*lAW1(xbj,Q,_kT) for _kT in kT23])\n",
    "    ASY3=np.array([_kT*lAW1(xbj,Q,_kT) for _kT in kT3])\n",
    "    ASY2=np.array([_kT*lAW1(xbj,Q,_kT) for _kT in kT2])\n",
    "    \n",
    "    Y2=FO2-ASY2\n",
    "    Y3=-ASY3\n",
    "    Y23=np.append(Y2,Y3)\n",
    "  \n",
    "    ncols,nrows=3,1\n",
    "    fig = py.figure(figsize=(ncols*4,nrows*4.5))\n",
    "  \n",
    "\n",
    "    ymax=[exact1[0]]\n",
    "    for i in range(len(exact1)):\n",
    "        if ymax<exact1[i]: ymax=exact1[i]\n",
    "        if ymax>exact1[i]: break\n",
    "    ymax*=1.2\n",
    "    \n",
    "    ax = fig.add_subplot(131)\n",
    "    ax.plot(kT1,exact1,'k-',label='exact',alpha=0.5)\n",
    "    ax.plot(kT23,W23,'g--',label='W')\n",
    "    ax.plot(kT23,ASY23,'b:',label='ASY',alpha=0.5)\n",
    "    ax.legend(fontsize=10)\n",
    "    ax.set_ylim(0,ymax)\n",
    "    ax.set_xlim(0,kTmax)\n",
    "    ax.set_ylabel('$k_T {\\cal F}_1$',size=20)\n",
    "    ax.set_xlabel('$k_T$',size=20)\n",
    "\n",
    "    ax = fig.add_subplot(132)\n",
    "    ax.plot(kT1,exact1,'k-',label='exact',alpha=0.5)\n",
    "    ax.plot(kT2,FO2,'r--',label='FO')\n",
    "    ax.plot(kT23,ASY23,'b:',label='ASY',alpha=0.5)\n",
    "    ax.legend()\n",
    "    ax.set_xlabel('$k_T$',size=20)\n",
    "    ax.set_ylim(0,ymax)\n",
    "    ax.set_xlim(0,kTmax)\n",
    "    ax.set_title(r'$x_{\\rm bj}=%0.2f\\;\\;Q=%0.2f$'%(xbj,Q),size=20)\n",
    "    \n",
    "    ax = fig.add_subplot(133)\n",
    "    ax.plot(kT1,exact1,'k-',label='exact',alpha=0.5)\n",
    "    ax.plot(kT23,W23+Y23,'k--',label='W+Y',alpha=0.5)\n",
    "    ax.legend()\n",
    "    ax.set_xlabel('$k_T$',size=20)\n",
    "    ax.set_ylim(0,ymax)\n",
    "    ax.set_xlim(0,kTmax)\n",
    "  \n",
    "  \n",
    "    py.tight_layout();\n",
    "    py.savefig('F1-kT-10.pdf')\n",
    "    py.show();\n",
    "\n",
    "\n",
    "interact(update,xbj=(0,1,0.01),Q=(1,30,0.1),mq=(0,1,0.01),ms=(0,10,0.1),M=(0,10,0.1),kTmax=(0,10,0.1));"
   ]
  },
  {
   "cell_type": "code",
   "execution_count": 45,
   "metadata": {},
   "outputs": [
    {
     "data": {
      "application/vnd.jupyter.widget-view+json": {
       "model_id": "1f69f383995f43a49793523041b564d2"
      }
     },
     "metadata": {},
     "output_type": "display_data"
    }
   ],
   "source": [
    "def update(xbj=0.5,Q=2.0,mq=0.3,ms=0.8,M=0.938):\n",
    "    xn=lxn(xbj,M,Q)\n",
    "    fig = py.figure()\n",
    "    kT=gen_kTarray(xbj,Q,mq,ms,M)\n",
    "    \n",
    "    exact=np.array([_kT*lF1(xn,Q,mq,ms,M,_kT) for _kT in kT])\n",
    "    FO=np.array([_kT*lCF1(xbj,Q,_kT) for _kT in kT])\n",
    "    \n",
    "    W=np.array([_kT*lW1(xbj,Q,mq,ms,M,_kT) for _kT in kT])\n",
    "    ASY=np.array([_kT*lAW1(xbj,Q,_kT) for _kT in kT])\n",
    "    \n",
    "    Y=FO-ASY\n",
    "  \n",
    "    ncols,nrows=3,1\n",
    "    fig = py.figure(figsize=(ncols*4,nrows*4.5))\n",
    "  \n",
    "    \n",
    "    ax = fig.add_subplot(131)\n",
    "    ax.plot(kT,exact/exact,'k-',label='exact',alpha=0.5)\n",
    "    ax.plot(kT,W/exact,'g--',label='W')\n",
    "    ax.plot(kT,ASY/exact,'b:',label='ASY',alpha=0.5)\n",
    "    ax.legend(fontsize=10)\n",
    "    ax.set_ylim(0,2)\n",
    "    ax.set_ylabel('ratio to exact',size=20)\n",
    "    ax.set_xlabel('$k_T$',size=20)\n",
    "\n",
    "    ax = fig.add_subplot(132)\n",
    "    ax.plot(kT,exact/exact,'k-',label='exact',alpha=0.5)\n",
    "    ax.plot(kT,FO/exact,'r--',label='FO')\n",
    "    ax.plot(kT,ASY/exact,'b:',label='ASY',alpha=0.5)\n",
    "    ax.legend()\n",
    "    ax.set_xlabel('$k_T$',size=20)\n",
    "    ax.set_ylim(0,2)\n",
    "    ax.set_title(r'$x_{\\rm bj}=%0.2f\\;\\;Q=%0.2f$'%(xbj,Q),size=20)\n",
    "    \n",
    "    ax = fig.add_subplot(133)\n",
    "    ax.plot(kT,exact/exact,'k-',label='exact',alpha=0.5)\n",
    "    ax.plot(kT,(W+Y)/exact,'k--',label='W+Y',alpha=0.5)\n",
    "    ax.legend()\n",
    "    ax.set_xlabel('$k_T$',size=20)\n",
    "\n",
    "    ax.set_ylim(0,2)\n",
    "  \n",
    "    py.tight_layout();\n",
    "    py.savefig('F1-ratio-2.pdf')\n",
    "\n",
    "    py.show();\n",
    "\n",
    "\n",
    "interact(update,xbj=(0,1,0.01),Q=(1,100,0.1),mq=(0,1,0.01),ms=(0,10,0.1),M=(0,10,0.1),kTmax=(0,10,0.1));"
   ]
  },
  {
   "cell_type": "markdown",
   "metadata": {
    "collapsed": true
   },
   "source": [
    "### Study rapidity of outgoing quark "
   ]
  },
  {
   "cell_type": "code",
   "execution_count": 24,
   "metadata": {},
   "outputs": [
    {
     "data": {
      "application/vnd.jupyter.widget-view+json": {
       "model_id": "51e027973ef142d0baf120b5ce25c131"
      }
     },
     "metadata": {},
     "output_type": "display_data"
    }
   ],
   "source": [
    "def update(xbj=0.6,Q=2.0,mq=0.3,ms=0.65,M=0.938,xmin=0,xmax=3):\n",
    "    ncols,nrows=4,1\n",
    "    fig = py.figure(figsize=(ncols*4,nrows*4.5))\n",
    "\n",
    "    xn=lxn(xbj,M,Q)\n",
    "    kT=gen_kTarray(xbj,Q,mq,ms,M)\n",
    "    rap1=[lkfrap(xn,Q,mq,ms,M,_kT,1) for _kT in kT]\n",
    "    rap2=[lkfrap(xn,Q,mq,ms,M,_kT,2) for _kT in kT]\n",
    "    z1=[lz(xn,Q,mq,ms,M,_kT,1) for _kT in kT]\n",
    "    z2=[lz(xn,Q,mq,ms,M,_kT,2) for _kT in kT]\n",
    "    kminus1=[lkminus1(xn,Q,mq,ms,M,_kT) for _kT in kT]\n",
    "    kminus2=[lkminus2(xn,Q,mq,ms,M,_kT) for _kT in kT]\n",
    "    kplus1=[lkplus(xn,Q,mq,ms,M,lkminus1(xn,Q,mq,ms,M,_kT),_kT) for _kT in kT]\n",
    "    kplus2=[lkplus(xn,Q,mq,ms,M,lkminus2(xn,Q,mq,ms,M,_kT),_kT) for _kT in kT]\n",
    "    nuk1=[-lnuk(xn,Q,mq,ms,M,_kT,1)**2 for _kT in kT]\n",
    "    nuk2=[-lnuk(xn,Q,mq,ms,M,_kT,2)**2 for _kT in kT]\n",
    "\n",
    "\n",
    "    ax = fig.add_subplot(141)\n",
    "    ax.plot(rap1,kplus1,label=r'$k^+$ sol 1')\n",
    "    ax.plot(rap2,kplus2,'--',label=r'$k^+$ sol 2')\n",
    "    ax.plot(rap1,kminus1,label=r'$k^-$ sol 1')\n",
    "    ax.plot(rap2,kminus2,'--',label=r'$k^-$ sol 2')\n",
    "    ax.axvline(lPrap(xn,Q,M),color='k',ls=':',label='target')\n",
    "    ax.legend()\n",
    "    #ax.set_xlim(xmin,xmax)\n",
    "    #ax.set_ylim(0,kTmax)\n",
    "    ax.set_xlabel(r'$y_{k+q}$',size=20)\n",
    "    ax.set_ylabel(r'$k^{\\pm}$',size=20)\n",
    "    ax.axvline(0,color='k')\n",
    "\n",
    "\n",
    "    ax = fig.add_subplot(142)\n",
    "    ax.plot(rap1,nuk1,label=r'$k^2$ sol 1')\n",
    "    ax.plot(rap2,nuk2,'--',label=r'$k^2$ sol 2')\n",
    "    ax.axvline(lPrap(xn,Q,M),color='k',ls=':',label='target')\n",
    "    ax.legend()\n",
    "    #ax.set_xlim(xmin,xmax)\n",
    "    #ax.set_ylim(0,kTmax)\n",
    "    ax.set_xlabel('$y_{k+q}$',size=20)\n",
    "    ax.set_ylabel('$k^2$',size=20)\n",
    "    ax.axvline(0,color='k')\n",
    "\n",
    "\n",
    "    ax = fig.add_subplot(143)\n",
    "    ax.plot(rap1,kT,label='sol 1')\n",
    "    ax.plot(rap2,kT,label='sol 2')\n",
    "    ax.axvline(lPrap(xn,Q,M),color='k',ls=':',label='target')\n",
    "    ax.legend()\n",
    "    #ax.set_xlim(xmin,xmax)\n",
    "    #ax.set_ylim(0,kTmax)\n",
    "    ax.set_xlabel('$y_{k+q}$',size=20)\n",
    "    ax.set_ylabel('$k_T$',size=20)\n",
    "    ax.axvline(0,color='k')\n",
    "\n",
    "\n",
    "    ax = fig.add_subplot(144)\n",
    "    ax.axvline(lPrap(xn,Q,M),color='k',ls=':',label='target')\n",
    "    ax.plot(rap1,z1,label='sol 1')\n",
    "    ax.plot(rap2,z2,label='sol 2')\n",
    "    ax.axhline(1,color='k')\n",
    "    ax.axvline(0,color='k')\n",
    "\n",
    "    ax.legend()\n",
    "    #ax.set_xlim(xmin,xmax)\n",
    "    ax.set_xlabel('$y_{k+q}$',size=20)\n",
    "    ax.set_ylabel('$z$',size=20)\n",
    "\n",
    "    py.tight_layout()\n",
    "    #fig.canvas.draw();\n",
    "    \n",
    "    py.show()\n",
    "    #py.savefig('kin-rap.png')\n",
    "\n",
    "interact(update,xbj=(0,1,0.01),Q=(1,30,0.1),mq=(0,1,0.01),ms=(0,10,0.01),M=(0,10,0.1),ymin=(-10,0,0.01),ymax=(0,100,0.01));"
   ]
  },
  {
   "cell_type": "markdown",
   "metadata": {},
   "source": [
    "### study rapidity distribution"
   ]
  },
  {
   "cell_type": "code",
   "execution_count": 25,
   "metadata": {
    "collapsed": true
   },
   "outputs": [],
   "source": [
    "R1=(kplus.subs(k.minus(),kminus1)+q.plus())/(kminus1+q.minus())\n",
    "dRdkT1=sp.diff(R1,k.perp())\n",
    "lR1=sp.lambdify((xn,Q,mq,ms,M,k.perp()),R1)\n",
    "lRdkT1=sp.lambdify((xn,Q,mq,ms,M,k.perp()),dRdkT1)\n",
    "ldRdkT1=lambda xn,Q,mq,ms,M,kT: 2*lR1(xn,Q,mq,ms,M,kT)/lRdkT1(xn,Q,mq,ms,M,kT)\n",
    "\n",
    "R2=(kplus.subs(k.minus(),kminus2)+q.plus())/(kminus2+q.minus())\n",
    "dRdkT2=sp.diff(R2,k.perp())\n",
    "lR2=sp.lambdify((xn,Q,mq,ms,M,k.perp()),R2)\n",
    "lRdkT2=sp.lambdify((xn,Q,mq,ms,M,k.perp()),dRdkT2)\n",
    "ldRdkT2=lambda xn,Q,mq,ms,M,kT: 2*lR2(xn,Q,mq,ms,M,kT)/lRdkT2(xn,Q,mq,ms,M,kT)"
   ]
  },
  {
   "cell_type": "code",
   "execution_count": 26,
   "metadata": {
    "scrolled": false
   },
   "outputs": [
    {
     "data": {
      "application/vnd.jupyter.widget-view+json": {
       "model_id": "0226bb6f8fc34dc4850c2fe5204a3f33"
      }
     },
     "metadata": {},
     "output_type": "display_data"
    }
   ],
   "source": [
    "def update(xbj=0.5,Q=10.0,mq=0.5,ms=0.8,M=0.938,ymin=0,ymax=1.0):\n",
    "  \n",
    "    xn=lxn(xbj,M,Q)\n",
    "    kT=gen_kTarray(xbj,Q,mq,ms,M)\n",
    "    rap1=[lkfrap(xn,Q,mq,ms,M,_kT,1) for _kT in kT]\n",
    "    rap2=[lkfrap(xn,Q,mq,ms,M,_kT,2) for _kT in kT]\n",
    "\n",
    "    jac1=np.array([abs(ldRdkT1(xn,Q,mq,ms,M,_kT)) for _kT in kT])\n",
    "    jac2=np.array([abs(ldRdkT2(xn,Q,mq,ms,M,_kT)) for _kT in kT])\n",
    "    \n",
    "    exact1=np.array([_kT*lF1_by_sol(xn,Q,mq,ms,M,_kT,1) for _kT in kT])\n",
    "    exact2=np.array([_kT*lF1_by_sol(xn,Q,mq,ms,M,_kT,2) for _kT in kT])\n",
    "\n",
    "    W1=np.array([_kT*lW1(xbj,Q,mq,ms,M,_kT) for _kT in kT])\n",
    "    ASY1=np.array([_kT*lAW1(xbj,Q,_kT) for _kT in kT])\n",
    "    FO1=np.array([_kT*lCF1_by_sol(xbj,Q,_kT,1) for _kT in kT])\n",
    "    FO2=np.array([_kT*lCF1_by_sol(xbj,Q,_kT,2) for _kT in kT])\n",
    "\n",
    "    ncols,nrows=3,1\n",
    "    fig = py.figure(figsize=(ncols*4.5,nrows*4.5))\n",
    "\n",
    "    ax = fig.add_subplot(131)\n",
    "    ax.plot(rap1,jac1*exact1,'k-',label='exact',alpha=0.5)\n",
    "    ax.plot(rap2,jac2*exact2,'k-',alpha=0.5)\n",
    "    ax.plot(rap1,jac1*W1,'g--',label='W')\n",
    "    ax.plot(rap1,jac1*ASY1,'b:',label='ASY',alpha=0.5)\n",
    "    ax.set_ylim(ymin,ymax)\n",
    "    ax.legend(fontsize=20)\n",
    "    ax.set_ylabel(r'$k_T{\\cal F}_1 \\; |dk_T/dY|$',size=20)\n",
    "    ax.set_xlabel('$y_{k+q}$',size=20)\n",
    "\n",
    "    ax = fig.add_subplot(132)\n",
    "    ax.plot(rap1,jac1*exact1,'k-',label='exact',alpha=0.5)\n",
    "    ax.plot(rap2,jac2*exact2,'k-',alpha=0.5)\n",
    "    ax.plot(rap1,jac1*FO1,'r--',label='FO')\n",
    "    ax.plot(rap2,jac2*FO2,'r--')\n",
    "    ax.plot(rap1,jac1*ASY1,'b:',label='ASY',alpha=0.5)\n",
    "    ax.set_ylim(ymin,ymax)\n",
    "    ax.legend(fontsize=20)\n",
    "    ax.set_xlabel('$y_{k+q}$',size=20)\n",
    "    ax.set_title(r'$x_{\\rm bj}=%0.2f\\;\\;Q=%0.2f$'%(xbj,Q),size=20)\n",
    "    \n",
    "    ax = fig.add_subplot(133)\n",
    "    ax.plot(rap1,jac1*exact1,'k-',label='exact',alpha=0.5)\n",
    "    ax.plot(rap2,jac2*exact2,'k-',alpha=0.5)\n",
    "    ax.plot(rap1,jac1*(W1+FO1-ASY1),'k--',label='W+Y',alpha=0.5)\n",
    "    ax.plot(rap2,jac2*(FO2),'k--',alpha=0.5)\n",
    "    ax.set_ylim(ymin,ymax)\n",
    "    ax.legend(fontsize=20)\n",
    "    ax.set_xlabel('$y_{k+q}$',size=20)\n",
    "\n",
    "    py.tight_layout()\n",
    "    py.savefig('F1-rap.png')\n",
    "    py.show()\n",
    "\n",
    "interact(update,xbj=(0,1,0.01),Q=(1,100,0.1),mq=(0,1,0.01),ms=(0,10,0.1),M=(0,10,0.1),ymin=(-10,0,0.01),ymax=(0,100,0.01));"
   ]
  },
  {
   "cell_type": "markdown",
   "metadata": {
    "collapsed": true
   },
   "source": [
    "## Study FL"
   ]
  },
  {
   "cell_type": "code",
   "execution_count": 27,
   "metadata": {},
   "outputs": [
    {
     "data": {
      "application/vnd.jupyter.widget-view+json": {
       "model_id": "b1ee5a97511645ffa51ec10b042df897"
      }
     },
     "metadata": {},
     "output_type": "display_data"
    }
   ],
   "source": [
    "def update(mq=0.3,M=0.938):    \n",
    "    ncols,nrows=1,1\n",
    "    fig = py.figure(figsize=(ncols*6,nrows*4))\n",
    "    \n",
    "#     ax = fig.add_subplot(121)\n",
    "#     ms=0.9\n",
    "#     xbj=0.3\n",
    "#     for Q in [2.,4.,6.,8.,10.]:\n",
    "#         xn=lxn(xbj,M,Q)\n",
    "#         kT=gen_kTarray(xbj,Q,mq,ms,M)\n",
    "#         dF1=np.array([_kT*lF1(xn,Q,mq,ms,M,_kT) for _kT in kT])\n",
    "#         dF2=np.array([_kT*lF2(xn,Q,mq,ms,M,_kT) for _kT in kT])\n",
    "#         dFL=dF2-2*xn*dF1       \n",
    "#         W1=np.array([_kT*lW1(xbj,Q,mq,ms,M,_kT) for _kT in kT])\n",
    "#         ASY1=np.array([_kT*lAW1(xbj,Q,_kT) for _kT in kT])\n",
    "#         FO1=np.array([_kT*lCF1(xbj,Q,_kT) for _kT in kT])\n",
    "#         W2=np.array([_kT*lW2(xbj,Q,mq,ms,M,_kT) for _kT in kT])\n",
    "#         ASY2=np.array([_kT*lAW2(xbj,Q,_kT) for _kT in kT])\n",
    "#         FO2=np.array([_kT*lCF2(xbj,Q,_kT) for _kT in kT])\n",
    "#         adF1=W1+FO1-ASY1\n",
    "#         adF2=W2+FO2-ASY2\n",
    "#         adFL=adF2-2*xbj*adF1\n",
    "#         ax.plot(kT,dFL/dF2,label='$Q=%0.0f$'%Q)\n",
    "#         ax.plot(kT,adFL/adF2,'k--',alpha=0.5)\n",
    "        \n",
    "        \n",
    "#     ax.set_title(r'$x_{\\rm bj}=%0.2f\\;ms=%0.2f$'%(xbj,ms),size=20)\n",
    "#     ax.legend(fontsize=10,loc='best')\n",
    "#     #ax.set_ylim(-2,1)\n",
    "#     ax.set_ylabel('$dF_{L}/dF_{2}$',size=20)\n",
    "#     ax.set_xlabel('$k_T$',size=20)  \n",
    "\n",
    "    ax = fig.add_subplot(111)\n",
    "    ms=0.8\n",
    "    xbj=0.5\n",
    "    for Q in [2.,4.,6.,8.,10.]:\n",
    "        xn=lxn(xbj,M,Q)\n",
    "        kT=gen_kTarray(xbj,Q,mq,ms,M)\n",
    "        dF1=np.array([_kT*lF1(xn,Q,mq,ms,M,_kT) for _kT in kT])\n",
    "        dF2=np.array([_kT*lF2(xn,Q,mq,ms,M,_kT) for _kT in kT])\n",
    "        R=(1+xn**2*M**2/Q**2)**2/(1-xn**2*M**2/Q**2)\n",
    "        dFL=R*dF2-2*xn*dF1       \n",
    "        W1=np.array([_kT*lW1(xbj,Q,mq,ms,M,_kT) for _kT in kT])\n",
    "        ASY1=np.array([_kT*lAW1(xbj,Q,_kT) for _kT in kT])\n",
    "        FO1=np.array([_kT*lCF1(xbj,Q,_kT) for _kT in kT])\n",
    "        W2=np.array([_kT*lW2(xbj,Q,mq,ms,M,_kT) for _kT in kT])\n",
    "        ASY2=np.array([_kT*lAW2(xbj,Q,_kT) for _kT in kT])\n",
    "        FO2=np.array([_kT*lCF2(xbj,Q,_kT) for _kT in kT])\n",
    "        adF1=W1+FO1-ASY1\n",
    "        adF2=W2+FO2-ASY2\n",
    "        adFL=adF2-2*xbj*adF1\n",
    "        ax.plot(kT,dFL/dF2,label='$Q=%0.0f$'%Q)\n",
    "        ax.plot(kT,adFL/adF2,'k--',alpha=0.5)\n",
    "    ax.set_title(r'$x_{\\rm bj}=%0.2f\\;ms=%0.2f$'%(xbj,ms),size=20)\n",
    "    ax.legend(fontsize=10,loc='best')\n",
    "    #ax.set_ylim(-2,1)\n",
    "    ax.set_ylabel('$dF_{L}/dF_{2}$',size=20)\n",
    "    ax.set_xlabel('$k_T$',size=20)  \n",
    "\n",
    "    \n",
    "    py.tight_layout();\n",
    "    py.savefig('FL.png')\n",
    "    py.show();\n",
    "\n",
    "\n",
    "interact(update,mq=(0,1,0.01),M=(0,10,0.1),kTmax=(0,10,0.1));"
   ]
  },
  {
   "cell_type": "code",
   "execution_count": 28,
   "metadata": {
    "collapsed": true
   },
   "outputs": [],
   "source": [
    "def dapprox1(xbj,Q,mq,ms,M,kT):\n",
    "    kTmax0=lkTmax(xbj,Q,0,0,0) \n",
    "    if kT<kTmax0: return kT*(lW1(xbj,Q,mq,ms,M,kT)+lCF1(xbj,Q,kT)-lAW1(xbj,Q,kT))\n",
    "    else: return kT*(lW1(xbj,Q,mq,ms,M,kT)-lAW1(xbj,Q,kT))\n",
    "\n",
    "def dapprox2(xbj,Q,mq,ms,M,kT):\n",
    "    kTmax0=lkTmax(xbj,Q,0,0,0) \n",
    "    if kT<kTmax0: return kT*(lW2(xbj,Q,mq,ms,M,kT)+lCF2(xbj,Q,kT)-lAW2(xbj,Q,kT))\n",
    "    else: return kT*(lW2(xbj,Q,mq,ms,M,kT)-lAW2(xbj,Q,kT))"
   ]
  },
  {
   "cell_type": "code",
   "execution_count": 29,
   "metadata": {},
   "outputs": [
    {
     "data": {
      "application/vnd.jupyter.widget-view+json": {
       "model_id": "822304b43124482083fd411fcf7ae6b5"
      }
     },
     "metadata": {},
     "output_type": "display_data"
    }
   ],
   "source": [
    "def update(xbj=0.5,Qmax=10.0,mq=0.3,ms=0.8,M=0.938):\n",
    "\n",
    "    kTmin=0.001 # to avoid numerical errors\n",
    "    Qmin=1\n",
    "    Q=np.linspace(Qmin,Qmax,40)\n",
    "\n",
    "    XN=np.array([lxn(xbj,M,_Q) for _Q in Q])\n",
    "    F1=np.array([quad(lambda kT: kT*lF1(lxn(xbj,M,_Q),_Q,mq,ms,M,kT),kTmin,lkTmax(xbj,_Q,mq,ms,M) )[0] for _Q in Q])\n",
    "    F2=np.array([quad(lambda kT: kT*lF2(lxn(xbj,M,_Q),_Q,mq,ms,M,kT),kTmin,lkTmax(xbj,_Q,mq,ms,M) )[0] for _Q in Q])\n",
    "    R=np.array([(1+lxn(xbj,M,_Q)**2*M**2/_Q**2)**2/(1-lxn(xbj,M,_Q)**2*M**2/_Q**2) for _Q in Q])\n",
    "\n",
    "    \n",
    "    aF1=np.array([quad(lambda kT:dapprox1(xbj,_Q,mq,ms,M,kT) ,kTmin,lkTmax(xbj,_Q,mq,ms,M))[0] for _Q in Q])\n",
    "    aF2=np.array([quad(lambda kT:dapprox2(xbj,_Q,mq,ms,M,kT) ,kTmin,lkTmax(xbj,_Q,mq,ms,M))[0] for _Q in Q])\n",
    "\n",
    "    ncols,nrows=1,1\n",
    "    fig = py.figure(figsize=(ncols*6,nrows*4))\n",
    "    ax = fig.add_subplot(111)\n",
    "    ax.plot(Q,F2,label='F2')\n",
    "    ax.plot(Q,R*F2-2*XN*F1,label='FL')\n",
    "    ax.plot(Q,aF2,'k--',label='approx F2',alpha=0.5)\n",
    "    ax.plot(Q,aF2-2*xbj*aF1,'r--',label='approx FL',alpha=0.5)\n",
    "    ax.set_title(r'$x_{\\rm bj}=%0.2f\\;\\;ms=%0.2f$'%(xbj,ms),size=20)\n",
    "\n",
    "    ax.legend(fontsize=20,frameon=0)\n",
    "    #ax.set_ylim(0.8,1.2)\n",
    "    #ax.set_xlim(0,kTmax)\n",
    "    ax.set_ylabel('$F_{2,L}$',size=20)\n",
    "    ax.set_xlabel('$Q$',size=20)  \n",
    "    py.tight_layout();\n",
    "    py.savefig('F2L-Q.png')\n",
    "    py.show();\n",
    "\n",
    "\n",
    "interact(update,xbj=(0,1,0.01),Qmax=(1,30,0.1),mq=(0,1,0.01),ms=(0,10,0.1),M=(0,10,0.1),kTmax=(0,10,0.1));"
   ]
  },
  {
   "cell_type": "code",
   "execution_count": 30,
   "metadata": {},
   "outputs": [
    {
     "data": {
      "application/vnd.jupyter.widget-view+json": {
       "model_id": "39a814e75e3949b393ff41e6160c70fc"
      }
     },
     "metadata": {},
     "output_type": "display_data"
    }
   ],
   "source": [
    "def update(Q=10,mq=0.3,ms=0.8,M=0.938):\n",
    "\n",
    "    kTmin=0.001 # to avoid numerical errors\n",
    "    X=np.linspace(1e-3,0.9,40)\n",
    "\n",
    "    get_ms=lambda x: 0.1 + 0.5*np.log(.6/x)\n",
    "\n",
    "    \n",
    "    XN=np.array([lxn(x,M,Q) for x in X])\n",
    "    F1=np.array([quad(lambda kT: kT*lF1(lxn(xbj,M,Q),Q,mq,get_ms(xbj),M,kT),kTmin,lkTmax(xbj,Q,mq,get_ms(xbj),M) )[0] for xbj in X])\n",
    "    F2=np.array([quad(lambda kT: kT*lF2(lxn(xbj,M,Q),Q,mq,get_ms(xbj),M,kT),kTmin,lkTmax(xbj,Q,mq,get_ms(xbj),M) )[0] for xbj in X])\n",
    "    R=np.array([(1+lxn(x,M,Q)**2*M**2/Q**2)**2/(1-lxn(x,M,Q)**2*M**2/Q**2) for x in X])\n",
    "\n",
    "    \n",
    "    aF1=np.array([quad(lambda kT:dapprox1(xbj,Q,mq,get_ms(xbj),M,kT) ,kTmin,lkTmax(xbj,Q,mq,get_ms(xbj),M))[0] for xbj in X])\n",
    "    aF2=np.array([quad(lambda kT:dapprox2(xbj,Q,mq,get_ms(xbj),M,kT) ,kTmin,lkTmax(xbj,Q,mq,get_ms(xbj),M))[0] for xbj in X])\n",
    "\n",
    "    ncols,nrows=1,1\n",
    "    fig = py.figure(figsize=(ncols*6,nrows*4))\n",
    "    ax = fig.add_subplot(111)\n",
    "    ax.plot(X,F2,label='F2')\n",
    "    ax.plot(X,R*F2-2*XN*F1,label='FL')\n",
    "    ax.plot(X,aF2,'k--',label='approx F2',alpha=0.5)\n",
    "    ax.plot(X,aF2-2*X*aF1,'r--',label='approx FL',alpha=0.5)\n",
    "    ax.set_title(r'$Q=%0.2f\\;\\;ms=%0.2f$'%(Q,ms),size=20)\n",
    "    ax.legend(fontsize=10,frameon=0)\n",
    "    ax.axhline(0,color='k',alpha=0.5)\n",
    "    #ax.set_xlim(0,kTmax)\n",
    "    ax.set_ylabel('$F_{2,L}$',size=20)\n",
    "    ax.set_xlabel('$x$',size=20)\n",
    "    #ax.semilogx()\n",
    "    py.tight_layout();\n",
    "    py.savefig('F1L-X.png')\n",
    "    py.show();\n",
    "\n",
    "\n",
    "interact(update,Q=(0,100,0.01),mq=(0,1,0.01),ms=(0,10,0.1),M=(0,10,0.1));"
   ]
  },
  {
   "cell_type": "code",
   "execution_count": 31,
   "metadata": {
    "collapsed": true
   },
   "outputs": [],
   "source": [
    "Q=10\n",
    "mq=0.3\n",
    "ms=0.8\n",
    "M=0.938\n",
    "\n",
    "kTmin=0.001 # to avoid numerical errors\n",
    "X=np.linspace(1e-3,0.9,40)\n",
    "\n",
    "get_ms=lambda x: 0.8 + 0.5*np.log(.6/x)\n",
    "\n",
    "\n",
    "XN=np.array([lxn(x,M,Q) for x in X])\n",
    "F1=np.array([quad(lambda kT: kT*lF1(lxn(xbj,M,Q),Q,mq,get_ms(xbj),M,kT),kTmin,lkTmax(xbj,Q,mq,get_ms(xbj),M) )[0] for xbj in X])\n",
    "F2=np.array([quad(lambda kT: kT*lF2(lxn(xbj,M,Q),Q,mq,get_ms(xbj),M,kT),kTmin,lkTmax(xbj,Q,mq,get_ms(xbj),M) )[0] for xbj in X])\n",
    "R=np.array([(1+lxn(x,M,Q)**2*M**2/Q**2)**2/(1-lxn(x,M,Q)**2*M**2/Q**2) for x in X])\n",
    "\n",
    "\n",
    "aF1=np.array([quad(lambda kT:dapprox1(xbj,Q,mq,get_ms(xbj),M,kT) ,kTmin,lkTmax(xbj,Q,mq,get_ms(xbj),M))[0] for xbj in X])\n",
    "aF2=np.array([quad(lambda kT:dapprox2(xbj,Q,mq,get_ms(xbj),M,kT) ,kTmin,lkTmax(xbj,Q,mq,get_ms(xbj),M))[0] for xbj in X])"
   ]
  },
  {
   "cell_type": "code",
   "execution_count": 32,
   "metadata": {},
   "outputs": [
    {
     "data": {
      "text/plain": [
       "[<matplotlib.lines.Line2D at 0x7fc4c58b9c10>]"
      ]
     },
     "execution_count": 32,
     "metadata": {},
     "output_type": "execute_result"
    },
    {
     "data": {
      "image/png": "[encoded data removed]",
      "text/plain": [
       "<matplotlib.figure.Figure at 0x7fc4c94d0450>"
      ]
     },
     "metadata": {},
     "output_type": "display_data"
    }
   ],
   "source": [
    "X=np.linspace(1e-3,0.9,40)\n",
    "py.plot(X,0.8 + 0.1*np.log(.6/X))"
   ]
  },
  {
   "cell_type": "code",
   "execution_count": 33,
   "metadata": {},
   "outputs": [
    {
     "data": {
      "image/png": "[encoded data removed]",
      "text/plain": [
       "<matplotlib.figure.Figure at 0x7fc4c543cd90>"
      ]
     },
     "metadata": {},
     "output_type": "display_data"
    }
   ],
   "source": [
    "ncols,nrows=1,1\n",
    "fig = py.figure(figsize=(ncols*6,nrows*4))\n",
    "ax = fig.add_subplot(111)\n",
    "ax.plot(X,F2,label='F2')\n",
    "ax.plot(X,R*F2-2*XN*F1,label='FL')\n",
    "ax.plot(X,aF2,'k--',label='approx F2',alpha=0.5)\n",
    "ax.plot(X,aF2-2*X*aF1,'r--',label='approx FL',alpha=0.5)\n",
    "ax.set_title(r'$Q=%0.2f$'%(Q),size=20)\n",
    "ax.legend(fontsize=10,frameon=0)\n",
    "ax.axhline(0,color='k',alpha=0.5)\n",
    "#ax.set_xlim(0,kTmax)\n",
    "ax.set_ylabel('$F_{2,L}$',size=20)\n",
    "ax.set_xlabel('$x$',size=20)\n",
    "#ax.semilogx()\n",
    "ax.set_ylim(0,10)\n",
    "py.tight_layout();\n",
    "py.savefig('F1L-X.png')\n",
    "py.show();"
   ]
  },
  {
   "cell_type": "code",
   "execution_count": 34,
   "metadata": {},
   "outputs": [
    {
     "data": {
      "application/vnd.jupyter.widget-view+json": {
       "model_id": "a0ef2073bb924f41b14d0a8213b0e4cd"
      }
     },
     "metadata": {},
     "output_type": "display_data"
    }
   ],
   "source": [
    "def update(Q=2,mq=0.3,ms=0.8,M=0.938):\n",
    "\n",
    "    kTmin=0.001 # to avoid numerical errors\n",
    "    X=np.linspace(1e-3,0.92,40)\n",
    "\n",
    "    get_ms=lambda x: 0.8 + 0.1*np.log(.6/x)\n",
    "    \n",
    "    XN=np.array([lxn(x,M,Q) for x in X])\n",
    "    F1=np.array([quad(lambda kT: kT*lF1(lxn(xbj,M,Q),Q,mq,get_ms(xbj),M,kT),kTmin,lkTmax(xbj,Q,mq,get_ms(xbj),M) )[0] for xbj in X])\n",
    "    F2=np.array([quad(lambda kT: kT*lF2(lxn(xbj,M,Q),Q,mq,get_ms(xbj),M,kT),kTmin,lkTmax(xbj,Q,mq,get_ms(xbj),M) )[0] for xbj in X])\n",
    "    R=np.array([(1+lxn(x,M,Q)**2*M**2/Q**2)**2/(1-lxn(x,M,Q)**2*M**2/Q**2) for x in X])\n",
    "\n",
    "    aF1=np.array([quad(lambda kT:dapprox1(xbj,Q,mq,get_ms(xbj),M,kT) ,kTmin,lkTmax(xbj,Q,mq,get_ms(xbj),M))[0] for xbj in X])\n",
    "    aF2=np.array([quad(lambda kT:dapprox2(xbj,Q,mq,get_ms(xbj),M,kT) ,kTmin,lkTmax(xbj,Q,mq,get_ms(xbj),M))[0] for xbj in X])\n",
    "\n",
    "    ncols,nrows=1,1\n",
    "    fig = py.figure(figsize=(ncols*6,nrows*4))\n",
    "    ax = fig.add_subplot(111)\n",
    "    ax.plot(X,(R*F2-2*XN*F1)/F2,label='FL/F2')\n",
    "    ax.plot(X,(aF2-2*X*aF1)/aF2,'r--',label='approx FL/F2',alpha=0.5)\n",
    "    ax.set_title(r'$Q=%0.2f\\;\\;ms=%0.2f$'%(Q,ms),size=20)\n",
    "    ax.legend(fontsize=10,frameon=0)\n",
    "    #ax.axhline(0,color='k',alpha=0.5)\n",
    "    #ax.set_xlim(0,kTmax)\n",
    "    ax.set_ylabel('$F_L/F_2$',size=20)\n",
    "    ax.set_xlabel('$x$',size=20)\n",
    "    #ax.semilogx()\n",
    "    py.tight_layout();\n",
    "    py.savefig('FLoF2-X.png')\n",
    "    py.show();\n",
    "\n",
    "\n",
    "interact(update,Q=(0,100,0.01),mq=(0,1,0.01),ms=(0,10,0.1),M=(0,10,0.1));"
   ]
  },
  {
   "cell_type": "code",
   "execution_count": null,
   "metadata": {
    "collapsed": true
   },
   "outputs": [],
   "source": []
  },
  {
   "cell_type": "code",
   "execution_count": null,
   "metadata": {
    "collapsed": true
   },
   "outputs": [],
   "source": []
  }
 ],
 "metadata": {
  "kernelspec": {
   "display_name": "Python 2",
   "language": "python",
   "name": "python2"
  },
  "language_info": {
   "codemirror_mode": {
    "name": "ipython",
    "version": 2
   },
   "file_extension": ".py",
   "mimetype": "text/x-python",
   "name": "python",
   "nbconvert_exporter": "python",
   "pygments_lexer": "ipython2",
   "version": "2.7.15"
  }
 },
 "nbformat": 4,
 "nbformat_minor": 1
}
