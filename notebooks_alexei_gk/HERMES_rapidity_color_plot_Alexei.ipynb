{
 "cells": [
  {
   "cell_type": "markdown",
   "metadata": {},
   "source": [
    "# Data visualization with various cuts explored in our paper.\n",
    "## Transverse-momentum-dependent Multiplicities of Charged Hadrons for HERMES Airapetian:2012ki and COMPASS Collaborations Adolph:2013stb. \n",
    "## New COMPASS data are \n",
    "### Penn State Berks, Fall 2018 \n",
    "#### * Alexey  Prokudin*"
   ]
  },
  {
   "cell_type": "code",
   "execution_count": 2,
   "metadata": {},
   "outputs": [],
   "source": [
    "from __future__ import division, print_function\n",
    "from functools import partial, reduce\n",
    "from itertools import combinations\n",
    "import matplotlib.pyplot as plt\n",
    "import numpy as np\n",
    "import pandas as pd\n",
    "import fitpack\n",
    "import interface\n",
    "import obslib.sidis.reader\n",
    "import obslib.sidis.stfuncs\n",
    "from qcdlib.aux import AUX\n",
    "from tools.config import conf\n",
    "%matplotlib inline"
   ]
  },
  {
   "cell_type": "markdown",
   "metadata": {},
   "source": [
    "This function reads data from multiple files and merges the data frames."
   ]
  },
  {
   "cell_type": "code",
   "execution_count": 3,
   "metadata": {},
   "outputs": [],
   "source": [
    "def get_data():\n",
    "    # Merge all of the data tables\n",
    "    return reduce(partial(pd.DataFrame.merge, how=\"outer\"), map(pd.DataFrame, conf[\"sidis tabs\"].values()))"
   ]
  },
  {
   "cell_type": "markdown",
   "metadata": {},
   "source": [
    "upol_hermes_no_filters.py defines data files to read, no filters applied yet to the data selection. Here we read all HERMES multiplicities."
   ]
  },
  {
   "cell_type": "code",
   "execution_count": 4,
   "metadata": {},
   "outputs": [],
   "source": [
    "input_file = \"../inputs_alexei_gk/upol_hermes_no_filters.py\"\n",
    "\n",
    "CUTMIN = 0.99\n",
    "CUTMAX = 5.28\n",
    "\n",
    "filterstr = \"dy>\"\n",
    "#filterstr = \"yh_minus_yp>\""
   ]
  },
  {
   "cell_type": "markdown",
   "metadata": {},
   "source": [
    "The interface.py allows to get configuration file from the file that we read."
   ]
  },
  {
   "cell_type": "code",
   "execution_count": 5,
   "metadata": {},
   "outputs": [],
   "source": [
    "interface.gen_config(input_file)"
   ]
  },
  {
   "cell_type": "code",
   "execution_count": 6,
   "metadata": {},
   "outputs": [
    {
     "name": "stdout",
     "output_type": "stream",
     "text": [
      "\r",
      "loading sidis data sets 1000"
     ]
    },
    {
     "ename": "KeyError",
     "evalue": "'JAM3D'",
     "output_type": "error",
     "traceback": [
      "\u001b[0;31m---------------------------------------------------------------------------\u001b[0m",
      "\u001b[0;31mKeyError\u001b[0m                                  Traceback (most recent call last)",
      "\u001b[0;32m<ipython-input-6-fd01013e884f>\u001b[0m in \u001b[0;36m<module>\u001b[0;34m()\u001b[0m\n\u001b[1;32m      4\u001b[0m \u001b[0;34m\u001b[0m\u001b[0m\n\u001b[1;32m      5\u001b[0m \u001b[0mconf\u001b[0m\u001b[0;34m[\u001b[0m\u001b[0;34m\"aux\"\u001b[0m\u001b[0;34m]\u001b[0m \u001b[0;34m=\u001b[0m \u001b[0mAUX\u001b[0m\u001b[0;34m(\u001b[0m\u001b[0;34m)\u001b[0m\u001b[0;34m\u001b[0m\u001b[0m\n\u001b[0;32m----> 6\u001b[0;31m \u001b[0mconf\u001b[0m\u001b[0;34m[\u001b[0m\u001b[0;34m\"sidis tabs\"\u001b[0m\u001b[0;34m]\u001b[0m \u001b[0;34m=\u001b[0m \u001b[0mobslib\u001b[0m\u001b[0;34m.\u001b[0m\u001b[0msidis\u001b[0m\u001b[0;34m.\u001b[0m\u001b[0mreader\u001b[0m\u001b[0;34m.\u001b[0m\u001b[0mREADER\u001b[0m\u001b[0;34m(\u001b[0m\u001b[0;34m)\u001b[0m\u001b[0;34m.\u001b[0m\u001b[0mload_data_sets\u001b[0m\u001b[0;34m(\u001b[0m\u001b[0;34m\"sidis\"\u001b[0m\u001b[0;34m)\u001b[0m\u001b[0;34m\u001b[0m\u001b[0m\n\u001b[0m\u001b[1;32m      7\u001b[0m \u001b[0mconf\u001b[0m\u001b[0;34m[\u001b[0m\u001b[0;34m'sidis stfuncs'\u001b[0m\u001b[0;34m]\u001b[0m \u001b[0;34m=\u001b[0m \u001b[0mobslib\u001b[0m\u001b[0;34m.\u001b[0m\u001b[0msidis\u001b[0m\u001b[0;34m.\u001b[0m\u001b[0mstfuncs\u001b[0m\u001b[0;34m.\u001b[0m\u001b[0mSTFUNCS\u001b[0m\u001b[0;34m(\u001b[0m\u001b[0;34m)\u001b[0m\u001b[0;34m\u001b[0m\u001b[0m\n\u001b[1;32m      8\u001b[0m \u001b[0;34m\u001b[0m\u001b[0m\n",
      "\u001b[0;32m/Users/avp5627/GIT/collinearity/tools/reader.pyc\u001b[0m in \u001b[0;36mload_data_sets\u001b[0;34m(self, reaction)\u001b[0m\n\u001b[1;32m     34\u001b[0m             \u001b[0;32melse\u001b[0m\u001b[0;34m:\u001b[0m\u001b[0;34m\u001b[0m\u001b[0m\n\u001b[1;32m     35\u001b[0m                 tab = pd.read_excel('%s/database/%s' %\n\u001b[0;32m---> 36\u001b[0;31m                                     (os.environ['JAM3D'], fname))\n\u001b[0m\u001b[1;32m     37\u001b[0m             \u001b[0mtab\u001b[0m \u001b[0;34m=\u001b[0m \u001b[0mself\u001b[0m\u001b[0;34m.\u001b[0m\u001b[0mmodify_table\u001b[0m\u001b[0;34m(\u001b[0m\u001b[0mtab\u001b[0m\u001b[0;34m,\u001b[0m\u001b[0mk\u001b[0m\u001b[0;34m)\u001b[0m\u001b[0;34m\u001b[0m\u001b[0m\n\u001b[1;32m     38\u001b[0m             \u001b[0;32mif\u001b[0m \u001b[0mlen\u001b[0m\u001b[0;34m(\u001b[0m\u001b[0mtab\u001b[0m\u001b[0;34m.\u001b[0m\u001b[0mindex\u001b[0m\u001b[0;34m)\u001b[0m\u001b[0;34m==\u001b[0m\u001b[0;36m0\u001b[0m\u001b[0;34m:\u001b[0m \u001b[0;32mcontinue\u001b[0m\u001b[0;34m\u001b[0m\u001b[0m\n",
      "\u001b[0;32m/anaconda/anaconda2/lib/python2.7/UserDict.pyc\u001b[0m in \u001b[0;36m__getitem__\u001b[0;34m(self, key)\u001b[0m\n\u001b[1;32m     38\u001b[0m         \u001b[0;32mif\u001b[0m \u001b[0mhasattr\u001b[0m\u001b[0;34m(\u001b[0m\u001b[0mself\u001b[0m\u001b[0;34m.\u001b[0m\u001b[0m__class__\u001b[0m\u001b[0;34m,\u001b[0m \u001b[0;34m\"__missing__\"\u001b[0m\u001b[0;34m)\u001b[0m\u001b[0;34m:\u001b[0m\u001b[0;34m\u001b[0m\u001b[0m\n\u001b[1;32m     39\u001b[0m             \u001b[0;32mreturn\u001b[0m \u001b[0mself\u001b[0m\u001b[0;34m.\u001b[0m\u001b[0m__class__\u001b[0m\u001b[0;34m.\u001b[0m\u001b[0m__missing__\u001b[0m\u001b[0;34m(\u001b[0m\u001b[0mself\u001b[0m\u001b[0;34m,\u001b[0m \u001b[0mkey\u001b[0m\u001b[0;34m)\u001b[0m\u001b[0;34m\u001b[0m\u001b[0m\n\u001b[0;32m---> 40\u001b[0;31m         \u001b[0;32mraise\u001b[0m \u001b[0mKeyError\u001b[0m\u001b[0;34m(\u001b[0m\u001b[0mkey\u001b[0m\u001b[0;34m)\u001b[0m\u001b[0;34m\u001b[0m\u001b[0m\n\u001b[0m\u001b[1;32m     41\u001b[0m     \u001b[0;32mdef\u001b[0m \u001b[0m__setitem__\u001b[0m\u001b[0;34m(\u001b[0m\u001b[0mself\u001b[0m\u001b[0;34m,\u001b[0m \u001b[0mkey\u001b[0m\u001b[0;34m,\u001b[0m \u001b[0mitem\u001b[0m\u001b[0;34m)\u001b[0m\u001b[0;34m:\u001b[0m \u001b[0mself\u001b[0m\u001b[0;34m.\u001b[0m\u001b[0mdata\u001b[0m\u001b[0;34m[\u001b[0m\u001b[0mkey\u001b[0m\u001b[0;34m]\u001b[0m \u001b[0;34m=\u001b[0m \u001b[0mitem\u001b[0m\u001b[0;34m\u001b[0m\u001b[0m\n\u001b[1;32m     42\u001b[0m     \u001b[0;32mdef\u001b[0m \u001b[0m__delitem__\u001b[0m\u001b[0;34m(\u001b[0m\u001b[0mself\u001b[0m\u001b[0;34m,\u001b[0m \u001b[0mkey\u001b[0m\u001b[0;34m)\u001b[0m\u001b[0;34m:\u001b[0m \u001b[0;32mdel\u001b[0m \u001b[0mself\u001b[0m\u001b[0;34m.\u001b[0m\u001b[0mdata\u001b[0m\u001b[0;34m[\u001b[0m\u001b[0mkey\u001b[0m\u001b[0;34m]\u001b[0m\u001b[0;34m\u001b[0m\u001b[0m\n",
      "\u001b[0;31mKeyError\u001b[0m: 'JAM3D'"
     ]
    }
   ],
   "source": [
    "interface.gen_config(input_file)  # Read file\n",
    "\n",
    "conf[\"datasets\"][\"sidis\"][\"filters\"][0] = filterstr + str(CUTMIN)  # Apply filter with min cut\n",
    "\n",
    "conf[\"aux\"] = AUX()\n",
    "conf[\"sidis tabs\"] = obslib.sidis.reader.READER().load_data_sets(\"sidis\")\n",
    "conf['sidis stfuncs'] = obslib.sidis.stfuncs.STFUNCS()\n",
    "\n",
    "data = get_data().sort_values(\"dy\")"
   ]
  },
  {
   "cell_type": "code",
   "execution_count": null,
   "metadata": {},
   "outputs": [],
   "source": [
    "data[\"yh_minus_yp\"] = data[\"yh\"] - data[\"yp\"] \n",
    "data[\"yi_minus_yp_over_yp\"] = np.sqrt( ((data[\"yi\"] - data[\"yp\"])/data[\"yp\"])**2 ) \n",
    "data[\"yf_minus_yh_over_yh\"] = np.sqrt( ((data[\"yf\"] - data[\"yh\"])/data[\"yh\"])**2 )\n",
    "data[\"yi_minus_yp\"] = np.sqrt( ((data[\"yi\"] - data[\"yp\"]))**2 ) \n",
    "data[\"yf_minus_yh\"] = np.sqrt( ((data[\"yf\"] - data[\"yh\"]))**2 )"
   ]
  },
  {
   "cell_type": "code",
   "execution_count": null,
   "metadata": {},
   "outputs": [],
   "source": [
    "print(\", \".join(sorted(data.columns)))"
   ]
  },
  {
   "cell_type": "markdown",
   "metadata": {},
   "source": [
    "We create QCUT which is qT^2/Q^2"
   ]
  },
  {
   "cell_type": "code",
   "execution_count": null,
   "metadata": {},
   "outputs": [],
   "source": [
    "data[\"QCUT\"] = (data[\"pT\"] / data[\"z\"])**2/ (data[\"Q2\"])"
   ]
  },
  {
   "cell_type": "code",
   "execution_count": null,
   "metadata": {},
   "outputs": [],
   "source": [
    "\n",
    "def custom_label(label):\n",
    "    if label ==\"Q2\":\n",
    "        label=\"$Q^2$\"\n",
    "    if label ==\"qT\":\n",
    "        label=\"$q_T$\"\n",
    "    if label ==\"qT\":\n",
    "        label=\"$q_T$\"\n",
    "    if label ==\"W2\":\n",
    "        label=\"$W^2\\; (GeV^2)$\"\n",
    "    if label ==\"qToverQ\":\n",
    "        label=\"$q_T/Q$\"\n",
    "    if label ==\"qToverQ2\":\n",
    "        label=\"$q_T^2/Q^2$\"\n",
    "    if label ==\"dy\":\n",
    "        label=\"$y_p-y_h$\"\n",
    "    if label ==\"yh_minus_yp\":\n",
    "        label=\"$y_h-y_p$\"\n",
    "    if label ==\"yi\":\n",
    "        label=\"$y_i$\"\n",
    "    if label ==\"yf\":\n",
    "        label=\"$y_f$\"\n",
    "    if label ==\"yh\":\n",
    "        label=\"$y_h$\"\n",
    "    if label ==\"yp\":\n",
    "        label=\"$y_p$\"\n",
    "    if label ==\"yi_minus_yp\":\n",
    "        label=\"$|y_i - y_p|$\"\n",
    "    if label ==\"yf_minus_yh\":\n",
    "        label=\"$|y_f - y_h|$\"\n",
    "    if label ==\"yi_minus_yp_over_yp\":\n",
    "        label=\"$|(y_i - y_p)/yp|$\"\n",
    "    if label ==\"yf_minus_yh_over_yh\":\n",
    "        label=\"$|(y_f - y_h)/yh|$\"\n",
    "    if label ==\"R\":\n",
    "        label=\"$|R|$\"    \n",
    "    if label ==\"lnR\":\n",
    "        label=\"$ln(|R|)$\"    \n",
    "    return label\n",
    "\n",
    "def color_plot(data,vert_lab, hor_lab, cmap=\"plasma\", alpha=1.0):\n",
    "    vert = data[vert_lab].values\n",
    "    hor = data[hor_lab].values\n",
    "\n",
    "    data_q = data[\"QCUT\"]\n",
    "\n",
    "    colors = (data_q - min(data_q)) / (max(data_q) - min(data_q))  # XXX\n",
    "    \n",
    "    fig, ax = plt.subplots()\n",
    "\n",
    "    #ax.set_title(custom_label(vert_lab) + \" vs. \" + custom_label(hor_lab))\n",
    "    ax.set_ylabel(custom_label(vert_lab))\n",
    "    ax.set_xlabel(custom_label(hor_lab))\n",
    "\n",
    "    ax.scatter(hor, vert, c=colors, cmap=plt.get_cmap(cmap), alpha=alpha)\n",
    "    \n",
    "    #heatmap = ax.pcolor(data_q, cmap=plt.get_cmap(cmap)) # heatmap \n",
    "    #plt.colorbar(heatmap)\n",
    "\n",
    "    fig.tight_layout()\n",
    "    \n",
    "    return fig, ax, vert, hor"
   ]
  },
  {
   "cell_type": "code",
   "execution_count": null,
   "metadata": {},
   "outputs": [],
   "source": [
    "data[\"qT\"] = data[\"pT\"] / data[\"z\"]\n",
    "data[\"qToverQ\"] = data[\"pT\"] / data[\"z\"]/(data[\"Q2\"]**0.5)\n",
    "data[\"qToverQ2\"] = (data[\"pT\"] / data[\"z\"])**2/(data[\"Q2\"])"
   ]
  },
  {
   "cell_type": "code",
   "execution_count": null,
   "metadata": {},
   "outputs": [],
   "source": [
    "# labels = (\"Q2\", \"pT\", \"x\", \"y\", \"z\")\n",
    "labels = (\"qT\",\"qToverQ2\",\"Q2\",\"dy\",\"yh_minus_yp\")\n",
    "\n",
    "for v, h in combinations(labels, 2):\n",
    "    fig, ax, vert, hor = color_plot(data,v, h, alpha=0.8)\n",
    "\n",
    "    print(v + \" vs. \" + h)\n",
    "    print(\"Number of points:\", len(vert))\n",
    "    print(\"Unique vertical values:\", len(set(vert)))\n",
    "    print(\"Unique horizontal values:\", len(set(hor)))\n",
    "    print()"
   ]
  },
  {
   "cell_type": "markdown",
   "metadata": {},
   "source": [
    "# Let us study the whole HERMES data set"
   ]
  },
  {
   "cell_type": "code",
   "execution_count": null,
   "metadata": {},
   "outputs": [],
   "source": [
    "len(data)"
   ]
  },
  {
   "cell_type": "markdown",
   "metadata": {},
   "source": [
    "Kinematics of the data set"
   ]
  },
  {
   "cell_type": "code",
   "execution_count": null,
   "metadata": {},
   "outputs": [],
   "source": []
  },
  {
   "cell_type": "code",
   "execution_count": null,
   "metadata": {},
   "outputs": [],
   "source": [
    "print(np.min(data[\"x\"]))\n",
    "print(np.max(data[\"x\"]))\n",
    "\n",
    "print(np.min(data[\"z\"]))\n",
    "print(np.max(data[\"z\"]))\n",
    "\n",
    "print(np.min(data[\"Q2\"]))\n",
    "print(np.max(data[\"Q2\"]))\n",
    "\n",
    "print(np.min(data[\"Q2\"]))\n",
    "print(np.max(data[\"Q2\"]))\n",
    "\n",
    "print(np.min(data[\"pT\"]))\n",
    "print(np.max(data[\"pT\"]))"
   ]
  },
  {
   "cell_type": "code",
   "execution_count": null,
   "metadata": {},
   "outputs": [],
   "source": [
    "data.keys()"
   ]
  },
  {
   "cell_type": "code",
   "execution_count": null,
   "metadata": {},
   "outputs": [],
   "source": [
    "import seaborn as sns\n",
    "f, ax = plt.subplots(figsize=(10, 8))\n",
    "filtered_data = data.drop([\n",
    "      'Ebeam','obs','value','stat_u','systabs_u','systrel','systole','i','target','hadron','col'\n",
    "], axis=1)\n",
    "corr = filtered_data.corr()\n",
    "sns.heatmap(corr,\n",
    "            xticklabels=corr.columns.values,\n",
    "            yticklabels=corr.columns.values)\n",
    "plt.show()"
   ]
  },
  {
   "cell_type": "code",
   "execution_count": null,
   "metadata": {},
   "outputs": [],
   "source": [
    "print(len(data))\n",
    "print(len(data.query(\"(pT/z)**2>=Q2\")))\n",
    "fig, ax, vert, hor = color_plot(data,\"qToverQ2\", \"dy\",cmap=\"seismic\", alpha=0.8)\n",
    "#ax.yscale('symlog')\n",
    "ax.set_yscale(\"log\")\n",
    "ax.set_ylim([0.0001,100])\n",
    "plt.axhline(1,0,6)\n",
    "plt.savefig(\"hermes_data_all.pdf\")\n",
    "plt.show()"
   ]
  },
  {
   "cell_type": "code",
   "execution_count": null,
   "metadata": {},
   "outputs": [],
   "source": [
    "fig, ax, vert, hor = color_plot(data,\"W2\", \"dy\",cmap=\"seismic\", alpha=0.8)\n",
    "#ax.yscale('symlog')\n",
    "#ax.set_yscale(\"log\")\n",
    "#ax.set_ylim([0.0001,100])\n",
    "#plt.axhline(1,0,6)\n",
    "plt.savefig(\"hermes_data_all_W2.pdf\")\n",
    "plt.show()"
   ]
  },
  {
   "cell_type": "code",
   "execution_count": null,
   "metadata": {},
   "outputs": [],
   "source": [
    "fig, ax, vert, hor = color_plot(data,\"qToverQ2\", \"R\",cmap=\"seismic\", alpha=0.8)\n",
    "ax.set_xscale(\"log\")\n",
    "ax.set_yscale(\"log\")\n",
    "ax.set_ylim([0.0001,100])\n",
    "#plt.axhline(1,0,6)\n",
    "plt.savefig(\"hermes_data_all_qt_vs_R.pdf\")\n",
    "plt.show()"
   ]
  },
  {
   "cell_type": "code",
   "execution_count": null,
   "metadata": {},
   "outputs": [],
   "source": [
    "fig, ax, vert, hor = color_plot(data,\"Q2\", \"x\",cmap=\"seismic\", alpha=0.8)\n",
    "#ax.yscale('symlog')\n",
    "#ax.set_yscale(\"log\")\n",
    "#ax.set_ylim([0.0001,100])\n",
    "#plt.axhline(1,0,6)\n",
    "#plt.savefig(\"hermes_data_all.pdf\")\n",
    "plt.show()"
   ]
  },
  {
   "cell_type": "code",
   "execution_count": null,
   "metadata": {},
   "outputs": [],
   "source": [
    "fig, ax, vert, hor = color_plot(data,\"R\", \"dy\",cmap=\"seismic\", alpha=0.8)\n",
    "#ax.yscale('symlog')\n",
    "ax.set_yscale(\"log\")\n",
    "ax.set_ylim([0.01,10000])\n",
    "plt.axhline(1.,0,6)\n",
    "plt.savefig(\"hermes_data_all_R.pdf\")\n",
    "plt.show()"
   ]
  },
  {
   "cell_type": "code",
   "execution_count": null,
   "metadata": {},
   "outputs": [],
   "source": [
    "filtered_data = data.query(\"x<0.12 and x>0.094\")\n",
    "fig, ax, vert, hor = color_plot(filtered_data,\"R\", \"dy\",cmap=\"seismic\", alpha=0.8)\n",
    "#ax.yscale('symlog')\n",
    "ax.set_yscale(\"log\")\n",
    "ax.set_ylim([0.01,10000])\n",
    "plt.axhline(1.,0,6)\n",
    "#plt.savefig(\"hermes_data_all_R.pdf\")\n",
    "plt.show()"
   ]
  },
  {
   "cell_type": "code",
   "execution_count": null,
   "metadata": {},
   "outputs": [],
   "source": [
    "filtered_data[\"z\"]"
   ]
  },
  {
   "cell_type": "code",
   "execution_count": null,
   "metadata": {},
   "outputs": [],
   "source": [
    "fig, ax, vert, hor = color_plot(data,\"lnR\", \"dy\",cmap=\"seismic\", alpha=0.8)\n",
    "#ax.yscale('symlog')\n",
    "#ax.set_yscale(\"log\")\n",
    "#ax.set_ylim([0.0001,10000])\n",
    "plt.axhline(0,0,6)\n",
    "plt.savefig(\"hermes_data_all_lnR.pdf\")\n",
    "plt.show()"
   ]
  },
  {
   "cell_type": "code",
   "execution_count": null,
   "metadata": {},
   "outputs": [],
   "source": [
    "fig, ax, vert, hor = color_plot(data,\"yh\", \"yp\",cmap=\"seismic\", alpha=0.8)\n",
    "#ax.yscale('symlog')\n",
    "#ax.set_yscale(\"log\")\n",
    "#ax.set_ylim([0.0001,10000])\n",
    "#plt.axhline(0,0,6)\n",
    "plt.show()"
   ]
  },
  {
   "cell_type": "code",
   "execution_count": null,
   "metadata": {},
   "outputs": [],
   "source": [
    "fig, ax, vert, hor = color_plot(data,\"yi\", \"yp\",cmap=\"seismic\", alpha=0.8)\n",
    "#ax.yscale('symlog')\n",
    "#ax.set_yscale(\"log\")\n",
    "#ax.set_ylim([0.0001,10000])\n",
    "#plt.axhline(0,0,6)\n",
    "plt.show()"
   ]
  },
  {
   "cell_type": "code",
   "execution_count": null,
   "metadata": {},
   "outputs": [],
   "source": [
    "fig, ax, vert, hor = color_plot(data,\"yf\", \"yh\",cmap=\"seismic\", alpha=0.8)\n",
    "#ax.yscale('symlog')\n",
    "#ax.set_yscale(\"log\")\n",
    "#ax.set_ylim([0.0001,10000])\n",
    "#plt.axhline(0,0,6)\n",
    "plt.show()"
   ]
  },
  {
   "cell_type": "code",
   "execution_count": null,
   "metadata": {},
   "outputs": [],
   "source": [
    "fig, ax, vert, hor = color_plot(data,\"yi_minus_yp\", \"yp\",cmap=\"seismic\", alpha=0.8)\n",
    "#ax.yscale('symlog')\n",
    "#ax.set_yscale(\"log\")\n",
    "#ax.set_ylim([0.0001,10000])\n",
    "#plt.axhline(0,0,6)\n",
    "plt.savefig(\"hermes_data_yi_minus_yp.pdf\")\n",
    "plt.show()"
   ]
  },
  {
   "cell_type": "code",
   "execution_count": null,
   "metadata": {},
   "outputs": [],
   "source": [
    "fig, ax, vert, hor = color_plot(data,\"yf_minus_yh\", \"yh\",cmap=\"seismic\", alpha=0.8)\n",
    "#ax.yscale('symlog')\n",
    "#ax.set_yscale(\"log\")\n",
    "#ax.set_ylim([0.0001,10000])\n",
    "#plt.axhline(0,0,6)\n",
    "plt.savefig(\"hermes_data_yf_minus_yh.pdf\")\n",
    "plt.show()"
   ]
  },
  {
   "cell_type": "markdown",
   "metadata": {},
   "source": [
    "# Here we create filtered data with standard Torino cuts"
   ]
  },
  {
   "cell_type": "code",
   "execution_count": null,
   "metadata": {},
   "outputs": [],
   "source": [
    "torino_data = data.query(\"z<0.6 and Q2>1.69 and pT>0.2 and pT<0.9\")"
   ]
  },
  {
   "cell_type": "code",
   "execution_count": null,
   "metadata": {},
   "outputs": [],
   "source": [
    "normal_length = len(torino_data)\n",
    "\n",
    "len(torino_data.query(\"(pT/z)**2>=Q2\"))"
   ]
  },
  {
   "cell_type": "code",
   "execution_count": null,
   "metadata": {},
   "outputs": [],
   "source": [
    "len(torino_data)"
   ]
  },
  {
   "cell_type": "code",
   "execution_count": null,
   "metadata": {},
   "outputs": [],
   "source": [
    "fig, ax, vert, hor = color_plot(torino_data,\"qToverQ2\", \"dy\",cmap=\"seismic\", alpha=0.8)\n",
    "#ax.yscale('symlog')\n",
    "ax.set_yscale(\"log\")\n",
    "ax.set_ylim([0.01,100])\n",
    "plt.axhline(1.,0,6)\n",
    "plt.savefig(\"hermes_data_torino.pdf\")\n",
    "plt.show()\n"
   ]
  },
  {
   "cell_type": "markdown",
   "metadata": {},
   "source": [
    "Let us see what happens if we add rapidity cut to Torino selection"
   ]
  },
  {
   "cell_type": "code",
   "execution_count": null,
   "metadata": {},
   "outputs": [],
   "source": [
    "torino_data_rap = data.query(\"z<0.6 and Q2>1.69 and pT>0.2 and pT<0.9 and dy>2.5\")\n",
    "len(torino_data_rap)"
   ]
  },
  {
   "cell_type": "code",
   "execution_count": null,
   "metadata": {},
   "outputs": [],
   "source": [
    "len(torino_data_rap.query(\"(pT/z)**2>=Q2\"))"
   ]
  },
  {
   "cell_type": "code",
   "execution_count": null,
   "metadata": {},
   "outputs": [],
   "source": [
    "fig, ax, vert, hor = color_plot(torino_data_rap,\"qToverQ2\", \"dy\",cmap=\"seismic\", alpha=0.8)\n",
    "#ax.yscale('symlog')\n",
    "ax.set_yscale(\"log\")\n",
    "ax.set_ylim([0.01,100])\n",
    "plt.axhline(1.,0,6)\n",
    "plt.savefig(\"hermes_data_torino_rapidity.pdf\")\n",
    "plt.show()"
   ]
  },
  {
   "cell_type": "markdown",
   "metadata": {},
   "source": [
    "# Here we create filtered data with TMD inspired cuts"
   ]
  },
  {
   "cell_type": "code",
   "execution_count": null,
   "metadata": {},
   "outputs": [],
   "source": [
    "cut_data_qt = data.query(\"z>0.2 and z<0.6 and Q2>1.69 and (pT/z)**2<=0.15*Q2\")\n",
    "#cut_data_qt = data.query(\"z>0.2 and z<0.6 and Q2>1.69 and dy>2.5\")\n",
    "print(len(cut_data_qt))\n",
    "fig, ax, vert, hor = color_plot(cut_data_qt,\"qToverQ2\", \"dy\",cmap=\"seismic\", alpha=0.8)\n",
    "#ax.yscale('symlog')\n",
    "ax.set_yscale(\"log\")\n",
    "ax.set_ylim([0.001,1])\n",
    "plt.axhline(0.15,0,6)\n",
    "plt.savefig(\"hermes_data_rapidity.pdf\")\n",
    "plt.show()\n"
   ]
  },
  {
   "cell_type": "markdown",
   "metadata": {},
   "source": [
    "# Here we explore R cut"
   ]
  },
  {
   "cell_type": "code",
   "execution_count": null,
   "metadata": {},
   "outputs": [],
   "source": [
    "print(np.min(data[\"lnR\"]))\n",
    "print(np.max(data[\"lnR\"]))"
   ]
  },
  {
   "cell_type": "code",
   "execution_count": null,
   "metadata": {},
   "outputs": [],
   "source": [
    "#cut_data_R = data.query(\"z>0.2 and z<0.6 and Q2>1.69 and (pT/z)**2<=0.15*Q2 and lnR<-1.5\")\n",
    "cut_data_R = data.query(\"z>0.2 and z<0.6 and Q2>1.69 and lnR<-0.5\")\n",
    "\n",
    "print(len(cut_data_R))\n",
    "fig, ax, vert, hor = color_plot(cut_data_R,\"qToverQ2\", \"dy\",cmap=\"seismic\", alpha=0.8)\n",
    "#ax.yscale('symlog')\n",
    "ax.set_yscale(\"log\")\n",
    "ax.set_ylim([0.001,1])\n",
    "plt.axhline(0.15,0,6)\n",
    "plt.savefig(\"hermes_data_R.pdf\")\n",
    "plt.show()"
   ]
  },
  {
   "cell_type": "code",
   "execution_count": null,
   "metadata": {},
   "outputs": [],
   "source": [
    "cut_data_R = data.query(\"z>0.2 and z<0.6 and Q2>1.69 and lnR<-2.5\")\n",
    "\n",
    "print(len(cut_data_R))\n",
    "fig, ax, vert, hor = color_plot(cut_data_R,\"qToverQ2\", \"dy\",cmap=\"seismic\", alpha=0.8)\n",
    "#ax.yscale('symlog')\n",
    "ax.set_yscale(\"log\")\n",
    "ax.set_ylim([0.001,1])\n",
    "plt.axhline(0.15,0,6)\n",
    "plt.savefig(\"hermes_data_R25.pdf\")\n",
    "plt.show()"
   ]
  },
  {
   "cell_type": "code",
   "execution_count": null,
   "metadata": {},
   "outputs": [],
   "source": [
    "#torino_data_x = data.query(\"z<0.6 and Q2>1.69 and pT>0.2 and pT<0.9 and x<0.1 and target=='proton' and hadron=='pi+'\")\n",
    "torino_data_x = data.query(\"x<0.096 and x>0.094 and target=='proton' and hadron=='pi+'\")\n",
    "\n",
    "fig, ax, vert, hor = color_plot(torino_data_x,\"qToverQ2\", \"dy\",cmap=\"seismic\", alpha=0.8)\n",
    "#ax.yscale('symlog')\n",
    "#ax.set_yscale(\"log\")\n",
    "#ax.set_ylim([0.01,100])\n",
    "#plt.axhline(0.15,0,6)\n",
    "plt.show()"
   ]
  },
  {
   "cell_type": "code",
   "execution_count": null,
   "metadata": {},
   "outputs": [],
   "source": []
  }
 ],
 "metadata": {
  "kernelspec": {
   "display_name": "Python 2",
   "language": "python",
   "name": "python2"
  },
  "language_info": {
   "codemirror_mode": {
    "name": "ipython",
    "version": 2
   },
   "file_extension": ".py",
   "mimetype": "text/x-python",
   "name": "python",
   "nbconvert_exporter": "python",
   "pygments_lexer": "ipython2",
   "version": "2.7.15"
  }
 },
 "nbformat": 4,
 "nbformat_minor": 2
}
