{
 "cells": [
  {
   "cell_type": "code",
   "execution_count": 1,
   "metadata": {},
   "outputs": [],
   "source": [
    "from functools import partial, reduce\n",
    "import numpy as np\n",
    "import pandas as pd\n",
    "import fitpack\n",
    "import interface\n",
    "import obslib.sidis.reader\n",
    "from qcdlib.auxiliary import AUX\n",
    "from qcdlib.collinearity import Collinearity\n",
    "from tools.config import conf\n",
    "%matplotlib notebook "
   ]
  },
  {
   "cell_type": "code",
   "execution_count": 2,
   "metadata": {},
   "outputs": [],
   "source": [
    "def get_data():\n",
    "    # Merge all of the data tables\n",
    "    return reduce(partial(pd.DataFrame.merge, how=\"outer\"), map(pd.DataFrame, conf[\"sidis tabs\"].values()))"
   ]
  },
  {
   "cell_type": "code",
   "execution_count": 3,
   "metadata": {},
   "outputs": [],
   "source": [
    "input_file = \"../inputs/upol_hermes_no_filters.py\""
   ]
  },
  {
   "cell_type": "code",
   "execution_count": 4,
   "metadata": {},
   "outputs": [
    {
     "name": "stdout",
     "output_type": "stream",
     "text": [
      "loading sidis data sets 1007"
     ]
    }
   ],
   "source": [
    "interface.gen_config(input_file)  # read file\n",
    "\n",
    "conf[\"aux\"] = AUX()\n",
    "conf[\"sidis tabs\"] = obslib.sidis.reader.READER().load_data_sets(\"sidis\")\n",
    "\n",
    "data = get_data()"
   ]
  },
  {
   "cell_type": "code",
   "execution_count": 5,
   "metadata": {},
   "outputs": [
    {
     "name": "stdout",
     "output_type": "stream",
     "text": [
      "Ebeam, F2, Q2, R, R0, R1, R2, W2, col, dy, hadron, i, lnR, obs, pT, qT, stat_u, systabs_u, systole, systrel, target, value, x, xn, y, yf, yh, yi, yp, z, zn\n"
     ]
    }
   ],
   "source": [
    "print(\", \".join(sorted(data.columns)))"
   ]
  },
  {
   "cell_type": "code",
   "execution_count": 6,
   "metadata": {},
   "outputs": [],
   "source": [
    "ki_n = 10\n",
    "kf_n = 10\n",
    "kT_n = 10\n",
    "\n",
    "k_sets_n = ki_n * kf_n * kT_n\n",
    "\n",
    "kis = np.linspace(0, 2, ki_n)\n",
    "kfs = np.linspace(0, 2, kf_n)\n",
    "kTs = np.linspace(0, 2, kT_n)\n",
    "\n",
    "def Rs(point, ki, kf, kT):\n",
    "    co = Collinearity(hadron=point[\"hadron\"], ki=ki, kf=kf, kT=kT)\n",
    "    R0 = co.get_R0(point[\"Q2\"])\n",
    "    R1 = co.get_R1(point[\"x\"], point[\"z\"], point[\"Q2\"], point[\"pT\"])  # XXX\n",
    "    R2 = co.get_R1(point[\"x\"], point[\"z\"], point[\"Q2\"], point[\"pT\"])\n",
    "    return R0, R1, R2\n",
    "\n",
    "def R_mags(point):\n",
    "    for ki in kis:\n",
    "        for kf in kfs:\n",
    "            for kT in kTs:\n",
    "                R0, R1, R2 = Rs(point, ki, kf, kT)\n",
    "                yield np.sqrt(R0 ** 2 + R1 ** 2 + R2 ** 2)\n",
    "\n",
    "def proximity(point):\n",
    "    return sum(mag for mag in R_mags(point) if mag <= 1) / k_sets_n"
   ]
  },
  {
   "cell_type": "code",
   "execution_count": 7,
   "metadata": {},
   "outputs": [
    {
     "data": {
      "text/plain": [
       "i                    0\n",
       "Ebeam             27.6\n",
       "x            0.0375884\n",
       "y             0.641938\n",
       "z             0.152202\n",
       "Q2             1.24973\n",
       "pT            0.110571\n",
       "obs                  M\n",
       "value          4.39848\n",
       "stat_u       0.0575923\n",
       "systrel              0\n",
       "systabs_u     0.350294\n",
       "target          proton\n",
       "hadron             pi+\n",
       "col             hermes\n",
       "F2                   0\n",
       "W2             32.8795\n",
       "yh           0.0273122\n",
       "yp             3.45654\n",
       "yi             0.80461\n",
       "yf            -0.80461\n",
       "dy             3.42923\n",
       "R              1.59268\n",
       "lnR           0.465419\n",
       "R0           0.0720157\n",
       "R1           0.0117231\n",
       "R2            0.847018\n",
       "zn            0.151891\n",
       "xn            0.151891\n",
       "qT            0.727962\n",
       "systole            NaN\n",
       "Name: 0, dtype: object"
      ]
     },
     "execution_count": 7,
     "metadata": {},
     "output_type": "execute_result"
    }
   ],
   "source": [
    "_, p = next(data.iterrows())\n",
    "\n",
    "p"
   ]
  },
  {
   "cell_type": "code",
   "execution_count": 8,
   "metadata": {},
   "outputs": [
    {
     "name": "stdout",
     "output_type": "stream",
     "text": [
      "proximity(p): 0.0\n",
      "min |R|: 1.065760808899371\n",
      "avg |R|: 3.087278553113723\n",
      "max |r|: 7.854623797971801\n"
     ]
    }
   ],
   "source": [
    "print(\"proximity(p):\", proximity(p))\n",
    "\n",
    "print(\"min |R|:\", min(R_mags(p)))\n",
    "\n",
    "print(\"avg |R|:\", sum(R_mags(p)) / k_sets_n)\n",
    "\n",
    "print(\"max |r|:\", max(R_mags(p)))"
   ]
  },
  {
   "cell_type": "code",
   "execution_count": 9,
   "metadata": {},
   "outputs": [
    {
     "data": {
      "text/plain": [
       "0       1.065761\n",
       "1       2.034025\n",
       "2       2.238552\n",
       "3       2.370034\n",
       "4       2.482039\n",
       "          ...   \n",
       "2655    0.037983\n",
       "2656    0.024791\n",
       "2657    0.005616\n",
       "2658    0.006310\n",
       "2659    0.048425\n",
       "Name: min |R|, Length: 2660, dtype: float64"
      ]
     },
     "execution_count": 9,
     "metadata": {},
     "output_type": "execute_result"
    }
   ],
   "source": [
    "data[\"min |R|\"] = [min(R_mags(p)) for _, p in data.iterrows()]\n",
    "\n",
    "data[\"min |R|\"]"
   ]
  },
  {
   "cell_type": "code",
   "execution_count": 11,
   "metadata": {},
   "outputs": [
    {
     "data": {
      "text/plain": [
       "1872"
      ]
     },
     "execution_count": 11,
     "metadata": {},
     "output_type": "execute_result"
    }
   ],
   "source": [
    "sum(data[\"min |R|\"] < 1.0)"
   ]
  },
  {
   "cell_type": "code",
   "execution_count": 14,
   "metadata": {},
   "outputs": [
    {
     "data": {
      "text/plain": [
       "0       3.087279\n",
       "1       3.880518\n",
       "2       3.473117\n",
       "3       3.430131\n",
       "4       3.453348\n",
       "          ...   \n",
       "2655    0.283937\n",
       "2656    0.286266\n",
       "2657    0.298543\n",
       "2658    0.327153\n",
       "2659    0.371678\n",
       "Name: avg |R|, Length: 2660, dtype: float64"
      ]
     },
     "execution_count": 14,
     "metadata": {},
     "output_type": "execute_result"
    }
   ],
   "source": [
    "data[\"avg |R|\"] = [sum(R_mags(p)) / k_sets_n for _, p in data.iterrows()]\n",
    "\n",
    "data[\"avg |R|\"]"
   ]
  },
  {
   "cell_type": "code",
   "execution_count": 16,
   "metadata": {},
   "outputs": [
    {
     "data": {
      "text/plain": [
       "0       0.000000\n",
       "1       0.000000\n",
       "2       0.000000\n",
       "3       0.000000\n",
       "4       0.000000\n",
       "          ...   \n",
       "2655    0.283937\n",
       "2656    0.286266\n",
       "2657    0.298543\n",
       "2658    0.327153\n",
       "2659    0.371678\n",
       "Name: proximity, Length: 2660, dtype: float64"
      ]
     },
     "execution_count": 16,
     "metadata": {},
     "output_type": "execute_result"
    }
   ],
   "source": [
    "data[\"proximity\"] = [proximity(p) for _, p in data.iterrows()]\n",
    "\n",
    "data[\"proximity\"]"
   ]
  },
  {
   "cell_type": "code",
   "execution_count": 17,
   "metadata": {},
   "outputs": [
    {
     "data": {
      "text/plain": [
       "0.7903947018659896"
      ]
     },
     "execution_count": 17,
     "metadata": {},
     "output_type": "execute_result"
    }
   ],
   "source": [
    "max(data[\"proximity\"])"
   ]
  }
 ],
 "metadata": {
  "kernelspec": {
   "display_name": "Python 3",
   "language": "python",
   "name": "python3"
  },
  "language_info": {
   "codemirror_mode": {
    "name": "ipython",
    "version": 3
   },
   "file_extension": ".py",
   "mimetype": "text/x-python",
   "name": "python",
   "nbconvert_exporter": "python",
   "pygments_lexer": "ipython3",
   "version": "3.7.4"
  }
 },
 "nbformat": 4,
 "nbformat_minor": 2
}
